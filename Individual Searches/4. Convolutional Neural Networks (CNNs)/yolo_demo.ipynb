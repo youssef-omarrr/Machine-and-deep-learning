{
 "cells": [
  {
   "cell_type": "markdown",
   "id": "ae976d75",
   "metadata": {},
   "source": [
    "## Install and Import"
   ]
  },
  {
   "cell_type": "code",
   "execution_count": null,
   "id": "355541d5",
   "metadata": {},
   "outputs": [],
   "source": [
    "!pip install ultralytics"
   ]
  },
  {
   "cell_type": "code",
   "execution_count": null,
   "id": "7022c422",
   "metadata": {},
   "outputs": [
    {
     "name": "stdout",
     "output_type": "stream",
     "text": [
      "GPU Available:  True\n"
     ]
    },
    {
     "ename": "",
     "evalue": "",
     "output_type": "error",
     "traceback": [
      "\u001b[1;31mThe Kernel crashed while executing code in the current cell or a previous cell. \n",
      "\u001b[1;31mPlease review the code in the cell(s) to identify a possible cause of the failure. \n",
      "\u001b[1;31mClick <a href='https://aka.ms/vscodeJupyterKernelCrash'>here</a> for more info. \n",
      "\u001b[1;31mView Jupyter <a href='command:jupyter.viewOutput'>log</a> for further details."
     ]
    }
   ],
   "source": [
    "from ultralytics import YOLO\n",
    "import torch\n",
    "\n",
    "print(\"GPU Available: \", torch.cuda.is_available())"
   ]
  },
  {
   "cell_type": "markdown",
   "id": "90be0a4a",
   "metadata": {},
   "source": [
    "## Train YOLO"
   ]
  },
  {
   "cell_type": "code",
   "execution_count": null,
   "id": "5a730391",
   "metadata": {},
   "outputs": [],
   "source": [
    "# Load model\n",
    "model = YOLO(\"yolov8s-pose.pt\")\n",
    "\n",
    "# Train model\n",
    "# model.train(\n",
    "#     data = \"coco-pose.yaml\",\n",
    "#     epochs = 5,\n",
    "#     device  = 0, # 0 = first GPU, \"cpu\" if no GPU\n",
    "# )\n",
    "\n",
    "# Run live (Press 'q' in the window to quit)\n",
    "model.predict(source=0, show=True, conf = 0.5)"
   ]
  },
  {
   "cell_type": "code",
   "execution_count": null,
   "id": "345f50ee",
   "metadata": {},
   "outputs": [],
   "source": [
    "# Load model\n",
    "model = YOLO(\"yolov8s-seg.pt\")\n",
    "\n",
    "# Run live (Press 'q' in the window to quit)\n",
    "model.predict(source=0, show=True, conf = 0.5)"
   ]
  },
  {
   "cell_type": "code",
   "execution_count": null,
   "id": "939cbc42",
   "metadata": {},
   "outputs": [],
   "source": []
  }
 ],
 "metadata": {
  "kernelspec": {
   "display_name": ".venv",
   "language": "python",
   "name": "python3"
  },
  "language_info": {
   "codemirror_mode": {
    "name": "ipython",
    "version": 3
   },
   "file_extension": ".py",
   "mimetype": "text/x-python",
   "name": "python",
   "nbconvert_exporter": "python",
   "pygments_lexer": "ipython3",
   "version": "3.10.5"
  }
 },
 "nbformat": 4,
 "nbformat_minor": 5
}
