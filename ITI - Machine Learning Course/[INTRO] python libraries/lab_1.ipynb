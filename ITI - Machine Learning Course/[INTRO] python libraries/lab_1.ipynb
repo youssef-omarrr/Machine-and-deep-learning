{
 "cells": [
  {
   "cell_type": "code",
   "execution_count": 2,
   "id": "f521c38e",
   "metadata": {},
   "outputs": [],
   "source": [
    "import numpy as np"
   ]
  },
  {
   "cell_type": "markdown",
   "id": "dea54e91",
   "metadata": {},
   "source": [
    "1. Write a NumPy program to create an array of 10 zeros, array of 10 ones, and array of 10 fives. "
   ]
  },
  {
   "cell_type": "code",
   "execution_count": 3,
   "id": "304c5b34",
   "metadata": {},
   "outputs": [
    {
     "data": {
      "text/plain": [
       "(array([0., 0., 0., 0., 0., 0., 0., 0., 0., 0.]),\n",
       " array([1., 1., 1., 1., 1., 1., 1., 1., 1., 1.]),\n",
       " array([5., 5., 5., 5., 5., 5., 5., 5., 5., 5.]))"
      ]
     },
     "execution_count": 3,
     "metadata": {},
     "output_type": "execute_result"
    }
   ],
   "source": [
    "arr_zeros = np.zeros(10)\n",
    "arr_ones = np.ones(10)\n",
    "arr_fives = np.ones(10)*5\n",
    "\n",
    "arr_zeros, arr_ones, arr_fives"
   ]
  },
  {
   "cell_type": "markdown",
   "id": "64691491",
   "metadata": {},
   "source": [
    "---\n",
    "\n",
    "2. Write a NumPy program to create an array of all even integers from 30 to 70. "
   ]
  },
  {
   "cell_type": "code",
   "execution_count": 4,
   "id": "7299b956",
   "metadata": {},
   "outputs": [
    {
     "data": {
      "text/plain": [
       "array([30, 32, 34, 36, 38, 40, 42, 44, 46, 48, 50, 52, 54, 56, 58, 60, 62,\n",
       "       64, 66, 68, 70])"
      ]
     },
     "execution_count": 4,
     "metadata": {},
     "output_type": "execute_result"
    }
   ],
   "source": [
    "arr_evens = np.arange(30, 71, 2)\n",
    "arr_evens"
   ]
  },
  {
   "cell_type": "markdown",
   "id": "3333a37f",
   "metadata": {},
   "source": [
    "---\n",
    "3. Write a NumPy program to create an array of given shape (5,6) and integer type, filled with zeros. "
   ]
  },
  {
   "cell_type": "code",
   "execution_count": 5,
   "id": "9581edab",
   "metadata": {},
   "outputs": [
    {
     "data": {
      "text/plain": [
       "array([[0., 0., 0., 0., 0., 0.],\n",
       "       [0., 0., 0., 0., 0., 0.],\n",
       "       [0., 0., 0., 0., 0., 0.],\n",
       "       [0., 0., 0., 0., 0., 0.],\n",
       "       [0., 0., 0., 0., 0., 0.]])"
      ]
     },
     "execution_count": 5,
     "metadata": {},
     "output_type": "execute_result"
    }
   ],
   "source": [
    "arr_zeros = np.zeros((5, 6))\n",
    "arr_zeros"
   ]
  },
  {
   "cell_type": "markdown",
   "id": "a14023b6",
   "metadata": {},
   "source": [
    "---\n",
    "4. Create a 10x10 array with random values and find the minimum and maximum values. "
   ]
  },
  {
   "cell_type": "code",
   "execution_count": 6,
   "id": "523a4af0",
   "metadata": {},
   "outputs": [
    {
     "data": {
      "text/plain": [
       "(array([[24, 91, 79,  7, 79, 54, 38,  3, 62, 67],\n",
       "        [62,  8, 48, 88, 27, 65, 80, 31, 12,  7],\n",
       "        [ 9, 33, 67, 35, 71, 72, 56, 17, 87, 41],\n",
       "        [71, 98, 90, 26, 69, 94, 72, 44, 10, 72],\n",
       "        [13, 85, 47, 23, 69, 48, 31, 14, 26, 58],\n",
       "        [29, 70, 12, 99, 48,  6, 48, 50, 49, 90],\n",
       "        [47, 35, 78, 12, 74, 44, 54, 14, 35, 49],\n",
       "        [33, 41, 47, 12, 57, 43, 83, 10, 43, 88],\n",
       "        [11, 86, 42,  4, 87, 96, 30, 52, 87, 46],\n",
       "        [97, 29, 52, 67, 60, 52,  0, 80, 84, 87]], dtype=int32),\n",
       " np.int32(0),\n",
       " np.int32(99))"
      ]
     },
     "execution_count": 6,
     "metadata": {},
     "output_type": "execute_result"
    }
   ],
   "source": [
    "arr_rand = np.random.randint(0, 100, size = (10, 10) )\n",
    "arr_rand, arr_rand.min(), arr_rand.max()"
   ]
  },
  {
   "cell_type": "markdown",
   "id": "a68aed5d",
   "metadata": {},
   "source": [
    "---\n",
    "5. Write a NumPy program to create a 3x3 array with values ranging from 2 to 10. "
   ]
  },
  {
   "cell_type": "code",
   "execution_count": 7,
   "id": "e01dd211",
   "metadata": {},
   "outputs": [
    {
     "data": {
      "text/plain": [
       "array([[ 2,  4,  9],\n",
       "       [ 6,  5, 10],\n",
       "       [ 4,  4,  3]], dtype=int32)"
      ]
     },
     "execution_count": 7,
     "metadata": {},
     "output_type": "execute_result"
    }
   ],
   "source": [
    "arr = np.random.randint(2, 11, size = (3, 3))\n",
    "arr"
   ]
  },
  {
   "cell_type": "markdown",
   "id": "33ef8782",
   "metadata": {},
   "source": [
    "---\n",
    "6. Write a NumPy program to create an array of size = 20 using arrange, then extract all numbers from a given array greater than 15. "
   ]
  },
  {
   "cell_type": "code",
   "execution_count": 8,
   "id": "ae42619a",
   "metadata": {},
   "outputs": [
    {
     "data": {
      "text/plain": [
       "array([16, 17, 18, 19])"
      ]
     },
     "execution_count": 8,
     "metadata": {},
     "output_type": "execute_result"
    }
   ],
   "source": [
    "arr = np.arange(20)\n",
    "arr[arr>15]"
   ]
  },
  {
   "cell_type": "markdown",
   "id": "1b6a4d48",
   "metadata": {},
   "source": [
    "---\n",
    "7. Write a NumPy program to combine the two 2-dimensional arrays using hstack and vstack. \n",
    "\n",
    "Array 1: [[0, 1, 3], [5, 7, 9]] \n",
    "\n",
    "Array 2: [[0, 2, 4], [6, 8, 10]] "
   ]
  },
  {
   "cell_type": "code",
   "execution_count": 9,
   "id": "c0c855df",
   "metadata": {},
   "outputs": [
    {
     "data": {
      "text/plain": [
       "(array([[ 0,  1,  3,  0,  2,  4],\n",
       "        [ 5,  7,  9,  6,  8, 10]]),\n",
       " array([[ 0,  1,  3],\n",
       "        [ 5,  7,  9],\n",
       "        [ 0,  2,  4],\n",
       "        [ 6,  8, 10]]))"
      ]
     },
     "execution_count": 9,
     "metadata": {},
     "output_type": "execute_result"
    }
   ],
   "source": [
    "arr_1 = np.array( [[0, 1, 3], \n",
    "                [5, 7, 9]] )  # 2x3\n",
    "\n",
    "arr_2 = np.array( [[0, 2, 4],\n",
    "                [6, 8, 10]] ) # 2x3\n",
    "\n",
    "arr_hstack = np.hstack( (arr_1, arr_2) )\n",
    "arr_vstack = np.vstack( (arr_1, arr_2) )\n",
    "\n",
    "arr_hstack, arr_vstack"
   ]
  },
  {
   "cell_type": "markdown",
   "id": "3b27032d",
   "metadata": {},
   "source": [
    "---\n",
    "8. Write a NumPy program to create ones array of size 10 and change the 6th element to 11. "
   ]
  },
  {
   "cell_type": "code",
   "execution_count": 10,
   "id": "659dc726",
   "metadata": {},
   "outputs": [
    {
     "data": {
      "text/plain": [
       "array([ 1.,  1.,  1.,  1.,  1., 11.,  1.,  1.,  1.,  1.])"
      ]
     },
     "execution_count": 10,
     "metadata": {},
     "output_type": "execute_result"
    }
   ],
   "source": [
    "arr = np.ones(10)\n",
    "arr[5] = 11\n",
    "arr"
   ]
  },
  {
   "cell_type": "markdown",
   "id": "63c52b92",
   "metadata": {},
   "source": [
    "---\n",
    "9. Write a NumPy program to reverse an array [using two different methods]. "
   ]
  },
  {
   "cell_type": "code",
   "execution_count": 11,
   "id": "9b1dd691",
   "metadata": {},
   "outputs": [
    {
     "data": {
      "text/plain": [
       "array([7, 5, 4, 1])"
      ]
     },
     "execution_count": 11,
     "metadata": {},
     "output_type": "execute_result"
    }
   ],
   "source": [
    "arr = np.array([1,  4,  5,  7])\n",
    "#               0,  1,  2,  3\n",
    "#              -4, -3, -2, -1\n",
    "\n",
    "arr_reverse =  np.array( [arr[ -(i+1) ] for i in range(len(arr))] )\n",
    "arr_reverse"
   ]
  },
  {
   "cell_type": "code",
   "execution_count": 12,
   "id": "1eaf7fc3",
   "metadata": {},
   "outputs": [
    {
     "data": {
      "text/plain": [
       "array([7, 5, 4, 1])"
      ]
     },
     "execution_count": 12,
     "metadata": {},
     "output_type": "execute_result"
    }
   ],
   "source": [
    "arr_reverse = np.flip(arr)\n",
    "arr_reverse"
   ]
  },
  {
   "cell_type": "code",
   "execution_count": null,
   "id": "280d7cd0",
   "metadata": {},
   "outputs": [
    {
     "data": {
      "text/plain": [
       "array([[7, 5, 4, 1]])"
      ]
     },
     "execution_count": 13,
     "metadata": {},
     "output_type": "execute_result"
    }
   ],
   "source": [
    "arr_reverse = np.array( [arr[::-1]] )\n",
    "arr_reverse"
   ]
  }
 ],
 "metadata": {
  "kernelspec": {
   "display_name": "Python 3",
   "language": "python",
   "name": "python3"
  },
  "language_info": {
   "codemirror_mode": {
    "name": "ipython",
    "version": 3
   },
   "file_extension": ".py",
   "mimetype": "text/x-python",
   "name": "python",
   "nbconvert_exporter": "python",
   "pygments_lexer": "ipython3",
   "version": "3.10.5"
  }
 },
 "nbformat": 4,
 "nbformat_minor": 5
}
