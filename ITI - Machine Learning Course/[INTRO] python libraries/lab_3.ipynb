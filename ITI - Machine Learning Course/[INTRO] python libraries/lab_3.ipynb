{
 "cells": [
  {
   "cell_type": "code",
   "execution_count": 1,
   "id": "ab87ed6f",
   "metadata": {},
   "outputs": [],
   "source": [
    "import pandas as pd\n",
    "import matplotlib.pyplot as plt"
   ]
  },
  {
   "cell_type": "code",
   "execution_count": 2,
   "id": "71d0908d",
   "metadata": {},
   "outputs": [
    {
     "data": {
      "application/vnd.microsoft.datawrangler.viewer.v0+json": {
       "columns": [
        {
         "name": "index",
         "rawType": "object",
         "type": "string"
        },
        {
         "name": "user_id",
         "rawType": "object",
         "type": "unknown"
        },
        {
         "name": "age",
         "rawType": "object",
         "type": "unknown"
        },
        {
         "name": "gender",
         "rawType": "object",
         "type": "unknown"
        },
        {
         "name": "occupation",
         "rawType": "object",
         "type": "unknown"
        },
        {
         "name": "zip_code",
         "rawType": "object",
         "type": "unknown"
        }
       ],
       "ref": "1046ea69-e0f9-4163-97b3-9a408c38a44d",
       "rows": [
        [
         "count",
         "944",
         "944",
         "944",
         "944",
         "944"
        ],
        [
         "unique",
         "944",
         "62",
         "3",
         "22",
         "796"
        ],
        [
         "top",
         "943",
         "30",
         "M",
         "student",
         "55414"
        ],
        [
         "freq",
         "1",
         "39",
         "670",
         "196",
         "9"
        ]
       ],
       "shape": {
        "columns": 5,
        "rows": 4
       }
      },
      "text/html": [
       "<div>\n",
       "<style scoped>\n",
       "    .dataframe tbody tr th:only-of-type {\n",
       "        vertical-align: middle;\n",
       "    }\n",
       "\n",
       "    .dataframe tbody tr th {\n",
       "        vertical-align: top;\n",
       "    }\n",
       "\n",
       "    .dataframe thead th {\n",
       "        text-align: right;\n",
       "    }\n",
       "</style>\n",
       "<table border=\"1\" class=\"dataframe\">\n",
       "  <thead>\n",
       "    <tr style=\"text-align: right;\">\n",
       "      <th></th>\n",
       "      <th>user_id</th>\n",
       "      <th>age</th>\n",
       "      <th>gender</th>\n",
       "      <th>occupation</th>\n",
       "      <th>zip_code</th>\n",
       "    </tr>\n",
       "  </thead>\n",
       "  <tbody>\n",
       "    <tr>\n",
       "      <th>count</th>\n",
       "      <td>944</td>\n",
       "      <td>944</td>\n",
       "      <td>944</td>\n",
       "      <td>944</td>\n",
       "      <td>944</td>\n",
       "    </tr>\n",
       "    <tr>\n",
       "      <th>unique</th>\n",
       "      <td>944</td>\n",
       "      <td>62</td>\n",
       "      <td>3</td>\n",
       "      <td>22</td>\n",
       "      <td>796</td>\n",
       "    </tr>\n",
       "    <tr>\n",
       "      <th>top</th>\n",
       "      <td>943</td>\n",
       "      <td>30</td>\n",
       "      <td>M</td>\n",
       "      <td>student</td>\n",
       "      <td>55414</td>\n",
       "    </tr>\n",
       "    <tr>\n",
       "      <th>freq</th>\n",
       "      <td>1</td>\n",
       "      <td>39</td>\n",
       "      <td>670</td>\n",
       "      <td>196</td>\n",
       "      <td>9</td>\n",
       "    </tr>\n",
       "  </tbody>\n",
       "</table>\n",
       "</div>"
      ],
      "text/plain": [
       "       user_id  age gender occupation zip_code\n",
       "count      944  944    944        944      944\n",
       "unique     944   62      3         22      796\n",
       "top        943   30      M    student    55414\n",
       "freq         1   39    670        196        9"
      ]
     },
     "execution_count": 2,
     "metadata": {},
     "output_type": "execute_result"
    }
   ],
   "source": [
    "url = \"https://raw.githubusercontent.com/justmarkham/DAT8/master/data/u.user\"\n",
    "column_names = [\"user_id\", \"age\", \"gender\", \"occupation\", \"zip_code\"]\n",
    "\n",
    "users_df = pd.read_csv(\n",
    "                        url,\n",
    "                        sep='|', \n",
    "                        header=None, \n",
    "                        names=column_names)\n",
    "users_df.describe()"
   ]
  },
  {
   "cell_type": "markdown",
   "id": "3049bbc4",
   "metadata": {},
   "source": [
    "## Exercise 1: Bar Chart \n",
    "Shows top 10 most common occupations"
   ]
  },
  {
   "cell_type": "code",
   "execution_count": 3,
   "id": "9ce1d5c7",
   "metadata": {},
   "outputs": [
    {
     "data": {
      "application/vnd.microsoft.datawrangler.viewer.v0+json": {
       "columns": [
        {
         "name": "occupation",
         "rawType": "object",
         "type": "string"
        },
        {
         "name": "count",
         "rawType": "int64",
         "type": "integer"
        }
       ],
       "ref": "b7e5e170-b1fa-4afc-912a-c8210f3a285c",
       "rows": [
        [
         "student",
         "196"
        ],
        [
         "other",
         "105"
        ],
        [
         "educator",
         "95"
        ],
        [
         "administrator",
         "79"
        ],
        [
         "engineer",
         "67"
        ],
        [
         "programmer",
         "66"
        ],
        [
         "librarian",
         "51"
        ],
        [
         "writer",
         "45"
        ],
        [
         "executive",
         "32"
        ],
        [
         "scientist",
         "31"
        ]
       ],
       "shape": {
        "columns": 1,
        "rows": 10
       }
      },
      "text/plain": [
       "occupation\n",
       "student          196\n",
       "other            105\n",
       "educator          95\n",
       "administrator     79\n",
       "engineer          67\n",
       "programmer        66\n",
       "librarian         51\n",
       "writer            45\n",
       "executive         32\n",
       "scientist         31\n",
       "Name: count, dtype: int64"
      ]
     },
     "execution_count": 3,
     "metadata": {},
     "output_type": "execute_result"
    }
   ],
   "source": [
    "top_10_occ = users_df[\"occupation\"].value_counts().head(10)\n",
    "top_10_occ"
   ]
  },
  {
   "cell_type": "code",
   "execution_count": 4,
   "id": "28e3bd06",
   "metadata": {},
   "outputs": [
    {
     "data": {
      "image/png": "[encoded data removed]",
      "text/plain": [
       "<Figure size 640x480 with 1 Axes>"
      ]
     },
     "metadata": {},
     "output_type": "display_data"
    }
   ],
   "source": [
    "plt.figure()\n",
    "\n",
    "top_10_occ.plot(kind='bar', \n",
    "                color='skyblue', \n",
    "                edgecolor='black')\n",
    "\n",
    "plt.title(\"Top 10 most common occupations\")\n",
    "plt.xlabel(\"Occupation\")\n",
    "plt.ylabel(\"Count\")\n",
    "plt.xticks(rotation=45)\n",
    "\n",
    "plt.show()"
   ]
  },
  {
   "cell_type": "markdown",
   "id": "d9719692",
   "metadata": {},
   "source": [
    "## Exercise 2: Bar Chart \n",
    "Create a bar chart showing the bottom 5 least common occupations. \n",
    "\n",
    "Hint: Use .tail() "
   ]
  },
  {
   "cell_type": "code",
   "execution_count": 5,
   "id": "2daea73a",
   "metadata": {},
   "outputs": [
    {
     "data": {
      "application/vnd.microsoft.datawrangler.viewer.v0+json": {
       "columns": [
        {
         "name": "occupation",
         "rawType": "object",
         "type": "string"
        },
        {
         "name": "count",
         "rawType": "int64",
         "type": "integer"
        }
       ],
       "ref": "0e8df2fd-be6c-414b-ab3a-744cd7b7e795",
       "rows": [
        [
         "lawyer",
         "12"
        ],
        [
         "none",
         "9"
        ],
        [
         "homemaker",
         "7"
        ],
        [
         "doctor",
         "7"
        ],
        [
         "occupation",
         "1"
        ]
       ],
       "shape": {
        "columns": 1,
        "rows": 5
       }
      },
      "text/plain": [
       "occupation\n",
       "lawyer        12\n",
       "none           9\n",
       "homemaker      7\n",
       "doctor         7\n",
       "occupation     1\n",
       "Name: count, dtype: int64"
      ]
     },
     "execution_count": 5,
     "metadata": {},
     "output_type": "execute_result"
    }
   ],
   "source": [
    "bottom_5_occ = users_df[\"occupation\"].value_counts().tail()\n",
    "bottom_5_occ"
   ]
  },
  {
   "cell_type": "code",
   "execution_count": 6,
   "id": "b6cb2b42",
   "metadata": {},
   "outputs": [
    {
     "data": {
      "image/png": "[encoded data removed]",
      "text/plain": [
       "<Figure size 640x480 with 1 Axes>"
      ]
     },
     "metadata": {},
     "output_type": "display_data"
    }
   ],
   "source": [
    "plt.figure()\n",
    "\n",
    "bottom_5_occ.plot(kind='bar', \n",
    "                color='skyblue', \n",
    "                edgecolor='black')\n",
    "\n",
    "plt.title(\"Bottom 5 least common occupations\")\n",
    "plt.xlabel(\"Occupation\")\n",
    "plt.ylabel(\"Count\")\n",
    "plt.xticks(rotation=45)\n",
    "\n",
    "plt.show()"
   ]
  },
  {
   "cell_type": "markdown",
   "id": "0f8c7b00",
   "metadata": {},
   "source": [
    "## Exercise 3: Histogram \n",
    "Age distribution of all users "
   ]
  },
  {
   "cell_type": "code",
   "execution_count": 7,
   "id": "2a6add04",
   "metadata": {},
   "outputs": [
    {
     "data": {
      "application/vnd.microsoft.datawrangler.viewer.v0+json": {
       "columns": [
        {
         "name": "index",
         "rawType": "int64",
         "type": "integer"
        },
        {
         "name": "age",
         "rawType": "float64",
         "type": "float"
        }
       ],
       "ref": "c17787f4-d058-46f3-bab8-b393d2f7bb1f",
       "rows": [
        [
         "1",
         "24.0"
        ],
        [
         "2",
         "53.0"
        ],
        [
         "3",
         "23.0"
        ],
        [
         "4",
         "24.0"
        ],
        [
         "5",
         "33.0"
        ],
        [
         "6",
         "42.0"
        ],
        [
         "7",
         "57.0"
        ],
        [
         "8",
         "36.0"
        ],
        [
         "9",
         "29.0"
        ],
        [
         "10",
         "53.0"
        ],
        [
         "11",
         "39.0"
        ],
        [
         "12",
         "28.0"
        ],
        [
         "13",
         "47.0"
        ],
        [
         "14",
         "45.0"
        ],
        [
         "15",
         "49.0"
        ],
        [
         "16",
         "21.0"
        ],
        [
         "17",
         "30.0"
        ],
        [
         "18",
         "35.0"
        ],
        [
         "19",
         "40.0"
        ],
        [
         "20",
         "42.0"
        ],
        [
         "21",
         "26.0"
        ],
        [
         "22",
         "25.0"
        ],
        [
         "23",
         "30.0"
        ],
        [
         "24",
         "21.0"
        ],
        [
         "25",
         "39.0"
        ],
        [
         "26",
         "49.0"
        ],
        [
         "27",
         "40.0"
        ],
        [
         "28",
         "32.0"
        ],
        [
         "29",
         "41.0"
        ],
        [
         "30",
         "7.0"
        ],
        [
         "31",
         "24.0"
        ],
        [
         "32",
         "28.0"
        ],
        [
         "33",
         "23.0"
        ],
        [
         "34",
         "38.0"
        ],
        [
         "35",
         "20.0"
        ],
        [
         "36",
         "19.0"
        ],
        [
         "37",
         "23.0"
        ],
        [
         "38",
         "28.0"
        ],
        [
         "39",
         "41.0"
        ],
        [
         "40",
         "38.0"
        ],
        [
         "41",
         "33.0"
        ],
        [
         "42",
         "30.0"
        ],
        [
         "43",
         "29.0"
        ],
        [
         "44",
         "26.0"
        ],
        [
         "45",
         "29.0"
        ],
        [
         "46",
         "27.0"
        ],
        [
         "47",
         "53.0"
        ],
        [
         "48",
         "45.0"
        ],
        [
         "49",
         "23.0"
        ],
        [
         "50",
         "21.0"
        ]
       ],
       "shape": {
        "columns": 1,
        "rows": 943
       }
      },
      "text/plain": [
       "1      24.0\n",
       "2      53.0\n",
       "3      23.0\n",
       "4      24.0\n",
       "5      33.0\n",
       "       ... \n",
       "939    26.0\n",
       "940    32.0\n",
       "941    20.0\n",
       "942    48.0\n",
       "943    22.0\n",
       "Name: age, Length: 943, dtype: float64"
      ]
     },
     "execution_count": 7,
     "metadata": {},
     "output_type": "execute_result"
    }
   ],
   "source": [
    "# convert to numeric first\n",
    "users_df[\"age\"] = pd.to_numeric(users_df[\"age\"], errors=\"coerce\")\n",
    "\n",
    "ages = users_df[\"age\"].dropna()\n",
    "ages"
   ]
  },
  {
   "cell_type": "code",
   "execution_count": 8,
   "id": "19d3d648",
   "metadata": {},
   "outputs": [
    {
     "data": {
      "image/png": "[encoded data removed]",
      "text/plain": [
       "<Figure size 640x480 with 1 Axes>"
      ]
     },
     "metadata": {},
     "output_type": "display_data"
    }
   ],
   "source": [
    "plt.figure()\n",
    "\n",
    "plt.hist(ages, \n",
    "        bins=20, \n",
    "        color='steelblue', \n",
    "        edgecolor='black')\n",
    "\n",
    "plt.title(\"Age distribution of all users \")\n",
    "plt.xlabel(\"Age\")\n",
    "plt.ylabel(\"Number of Users\")\n",
    "\n",
    "plt.show()"
   ]
  },
  {
   "cell_type": "markdown",
   "id": "e3f6380a",
   "metadata": {},
   "source": [
    "## Exercise 4: Histogram \n",
    "Create a histogram showing only the ages of 'student' occupation. \n",
    "\n",
    "Hint: you should filter the data to get the students only. "
   ]
  },
  {
   "cell_type": "code",
   "execution_count": 9,
   "id": "a8b3e10a",
   "metadata": {},
   "outputs": [
    {
     "data": {
      "application/vnd.microsoft.datawrangler.viewer.v0+json": {
       "columns": [
        {
         "name": "index",
         "rawType": "int64",
         "type": "integer"
        },
        {
         "name": "user_id",
         "rawType": "object",
         "type": "string"
        },
        {
         "name": "age",
         "rawType": "float64",
         "type": "float"
        },
        {
         "name": "gender",
         "rawType": "object",
         "type": "string"
        },
        {
         "name": "occupation",
         "rawType": "object",
         "type": "string"
        },
        {
         "name": "zip_code",
         "rawType": "object",
         "type": "string"
        }
       ],
       "ref": "788bdf06-e04f-4ffd-831a-c05a52dbbb7d",
       "rows": [
        [
         "9",
         "9",
         "29.0",
         "M",
         "student",
         "01002"
        ],
        [
         "30",
         "30",
         "7.0",
         "M",
         "student",
         "55436"
        ],
        [
         "32",
         "32",
         "28.0",
         "F",
         "student",
         "78741"
        ],
        [
         "33",
         "33",
         "23.0",
         "M",
         "student",
         "27510"
        ],
        [
         "36",
         "36",
         "19.0",
         "F",
         "student",
         "93117"
        ],
        [
         "37",
         "37",
         "23.0",
         "M",
         "student",
         "55105"
        ],
        [
         "49",
         "49",
         "23.0",
         "F",
         "student",
         "76111"
        ],
        [
         "52",
         "52",
         "18.0",
         "F",
         "student",
         "55105"
        ],
        [
         "66",
         "66",
         "23.0",
         "M",
         "student",
         "80521"
        ],
        [
         "67",
         "67",
         "17.0",
         "M",
         "student",
         "60402"
        ],
        [
         "68",
         "68",
         "19.0",
         "M",
         "student",
         "22904"
        ],
        [
         "73",
         "73",
         "24.0",
         "M",
         "student",
         "41850"
        ],
        [
         "76",
         "76",
         "20.0",
         "M",
         "student",
         "02215"
        ],
        [
         "81",
         "81",
         "21.0",
         "M",
         "student",
         "21218"
        ],
        [
         "94",
         "94",
         "26.0",
         "M",
         "student",
         "71457"
        ],
        [
         "99",
         "99",
         "20.0",
         "M",
         "student",
         "63129"
        ],
        [
         "101",
         "101",
         "15.0",
         "M",
         "student",
         "05146"
        ],
        [
         "103",
         "103",
         "26.0",
         "M",
         "student",
         "55108"
        ],
        [
         "104",
         "104",
         "27.0",
         "M",
         "student",
         "55108"
        ],
        [
         "110",
         "110",
         "19.0",
         "M",
         "student",
         "77840"
        ],
        [
         "117",
         "117",
         "20.0",
         "M",
         "student",
         "16125"
        ],
        [
         "124",
         "124",
         "34.0",
         "M",
         "student",
         "60615"
        ],
        [
         "135",
         "135",
         "23.0",
         "M",
         "student",
         "38401"
        ],
        [
         "139",
         "139",
         "20.0",
         "M",
         "student",
         "08904"
        ],
        [
         "140",
         "140",
         "30.0",
         "F",
         "student",
         "32250"
        ],
        [
         "153",
         "153",
         "25.0",
         "M",
         "student",
         "60641"
        ],
        [
         "154",
         "154",
         "25.0",
         "M",
         "student",
         "53703"
        ],
        [
         "159",
         "159",
         "23.0",
         "F",
         "student",
         "55346"
        ],
        [
         "188",
         "188",
         "42.0",
         "M",
         "student",
         "29440"
        ],
        [
         "193",
         "193",
         "29.0",
         "M",
         "student",
         "49931"
        ],
        [
         "198",
         "198",
         "21.0",
         "F",
         "student",
         "55414"
        ],
        [
         "203",
         "203",
         "25.0",
         "F",
         "student",
         "32301"
        ],
        [
         "206",
         "206",
         "14.0",
         "F",
         "student",
         "53115"
        ],
        [
         "221",
         "221",
         "19.0",
         "M",
         "student",
         "20685"
        ],
        [
         "223",
         "223",
         "19.0",
         "F",
         "student",
         "47906"
        ],
        [
         "226",
         "226",
         "28.0",
         "M",
         "student",
         "92103"
        ],
        [
         "228",
         "228",
         "21.0",
         "F",
         "student",
         "22003"
        ],
        [
         "230",
         "230",
         "28.0",
         "F",
         "student",
         "14476"
        ],
        [
         "241",
         "241",
         "26.0",
         "F",
         "student",
         "20001"
        ],
        [
         "245",
         "245",
         "22.0",
         "M",
         "student",
         "55109"
        ],
        [
         "246",
         "246",
         "19.0",
         "M",
         "student",
         "28734"
        ],
        [
         "248",
         "248",
         "25.0",
         "M",
         "student",
         "37235"
        ],
        [
         "249",
         "249",
         "25.0",
         "M",
         "student",
         "84103"
        ],
        [
         "257",
         "257",
         "17.0",
         "M",
         "student",
         "77005"
        ],
        [
         "258",
         "258",
         "19.0",
         "F",
         "student",
         "77801"
        ],
        [
         "259",
         "259",
         "21.0",
         "M",
         "student",
         "48823"
        ],
        [
         "262",
         "262",
         "19.0",
         "F",
         "student",
         "78264"
        ],
        [
         "270",
         "270",
         "18.0",
         "F",
         "student",
         "63119"
        ],
        [
         "274",
         "274",
         "20.0",
         "F",
         "student",
         "55414"
        ],
        [
         "276",
         "276",
         "21.0",
         "M",
         "student",
         "95064"
        ]
       ],
       "shape": {
        "columns": 5,
        "rows": 196
       }
      },
      "text/html": [
       "<div>\n",
       "<style scoped>\n",
       "    .dataframe tbody tr th:only-of-type {\n",
       "        vertical-align: middle;\n",
       "    }\n",
       "\n",
       "    .dataframe tbody tr th {\n",
       "        vertical-align: top;\n",
       "    }\n",
       "\n",
       "    .dataframe thead th {\n",
       "        text-align: right;\n",
       "    }\n",
       "</style>\n",
       "<table border=\"1\" class=\"dataframe\">\n",
       "  <thead>\n",
       "    <tr style=\"text-align: right;\">\n",
       "      <th></th>\n",
       "      <th>user_id</th>\n",
       "      <th>age</th>\n",
       "      <th>gender</th>\n",
       "      <th>occupation</th>\n",
       "      <th>zip_code</th>\n",
       "    </tr>\n",
       "  </thead>\n",
       "  <tbody>\n",
       "    <tr>\n",
       "      <th>9</th>\n",
       "      <td>9</td>\n",
       "      <td>29.0</td>\n",
       "      <td>M</td>\n",
       "      <td>student</td>\n",
       "      <td>01002</td>\n",
       "    </tr>\n",
       "    <tr>\n",
       "      <th>30</th>\n",
       "      <td>30</td>\n",
       "      <td>7.0</td>\n",
       "      <td>M</td>\n",
       "      <td>student</td>\n",
       "      <td>55436</td>\n",
       "    </tr>\n",
       "    <tr>\n",
       "      <th>32</th>\n",
       "      <td>32</td>\n",
       "      <td>28.0</td>\n",
       "      <td>F</td>\n",
       "      <td>student</td>\n",
       "      <td>78741</td>\n",
       "    </tr>\n",
       "    <tr>\n",
       "      <th>33</th>\n",
       "      <td>33</td>\n",
       "      <td>23.0</td>\n",
       "      <td>M</td>\n",
       "      <td>student</td>\n",
       "      <td>27510</td>\n",
       "    </tr>\n",
       "    <tr>\n",
       "      <th>36</th>\n",
       "      <td>36</td>\n",
       "      <td>19.0</td>\n",
       "      <td>F</td>\n",
       "      <td>student</td>\n",
       "      <td>93117</td>\n",
       "    </tr>\n",
       "    <tr>\n",
       "      <th>...</th>\n",
       "      <td>...</td>\n",
       "      <td>...</td>\n",
       "      <td>...</td>\n",
       "      <td>...</td>\n",
       "      <td>...</td>\n",
       "    </tr>\n",
       "    <tr>\n",
       "      <th>928</th>\n",
       "      <td>928</td>\n",
       "      <td>21.0</td>\n",
       "      <td>M</td>\n",
       "      <td>student</td>\n",
       "      <td>55408</td>\n",
       "    </tr>\n",
       "    <tr>\n",
       "      <th>933</th>\n",
       "      <td>933</td>\n",
       "      <td>28.0</td>\n",
       "      <td>M</td>\n",
       "      <td>student</td>\n",
       "      <td>48105</td>\n",
       "    </tr>\n",
       "    <tr>\n",
       "      <th>939</th>\n",
       "      <td>939</td>\n",
       "      <td>26.0</td>\n",
       "      <td>F</td>\n",
       "      <td>student</td>\n",
       "      <td>33319</td>\n",
       "    </tr>\n",
       "    <tr>\n",
       "      <th>941</th>\n",
       "      <td>941</td>\n",
       "      <td>20.0</td>\n",
       "      <td>M</td>\n",
       "      <td>student</td>\n",
       "      <td>97229</td>\n",
       "    </tr>\n",
       "    <tr>\n",
       "      <th>943</th>\n",
       "      <td>943</td>\n",
       "      <td>22.0</td>\n",
       "      <td>M</td>\n",
       "      <td>student</td>\n",
       "      <td>77841</td>\n",
       "    </tr>\n",
       "  </tbody>\n",
       "</table>\n",
       "<p>196 rows × 5 columns</p>\n",
       "</div>"
      ],
      "text/plain": [
       "    user_id   age gender occupation zip_code\n",
       "9         9  29.0      M    student    01002\n",
       "30       30   7.0      M    student    55436\n",
       "32       32  28.0      F    student    78741\n",
       "33       33  23.0      M    student    27510\n",
       "36       36  19.0      F    student    93117\n",
       "..      ...   ...    ...        ...      ...\n",
       "928     928  21.0      M    student    55408\n",
       "933     933  28.0      M    student    48105\n",
       "939     939  26.0      F    student    33319\n",
       "941     941  20.0      M    student    97229\n",
       "943     943  22.0      M    student    77841\n",
       "\n",
       "[196 rows x 5 columns]"
      ]
     },
     "execution_count": 9,
     "metadata": {},
     "output_type": "execute_result"
    }
   ],
   "source": [
    "students = users_df[ users_df[\"occupation\"] == 'student']\n",
    "students"
   ]
  },
  {
   "cell_type": "code",
   "execution_count": 12,
   "id": "950526ac",
   "metadata": {},
   "outputs": [
    {
     "data": {
      "application/vnd.microsoft.datawrangler.viewer.v0+json": {
       "columns": [
        {
         "name": "index",
         "rawType": "int64",
         "type": "integer"
        },
        {
         "name": "age",
         "rawType": "float64",
         "type": "float"
        }
       ],
       "ref": "cf65e179-c6b5-4aca-b91c-54dc2eafe38f",
       "rows": [
        [
         "9",
         "29.0"
        ],
        [
         "30",
         "7.0"
        ],
        [
         "32",
         "28.0"
        ],
        [
         "33",
         "23.0"
        ],
        [
         "36",
         "19.0"
        ],
        [
         "37",
         "23.0"
        ],
        [
         "49",
         "23.0"
        ],
        [
         "52",
         "18.0"
        ],
        [
         "66",
         "23.0"
        ],
        [
         "67",
         "17.0"
        ],
        [
         "68",
         "19.0"
        ],
        [
         "73",
         "24.0"
        ],
        [
         "76",
         "20.0"
        ],
        [
         "81",
         "21.0"
        ],
        [
         "94",
         "26.0"
        ],
        [
         "99",
         "20.0"
        ],
        [
         "101",
         "15.0"
        ],
        [
         "103",
         "26.0"
        ],
        [
         "104",
         "27.0"
        ],
        [
         "110",
         "19.0"
        ],
        [
         "117",
         "20.0"
        ],
        [
         "124",
         "34.0"
        ],
        [
         "135",
         "23.0"
        ],
        [
         "139",
         "20.0"
        ],
        [
         "140",
         "30.0"
        ],
        [
         "153",
         "25.0"
        ],
        [
         "154",
         "25.0"
        ],
        [
         "159",
         "23.0"
        ],
        [
         "188",
         "42.0"
        ],
        [
         "193",
         "29.0"
        ],
        [
         "198",
         "21.0"
        ],
        [
         "203",
         "25.0"
        ],
        [
         "206",
         "14.0"
        ],
        [
         "221",
         "19.0"
        ],
        [
         "223",
         "19.0"
        ],
        [
         "226",
         "28.0"
        ],
        [
         "228",
         "21.0"
        ],
        [
         "230",
         "28.0"
        ],
        [
         "241",
         "26.0"
        ],
        [
         "245",
         "22.0"
        ],
        [
         "246",
         "19.0"
        ],
        [
         "248",
         "25.0"
        ],
        [
         "249",
         "25.0"
        ],
        [
         "257",
         "17.0"
        ],
        [
         "258",
         "19.0"
        ],
        [
         "259",
         "21.0"
        ],
        [
         "262",
         "19.0"
        ],
        [
         "270",
         "18.0"
        ],
        [
         "274",
         "20.0"
        ],
        [
         "276",
         "21.0"
        ]
       ],
       "shape": {
        "columns": 1,
        "rows": 196
       }
      },
      "text/plain": [
       "9      29.0\n",
       "30      7.0\n",
       "32     28.0\n",
       "33     23.0\n",
       "36     19.0\n",
       "       ... \n",
       "928    21.0\n",
       "933    28.0\n",
       "939    26.0\n",
       "941    20.0\n",
       "943    22.0\n",
       "Name: age, Length: 196, dtype: float64"
      ]
     },
     "execution_count": 12,
     "metadata": {},
     "output_type": "execute_result"
    }
   ],
   "source": [
    "students_ages = students[\"age\"].dropna()\n",
    "students_ages"
   ]
  },
  {
   "cell_type": "code",
   "execution_count": 14,
   "id": "ae642ce6",
   "metadata": {},
   "outputs": [
    {
     "data": {
      "image/png": "[encoded data removed]",
      "text/plain": [
       "<Figure size 640x480 with 1 Axes>"
      ]
     },
     "metadata": {},
     "output_type": "display_data"
    }
   ],
   "source": [
    "plt.figure()\n",
    "\n",
    "plt.hist(students_ages, \n",
    "        bins=20, \n",
    "        color='steelblue', \n",
    "        edgecolor='black')\n",
    "\n",
    "plt.title(\"Age distribution of students\")\n",
    "plt.xlabel(\"Student's age\")\n",
    "plt.ylabel(\"Number of students\")\n",
    "\n",
    "plt.show()"
   ]
  }
 ],
 "metadata": {
  "kernelspec": {
   "display_name": ".venv",
   "language": "python",
   "name": "python3"
  },
  "language_info": {
   "codemirror_mode": {
    "name": "ipython",
    "version": 3
   },
   "file_extension": ".py",
   "mimetype": "text/x-python",
   "name": "python",
   "nbconvert_exporter": "python",
   "pygments_lexer": "ipython3",
   "version": "3.10.5"
  }
 },
 "nbformat": 4,
 "nbformat_minor": 5
}
