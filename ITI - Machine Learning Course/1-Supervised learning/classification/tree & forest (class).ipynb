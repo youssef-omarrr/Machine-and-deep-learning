{
 "cells": [
  {
   "cell_type": "code",
   "execution_count": 1,
   "id": "2fa84c62",
   "metadata": {},
   "outputs": [
    {
     "name": "stdout",
     "output_type": "stream",
     "text": [
      "<class 'pandas.core.frame.DataFrame'>\n",
      "RangeIndex: 200 entries, 0 to 199\n",
      "Data columns (total 6 columns):\n",
      " #   Column       Non-Null Count  Dtype  \n",
      "---  ------       --------------  -----  \n",
      " 0   Age          200 non-null    int64  \n",
      " 1   Sex          200 non-null    object \n",
      " 2   BP           200 non-null    object \n",
      " 3   Cholesterol  200 non-null    object \n",
      " 4   Na_to_K      200 non-null    float64\n",
      " 5   Drug         200 non-null    object \n",
      "dtypes: float64(1), int64(1), object(4)\n",
      "memory usage: 9.5+ KB\n"
     ]
    }
   ],
   "source": [
    "import pandas as pd\n",
    "\n",
    "data = pd.read_csv(\"../Datasets/drug200.csv\")\n",
    "data.info()"
   ]
  },
  {
   "cell_type": "code",
   "execution_count": 2,
   "id": "5d0a66bc",
   "metadata": {},
   "outputs": [
    {
     "data": {
      "application/vnd.microsoft.datawrangler.viewer.v0+json": {
       "columns": [
        {
         "name": "index",
         "rawType": "object",
         "type": "string"
        },
        {
         "name": "0",
         "rawType": "int64",
         "type": "integer"
        }
       ],
       "ref": "02670223-2e81-4467-8d8a-35d526b16dab",
       "rows": [
        [
         "Age",
         "0"
        ],
        [
         "Sex",
         "0"
        ],
        [
         "BP",
         "0"
        ],
        [
         "Cholesterol",
         "0"
        ],
        [
         "Na_to_K",
         "0"
        ],
        [
         "Drug",
         "0"
        ]
       ],
       "shape": {
        "columns": 1,
        "rows": 6
       }
      },
      "text/plain": [
       "Age            0\n",
       "Sex            0\n",
       "BP             0\n",
       "Cholesterol    0\n",
       "Na_to_K        0\n",
       "Drug           0\n",
       "dtype: int64"
      ]
     },
     "execution_count": 2,
     "metadata": {},
     "output_type": "execute_result"
    }
   ],
   "source": [
    "data.isnull().sum()"
   ]
  },
  {
   "cell_type": "code",
   "execution_count": 3,
   "id": "844eb1d3",
   "metadata": {},
   "outputs": [
    {
     "data": {
      "text/plain": [
       "np.int64(0)"
      ]
     },
     "execution_count": 3,
     "metadata": {},
     "output_type": "execute_result"
    }
   ],
   "source": [
    "data.duplicated().sum()"
   ]
  },
  {
   "cell_type": "code",
   "execution_count": 4,
   "id": "86fb2fe2",
   "metadata": {},
   "outputs": [
    {
     "data": {
      "text/plain": [
       "Index(['Age', 'Sex', 'BP', 'Cholesterol', 'Na_to_K', 'Drug'], dtype='object')"
      ]
     },
     "execution_count": 4,
     "metadata": {},
     "output_type": "execute_result"
    }
   ],
   "source": [
    "data.columns"
   ]
  },
  {
   "cell_type": "code",
   "execution_count": 5,
   "id": "63c3f6b2",
   "metadata": {},
   "outputs": [
    {
     "data": {
      "text/plain": [
       "array(['DrugY', 'drugC', 'drugX', 'drugA', 'drugB'], dtype=object)"
      ]
     },
     "execution_count": 5,
     "metadata": {},
     "output_type": "execute_result"
    }
   ],
   "source": [
    "DRUGS = data[\"Drug\"]\n",
    "DRUGS.unique()"
   ]
  },
  {
   "cell_type": "code",
   "execution_count": 6,
   "id": "30c822a1",
   "metadata": {},
   "outputs": [
    {
     "data": {
      "application/vnd.microsoft.datawrangler.viewer.v0+json": {
       "columns": [
        {
         "name": "index",
         "rawType": "int64",
         "type": "integer"
        },
        {
         "name": "Age",
         "rawType": "int64",
         "type": "integer"
        },
        {
         "name": "Sex",
         "rawType": "int8",
         "type": "integer"
        },
        {
         "name": "BP",
         "rawType": "int8",
         "type": "integer"
        },
        {
         "name": "Cholesterol",
         "rawType": "int8",
         "type": "integer"
        },
        {
         "name": "Na_to_K",
         "rawType": "float64",
         "type": "float"
        },
        {
         "name": "Drug",
         "rawType": "int8",
         "type": "integer"
        }
       ],
       "ref": "103a939a-10f6-4d23-b201-c25316acc63e",
       "rows": [
        [
         "0",
         "23",
         "0",
         "0",
         "0",
         "25.355",
         "0"
        ],
        [
         "1",
         "47",
         "1",
         "1",
         "0",
         "13.093",
         "3"
        ],
        [
         "2",
         "47",
         "1",
         "1",
         "0",
         "10.114",
         "3"
        ],
        [
         "3",
         "28",
         "0",
         "2",
         "0",
         "7.798",
         "4"
        ],
        [
         "4",
         "61",
         "0",
         "1",
         "0",
         "18.043",
         "0"
        ]
       ],
       "shape": {
        "columns": 6,
        "rows": 5
       }
      },
      "text/html": [
       "<div>\n",
       "<style scoped>\n",
       "    .dataframe tbody tr th:only-of-type {\n",
       "        vertical-align: middle;\n",
       "    }\n",
       "\n",
       "    .dataframe tbody tr th {\n",
       "        vertical-align: top;\n",
       "    }\n",
       "\n",
       "    .dataframe thead th {\n",
       "        text-align: right;\n",
       "    }\n",
       "</style>\n",
       "<table border=\"1\" class=\"dataframe\">\n",
       "  <thead>\n",
       "    <tr style=\"text-align: right;\">\n",
       "      <th></th>\n",
       "      <th>Age</th>\n",
       "      <th>Sex</th>\n",
       "      <th>BP</th>\n",
       "      <th>Cholesterol</th>\n",
       "      <th>Na_to_K</th>\n",
       "      <th>Drug</th>\n",
       "    </tr>\n",
       "  </thead>\n",
       "  <tbody>\n",
       "    <tr>\n",
       "      <th>0</th>\n",
       "      <td>23</td>\n",
       "      <td>0</td>\n",
       "      <td>0</td>\n",
       "      <td>0</td>\n",
       "      <td>25.355</td>\n",
       "      <td>0</td>\n",
       "    </tr>\n",
       "    <tr>\n",
       "      <th>1</th>\n",
       "      <td>47</td>\n",
       "      <td>1</td>\n",
       "      <td>1</td>\n",
       "      <td>0</td>\n",
       "      <td>13.093</td>\n",
       "      <td>3</td>\n",
       "    </tr>\n",
       "    <tr>\n",
       "      <th>2</th>\n",
       "      <td>47</td>\n",
       "      <td>1</td>\n",
       "      <td>1</td>\n",
       "      <td>0</td>\n",
       "      <td>10.114</td>\n",
       "      <td>3</td>\n",
       "    </tr>\n",
       "    <tr>\n",
       "      <th>3</th>\n",
       "      <td>28</td>\n",
       "      <td>0</td>\n",
       "      <td>2</td>\n",
       "      <td>0</td>\n",
       "      <td>7.798</td>\n",
       "      <td>4</td>\n",
       "    </tr>\n",
       "    <tr>\n",
       "      <th>4</th>\n",
       "      <td>61</td>\n",
       "      <td>0</td>\n",
       "      <td>1</td>\n",
       "      <td>0</td>\n",
       "      <td>18.043</td>\n",
       "      <td>0</td>\n",
       "    </tr>\n",
       "  </tbody>\n",
       "</table>\n",
       "</div>"
      ],
      "text/plain": [
       "   Age  Sex  BP  Cholesterol  Na_to_K  Drug\n",
       "0   23    0   0            0   25.355     0\n",
       "1   47    1   1            0   13.093     3\n",
       "2   47    1   1            0   10.114     3\n",
       "3   28    0   2            0    7.798     4\n",
       "4   61    0   1            0   18.043     0"
      ]
     },
     "execution_count": 6,
     "metadata": {},
     "output_type": "execute_result"
    }
   ],
   "source": [
    "# Label encoding for each column in ls\n",
    "ls = ['Sex', 'BP', 'Cholesterol', 'Drug']\n",
    "label_encoding = data\n",
    "\n",
    "for col in ls:\n",
    "    label_encoding[col] = label_encoding[col].astype(\"category\").cat.codes\n",
    "\n",
    "label_encoding.head()"
   ]
  },
  {
   "cell_type": "code",
   "execution_count": 7,
   "id": "99e1ec15",
   "metadata": {},
   "outputs": [],
   "source": [
    "from sklearn.model_selection import train_test_split\n",
    "\n",
    "X = label_encoding.drop(\"Drug\", axis = 1)\n",
    "y = label_encoding[\"Drug\"]\n",
    "\n",
    "# Split data\n",
    "X_train, X_test, y_train, y_test = train_test_split( X, y, test_size=0.2, random_state=42, stratify=y)"
   ]
  },
  {
   "cell_type": "code",
   "execution_count": 8,
   "id": "a1f6a20d",
   "metadata": {},
   "outputs": [
    {
     "name": "stdout",
     "output_type": "stream",
     "text": [
      "Accuracy of Decision Tree ('gini') at depth=2: 82.0 %\n",
      "Accuracy of Decision Tree ('gini') at depth=3: 90.0 %\n",
      "Accuracy of Decision Tree ('gini') at depth=4: 97.0 %\n",
      "Accuracy of Decision Tree ('gini') at depth=5: 97.0 %\n",
      "--------------------------------------------------\n",
      "Accuracy of Decision Tree ('entropy') at depth=2: 82.0 %\n",
      "Accuracy of Decision Tree ('entropy') at depth=3: 90.0 %\n",
      "Accuracy of Decision Tree ('entropy') at depth=4: 97.0 %\n",
      "Accuracy of Decision Tree ('entropy') at depth=5: 97.0 %\n",
      "--------------------------------------------------\n",
      "\n",
      "Confusion Matrix:\n",
      " [[18  0  0  0  0]\n",
      " [ 0  5  0  0  0]\n",
      " [ 0  0  3  0  0]\n",
      " [ 0  0  0  3  0]\n",
      " [ 1  0  0  0 10]]\n"
     ]
    }
   ],
   "source": [
    "from sklearn.tree import DecisionTreeClassifier\n",
    "from sklearn.ensemble import RandomForestClassifier\n",
    "from sklearn.metrics import accuracy_score, confusion_matrix\n",
    "\n",
    "for i in range (2, 6):\n",
    "\n",
    "    clff = DecisionTreeClassifier(criterion=\"gini\", max_depth=i, random_state=42)\n",
    "    clff.fit(X_train, y_train)\n",
    "\n",
    "    # Evaluate Model\n",
    "    y_pred = clff.predict(X_test)\n",
    "\n",
    "    print(f\"Accuracy of Decision Tree ('gini') at depth={i}:\", round(accuracy_score(y_test, y_pred), 2)*100, \"%\")\n",
    "    \n",
    "print('-' *50)\n",
    "\n",
    "for i in range (2, 6):\n",
    "\n",
    "    clff = DecisionTreeClassifier(criterion=\"entropy\", max_depth=i, random_state=42)\n",
    "    clff.fit(X_train, y_train)\n",
    "\n",
    "    # Evaluate Model\n",
    "    y_pred = clff.predict(X_test)\n",
    "\n",
    "    print(f\"Accuracy of Decision Tree ('entropy') at depth={i}:\", round(accuracy_score(y_test, y_pred), 2)*100, \"%\")\n",
    "\n",
    "print('-' *50)\n",
    "\n",
    "print(\"\\nConfusion Matrix:\\n\", confusion_matrix(y_test, y_pred))"
   ]
  },
  {
   "cell_type": "code",
   "execution_count": 9,
   "id": "7f8d653f",
   "metadata": {},
   "outputs": [
    {
     "name": "stdout",
     "output_type": "stream",
     "text": [
      "Accuracy of Random Forest ('gini') at depth=2: 90.0 %\n",
      "Accuracy of Random Forest ('gini') at depth=3: 90.0 %\n",
      "Accuracy of Random Forest ('gini') at depth=4: 97.0 %\n",
      "Accuracy of Random Forest ('gini') at depth=5: 97.0 %\n",
      "--------------------------------------------------\n",
      "Accuracy of Random Forest ('entropy') at depth=2: 90.0 %\n",
      "Accuracy of Random Forest ('entropy') at depth=3: 90.0 %\n",
      "Accuracy of Random Forest ('entropy') at depth=4: 97.0 %\n",
      "Accuracy of Random Forest ('entropy') at depth=5: 97.0 %\n",
      "--------------------------------------------------\n",
      "\n",
      "Confusion Matrix:\n",
      " [[18  0  0  0  0]\n",
      " [ 0  5  0  0  0]\n",
      " [ 0  0  3  0  0]\n",
      " [ 0  0  0  3  0]\n",
      " [ 1  0  0  0 10]]\n"
     ]
    }
   ],
   "source": [
    "for i in range (2, 6):\n",
    "\n",
    "    clff = RandomForestClassifier(criterion=\"gini\", max_depth=i, random_state=42)\n",
    "    clff.fit(X_train, y_train)\n",
    "\n",
    "    # Evaluate Model\n",
    "    y_pred = clff.predict(X_test)\n",
    "\n",
    "    print(f\"Accuracy of Random Forest ('gini') at depth={i}:\", round(accuracy_score(y_test, y_pred), 2)*100 , \"%\")\n",
    "    \n",
    "print('-' *50)\n",
    "\n",
    "for i in range (2, 6):\n",
    "\n",
    "    clff = RandomForestClassifier(criterion=\"entropy\", max_depth=i, random_state=42)\n",
    "    clff.fit(X_train, y_train)\n",
    "\n",
    "    # Evaluate Model\n",
    "    y_pred = clff.predict(X_test)\n",
    "\n",
    "    print(f\"Accuracy of Random Forest ('entropy') at depth={i}:\", round(accuracy_score(y_test, y_pred), 2)*100, \"%\")\n",
    "\n",
    "print('-' *50)\n",
    "\n",
    "print(\"\\nConfusion Matrix:\\n\", confusion_matrix(y_test, y_pred))"
   ]
  }
 ],
 "metadata": {
  "kernelspec": {
   "display_name": ".venv",
   "language": "python",
   "name": "python3"
  },
  "language_info": {
   "codemirror_mode": {
    "name": "ipython",
    "version": 3
   },
   "file_extension": ".py",
   "mimetype": "text/x-python",
   "name": "python",
   "nbconvert_exporter": "python",
   "pygments_lexer": "ipython3",
   "version": "3.10.5"
  }
 },
 "nbformat": 4,
 "nbformat_minor": 5
}
