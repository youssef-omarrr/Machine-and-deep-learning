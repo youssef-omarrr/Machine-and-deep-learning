{
  "cells": [
    {
      "cell_type": "markdown",
      "metadata": {
        "id": "AzDBM_v4iMe7"
      },
      "source": [
        "# 00. PyTorch Fundamentals Exercises\n",
        "\n",
        "### 1. Documentation reading \n",
        "\n",
        "A big part of deep learning (and learning to code in general) is getting familiar with the documentation of a certain framework you're using. We'll be using the PyTorch documentation a lot throughout the rest of this course. So I'd recommend spending 10-minutes reading the following (it's okay if you don't get some things for now, the focus is not yet full understanding, it's awareness):\n",
        "  * The documentation on [`torch.Tensor`](https://pytorch.org/docs/stable/tensors.html#torch-tensor).\n",
        "  * The documentation on [`torch.cuda`](https://pytorch.org/docs/master/notes/cuda.html#cuda-semantics).\n",
        "\n"
      ]
    },
    {
      "cell_type": "code",
      "execution_count": 1,
      "metadata": {
        "id": "bGD0oD8Kizak"
      },
      "outputs": [],
      "source": [
        "# No code solution (reading)"
      ]
    },
    {
      "cell_type": "markdown",
      "metadata": {
        "id": "__iXqqz-ioUJ"
      },
      "source": [
        "### 2. Create a random tensor with shape `(7, 7)`.\n"
      ]
    },
    {
      "cell_type": "code",
      "execution_count": 4,
      "metadata": {
        "id": "6pUq9Dc8i2L7"
      },
      "outputs": [
        {
          "data": {
            "text/plain": [
              "(tensor([[0.1516, 0.1795, 0.1374, 0.2276, 0.7874, 0.8158, 0.5247],\n",
              "         [0.4563, 0.1959, 0.8284, 0.1536, 0.6178, 0.0728, 0.1148],\n",
              "         [0.5174, 0.9706, 0.2173, 0.1676, 0.2982, 0.4861, 0.1598],\n",
              "         [0.0066, 0.7199, 0.8253, 0.4830, 0.9662, 0.0281, 0.0471],\n",
              "         [0.1333, 0.2802, 0.6081, 0.2551, 0.6117, 0.7879, 0.8325],\n",
              "         [0.7781, 0.4437, 0.0709, 0.9895, 0.5802, 0.8634, 0.9043],\n",
              "         [0.9818, 0.3331, 0.7899, 0.2944, 0.1587, 0.8494, 0.2562]]),\n",
              " torch.Size([7, 7]))"
            ]
          },
          "execution_count": 4,
          "metadata": {},
          "output_type": "execute_result"
        }
      ],
      "source": [
        "# Import torch\n",
        "import torch\n",
        "\n",
        "# Create random tensor\n",
        "tensor_a = torch.rand(7,7)\n",
        "tensor_a, tensor_a.shape"
      ]
    },
    {
      "cell_type": "markdown",
      "metadata": {
        "id": "9-XxvRLfiqkR"
      },
      "source": [
        "### 3. Perform a matrix multiplication on the tensor from 2 with another random tensor with shape `(1, 7)` (hint: you may have to transpose the second tensor)."
      ]
    },
    {
      "cell_type": "code",
      "execution_count": 7,
      "metadata": {
        "id": "NcLqR0Sbi_vT"
      },
      "outputs": [
        {
          "name": "stdout",
          "output_type": "stream",
          "text": [
            "tensor_a shape = torch.Size([7, 7])\n",
            "tensor_b.T shape = torch.Size([7, 1])\n"
          ]
        },
        {
          "data": {
            "text/plain": [
              "(tensor([[0.5263],\n",
              "         [1.0229],\n",
              "         [0.9601],\n",
              "         [0.9308],\n",
              "         [0.8506],\n",
              "         [1.3680],\n",
              "         [1.5587]]),\n",
              " torch.Size([7, 1]))"
            ]
          },
          "execution_count": 7,
          "metadata": {},
          "output_type": "execute_result"
        }
      ],
      "source": [
        "# Create another random tensor\n",
        "tensor_b = torch.rand(1,7)\n",
        "\n",
        "# Perform matrix multiplication \n",
        "print(f\"tensor_a shape = {tensor_a.shape}\")\n",
        "print(f\"tensor_b.T shape = {tensor_b.T.shape}\")\n",
        "mult_ans = torch.matmul(tensor_a, tensor_b.T)\n",
        "mult_ans, mult_ans.shape"
      ]
    },
    {
      "cell_type": "markdown",
      "metadata": {
        "id": "eiutdKUFiryU"
      },
      "source": [
        "### 4. Set the random seed to `0` and do 2 & 3 over again.\n",
        "\n",
        "The output should be:\n",
        "```\n",
        "(tensor([[1.8542],\n",
        "         [1.9611],\n",
        "         [2.2884],\n",
        "         [3.0481],\n",
        "         [1.7067],\n",
        "         [2.5290],\n",
        "         [1.7989]]), torch.Size([7, 1]))\n",
        "```"
      ]
    },
    {
      "cell_type": "code",
      "execution_count": null,
      "metadata": {
        "id": "D-lOWI_1jRMm"
      },
      "outputs": [
        {
          "name": "stdout",
          "output_type": "stream",
          "text": [
            "tensor c = tensor([[0.4963, 0.7682, 0.0885, 0.1320, 0.3074, 0.6341, 0.4901],\n",
            "        [0.8964, 0.4556, 0.6323, 0.3489, 0.4017, 0.0223, 0.1689],\n",
            "        [0.2939, 0.5185, 0.6977, 0.8000, 0.1610, 0.2823, 0.6816],\n",
            "        [0.9152, 0.3971, 0.8742, 0.4194, 0.5529, 0.9527, 0.0362],\n",
            "        [0.1852, 0.3734, 0.3051, 0.9320, 0.1759, 0.2698, 0.1507],\n",
            "        [0.0317, 0.2081, 0.9298, 0.7231, 0.7423, 0.5263, 0.2437],\n",
            "        [0.5846, 0.0332, 0.1387, 0.2422, 0.8155, 0.7932, 0.2783]]),\n",
            " and its shape = torch.Size([7, 7])\n",
            "=======================================================\n",
            "tensor d = tensor([[0.4820, 0.8198, 0.9971, 0.6984, 0.5675, 0.8352, 0.2056]]),\n",
            " and its shape = torch.Size([1, 7])\n",
            "=======================================================\n",
            "tensor d.T = tensor([[0.4820],\n",
            "        [0.8198],\n",
            "        [0.9971],\n",
            "        [0.6984],\n",
            "        [0.5675],\n",
            "        [0.8352],\n",
            "        [0.2056]]),\n",
            " and its shape = torch.Size([7, 1])\n",
            "=======================================================\n"
          ]
        },
        {
          "data": {
            "text/plain": [
              "(tensor([[1.8542],\n",
              "         [1.9611],\n",
              "         [2.2884],\n",
              "         [3.0481],\n",
              "         [1.7067],\n",
              "         [2.5290],\n",
              "         [1.7989]]),\n",
              " torch.Size([7, 1]))"
            ]
          },
          "execution_count": 12,
          "metadata": {},
          "output_type": "execute_result"
        }
      ],
      "source": [
        "# Set manual seed\n",
        "SEED = 0\n",
        "torch.manual_seed(SEED)\n",
        "\n",
        "# Create two random tensors\n",
        "ten_c = torch.rand(7,7)\n",
        "\n",
        "# torch.manual_seed(SEED) ## uncomment this t0 get d = first row of c\n",
        "ten_d = torch.rand(1,7)\n",
        "\n",
        "# Matrix multiply tensors\n",
        "print(f\"tensor c = {ten_c},\\n and its shape = {ten_c.shape}\")\n",
        "print(\"=======================================================\")\n",
        "print(f\"tensor d = {ten_d},\\n and its shape = {ten_d.shape}\")\n",
        "print(\"=======================================================\")\n",
        "print(f\"tensor d.T = {ten_d.T},\\n and its shape = {ten_d.T.shape}\")\n",
        "print(\"=======================================================\")\n",
        "\n",
        "\n",
        "\n",
        "mult_ans = torch.matmul(ten_c, ten_d.T)\n",
        "mult_ans, mult_ans.shape"
      ]
    },
    {
      "cell_type": "markdown",
      "metadata": {
        "id": "ezY6ks9Cis37"
      },
      "source": [
        "### 5. Speaking of random seeds, we saw how to set it with `torch.manual_seed()` but is there a GPU equivalent? (hint: you'll need to look into the documentation for `torch.cuda` for this one)\n",
        "  * If there is, set the GPU random seed to `1234`."
      ]
    },
    {
      "cell_type": "code",
      "execution_count": 13,
      "metadata": {
        "id": "_LKWcfSTjp00"
      },
      "outputs": [],
      "source": [
        "# Set random seed on the GPU\n",
        "torch.cuda.manual_seed(1234)"
      ]
    },
    {
      "cell_type": "markdown",
      "metadata": {
        "id": "Ir9qSaj6it4n"
      },
      "source": [
        "\n",
        "### 6. Create two random tensors of shape `(2, 3)` and send them both to the GPU (you'll need access to a GPU for this). Set `torch.manual_seed(1234)` when creating the tensors (this doesn't have to be the GPU random seed). The output should be something like:\n",
        "\n",
        "```\n",
        "Device: cuda\n",
        "(tensor([[0.0290, 0.4019, 0.2598],\n",
        "         [0.3666, 0.0583, 0.7006]], device='cuda:0'),\n",
        " tensor([[0.0518, 0.4681, 0.6738],\n",
        "         [0.3315, 0.7837, 0.5631]], device='cuda:0'))\n",
        "```"
      ]
    },
    {
      "cell_type": "code",
      "execution_count": 15,
      "metadata": {
        "id": "azXExiFZj5nm"
      },
      "outputs": [
        {
          "name": "stdout",
          "output_type": "stream",
          "text": [
            "Device: cpu\n"
          ]
        },
        {
          "data": {
            "text/plain": [
              "(tensor([[0.5932, 0.1123, 0.1535],\n",
              "         [0.2417, 0.7262, 0.7011]]),\n",
              " tensor([[0.2038, 0.6511, 0.7745],\n",
              "         [0.4369, 0.5191, 0.6159]]))"
            ]
          },
          "execution_count": 15,
          "metadata": {},
          "output_type": "execute_result"
        }
      ],
      "source": [
        "# Set random seed\n",
        "torch.cuda.manual_seed(1234)\n",
        "\n",
        "# Check for access to GPU\n",
        "device = \"cuda\" if torch.cuda.is_available() else \"cpu\"\n",
        "print(f\"Device: {device}\")\n",
        "# Create two random tensors on GPU\n",
        "tensor_A = torch.rand(size=(2,3)).to(device)\n",
        "tensor_B = torch.rand(size=(2,3)).to(device)\n",
        "tensor_A, tensor_B"
      ]
    },
    {
      "cell_type": "markdown",
      "metadata": {
        "id": "5TlAxeiSiu1y"
      },
      "source": [
        "\n",
        "### 7. Perform a matrix multiplication on the tensors you created in 6 (again, you may have to adjust the shapes of one of the tensors).\n",
        "\n",
        "The output should look like:\n",
        "```\n",
        "(tensor([[0.3647, 0.4709],\n",
        "         [0.5184, 0.5617]], device='cuda:0'), torch.Size([2, 2]))\n",
        "```"
      ]
    },
    {
      "cell_type": "code",
      "execution_count": 7,
      "metadata": {
        "id": "fAeG7ox0lHEO"
      },
      "outputs": [],
      "source": [
        "# Perform matmul on tensor_A and tensor_B\n"
      ]
    },
    {
      "cell_type": "markdown",
      "metadata": {
        "id": "G7qfa5CSivwg"
      },
      "source": [
        "### 8. Find the maximum and minimum values of the output of 7."
      ]
    },
    {
      "cell_type": "code",
      "execution_count": 17,
      "metadata": {
        "id": "Fu8_3mZpllOd"
      },
      "outputs": [
        {
          "name": "stdout",
          "output_type": "stream",
          "text": [
            " max = 3.0481479167938232\n",
            " min = 1.7067397832870483\n"
          ]
        }
      ],
      "source": [
        "# Find max\n",
        "print(f\" max = {torch.max(mult_ans)}\")\n",
        "\n",
        "# Find min\n",
        "print(f\" min = {torch.min(mult_ans)}\")"
      ]
    },
    {
      "cell_type": "markdown",
      "metadata": {
        "id": "wrTj5FgNiw47"
      },
      "source": [
        "### 9. Find the maximum and minimum index values of the output of 7."
      ]
    },
    {
      "cell_type": "code",
      "execution_count": 18,
      "metadata": {
        "id": "CCEKt4K2lsfQ"
      },
      "outputs": [
        {
          "name": "stdout",
          "output_type": "stream",
          "text": [
            " max = 3\n",
            " min = 4\n"
          ]
        }
      ],
      "source": [
        "# Find arg max\n",
        "print(f\" max = {torch.argmax(mult_ans)}\")\n",
        "\n",
        "# Find arg min\n",
        "print(f\" min = {torch.argmin(mult_ans)}\")"
      ]
    },
    {
      "cell_type": "markdown",
      "metadata": {
        "id": "hmeybz4uixy7"
      },
      "source": [
        "\n",
        "### 10. Make a random tensor with shape `(1, 1, 1, 10)` and then create a new tensor with all the `1` dimensions removed to be left with a tensor of shape `(10)`. Set the seed to `7` when you create it and print out the first tensor and it's shape as well as the second tensor and it's shape.\n",
        "\n",
        "The output should look like:\n",
        "\n",
        "```\n",
        "tensor([[[[0.5349, 0.1988, 0.6592, 0.6569, 0.2328, 0.4251, 0.2071, 0.6297,\n",
        "           0.3653, 0.8513]]]]) torch.Size([1, 1, 1, 10])\n",
        "tensor([0.5349, 0.1988, 0.6592, 0.6569, 0.2328, 0.4251, 0.2071, 0.6297, 0.3653,\n",
        "        0.8513]) torch.Size([10])\n",
        "```"
      ]
    },
    {
      "cell_type": "code",
      "execution_count": 19,
      "metadata": {
        "id": "TQ9zbRzVl1jV"
      },
      "outputs": [
        {
          "name": "stdout",
          "output_type": "stream",
          "text": [
            "tensor with 1 = tensor([[[[0.5349, 0.1988, 0.6592, 0.6569, 0.2328, 0.4251, 0.2071, 0.6297,\n",
            "           0.3653, 0.8513]]]]),\n",
            "and its shape =torch.Size([1, 1, 1, 10])\n",
            "tensor without 1 = tensor([0.5349, 0.1988, 0.6592, 0.6569, 0.2328, 0.4251, 0.2071, 0.6297, 0.3653,\n",
            "        0.8513]),\n",
            "and its shape =torch.Size([10])\n"
          ]
        }
      ],
      "source": [
        "# Set seed\n",
        "SEED = 7\n",
        "torch.manual_seed(SEED)\n",
        "\n",
        "# Create random tensor\n",
        "ten_1 = torch.rand(1,1,1,10)\n",
        "\n",
        "# Remove single dimensions\n",
        "ten_minus_1 = torch.squeeze(ten_1)\n",
        "\n",
        "# Print out tensors and their shapes\n",
        "print(f\"tensor with 1 = {ten_1},\\nand its shape ={ten_1.shape}\")\n",
        "print(f\"tensor without 1 = {ten_minus_1},\\nand its shape ={ten_minus_1.shape}\")"
      ]
    },
    {
      "cell_type": "code",
      "execution_count": null,
      "metadata": {},
      "outputs": [],
      "source": []
    }
  ],
  "metadata": {
    "accelerator": "GPU",
    "colab": {
      "collapsed_sections": [],
      "name": "00_pytorch_fundamentals_exercises.ipynb",
      "provenance": []
    },
    "kernelspec": {
      "display_name": "base",
      "language": "python",
      "name": "python3"
    },
    "language_info": {
      "codemirror_mode": {
        "name": "ipython",
        "version": 3
      },
      "file_extension": ".py",
      "mimetype": "text/x-python",
      "name": "python",
      "nbconvert_exporter": "python",
      "pygments_lexer": "ipython3",
      "version": "3.12.4"
    }
  },
  "nbformat": 4,
  "nbformat_minor": 0
}
