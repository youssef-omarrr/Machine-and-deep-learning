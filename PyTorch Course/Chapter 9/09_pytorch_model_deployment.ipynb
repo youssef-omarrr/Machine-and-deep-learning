{
 "cells": [
  {
   "cell_type": "markdown",
   "id": "790a8e19",
   "metadata": {},
   "source": [
    "# 09. PyTorch Model Deployment\n",
    "\n",
    "Welcome to Milestone Project 3: PyTorch Model Deployment!\n",
    "\n",
    "We've come a long way with our FoodVision Mini project.\n",
    "\n",
    "But so far our PyTorch models have only been accessible to us.\n",
    "\n",
    "How about we bring FoodVision Mini to life and make it publically accessible?\n",
    "\n",
    "In other words, **we're going to deploy our FoodVision Mini model to the internet as a usable app!**\n",
    "\n",
    "_Trying out the [deployed version of FoodVision Mini](https://huggingface.co/spaces/mrdbourke/foodvision_mini) (what we're going to build) on my lunch. The model got it right too 🍣!_\n"
   ]
  },
  {
   "cell_type": "markdown",
   "id": "a2581a62",
   "metadata": {},
   "source": [
    "## Different types of machine learning model deployment\n",
    "\n",
    "Whole books could be written on the different types of machine learning model deployment (and many good ones are listed in [PyTorch Extra Resources](https://www.learnpytorch.io/pytorch_extra_resources/#resources-for-machine-learning-and-deep-learning-engineering)).\n",
    "\n",
    "And the field is still developing in terms of best practices.\n",
    "\n",
    "But I like to start with the question:\n",
    "\n",
    "> \"What is the most ideal scenario for my machine learning model to be used?\"\n",
    "\n",
    "And then work backwards from there.\n",
    "\n",
    "Of course, you may not know this ahead of time. But you're smart enough to imagine such things.\n",
    "\n",
    "In the case of FoodVision Mini, our ideal scenario might be:\n",
    "\n",
    "- Someone takes a photo on a mobile device (through an app or web broswer).\n",
    "- The prediction comes back fast.\n",
    "\n",
    "Easy.\n",
    "\n",
    "So we've got two main criteria:\n",
    "\n",
    "1. The model should work on a mobile device (this means there will be some compute constraints).\n",
    "2. The model should make predictions _fast_ (because a slow app is a boring app).\n",
    "\n",
    "And of course, depending on your use case, your requirements may vary.\n",
    "\n",
    "You may notice the above two points break down into another two questions:\n",
    "\n",
    "1. **Where's it going to go?** - As in, where is it going to be stored?\n",
    "2. **How's it going to function?** - As in, does it return predictions immediately? Or do they come later?\n",
    "\n",
    "<img src=\"https://raw.githubusercontent.com/mrdbourke/pytorch-deep-learning/main/images/09-deployment-questions-to-ask.png\" alt=\"some questions to ask when starting to deploy machine learning models, what's the model ideal use case, then work backwards and ask where's my model going to go and how's my model going to function\" width=900/>\n",
    "\n",
    "_When starting to deploy machine learning models, it's helpful to start by asking what's the most ideal use case and then work backwards from there, asking where the model's going to go and then how it's going to function._\n"
   ]
  },
  {
   "cell_type": "markdown",
   "id": "30177c09",
   "metadata": {},
   "source": [
    "### Where's it going to go?\n",
    "\n",
    "When you deploy your machine learning model, where does it live?\n",
    "\n",
    "The main debate here is usually on-device (also called edge/in the browser) or on the cloud (a computer/server that isn't the _actual_ device someone/something calls the model from).\n",
    "\n",
    "Both have their pros and cons.\n",
    "\n",
    "| **Deployment location**             | **Pros**                                                   | **Cons**                                                                                                           |\n",
    "| ----------------------------------- | ---------------------------------------------------------- | ------------------------------------------------------------------------------------------------------------------ |\n",
    "| **On-device (edge/in the browser)** | Can be very fast (since no data leaves the device)         | Limited compute power (larger models take longer to run)                                                           |\n",
    "|                                     | Privacy preserving (again no data has to leave the device) | Limited storage space (smaller model size required)                                                                |\n",
    "|                                     | No internet connection required (sometimes)                | Device-specific skills often required                                                                              |\n",
    "|                                     |                                                            |                                                                                                                    |\n",
    "| **On cloud**                        | Near unlimited compute power (can scale up when needed)    | Costs can get out of hand (if proper scaling limits aren't enforced)                                               |\n",
    "|                                     | Can deploy one model and use everywhere (via API)          | Predictions can be slower due to data having to leave device and predictions having to come back (network latency) |\n",
    "|                                     | Links into existing cloud ecosystem                        | Data has to leave device (this may cause privacy concerns)                                                         |\n",
    "\n",
    "There are more details to these but I've left resources in the [extra-curriculum](https://www.learnpytorch.io/09_pytorch_model_deployment/#extra-curriculum) to learn more.\n",
    "\n",
    "Let's give an example.\n",
    "\n",
    "If we're deploying FoodVision Mini as an app, we want it to perform well and fast.\n",
    "\n",
    "So which model would we prefer?\n",
    "\n",
    "1. A model on-device that performs at 95% accuracy with an inference time (latency) of one second per prediction.\n",
    "2. A model on the cloud that performs at 98% accuracy with an inference time of 10 seconds per per prediction (bigger, better model but takes longer to compute).\n",
    "\n",
    "I've made these numbers up but they showcase a potential difference between on-device and on the cloud.\n",
    "\n",
    "Option 1 could potentially be a smaller less performant model that runs fast because its able to fit on a mobile device.\n",
    "\n",
    "Option 2 could potentially a larger more performant model that requires more compute and storage but it takes a bit longer to run because we have to send data off the device and get it back (so even though the actual prediction might be fast, the network time and data transfer has to factored in).\n",
    "\n",
    "For FoodVision Mini, we'd likely prefer option 1, because the small hit in performance is far outweighed by the faster inference speed.\n",
    "\n",
    "<img src=\"https://raw.githubusercontent.com/mrdbourke/pytorch-deep-learning/main/images/09-model-deployment-on-device-vs-cloud.png\" width=900 alt=\"tesla computer vision system on device vs on the cloud\"/>\n",
    "\n",
    "_In the case of a Tesla car's computer vision system, which would be better? A smaller model that performs well on device (model is on the car) or a larger model that performs better that's on the cloud? In this case, you'd much prefer the model being on the car. The extra network time it would take for data to go from the car to the cloud and then back to the car just wouldn't be worth it (or potentially even impossible with poor signal areas)._\n",
    "\n",
    "> **Note:** For a full example of seeing what it's like to deploy a PyTorch model to an edge device, see the [PyTorch tutorial on achieving real-time inference (30fps+)](https://pytorch.org/tutorials/intermediate/realtime_rpi.html) with a computer vision model on a Raspberry Pi.\n"
   ]
  },
  {
   "cell_type": "markdown",
   "id": "486cd51a",
   "metadata": {},
   "source": [
    "### How's it going to function?\n",
    "\n",
    "Back to the ideal use case, when you deploy your machine learning model, how should it work?\n",
    "\n",
    "As in, would you like predictions returned immediately?\n",
    "\n",
    "Or is it okay for them to happen later?\n",
    "\n",
    "These two scenarios are generally referred to as:\n",
    "\n",
    "- **Online (real-time)** - Predictions/inference happen **immediately**. For example, someone uploads an image, the image gets transformed and predictions are returned or someone makes a purchase and the transaction is verified to be non-fraudulent by a model so the purchase can go through.\n",
    "- **Offline (batch)** - Predictions/inference happen **periodically**. For example, a photos application sorts your images into different categories (such as beach, mealtime, family, friends) whilst your mobile device is plugged into charge.\n",
    "\n",
    "> **Note:** \"Batch\" refers to inference being performed on multiple samples at a time. However, to add a little confusion, batch processing can happen immediately/online (multiple images being classified at once) and/or offline (multiple images being predicted/trained on at once).\n",
    "\n",
    "The main difference between each being: predictions being made immediately or periodically.\n",
    "\n",
    "Periodically can have a varying timescale too, from every few seconds to every few hours or days.\n",
    "\n",
    "And you can mix and match the two.\n",
    "\n",
    "In the case of FoodVision Mini, we'd want our inference pipeline to happen online (real-time), so when someone uploads an image of pizza, steak or sushi, the prediction results are returned immediately (any slower than real-time would make a boring experience).\n",
    "\n",
    "But for our training pipeline, it's okay for it to happen in a batch (offline) fashion, which is what we've been doing throughout the previous chapters.\n"
   ]
  },
  {
   "cell_type": "markdown",
   "id": "1b238d2c",
   "metadata": {},
   "source": [
    "### Ways to deploy a machine learning model\n",
    "\n",
    "We've discussed a couple of options for deploying machine learning models (on-device and cloud).\n",
    "\n",
    "And each of these will have their specific requirements:\n",
    "\n",
    "| **Tool/resource**                                                                                                                          | **Deployment type**           |\n",
    "| ------------------------------------------------------------------------------------------------------------------------------------------ | ----------------------------- |\n",
    "| [Google's ML Kit](https://developers.google.com/ml-kit)                                                                                    | On-device (Android and iOS)   |\n",
    "| [Apple's Core ML](https://developer.apple.com/documentation/coreml) and [`coremltools` Python package](https://coremltools.readme.io/docs) | On-device (all Apple devices) |\n",
    "| [Amazon Web Service's (AWS) Sagemaker](https://aws.amazon.com/sagemaker/)                                                                  | Cloud                         |\n",
    "| [Google Cloud's Vertex AI](https://cloud.google.com/vertex-ai)                                                                             | Cloud                         |\n",
    "| [Microsoft's Azure Machine Learning](https://azure.microsoft.com/en-au/services/machine-learning/)                                         | Cloud                         |\n",
    "| [Hugging Face Spaces](https://huggingface.co/spaces)                                                                                       | Cloud                         |\n",
    "| API with [FastAPI](https://fastapi.tiangolo.com)                                                                                           | Cloud/self-hosted server      |\n",
    "| API with [TorchServe](https://pytorch.org/serve/)                                                                                          | Cloud/self-hosted server      |\n",
    "| [ONNX (Open Neural Network Exchange)](https://onnx.ai/index.html)                                                                          | Many/general                  |\n",
    "| Many more...                                                                                                                               |                               |\n",
    "\n",
    "> **Note:** An [application programming interface (API)](https://en.wikipedia.org/wiki/API) is a way for two (or more) computer programs to interact with each other. For example, if your model was deployed as API, you would be able to write a program that could send data to it and then receive predictions back.\n",
    "\n",
    "Which option you choose will be highly dependent on what you're building/who you're working with.\n",
    "\n",
    "But with so many options, it can be very intimidating.\n",
    "\n",
    "So best to start small and keep it simple.\n",
    "\n",
    "And one of the best ways to do so is by turning your machine learning model into a demo app with [Gradio](https://gradio.app) and then deploying it on Hugging Face Spaces.\n",
    "\n",
    "We'll be doing just that with FoodVision Mini later on.\n",
    "\n",
    "<img src=\"https://raw.githubusercontent.com/mrdbourke/pytorch-deep-learning/main/images/09-tools-and-places-to-deploy-ml-models.png\" alt=\"tools and places to deploy machine learning models\" width=900/>\n",
    "\n",
    "_A handful of places and tools to host and deploy machine learning models. There are plenty I've missed so if you'd like to add more, please leave a [discussion on GitHub](https://github.com/mrdbourke/pytorch-deep-learning/discussions)._\n"
   ]
  },
  {
   "cell_type": "markdown",
   "id": "45cd6c59",
   "metadata": {},
   "source": [
    "## What we're going to cover\n",
    "\n",
    "Enough talking about deploying a machine learning model.\n",
    "\n",
    "Let's become machine learning engineers and actually deploy one.\n",
    "\n",
    "Our goal is to deploy our FoodVision Model via a demo Gradio app with the following metrics:\n",
    "\n",
    "1. **Performance:** 95%+ accuracy.\n",
    "2. **Speed:** real-time inference of 30FPS+ (each prediction has a latency of lower than ~0.03s).\n",
    "\n",
    "We'll start by running an experiment to compare our best two models so far: EffNetB2 and ViT feature extractors.\n",
    "\n",
    "Then we'll deploy the one which performs closest to our goal metrics.\n",
    "\n",
    "Finally, we'll finish with a (BIG) surprise bonus.\n",
    "\n",
    "| **Topic**                                                            | **Contents**                                                                                                                                                                                                                                                         |\n",
    "| -------------------------------------------------------------------- | -------------------------------------------------------------------------------------------------------------------------------------------------------------------------------------------------------------------------------------------------------------------- |\n",
    "| **0. Getting setup**                                                 | We've written a fair bit of useful code over the past few sections, let's download it and make sure we can use it again.                                                                                                                                             |\n",
    "| **1. Get data**                                                      | Let's download the [`pizza_steak_sushi_20_percent.zip`](https://github.com/mrdbourke/pytorch-deep-learning/blob/main/data/pizza_steak_sushi_20_percent.zip) dataset so we can train our previously best performing models on the same dataset.                       |\n",
    "| **2. FoodVision Mini model deployment experiment outline**           | Even on the third milestone project, we're still going to be running multiple experiments to see which model (EffNetB2 or ViT) achieves closest to our goal metrics.                                                                                                 |\n",
    "| **3. Creating an EffNetB2 feature extractor**                        | An EfficientNetB2 feature extractor performed the best on our pizza, steak, sushi dataset in [07. PyTorch Experiment Tracking](https://www.learnpytorch.io/07_pytorch_experiment_tracking/), let's recreate it as a candidate for deployment.                        |\n",
    "| **4. Creating a ViT feature extractor**                              | A ViT feature extractor has been the best performing model yet on our pizza, steak, sushi dataset in [08. PyTorch Paper Replicating](https://www.learnpytorch.io/08_pytorch_paper_replicating/), let's recreate it as a candidate for deployment alongside EffNetB2. |\n",
    "| **5. Making predictions with our trained models and timing them**    | We've built two of the best performing models yet, let's make predictions with them and track their results.                                                                                                                                                         |\n",
    "| **6. Comparing model results, prediction times and size**            | Let's compare our models to see which performs best with our goals.                                                                                                                                                                                                  |\n",
    "| **7. Bringing FoodVision Mini to life by creating a Gradio demo**    | One of our models performs better than the other (in terms of our goals), so let's turn it into a working app demo!                                                                                                                                                  |\n",
    "| **8. Turning our FoodVision Mini Gradio demo into a deployable app** | Our Gradio app demo works locally, let's prepare it for deployment!                                                                                                                                                                                                  |\n",
    "| **9. Deploying our Gradio demo to HuggingFace Spaces**               | Let's take FoodVision Mini to the web and make it pubically accessible for all!                                                                                                                                                                                      |\n",
    "| **10. Creating a BIG surprise**                                      | We've built FoodVision Mini, time to step things up a notch.                                                                                                                                                                                                         |\n",
    "| **11. Deploying our BIG surprise**                                   | Deploying one app was fun, how about we make it two?                                                                                                                                                                                                                 |\n"
   ]
  },
  {
   "cell_type": "markdown",
   "id": "ec05d636",
   "metadata": {},
   "source": [
    "## 0. Getting setup\n"
   ]
  },
  {
   "cell_type": "code",
   "execution_count": 8,
   "id": "111c6024",
   "metadata": {},
   "outputs": [
    {
     "name": "stdout",
     "output_type": "stream",
     "text": [
      "CUDA available: True\n",
      "CUDA devices: 1\n",
      "Current device: 0\n",
      "Device name: NVIDIA GeForce RTX 3060 Laptop GPU\n"
     ]
    }
   ],
   "source": [
    "import torch\n",
    "import torchvision\n",
    "\n",
    "from torch import nn\n",
    "from torchvision import transforms\n",
    "\n",
    "from torchinfo import summary\n",
    "\n",
    "from going_modular import GPU_check, data_setup, engine, helper_functions\n",
    "\n",
    "device = GPU_check.GPU_check()"
   ]
  },
  {
   "cell_type": "code",
   "execution_count": 9,
   "id": "0077204c",
   "metadata": {},
   "outputs": [
    {
     "data": {
      "text/plain": [
       "('2.7.1+cu126', '0.22.1+cu126')"
      ]
     },
     "execution_count": 9,
     "metadata": {},
     "output_type": "execute_result"
    }
   ],
   "source": [
    "torch.__version__, torchvision.__version__"
   ]
  },
  {
   "cell_type": "markdown",
   "id": "fca98d16",
   "metadata": {},
   "source": [
    "## 1. Getting data\n"
   ]
  },
  {
   "cell_type": "code",
   "execution_count": 10,
   "id": "89a66657",
   "metadata": {},
   "outputs": [
    {
     "name": "stdout",
     "output_type": "stream",
     "text": [
      "[INFO] data\\pizza_steak_sushi_20_percent directory exists, skipping download.\n"
     ]
    },
    {
     "data": {
      "text/plain": [
       "WindowsPath('data/pizza_steak_sushi_20_percent')"
      ]
     },
     "execution_count": 10,
     "metadata": {},
     "output_type": "execute_result"
    }
   ],
   "source": [
    "# Download pizza, steak, sushi images from GitHub\n",
    "data_20_percent_path = helper_functions.download_data(source=\"https://github.com/mrdbourke/pytorch-deep-learning/raw/main/data/pizza_steak_sushi_20_percent.zip\",\n",
    "                                            destination=\"pizza_steak_sushi_20_percent\")\n",
    "\n",
    "data_20_percent_path"
   ]
  },
  {
   "cell_type": "code",
   "execution_count": 11,
   "id": "18b40f92",
   "metadata": {},
   "outputs": [
    {
     "data": {
      "text/plain": [
       "(WindowsPath('data/pizza_steak_sushi_20_percent/train'),\n",
       " WindowsPath('data/pizza_steak_sushi_20_percent/test'))"
      ]
     },
     "execution_count": 11,
     "metadata": {},
     "output_type": "execute_result"
    }
   ],
   "source": [
    "TRAIN_DIR = data_20_percent_path / \"train\"\n",
    "TEST_DIR = data_20_percent_path / \"test\"\n",
    "\n",
    "TRAIN_DIR, TEST_DIR"
   ]
  },
  {
   "cell_type": "markdown",
   "id": "b4c4cbba",
   "metadata": {},
   "source": [
    "## 2. FoodVision Mini model deployment experiment outline\n",
    "\n",
    "The ideal deployed model FoodVision Mini performs well and fast.\n",
    "\n",
    "We'd like our model to perform as close to real-time as possible.\n",
    "\n",
    "Real-time in this case being ~30FPS (frames per second) because that's [about how fast the human eye can see](https://www.healthline.com/health/human-eye-fps) (there is debate on this but let's just use ~30FPS as our benchmark).\n",
    "\n",
    "And for classifying three different classes (pizza, steak and sushi), we'd like a model that performs at 95%+ accuracy.\n",
    "\n",
    "Of course, higher accuracy would be nice but this might sacrifice speed.\n",
    "\n",
    "So our goals are:\n",
    "\n",
    "1. **Performance** - A model that performs at 95%+ accuracy.\n",
    "2. **Speed** - A model that can classify an image at ~30FPS (0.03 seconds inference time per image, also known as latency).\n",
    "\n",
    "<img src=\"https://raw.githubusercontent.com/mrdbourke/pytorch-deep-learning/main/images/09-model-deployments-speed-vs-inference.png\" alt=\"foodvision mini goals in terms of performance and inference time.\" width=750/>\n",
    "\n",
    "_FoodVision Mini deployment goals. We'd like a fast predicting well-performing model (because a slow app is boring)._\n",
    "\n",
    "We'll put an emphasis on speed, meaning, we'd prefer a model performing at 90%+ accuracy at ~30FPS than a model performing 95%+ accuracy at 10FPS.\n",
    "\n",
    "To try and achieve these results, let's bring in our best performing models from the previous sections:\n",
    "\n",
    "1. **EffNetB2 feature extractor** (EffNetB2 for short) - originally created in [07. PyTorch Experiment Tracking section 7.5](https://www.learnpytorch.io/07_pytorch_experiment_tracking/#75-create-feature-extractor-models) using [`torchvision.models.efficientnet_b2()`](https://pytorch.org/vision/stable/models/generated/torchvision.models.efficientnet_b2.html#efficientnet-b2) with adjusted `classifier` layers.\n",
    "2. **ViT-B/16 feature extractor** (ViT for short) - originally created in [08. PyTorch Paper Replicating section 10](https://www.learnpytorch.io/08_pytorch_paper_replicating/#10-using-a-pretrained-vit-from-torchvisionmodels-on-the-same-dataset) using [`torchvision.models.vit_b_16()`](https://pytorch.org/vision/stable/models/generated/torchvision.models.vit_b_16.html#vit-b-16) with adjusted `head` layers.\n",
    "   - **Note** ViT-B/16 stands for \"Vision Transformer Base, patch size 16\".\n",
    "\n",
    "<img src=\"https://raw.githubusercontent.com/mrdbourke/pytorch-deep-learning/main/images/09-model-deployment-two-experiments.png\" alt=\"modelling experiments for foodvision mini deployments, one effnetb2 feature extractor model and a vision transformer feature extractor model\" width=750 />\n",
    "\n",
    "> **Note:** A \"feature extractor model\" often starts with a model that has been pretrained on a dataset similar to your own problem. The pretrained model's base layers are often left frozen (the pretrained patterns/weights stay the same) whilst some of the top (or classifier/classification head) layers get customized to your own problem by training on your own data. We covered the concept of a feature extractor model in [06. PyTorch Transfer Learning section 3.4](https://www.learnpytorch.io/06_pytorch_transfer_learning/#34-freezing-the-base-model-and-changing-the-output-layer-to-suit-our-needs).\n"
   ]
  },
  {
   "cell_type": "markdown",
   "id": "5f54cf53",
   "metadata": {},
   "source": [
    "## 3. Creating an EffNetB2 feature extractor\n",
    "\n",
    "We first created an EffNetB2 feature extractor model in [07. PyTorch Experiment Tracking section 7.5](https://www.learnpytorch.io/07_pytorch_experiment_tracking/#75-create-feature-extractor-models).\n",
    "\n",
    "And by the end of that section we saw it performed very well.\n",
    "\n",
    "So let's now recreate it here so we can compare its results to a ViT feature extractor trained on the same data.\n",
    "\n",
    "To do so we can:\n",
    "\n",
    "1. Setup the pretrained weights as [`weights=torchvision.models.EfficientNet_B2_Weights.DEFAULT`](https://pytorch.org/vision/stable/models/generated/torchvision.models.efficientnet_b2.html#torchvision.models.EfficientNet_B2_Weights), where \"`DEFAULT`\" means \"best currently available\" (or could use `weights=\"DEFAULT\"`).\n",
    "2. Get the pretrained model image transforms from the weights with the `transforms()` method (we need these so we can convert our images into the same format as the pretrained EffNetB2 was trained on).\n",
    "3. Create a pretrained model instance by passing the weights to an instance of [`torchvision.models.efficientnet_b2`](https://pytorch.org/vision/stable/models/generated/torchvision.models.efficientnet_b2.html#efficientnet-b2).\n",
    "4. Freeze the base layers in the model.\n",
    "5. Update the classifier head to suit our own data.\n"
   ]
  },
  {
   "cell_type": "code",
   "execution_count": 6,
   "id": "233b2892",
   "metadata": {},
   "outputs": [],
   "source": [
    "# 1. Setup pretrained EffNetB2 weights\n",
    "effnetb2_weights = torchvision.models.EfficientNet_B2_Weights.DEFAULT\n",
    "\n",
    "# 2. Get EffNetB2 transforms\n",
    "effnetb2_transforms = effnetb2_weights.transforms()\n",
    "\n",
    "# 3. Setup pretrained model\n",
    "effnetb2 = torchvision.models.efficientnet_b2(weights=\"DEFAULT\") # could also use weights=\"DEFAULT\"\n",
    "\n",
    "# 4. Freeze the base layers in the model (this will freeze all layers to begin with)\n",
    "for param in effnetb2.parameters():\n",
    "    param.requires_grad = False"
   ]
  },
  {
   "cell_type": "code",
   "execution_count": 7,
   "id": "b302ec4e",
   "metadata": {},
   "outputs": [
    {
     "data": {
      "text/plain": [
       "Sequential(\n",
       "  (0): Dropout(p=0.3, inplace=True)\n",
       "  (1): Linear(in_features=1408, out_features=1000, bias=True)\n",
       ")"
      ]
     },
     "execution_count": 7,
     "metadata": {},
     "output_type": "execute_result"
    }
   ],
   "source": [
    "effnetb2.classifier"
   ]
  },
  {
   "cell_type": "code",
   "execution_count": 8,
   "id": "ad90d4c0",
   "metadata": {},
   "outputs": [],
   "source": [
    "effnetb2.classifier = nn.Sequential(\n",
    "    nn.Dropout(p=0.3, inplace=True),\n",
    "    nn.Linear(in_features=1408, out_features=3, bias=True)\n",
    ")\n"
   ]
  },
  {
   "cell_type": "markdown",
   "id": "db64bd9a",
   "metadata": {},
   "source": [
    "### 3.1 Creating a function to make an EffNetB2 feature extractor\n",
    "\n",
    "Looks like our EffNetB2 feature extractor is ready to go, however, since there's quite a few steps involved here, how about we turn the code above into a function we can re-use later?\n",
    "\n",
    "We'll call it `create_effnetb2_model()` and it'll take a customizable number of classes and a random seed parameter for reproducibility.\n",
    "\n",
    "Ideally, it will return an EffNetB2 feature extractor along with its associated transforms.\n"
   ]
  },
  {
   "cell_type": "code",
   "execution_count": 12,
   "id": "5487e247",
   "metadata": {},
   "outputs": [],
   "source": [
    "def create_effnetb2_model(num_classes: int=3,\n",
    "                        seed: int=42):\n",
    "    \"\"\"Creates an EfficientNetB2 feature extractor model and transforms.\n",
    "\n",
    "    Args:\n",
    "        num_classes (int, optional): number of classes in the classifier head. \n",
    "            Defaults to 3.\n",
    "        seed (int, optional): random seed value. Defaults to 42.\n",
    "\n",
    "    Returns:\n",
    "        model (torch.nn.Module): EffNetB2 feature extractor model. \n",
    "        transforms (torchvision.transforms): EffNetB2 image transforms.\n",
    "    \"\"\"\n",
    "    # 1, 2, 3. Create EffNetB2 pretrained weights, transforms and model\n",
    "    weights = torchvision.models.EfficientNet_B2_Weights.DEFAULT\n",
    "    transforms = weights.transforms()\n",
    "    model = torchvision.models.efficientnet_b2(weights=weights)\n",
    "\n",
    "    # 4. Freeze all layers in base model\n",
    "    for param in model.parameters():\n",
    "        param.requires_grad = False\n",
    "        \n",
    "    torch.manual_seed(seed)\n",
    "    \n",
    "    # 5. Change classifier head with random seed for reproducibility\n",
    "    model.classifier = nn.Sequential(\n",
    "        nn.Dropout(p=0.3, inplace=True),\n",
    "        nn.Linear(in_features=1408, out_features=num_classes, bias=True)\n",
    "    )\n",
    "    \n",
    "    return model, transforms"
   ]
  },
  {
   "cell_type": "code",
   "execution_count": 13,
   "id": "fe8b0e4f",
   "metadata": {},
   "outputs": [
    {
     "data": {
      "text/plain": [
       "<All keys matched successfully>"
      ]
     },
     "execution_count": 13,
     "metadata": {},
     "output_type": "execute_result"
    }
   ],
   "source": [
    "effnetb2, effnetb2_transforms = create_effnetb2_model()\n",
    "\n",
    "effnetb2.load_state_dict(torch.load(\"models/09_pretrained_effnetb2_feature_extractor_pizza_steak_sushi_20_percent.pth\"))"
   ]
  },
  {
   "cell_type": "code",
   "execution_count": 11,
   "id": "b1ffb6ca",
   "metadata": {},
   "outputs": [
    {
     "data": {
      "text/plain": [
       "============================================================================================================================================\n",
       "Layer (type (var_name))                                      Input Shape          Output Shape         Param #              Trainable\n",
       "============================================================================================================================================\n",
       "EfficientNet (EfficientNet)                                  [1, 3, 224, 224]     [1, 3]               --                   Partial\n",
       "├─Sequential (features)                                      [1, 3, 224, 224]     [1, 1408, 7, 7]      --                   False\n",
       "│    └─Conv2dNormActivation (0)                              [1, 3, 224, 224]     [1, 32, 112, 112]    --                   False\n",
       "│    │    └─Conv2d (0)                                       [1, 3, 224, 224]     [1, 32, 112, 112]    (864)                False\n",
       "│    │    └─BatchNorm2d (1)                                  [1, 32, 112, 112]    [1, 32, 112, 112]    (64)                 False\n",
       "│    │    └─SiLU (2)                                         [1, 32, 112, 112]    [1, 32, 112, 112]    --                   --\n",
       "│    └─Sequential (1)                                        [1, 32, 112, 112]    [1, 16, 112, 112]    --                   False\n",
       "│    │    └─MBConv (0)                                       [1, 32, 112, 112]    [1, 16, 112, 112]    (1,448)              False\n",
       "│    │    └─MBConv (1)                                       [1, 16, 112, 112]    [1, 16, 112, 112]    (612)                False\n",
       "│    └─Sequential (2)                                        [1, 16, 112, 112]    [1, 24, 56, 56]      --                   False\n",
       "│    │    └─MBConv (0)                                       [1, 16, 112, 112]    [1, 24, 56, 56]      (6,004)              False\n",
       "│    │    └─MBConv (1)                                       [1, 24, 56, 56]      [1, 24, 56, 56]      (10,710)             False\n",
       "│    │    └─MBConv (2)                                       [1, 24, 56, 56]      [1, 24, 56, 56]      (10,710)             False\n",
       "│    └─Sequential (3)                                        [1, 24, 56, 56]      [1, 48, 28, 28]      --                   False\n",
       "│    │    └─MBConv (0)                                       [1, 24, 56, 56]      [1, 48, 28, 28]      (16,518)             False\n",
       "│    │    └─MBConv (1)                                       [1, 48, 28, 28]      [1, 48, 28, 28]      (43,308)             False\n",
       "│    │    └─MBConv (2)                                       [1, 48, 28, 28]      [1, 48, 28, 28]      (43,308)             False\n",
       "│    └─Sequential (4)                                        [1, 48, 28, 28]      [1, 88, 14, 14]      --                   False\n",
       "│    │    └─MBConv (0)                                       [1, 48, 28, 28]      [1, 88, 14, 14]      (50,300)             False\n",
       "│    │    └─MBConv (1)                                       [1, 88, 14, 14]      [1, 88, 14, 14]      (123,750)            False\n",
       "│    │    └─MBConv (2)                                       [1, 88, 14, 14]      [1, 88, 14, 14]      (123,750)            False\n",
       "│    │    └─MBConv (3)                                       [1, 88, 14, 14]      [1, 88, 14, 14]      (123,750)            False\n",
       "│    └─Sequential (5)                                        [1, 88, 14, 14]      [1, 120, 14, 14]     --                   False\n",
       "│    │    └─MBConv (0)                                       [1, 88, 14, 14]      [1, 120, 14, 14]     (149,158)            False\n",
       "│    │    └─MBConv (1)                                       [1, 120, 14, 14]     [1, 120, 14, 14]     (237,870)            False\n",
       "│    │    └─MBConv (2)                                       [1, 120, 14, 14]     [1, 120, 14, 14]     (237,870)            False\n",
       "│    │    └─MBConv (3)                                       [1, 120, 14, 14]     [1, 120, 14, 14]     (237,870)            False\n",
       "│    └─Sequential (6)                                        [1, 120, 14, 14]     [1, 208, 7, 7]       --                   False\n",
       "│    │    └─MBConv (0)                                       [1, 120, 14, 14]     [1, 208, 7, 7]       (301,406)            False\n",
       "│    │    └─MBConv (1)                                       [1, 208, 7, 7]       [1, 208, 7, 7]       (686,868)            False\n",
       "│    │    └─MBConv (2)                                       [1, 208, 7, 7]       [1, 208, 7, 7]       (686,868)            False\n",
       "│    │    └─MBConv (3)                                       [1, 208, 7, 7]       [1, 208, 7, 7]       (686,868)            False\n",
       "│    │    └─MBConv (4)                                       [1, 208, 7, 7]       [1, 208, 7, 7]       (686,868)            False\n",
       "│    └─Sequential (7)                                        [1, 208, 7, 7]       [1, 352, 7, 7]       --                   False\n",
       "│    │    └─MBConv (0)                                       [1, 208, 7, 7]       [1, 352, 7, 7]       (846,900)            False\n",
       "│    │    └─MBConv (1)                                       [1, 352, 7, 7]       [1, 352, 7, 7]       (1,888,920)          False\n",
       "│    └─Conv2dNormActivation (8)                              [1, 352, 7, 7]       [1, 1408, 7, 7]      --                   False\n",
       "│    │    └─Conv2d (0)                                       [1, 352, 7, 7]       [1, 1408, 7, 7]      (495,616)            False\n",
       "│    │    └─BatchNorm2d (1)                                  [1, 1408, 7, 7]      [1, 1408, 7, 7]      (2,816)              False\n",
       "│    │    └─SiLU (2)                                         [1, 1408, 7, 7]      [1, 1408, 7, 7]      --                   --\n",
       "├─AdaptiveAvgPool2d (avgpool)                                [1, 1408, 7, 7]      [1, 1408, 1, 1]      --                   --\n",
       "├─Sequential (classifier)                                    [1, 1408]            [1, 3]               --                   True\n",
       "│    └─Dropout (0)                                           [1, 1408]            [1, 1408]            --                   --\n",
       "│    └─Linear (1)                                            [1, 1408]            [1, 3]               4,227                True\n",
       "============================================================================================================================================\n",
       "Total params: 7,705,221\n",
       "Trainable params: 4,227\n",
       "Non-trainable params: 7,700,994\n",
       "Total mult-adds (M): 657.64\n",
       "============================================================================================================================================\n",
       "Input size (MB): 0.60\n",
       "Forward/backward pass size (MB): 156.80\n",
       "Params size (MB): 30.82\n",
       "Estimated Total Size (MB): 188.22\n",
       "============================================================================================================================================"
      ]
     },
     "execution_count": 11,
     "metadata": {},
     "output_type": "execute_result"
    }
   ],
   "source": [
    "from torchinfo import summary\n",
    "\n",
    "# Print EffNetB2 model summary (uncomment for full output) \n",
    "summary(effnetb2, \n",
    "        input_size=(1, 3, 224, 224),\n",
    "        col_names=[\"input_size\", \"output_size\", \"num_params\", \"trainable\"],\n",
    "        col_width=20,\n",
    "        row_settings=[\"var_names\"])"
   ]
  },
  {
   "cell_type": "markdown",
   "id": "3a24a27f",
   "metadata": {},
   "source": [
    "### 3.2 Creating DataLoaders for EffNetB2\n",
    "\n",
    "Our EffNetB2 feature extractor is ready, time to create some `DataLoader`s.\n",
    "\n",
    "We can do this by using the [`data_setup.create_dataloaders()`](https://github.com/mrdbourke/pytorch-deep-learning/blob/main/going_modular/going_modular/data_setup.py) function we created in [05. PyTorch Going Modular section 2](https://www.learnpytorch.io/05_pytorch_going_modular/#2-create-datasets-and-dataloaders-data_setuppy).\n",
    "\n",
    "We'll use a `batch_size` of 32 and transform our images using the `effnetb2_transforms` so they're in the same format that our `effnetb2` model was trained on.\n"
   ]
  },
  {
   "cell_type": "code",
   "execution_count": 12,
   "id": "c3a558ea",
   "metadata": {},
   "outputs": [
    {
     "data": {
      "text/plain": [
       "(<torch.utils.data.dataloader.DataLoader at 0x20aa381c0a0>,\n",
       " <torch.utils.data.dataloader.DataLoader at 0x20aa381f670>,\n",
       " ['pizza', 'steak', 'sushi'])"
      ]
     },
     "execution_count": 12,
     "metadata": {},
     "output_type": "execute_result"
    }
   ],
   "source": [
    "from going_modular import data_setup\n",
    "\n",
    "train_loader, test_loader, class_names = data_setup.create_dataloader(train_dir=TRAIN_DIR,\n",
    "                                                                    test_dir=TEST_DIR,\n",
    "                                                                    transform= effnetb2_transforms,\n",
    "                                                                    batch_size=32,)\n",
    "\n",
    "train_loader, test_loader, class_names"
   ]
  },
  {
   "cell_type": "markdown",
   "id": "18767ab3",
   "metadata": {},
   "source": [
    "### 3.3 Training EffNetB2 feature extractor\n",
    "\n",
    "Model ready, `DataLoader`s ready, let's train!\n",
    "\n",
    "Just like in [07. PyTorch Experiment Tracking section 7.6](https://www.learnpytorch.io/07_pytorch_experiment_tracking/#76-create-experiments-and-set-up-training-code), ten epochs should be enough to get good results.\n",
    "\n",
    "We can do so by creating an optimizer (we'll use [`torch.optim.Adam()`](https://pytorch.org/docs/stable/generated/torch.optim.Adam.html#torch.optim.Adam) with a learning rate of `1e-3`), a loss function (we'll use [`torch.nn.CrossEntropyLoss()`](https://pytorch.org/docs/stable/generated/torch.nn.CrossEntropyLoss.html) for multi-class classification) and then passing these as well as our `DataLoader`s to the [`engine.train()`](https://github.com/mrdbourke/pytorch-deep-learning/blob/main/going_modular/going_modular/engine.py) function we created in [05. PyTorch Going Modular section 4](https://www.learnpytorch.io/05_pytorch_going_modular/#4-creating-train_step-and-test_step-functions-and-train-to-combine-them).\n"
   ]
  },
  {
   "cell_type": "code",
   "execution_count": 13,
   "id": "cf95dc72",
   "metadata": {},
   "outputs": [
    {
     "data": {
      "application/vnd.jupyter.widget-view+json": {
       "model_id": "41d960115e794a7f8a809234c7cb25eb",
       "version_major": 2,
       "version_minor": 0
      },
      "text/plain": [
       "  0%|          | 0/10 [00:00<?, ?it/s]"
      ]
     },
     "metadata": {},
     "output_type": "display_data"
    },
    {
     "name": "stdout",
     "output_type": "stream",
     "text": [
      "Looked at 0/450 samples\n",
      "Looked at 64/450 samples\n",
      "Looked at 128/450 samples\n",
      "Looked at 192/450 samples\n",
      "Looked at 256/450 samples\n",
      "Looked at 320/450 samples\n",
      "Looked at 384/450 samples\n",
      "Looked at 28/450 samples\n",
      "\n",
      "\n",
      "\u001b[91m======================================================\u001b[0m\n",
      "\u001b[94mTrain loss: 0.96962 | Train accuracy: 53.33%\u001b[0m\n",
      "\u001b[92mTest loss: 0.72201 | Test accuracy: 94.67%\u001b[0m\n",
      "\u001b[91m======================================================\u001b[0m\n",
      "\n",
      "\n",
      "Looked at 0/450 samples\n",
      "Looked at 64/450 samples\n",
      "Looked at 128/450 samples\n",
      "Looked at 192/450 samples\n",
      "Looked at 256/450 samples\n",
      "Looked at 320/450 samples\n",
      "Looked at 384/450 samples\n",
      "Looked at 28/450 samples\n",
      "\n",
      "\n",
      "\u001b[91m======================================================\u001b[0m\n",
      "\u001b[94mTrain loss: 0.70825 | Train accuracy: 86.22%\u001b[0m\n",
      "\u001b[92mTest loss: 0.56852 | Test accuracy: 94.67%\u001b[0m\n",
      "\u001b[91m======================================================\u001b[0m\n",
      "\n",
      "\n",
      "Looked at 0/450 samples\n",
      "Looked at 64/450 samples\n",
      "Looked at 128/450 samples\n",
      "Looked at 192/450 samples\n",
      "Looked at 256/450 samples\n",
      "Looked at 320/450 samples\n",
      "Looked at 384/450 samples\n",
      "Looked at 28/450 samples\n",
      "\n",
      "\n",
      "\u001b[91m======================================================\u001b[0m\n",
      "\u001b[94mTrain loss: 0.55826 | Train accuracy: 86.67%\u001b[0m\n",
      "\u001b[92mTest loss: 0.48725 | Test accuracy: 92.67%\u001b[0m\n",
      "\u001b[91m======================================================\u001b[0m\n",
      "\n",
      "\n",
      "Looked at 0/450 samples\n",
      "Looked at 64/450 samples\n",
      "Looked at 128/450 samples\n",
      "Looked at 192/450 samples\n",
      "Looked at 256/450 samples\n",
      "Looked at 320/450 samples\n",
      "Looked at 384/450 samples\n",
      "Looked at 28/450 samples\n",
      "\n",
      "\n",
      "\u001b[91m======================================================\u001b[0m\n",
      "\u001b[94mTrain loss: 0.50473 | Train accuracy: 90.67%\u001b[0m\n",
      "\u001b[92mTest loss: 0.41583 | Test accuracy: 94.67%\u001b[0m\n",
      "\u001b[91m======================================================\u001b[0m\n",
      "\n",
      "\n",
      "Looked at 0/450 samples\n",
      "Looked at 64/450 samples\n",
      "Looked at 128/450 samples\n",
      "Looked at 192/450 samples\n",
      "Looked at 256/450 samples\n",
      "Looked at 320/450 samples\n",
      "Looked at 384/450 samples\n",
      "Looked at 28/450 samples\n",
      "\n",
      "\n",
      "\u001b[91m======================================================\u001b[0m\n",
      "\u001b[94mTrain loss: 0.43350 | Train accuracy: 87.78%\u001b[0m\n",
      "\u001b[92mTest loss: 0.37076 | Test accuracy: 96.00%\u001b[0m\n",
      "\u001b[91m======================================================\u001b[0m\n",
      "\n",
      "\n",
      "Looked at 0/450 samples\n",
      "Looked at 64/450 samples\n",
      "Looked at 128/450 samples\n",
      "Looked at 192/450 samples\n",
      "Looked at 256/450 samples\n",
      "Looked at 320/450 samples\n",
      "Looked at 384/450 samples\n",
      "Looked at 28/450 samples\n",
      "\n",
      "\n",
      "\u001b[91m======================================================\u001b[0m\n",
      "\u001b[94mTrain loss: 0.43328 | Train accuracy: 91.33%\u001b[0m\n",
      "\u001b[92mTest loss: 0.34257 | Test accuracy: 93.33%\u001b[0m\n",
      "\u001b[91m======================================================\u001b[0m\n",
      "\n",
      "\n",
      "Looked at 0/450 samples\n",
      "Looked at 64/450 samples\n",
      "Looked at 128/450 samples\n",
      "Looked at 192/450 samples\n",
      "Looked at 256/450 samples\n",
      "Looked at 320/450 samples\n",
      "Looked at 384/450 samples\n",
      "Looked at 28/450 samples\n",
      "\n",
      "\n",
      "\u001b[91m======================================================\u001b[0m\n",
      "\u001b[94mTrain loss: 0.35526 | Train accuracy: 90.89%\u001b[0m\n",
      "\u001b[92mTest loss: 0.32481 | Test accuracy: 95.33%\u001b[0m\n",
      "\u001b[91m======================================================\u001b[0m\n",
      "\n",
      "\n",
      "Looked at 0/450 samples\n",
      "Looked at 64/450 samples\n",
      "Looked at 128/450 samples\n",
      "Looked at 192/450 samples\n",
      "Looked at 256/450 samples\n",
      "Looked at 320/450 samples\n",
      "Looked at 384/450 samples\n",
      "Looked at 28/450 samples\n",
      "\n",
      "\n",
      "\u001b[91m======================================================\u001b[0m\n",
      "\u001b[94mTrain loss: 0.34413 | Train accuracy: 89.33%\u001b[0m\n",
      "\u001b[92mTest loss: 0.33753 | Test accuracy: 92.67%\u001b[0m\n",
      "\u001b[91m======================================================\u001b[0m\n",
      "\n",
      "\n",
      "Looked at 0/450 samples\n",
      "Looked at 64/450 samples\n",
      "Looked at 128/450 samples\n",
      "Looked at 192/450 samples\n",
      "Looked at 256/450 samples\n",
      "Looked at 320/450 samples\n",
      "Looked at 384/450 samples\n",
      "Looked at 28/450 samples\n",
      "\n",
      "\n",
      "\u001b[91m======================================================\u001b[0m\n",
      "\u001b[94mTrain loss: 0.40144 | Train accuracy: 90.67%\u001b[0m\n",
      "\u001b[92mTest loss: 0.28614 | Test accuracy: 96.00%\u001b[0m\n",
      "\u001b[91m======================================================\u001b[0m\n",
      "\n",
      "\n",
      "Looked at 0/450 samples\n",
      "Looked at 64/450 samples\n",
      "Looked at 128/450 samples\n",
      "Looked at 192/450 samples\n",
      "Looked at 256/450 samples\n",
      "Looked at 320/450 samples\n",
      "Looked at 384/450 samples\n",
      "Looked at 28/450 samples\n",
      "\n",
      "\n",
      "\u001b[91m======================================================\u001b[0m\n",
      "\u001b[94mTrain loss: 0.31204 | Train accuracy: 91.33%\u001b[0m\n",
      "\u001b[92mTest loss: 0.26890 | Test accuracy: 94.67%\u001b[0m\n",
      "\u001b[91m======================================================\u001b[0m\n",
      "\n",
      "\n"
     ]
    }
   ],
   "source": [
    "from going_modular import engine\n",
    "\n",
    "optimizer = torch.optim.Adam(params=effnetb2.parameters(),\n",
    "                            lr = 1e-3)\n",
    "\n",
    "loss_fn = nn.CrossEntropyLoss()\n",
    "\n",
    "effnetb2_results = engine.train(model= effnetb2,\n",
    "                                train_dataloader= train_loader,\n",
    "                                test_dataloader= test_loader,\n",
    "                                optimizer= optimizer,\n",
    "                                loss_fn= loss_fn,\n",
    "                                epochs = 10,\n",
    "                                device=device)"
   ]
  },
  {
   "cell_type": "markdown",
   "id": "d6db43f0",
   "metadata": {},
   "source": [
    "### 3.4 Inspecting EffNetB2 loss curves\n",
    "\n",
    "Nice!\n",
    "\n",
    "As we saw in 07. PyTorch Experiment Tracking, the EffNetB2 feature extractor model works quite well on our data.\n",
    "\n",
    "Let's turn its results into loss curves to inspect them further.\n",
    "\n",
    "> **Note:** Loss curves are one of the best ways to visualize how your model's performing. For more on loss curves, check out [04. PyTorch Custom Datasets section 8: What should an ideal loss curve look like?](https://www.learnpytorch.io/04_pytorch_custom_datasets/#8-what-should-an-ideal-loss-curve-look-like)\n"
   ]
  },
  {
   "cell_type": "code",
   "execution_count": 14,
   "id": "2a9f1856",
   "metadata": {},
   "outputs": [
    {
     "data": {
      "image/png": "[encoded data removed]",
      "text/plain": [
       "<Figure size 1500x700 with 2 Axes>"
      ]
     },
     "metadata": {},
     "output_type": "display_data"
    }
   ],
   "source": [
    "from going_modular.helper_functions import plot_loss_curves\n",
    "\n",
    "plot_loss_curves(effnetb2_results)"
   ]
  },
  {
   "cell_type": "markdown",
   "id": "32de33e1",
   "metadata": {},
   "source": [
    "### 3.5 Saving EffNetB2 feature extractor\n",
    "\n",
    "Now we've got a well-performing trained model, let's save it to file so we can import and use it later.\n",
    "\n",
    "To save our model we can use the [`utils.save_model()`](https://github.com/mrdbourke/pytorch-deep-learning/blob/main/going_modular/going_modular/utils.py) function we created in [05. PyTorch Going Modular section 5](https://www.learnpytorch.io/05_pytorch_going_modular/#5-creating-a-function-to-save-the-model-utilspy).\n",
    "\n",
    "We'll set the `target_dir` to `\"models\"` and the `model_name` to `\"09_pretrained_effnetb2_feature_extractor_pizza_steak_sushi_20_percent.pth\"` (a little comprehensive but at least we know what's going on).\n"
   ]
  },
  {
   "cell_type": "code",
   "execution_count": 15,
   "id": "239f2d99",
   "metadata": {},
   "outputs": [
    {
     "name": "stdout",
     "output_type": "stream",
     "text": [
      "[INFO] ✅ Model saved to: models\\09_pretrained_effnetb2_feature_extractor_pizza_steak_sushi_20_percent.pth\n"
     ]
    }
   ],
   "source": [
    "from going_modular.utils import save_model\n",
    "\n",
    "save_model(model= effnetb2, target_dir= \"models\", model_name=\"09_pretrained_effnetb2_feature_extractor_pizza_steak_sushi_20_percent.pth\")"
   ]
  },
  {
   "cell_type": "markdown",
   "id": "c43ae641",
   "metadata": {},
   "source": [
    "### 3.6 Checking the size of EffNetB2 feature extractor\n",
    "\n",
    "Since one of our criteria for deploying a model to power FoodVision Mini is **speed** (~30FPS or better), let's check the size of our model.\n",
    "\n",
    "Why check the size?\n",
    "\n",
    "Well, while not always the case, the size of a model can influence its inference speed.\n",
    "\n",
    "As in, if a model has more parameters, it generally performs more operations and each one of these operations requires some computing power.\n",
    "\n",
    "And because we'd like our model to work on devices with limited computing power (e.g. on a mobile device or in a web browser), generally, the smaller the size the better (as long as it still performs well in terms of accuracy).\n",
    "\n",
    "To check our model's size in bytes, we can use Python's [`pathlib.Path.stat(\"path_to_model\").st_size`](https://docs.python.org/3/library/pathlib.html#pathlib.Path.stat) and then we can convert it (roughly) to megabytes by dividing it by `(1024*1024)`.\n"
   ]
  },
  {
   "cell_type": "code",
   "execution_count": 16,
   "id": "19119d4d",
   "metadata": {},
   "outputs": [
    {
     "name": "stdout",
     "output_type": "stream",
     "text": [
      "Pretrained EffNetB2 feature extractor model size: 29 MB\n"
     ]
    }
   ],
   "source": [
    "from pathlib import Path\n",
    "\n",
    "# Get the model size in bytes then convert to megabytes\n",
    "pretrained_effnetb2_model_size = Path(\"models/09_pretrained_effnetb2_feature_extractor_pizza_steak_sushi_20_percent.pth\").stat().st_size // (1024*1024) # division converts bytes to megabytes (roughly) \n",
    "print(f\"Pretrained EffNetB2 feature extractor model size: {pretrained_effnetb2_model_size} MB\")\n"
   ]
  },
  {
   "cell_type": "markdown",
   "id": "d5f6ed6d",
   "metadata": {},
   "source": [
    "### 3.7 Collecting EffNetB2 feature extractor stats\n",
    "\n",
    "We've got a few statistics about our EffNetB2 feature extractor model such as test loss, test accuracy and model size, how about we collect them all in a dictionary so we can compare them to the upcoming ViT feature extractor.\n",
    "\n",
    "And we'll calculate an extra one for fun, total number of parameters.\n",
    "\n",
    "We can do so by counting the number of elements (or patterns/weights) in `effnetb2.parameters()`. We'll access the number of elements in each parameter using the [`torch.numel()`](https://pytorch.org/docs/stable/generated/torch.numel.html) (short for \"number of elements\") method.\n"
   ]
  },
  {
   "cell_type": "code",
   "execution_count": 17,
   "id": "4ab1522b",
   "metadata": {},
   "outputs": [
    {
     "data": {
      "text/plain": [
       "7705221"
      ]
     },
     "execution_count": 17,
     "metadata": {},
     "output_type": "execute_result"
    }
   ],
   "source": [
    "effnetb2_total_params = sum(torch.numel(param) for param in effnetb2.parameters())\n",
    "effnetb2_total_params"
   ]
  },
  {
   "cell_type": "code",
   "execution_count": 19,
   "id": "0362ee61",
   "metadata": {},
   "outputs": [
    {
     "data": {
      "text/plain": [
       "{'test_loss': 0.27,\n",
       " 'test_acc': 94.67,\n",
       " 'number_of_parameters': 7705221,\n",
       " 'model_size (MB)': 29}"
      ]
     },
     "execution_count": 19,
     "metadata": {},
     "output_type": "execute_result"
    }
   ],
   "source": [
    "# Create a dictionary with EffNetB2 statistics\n",
    "effnetb2_stats = {\"test_loss\": round(effnetb2_results[\"test_loss\"][-1], 2),\n",
    "                    \"test_acc\": round(effnetb2_results[\"test_acc\"][-1], 2),\n",
    "                    \"number_of_parameters\": effnetb2_total_params,\n",
    "                    \"model_size (MB)\": pretrained_effnetb2_model_size}\n",
    "effnetb2_stats"
   ]
  },
  {
   "cell_type": "markdown",
   "id": "e28e0bec",
   "metadata": {},
   "source": [
    "## 4. Creating a ViT feature extractor\n",
    "\n",
    "Time to continue with our FoodVision Mini modelling experiments.\n",
    "\n",
    "This time we're going to create a ViT feature extractor.\n",
    "\n",
    "And we'll do it in much the same way as the EffNetB2 feature extractor except this time with [`torchvision.models.vit_b_16()`](https://pytorch.org/vision/stable/models/generated/torchvision.models.vit_b_16.html#torchvision.models.vit_b_16) instead of `torchvision.models.efficientnet_b2()`.\n",
    "\n",
    "We'll start by creating a function called `create_vit_model()` which will be very similar to `create_effnetb2_model()` except of course returning a ViT feature extractor model and transforms rather than EffNetB2.\n",
    "\n",
    "Another slight difference is that `torchvision.models.vit_b_16()`'s output layer is called `heads` rather than `classifier`.\n"
   ]
  },
  {
   "cell_type": "code",
   "execution_count": 7,
   "id": "84cc0948",
   "metadata": {},
   "outputs": [
    {
     "data": {
      "text/plain": [
       "Sequential(\n",
       "  (head): Linear(in_features=768, out_features=1000, bias=True)\n",
       ")"
      ]
     },
     "execution_count": 7,
     "metadata": {},
     "output_type": "execute_result"
    }
   ],
   "source": [
    "vit = torchvision.models.vit_b_16()\n",
    "vit.heads"
   ]
  },
  {
   "cell_type": "code",
   "execution_count": 15,
   "id": "afdd56eb",
   "metadata": {},
   "outputs": [],
   "source": [
    "import torchvision\n",
    "from torch import nn\n",
    "\n",
    "def create_vit_model(num_classes: int=3,\n",
    "                    seed: int = 42):\n",
    "    \"\"\"Creates a ViT-B/16 feature extractor model and transforms.\n",
    "\n",
    "    Args:\n",
    "        num_classes (int, optional): number of target classes. Defaults to 3.\n",
    "        seed (int, optional): random seed value for output layer. Defaults to 42.\n",
    "\n",
    "    Returns:\n",
    "        model (torch.nn.Module): ViT-B/16 feature extractor model. \n",
    "        transforms (torchvision.transforms): ViT-B/16 image transforms.\n",
    "    \"\"\"\n",
    "    # Create ViT_B_16 pretrained weights, transforms and model\n",
    "    weights = torchvision.models.ViT_B_16_Weights.DEFAULT\n",
    "    transforms = weights.transforms()\n",
    "    model = torchvision.models.vit_b_16(weights = \"DEFAULT\")\n",
    "    \n",
    "    for param in model.parameters():\n",
    "        param.requires_grad = False\n",
    "        \n",
    "    model.heads = nn.Linear(in_features=768, out_features=num_classes, bias=True)\n",
    "    \n",
    "    return model, transforms"
   ]
  },
  {
   "cell_type": "code",
   "execution_count": null,
   "id": "81081ef2",
   "metadata": {},
   "outputs": [],
   "source": [
    "import torch\n",
    "\n",
    "vit, vit_transforms = create_vit_model()\n",
    "vit.load_state_dict(torch.load(\"models/09_pretrained_vit_feature_extractor_pizza_steak_sushi_20_percent.pth\"))"
   ]
  },
  {
   "cell_type": "code",
   "execution_count": 17,
   "id": "eab069c8",
   "metadata": {},
   "outputs": [
    {
     "data": {
      "text/plain": [
       "============================================================================================================================================\n",
       "Layer (type (var_name))                                      Input Shape          Output Shape         Param #              Trainable\n",
       "============================================================================================================================================\n",
       "VisionTransformer (VisionTransformer)                        [1, 3, 224, 224]     [1, 3]               768                  Partial\n",
       "├─Conv2d (conv_proj)                                         [1, 3, 224, 224]     [1, 768, 14, 14]     (590,592)            False\n",
       "├─Encoder (encoder)                                          [1, 197, 768]        [1, 197, 768]        151,296              False\n",
       "│    └─Dropout (dropout)                                     [1, 197, 768]        [1, 197, 768]        --                   --\n",
       "│    └─Sequential (layers)                                   [1, 197, 768]        [1, 197, 768]        --                   False\n",
       "│    │    └─EncoderBlock (encoder_layer_0)                   [1, 197, 768]        [1, 197, 768]        (7,087,872)          False\n",
       "│    │    └─EncoderBlock (encoder_layer_1)                   [1, 197, 768]        [1, 197, 768]        (7,087,872)          False\n",
       "│    │    └─EncoderBlock (encoder_layer_2)                   [1, 197, 768]        [1, 197, 768]        (7,087,872)          False\n",
       "│    │    └─EncoderBlock (encoder_layer_3)                   [1, 197, 768]        [1, 197, 768]        (7,087,872)          False\n",
       "│    │    └─EncoderBlock (encoder_layer_4)                   [1, 197, 768]        [1, 197, 768]        (7,087,872)          False\n",
       "│    │    └─EncoderBlock (encoder_layer_5)                   [1, 197, 768]        [1, 197, 768]        (7,087,872)          False\n",
       "│    │    └─EncoderBlock (encoder_layer_6)                   [1, 197, 768]        [1, 197, 768]        (7,087,872)          False\n",
       "│    │    └─EncoderBlock (encoder_layer_7)                   [1, 197, 768]        [1, 197, 768]        (7,087,872)          False\n",
       "│    │    └─EncoderBlock (encoder_layer_8)                   [1, 197, 768]        [1, 197, 768]        (7,087,872)          False\n",
       "│    │    └─EncoderBlock (encoder_layer_9)                   [1, 197, 768]        [1, 197, 768]        (7,087,872)          False\n",
       "│    │    └─EncoderBlock (encoder_layer_10)                  [1, 197, 768]        [1, 197, 768]        (7,087,872)          False\n",
       "│    │    └─EncoderBlock (encoder_layer_11)                  [1, 197, 768]        [1, 197, 768]        (7,087,872)          False\n",
       "│    └─LayerNorm (ln)                                        [1, 197, 768]        [1, 197, 768]        (1,536)              False\n",
       "├─Linear (heads)                                             [1, 768]             [1, 3]               2,307                True\n",
       "============================================================================================================================================\n",
       "Total params: 85,800,963\n",
       "Trainable params: 2,307\n",
       "Non-trainable params: 85,798,656\n",
       "Total mult-adds (M): 172.47\n",
       "============================================================================================================================================\n",
       "Input size (MB): 0.60\n",
       "Forward/backward pass size (MB): 104.09\n",
       "Params size (MB): 229.20\n",
       "Estimated Total Size (MB): 333.89\n",
       "============================================================================================================================================"
      ]
     },
     "execution_count": 17,
     "metadata": {},
     "output_type": "execute_result"
    }
   ],
   "source": [
    "from torchinfo import summary\n",
    "\n",
    "# Print ViT feature extractor model summary (uncomment for full output)\n",
    "summary(vit, \n",
    "        input_size=(1, 3, 224, 224),\n",
    "        col_names=[\"input_size\", \"output_size\", \"num_params\", \"trainable\"],\n",
    "        col_width=20,\n",
    "        row_settings=[\"var_names\"])"
   ]
  },
  {
   "cell_type": "markdown",
   "id": "43c4ae7f",
   "metadata": {},
   "source": [
    "### 4.1 Create DataLoaders for ViT\n",
    "\n",
    "We've got our ViT model ready, now let's create some `DataLoader`s for it.\n",
    "\n",
    "We'll do this in the same way we did for EffNetB2 except we'll use `vit_transforms` to transform our images into the same format the ViT model was trained on.\n"
   ]
  },
  {
   "cell_type": "code",
   "execution_count": 18,
   "id": "4983cd2c",
   "metadata": {},
   "outputs": [
    {
     "data": {
      "text/plain": [
       "(<torch.utils.data.dataloader.DataLoader at 0x2061b9cb310>,\n",
       " <torch.utils.data.dataloader.DataLoader at 0x2061b9cb5b0>,\n",
       " ['pizza', 'steak', 'sushi'])"
      ]
     },
     "execution_count": 18,
     "metadata": {},
     "output_type": "execute_result"
    }
   ],
   "source": [
    "from going_modular.data_setup import create_dataloader\n",
    "\n",
    "train_loader_vit, test_loader_vit, class_names = create_dataloader(train_dir=TRAIN_DIR,\n",
    "                                                            test_dir= TEST_DIR,\n",
    "                                                            transform= vit_transforms,\n",
    "                                                            batch_size=32)\n",
    "\n",
    "train_loader_vit, test_loader_vit, class_names"
   ]
  },
  {
   "cell_type": "markdown",
   "id": "4f87814a",
   "metadata": {},
   "source": [
    "### 4.2 Training ViT feature extractor\n",
    "\n",
    "You know what time it is...\n",
    "\n",
    "...it's traininggggggg time (sung in the same tune as the song [Closing Time](https://youtu.be/xGytDsqkQY8)).\n",
    "\n",
    "Let's train our ViT feature extractor model for 10 epochs using our `engine.train()` function with `torch.optim.Adam()` and a learning rate of `1e-3` as our optimizer and `torch.nn.CrossEntropyLoss()` as our loss function.\n",
    "\n",
    "We'll use our `set_seeds()` function before training to try and make our results as reproducible as possible.\n"
   ]
  },
  {
   "cell_type": "code",
   "execution_count": 19,
   "id": "25514d09",
   "metadata": {},
   "outputs": [
    {
     "data": {
      "application/vnd.jupyter.widget-view+json": {
       "model_id": "b0a6cd673c274a23af7cdca531ad66b4",
       "version_major": 2,
       "version_minor": 0
      },
      "text/plain": [
       "  0%|          | 0/10 [00:00<?, ?it/s]"
      ]
     },
     "metadata": {},
     "output_type": "display_data"
    },
    {
     "name": "stdout",
     "output_type": "stream",
     "text": [
      "Looked at 0/450 samples\n",
      "Looked at 64/450 samples\n",
      "Looked at 128/450 samples\n",
      "Looked at 192/450 samples\n",
      "Looked at 256/450 samples\n",
      "Looked at 320/450 samples\n",
      "Looked at 384/450 samples\n",
      "Looked at 28/450 samples\n",
      "\n",
      "\n",
      "\u001b[91m======================================================\u001b[0m\n",
      "\u001b[94mTrain loss: 0.52932 | Train accuracy: 83.56%\u001b[0m\n",
      "\u001b[92mTest loss: 0.20319 | Test accuracy: 97.33%\u001b[0m\n",
      "\u001b[91m======================================================\u001b[0m\n",
      "\n",
      "\n",
      "Looked at 0/450 samples\n",
      "Looked at 64/450 samples\n",
      "Looked at 128/450 samples\n",
      "Looked at 192/450 samples\n",
      "Looked at 256/450 samples\n",
      "Looked at 320/450 samples\n",
      "Looked at 384/450 samples\n",
      "Looked at 28/450 samples\n",
      "\n",
      "\n",
      "\u001b[91m======================================================\u001b[0m\n",
      "\u001b[94mTrain loss: 0.22708 | Train accuracy: 94.22%\u001b[0m\n",
      "\u001b[92mTest loss: 0.11029 | Test accuracy: 98.67%\u001b[0m\n",
      "\u001b[91m======================================================\u001b[0m\n",
      "\n",
      "\n",
      "Looked at 0/450 samples\n",
      "Looked at 64/450 samples\n",
      "Looked at 128/450 samples\n",
      "Looked at 192/450 samples\n",
      "Looked at 256/450 samples\n",
      "Looked at 320/450 samples\n",
      "Looked at 384/450 samples\n",
      "Looked at 28/450 samples\n",
      "\n",
      "\n",
      "\u001b[91m======================================================\u001b[0m\n",
      "\u001b[94mTrain loss: 0.14095 | Train accuracy: 95.56%\u001b[0m\n",
      "\u001b[92mTest loss: 0.09547 | Test accuracy: 99.33%\u001b[0m\n",
      "\u001b[91m======================================================\u001b[0m\n",
      "\n",
      "\n",
      "Looked at 0/450 samples\n",
      "Looked at 64/450 samples\n",
      "Looked at 128/450 samples\n",
      "Looked at 192/450 samples\n",
      "Looked at 256/450 samples\n",
      "Looked at 320/450 samples\n",
      "Looked at 384/450 samples\n",
      "Looked at 28/450 samples\n",
      "\n",
      "\n",
      "\u001b[91m======================================================\u001b[0m\n",
      "\u001b[94mTrain loss: 0.11707 | Train accuracy: 96.89%\u001b[0m\n",
      "\u001b[92mTest loss: 0.08103 | Test accuracy: 98.67%\u001b[0m\n",
      "\u001b[91m======================================================\u001b[0m\n",
      "\n",
      "\n",
      "Looked at 0/450 samples\n",
      "Looked at 64/450 samples\n",
      "Looked at 128/450 samples\n",
      "Looked at 192/450 samples\n",
      "Looked at 256/450 samples\n",
      "Looked at 320/450 samples\n",
      "Looked at 384/450 samples\n",
      "Looked at 28/450 samples\n",
      "\n",
      "\n",
      "\u001b[91m======================================================\u001b[0m\n",
      "\u001b[94mTrain loss: 0.09533 | Train accuracy: 97.11%\u001b[0m\n",
      "\u001b[92mTest loss: 0.07044 | Test accuracy: 99.33%\u001b[0m\n",
      "\u001b[91m======================================================\u001b[0m\n",
      "\n",
      "\n",
      "Looked at 0/450 samples\n",
      "Looked at 64/450 samples\n",
      "Looked at 128/450 samples\n",
      "Looked at 192/450 samples\n",
      "Looked at 256/450 samples\n",
      "Looked at 320/450 samples\n",
      "Looked at 384/450 samples\n",
      "Looked at 28/450 samples\n",
      "\n",
      "\n",
      "\u001b[91m======================================================\u001b[0m\n",
      "\u001b[94mTrain loss: 0.08302 | Train accuracy: 97.56%\u001b[0m\n",
      "\u001b[92mTest loss: 0.06793 | Test accuracy: 98.67%\u001b[0m\n",
      "\u001b[91m======================================================\u001b[0m\n",
      "\n",
      "\n",
      "Looked at 0/450 samples\n",
      "Looked at 64/450 samples\n",
      "Looked at 128/450 samples\n",
      "Looked at 192/450 samples\n",
      "Looked at 256/450 samples\n",
      "Looked at 320/450 samples\n",
      "Looked at 384/450 samples\n",
      "Looked at 28/450 samples\n",
      "\n",
      "\n",
      "\u001b[91m======================================================\u001b[0m\n",
      "\u001b[94mTrain loss: 0.07183 | Train accuracy: 98.00%\u001b[0m\n",
      "\u001b[92mTest loss: 0.06452 | Test accuracy: 98.67%\u001b[0m\n",
      "\u001b[91m======================================================\u001b[0m\n",
      "\n",
      "\n",
      "Looked at 0/450 samples\n",
      "Looked at 64/450 samples\n",
      "Looked at 128/450 samples\n",
      "Looked at 192/450 samples\n",
      "Looked at 256/450 samples\n",
      "Looked at 320/450 samples\n",
      "Looked at 384/450 samples\n",
      "Looked at 28/450 samples\n",
      "\n",
      "\n",
      "\u001b[91m======================================================\u001b[0m\n",
      "\u001b[94mTrain loss: 0.07934 | Train accuracy: 98.22%\u001b[0m\n",
      "\u001b[92mTest loss: 0.06096 | Test accuracy: 98.67%\u001b[0m\n",
      "\u001b[91m======================================================\u001b[0m\n",
      "\n",
      "\n",
      "Looked at 0/450 samples\n",
      "Looked at 64/450 samples\n",
      "Looked at 128/450 samples\n",
      "Looked at 192/450 samples\n",
      "Looked at 256/450 samples\n",
      "Looked at 320/450 samples\n",
      "Looked at 384/450 samples\n",
      "Looked at 28/450 samples\n",
      "\n",
      "\n",
      "\u001b[91m======================================================\u001b[0m\n",
      "\u001b[94mTrain loss: 0.05743 | Train accuracy: 99.11%\u001b[0m\n",
      "\u001b[92mTest loss: 0.05803 | Test accuracy: 98.67%\u001b[0m\n",
      "\u001b[91m======================================================\u001b[0m\n",
      "\n",
      "\n",
      "Looked at 0/450 samples\n",
      "Looked at 64/450 samples\n",
      "Looked at 128/450 samples\n",
      "Looked at 192/450 samples\n",
      "Looked at 256/450 samples\n",
      "Looked at 320/450 samples\n",
      "Looked at 384/450 samples\n",
      "Looked at 28/450 samples\n",
      "\n",
      "\n",
      "\u001b[91m======================================================\u001b[0m\n",
      "\u001b[94mTrain loss: 0.04969 | Train accuracy: 99.33%\u001b[0m\n",
      "\u001b[92mTest loss: 0.05512 | Test accuracy: 99.33%\u001b[0m\n",
      "\u001b[91m======================================================\u001b[0m\n",
      "\n",
      "\n"
     ]
    }
   ],
   "source": [
    "from going_modular.engine import train\n",
    "\n",
    "optimizer = torch.optim.Adam(params=vit.parameters(),\n",
    "                                lr = 1e-3)\n",
    "\n",
    "loss_fn = nn.CrossEntropyLoss()\n",
    "\n",
    "vit_results = train(model=vit,\n",
    "                    train_dataloader=train_loader_vit,\n",
    "                    test_dataloader=test_loader_vit,\n",
    "                    optimizer=optimizer,\n",
    "                    loss_fn=loss_fn,\n",
    "                    device=device,\n",
    "                    epochs=10)"
   ]
  },
  {
   "cell_type": "markdown",
   "id": "3e0c28ef",
   "metadata": {},
   "source": [
    "### 4.3 Inspecting ViT loss curves\n",
    "\n",
    "Alright, alright, alright, ViT model trained, let's get visual and see some loss curves.\n",
    "\n",
    "> **Note:** Don't forget you can see what an ideal set of loss curves should look like in [04. PyTorch Custom Datasets section 8](https://www.learnpytorch.io/04_pytorch_custom_datasets/#8-what-should-an-ideal-loss-curve-look-like).\n"
   ]
  },
  {
   "cell_type": "code",
   "execution_count": 20,
   "id": "d74cfd0f",
   "metadata": {},
   "outputs": [
    {
     "data": {
      "image/png": "[encoded data removed]",
      "text/plain": [
       "<Figure size 1500x700 with 2 Axes>"
      ]
     },
     "metadata": {},
     "output_type": "display_data"
    }
   ],
   "source": [
    "from going_modular.helper_functions import plot_loss_curves\n",
    "\n",
    "plot_loss_curves(vit_results)"
   ]
  },
  {
   "cell_type": "markdown",
   "id": "13046a6c",
   "metadata": {},
   "source": [
    "### 4.4 Saving ViT feature extractor\n",
    "\n",
    "Our ViT model is performing outstanding!\n",
    "\n",
    "So let's save it to file so we can import it and use it later if we wish.\n",
    "\n",
    "We can do so using the `utils.save_model()` function we created in [05. PyTorch Going Modular section 5](https://www.learnpytorch.io/05_pytorch_going_modular/#5-creating-a-function-to-save-the-model-utilspy).\n"
   ]
  },
  {
   "cell_type": "code",
   "execution_count": 21,
   "id": "51f5e9e3",
   "metadata": {},
   "outputs": [
    {
     "name": "stdout",
     "output_type": "stream",
     "text": [
      "[INFO] ✅ Model saved to: models\\09_pretrained_vit_feature_extractor_pizza_steak_sushi_20_percent.pth\n"
     ]
    }
   ],
   "source": [
    "# Save the model\n",
    "from going_modular.utils import save_model\n",
    "\n",
    "save_model(model=vit,\n",
    "            target_dir=\"models\",\n",
    "            model_name=\"09_pretrained_vit_feature_extractor_pizza_steak_sushi_20_percent.pth\")"
   ]
  },
  {
   "cell_type": "markdown",
   "metadata": {},
   "source": [
    "### 4.5 Checking the size of ViT feature extractor\n",
    "\n",
    "And since we want to compare our EffNetB2 model to our ViT model across a number of characteristics, let's find out its size.\n",
    "\n",
    "To check our model's size in bytes, we can use Python's `pathlib.Path.stat(\"path_to_model\").st_size` and then we can convert it (roughly) to megabytes by dividing it by `(1024*1024)`.\n"
   ]
  },
  {
   "cell_type": "code",
   "execution_count": 22,
   "id": "0aeacdf7",
   "metadata": {},
   "outputs": [
    {
     "name": "stdout",
     "output_type": "stream",
     "text": [
      "Pretrained ViT feature extractor model size: 327 MB\n"
     ]
    }
   ],
   "source": [
    "from pathlib import Path\n",
    "\n",
    "# Get the model size in bytes then convert to megabytes\n",
    "pretrained_vit_model_size = Path(\"models/09_pretrained_vit_feature_extractor_pizza_steak_sushi_20_percent.pth\").stat().st_size // (1024*1024) # division converts bytes to megabytes (roughly) \n",
    "print(f\"Pretrained ViT feature extractor model size: {pretrained_vit_model_size} MB\")"
   ]
  },
  {
   "cell_type": "markdown",
   "metadata": {},
   "source": [
    "### 4.6 Collecting ViT feature extractor stats\n",
    "\n",
    "Let's put together all of our ViT feature extractor model statistics.\n",
    "\n",
    "We saw it in the summary output above but we'll calculate its total number of parameters.\n"
   ]
  },
  {
   "cell_type": "code",
   "execution_count": 23,
   "id": "bcedc19c",
   "metadata": {},
   "outputs": [
    {
     "data": {
      "text/plain": [
       "85800963"
      ]
     },
     "execution_count": 23,
     "metadata": {},
     "output_type": "execute_result"
    }
   ],
   "source": [
    "# Count number of parameters in ViT\n",
    "vit_total_params = sum(torch.numel(param) for param in vit.parameters())\n",
    "vit_total_params"
   ]
  },
  {
   "cell_type": "code",
   "execution_count": 24,
   "id": "91733618",
   "metadata": {},
   "outputs": [
    {
     "data": {
      "text/plain": [
       "{'test_loss': 0.05511614754796028,\n",
       " 'test_acc': 99.33333396911621,\n",
       " 'number_of_parameters': 85800963,\n",
       " 'model_size (MB)': 327}"
      ]
     },
     "execution_count": 24,
     "metadata": {},
     "output_type": "execute_result"
    }
   ],
   "source": [
    "# Create ViT statistics dictionary\n",
    "vit_stats = {\"test_loss\": vit_results[\"test_loss\"][-1],\n",
    "            \"test_acc\": vit_results[\"test_acc\"][-1],\n",
    "            \"number_of_parameters\": vit_total_params,\n",
    "            \"model_size (MB)\": pretrained_vit_model_size}\n",
    "\n",
    "vit_stats"
   ]
  },
  {
   "cell_type": "markdown",
   "id": "11d4e00b",
   "metadata": {},
   "source": [
    "Woah, that looks like a fair bit more than our EffNetB2!\n",
    "\n",
    "> **Note:** A larger number of parameters (or weights/patterns) generally means a model has a higher _capacity_ to learn, whether it actually uses this extra capacity is another story. In light of this, our EffNetB2 model has 7,705,221 parameters where as our ViT model has 85,800,963 (11.1x more) so we could assume that our ViT model has more of a capacity to learn, if given more data (more opportunities to learn). However, this larger capacity to learn ofen comes with an increased model filesize and a longer time to perform inference.\n",
    "\n",
    "Now let's create a dictionary with some important characteristics of our ViT model.\n"
   ]
  },
  {
   "cell_type": "markdown",
   "id": "0eed7d7b",
   "metadata": {},
   "source": [
    "## 5. Making predictions with our trained models and timing them\n",
    "\n",
    "We've got a couple of trained models, both performing pretty well.\n",
    "\n",
    "Now how about we test them out doing what we'd like them to do?\n",
    "\n",
    "As in, let's see how they go making predictions (performing inference).\n",
    "\n",
    "We know both of our models are performing at over 95% accuracy on the test dataset, but how fast are they?\n",
    "\n",
    "Ideally, if we're deploying our FoodVision Mini model to a mobile device so people can take photos of their food and identify it, we'd like the predictions to happen at real-time (~30 frames per second).\n",
    "\n",
    "That's why our second criteria is: a fast model.\n",
    "\n",
    "To find out how long each of our models take to performance inference, let's create a function called `pred_and_store()` to iterate over each of the test dataset images one by one and perform a prediction.\n",
    "\n",
    "We'll time each of the predictions as well as store the results in a common prediction format: a list of dictionaries (where each element in the list is a single prediction and each sinlge prediction is a dictionary).\n",
    "\n",
    "> **Note:** We time the predictions one by one rather than by batch because when our model is deployed, it will likely only be making a prediction on one image at a time. As in, someone takes a photo and our model predicts on that single image.\n",
    "\n",
    "Since we'd like to make predictions across all the images in the test set, let's first get a list of all of the test image paths so we can iterate over them.\n",
    "\n",
    "To do so, we'll use Python's [`pathlib.Path(\"target_dir\").glob(\"*/*.jpg\"))`](https://docs.python.org/3/library/pathlib.html#basic-use) to find all of the filepaths in a target directory with the extension `.jpg` (all of our test images).\n"
   ]
  },
  {
   "cell_type": "code",
   "execution_count": null,
   "id": "e307a299",
   "metadata": {},
   "outputs": [],
   "source": []
  }
 ],
 "metadata": {
  "kernelspec": {
   "display_name": ".venv",
   "language": "python",
   "name": "python3"
  },
  "language_info": {
   "codemirror_mode": {
    "name": "ipython",
    "version": 3
   },
   "file_extension": ".py",
   "mimetype": "text/x-python",
   "name": "python",
   "nbconvert_exporter": "python",
   "pygments_lexer": "ipython3",
   "version": "3.10.5"
  }
 },
 "nbformat": 4,
 "nbformat_minor": 5
}
