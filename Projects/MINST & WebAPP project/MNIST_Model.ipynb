{
 "cells": [
  {
   "cell_type": "markdown",
   "id": "8b688295",
   "metadata": {},
   "source": [
    "# MNIST Digit Classification with PyTorch\n",
    "\n",
    "This notebook demonstrates how to build, train, and evaluate a Convolutional Neural Network (CNN) for handwritten digit classification using the MNIST dataset and PyTorch.\n",
    "\n",
    "---\n",
    "\n",
    "## Table of Contents\n",
    "\n",
    "1. [Import Libraries and Setup](#step1)\n",
    "2. [Load and Explore the MNIST Dataset](#step2)\n",
    "3. [Visualize Sample Images](#step3)\n",
    "4. [Prepare DataLoaders](#step4)\n",
    "5. [Define the CNN Model](#step5)\n",
    "6. [Set Up Loss, Optimizer, and Metrics](#step6)\n",
    "7. [Train the Model](#step7)\n",
    "8. [Evaluate Model Performance](#step8)\n",
    "9. [Make Predictions and Visualize Results](#step9)\n",
    "10. [Plot Confusion Matrix](#step10)\n",
    "11. [Save the Trained Model](#step11)\n",
    "12. [Train with Custom Datasets](#step12)\n",
    "\n",
    "---\n",
    "\n",
    "This notebook covers the full workflow for digit classification using PyTorch, including data loading, visualization, model definition, training, evaluation, and working with custom datasets."
   ]
  },
  {
   "cell_type": "markdown",
   "id": "9fb03f0b",
   "metadata": {},
   "source": [
    "## 1. Import Libraries and Setup\n",
    "\n",
    "We start by importing the necessary libraries and setting up the device for computation (GPU if available, otherwise CPU)."
   ]
  },
  {
   "cell_type": "code",
   "execution_count": 1,
   "id": "e05dd039",
   "metadata": {},
   "outputs": [
    {
     "name": "stdout",
     "output_type": "stream",
     "text": [
      "2.7.1+cu126\n"
     ]
    },
    {
     "data": {
      "text/plain": [
       "'cuda'"
      ]
     },
     "execution_count": 1,
     "metadata": {},
     "output_type": "execute_result"
    }
   ],
   "source": [
    "# Step 1: Import torch and set up device\n",
    "import torch\n",
    "\n",
    "# Print PyTorch version to ensure compatibility\n",
    "print(torch.__version__)\n",
    "\n",
    "# Setup device agnostic code: use GPU if available, else CPU\n",
    "device = \"cuda\" if torch.cuda.is_available() else \"cpu\"\n",
    "device"
   ]
  },
  {
   "cell_type": "markdown",
   "id": "4b0b124e",
   "metadata": {},
   "source": [
    "## 2. Load and Explore the MNIST Dataset\n",
    "\n",
    "We use torchvision to download and load the MNIST dataset. The dataset contains 60,000 training and 10,000 test images of handwritten digits (0-9)."
   ]
  },
  {
   "cell_type": "code",
   "execution_count": 2,
   "id": "db7efa2e",
   "metadata": {},
   "outputs": [
    {
     "data": {
      "text/plain": [
       "(60000, 10000)"
      ]
     },
     "execution_count": 2,
     "metadata": {},
     "output_type": "execute_result"
    }
   ],
   "source": [
    "# Step 2: Load MNIST dataset using torchvision\n",
    "from torchvision import datasets, transforms\n",
    "\n",
    "# Download and transform training data\n",
    "train_data = datasets.MNIST(\n",
    "    root= \"data\",\n",
    "    train= True,\n",
    "    transform= transforms.ToTensor(),\n",
    "    download= True\n",
    ")\n",
    "\n",
    "# Download and transform test data\n",
    "test_data = datasets.MNIST(\n",
    "    root= \"data\",\n",
    "    train= False,\n",
    "    transform= transforms.ToTensor(),\n",
    "    download= True\n",
    ")\n",
    "\n",
    "# Print the number of samples in train and test sets\n",
    "len(train_data), len(test_data)"
   ]
  },
  {
   "cell_type": "markdown",
   "id": "005a8e34",
   "metadata": {},
   "source": [
    "## 3. Visualize Sample Images\n",
    "\n",
    "Let's inspect a sample image and its label from the training set to understand the data format."
   ]
  },
  {
   "cell_type": "code",
   "execution_count": 3,
   "id": "e78cf736",
   "metadata": {},
   "outputs": [
    {
     "name": "stdout",
     "output_type": "stream",
     "text": [
      "img = tensor([[[0.0000, 0.0000, 0.0000, 0.0000, 0.0000, 0.0000, 0.0000, 0.0000,\n",
      "          0.0000, 0.0000, 0.0000, 0.0000, 0.0000, 0.0000, 0.0000, 0.0000,\n",
      "          0.0000, 0.0000, 0.0000, 0.0000, 0.0000, 0.0000, 0.0000, 0.0000,\n",
      "          0.0000, 0.0000, 0.0000, 0.0000],\n",
      "         [0.0000, 0.0000, 0.0000, 0.0000, 0.0000, 0.0000, 0.0000, 0.0000,\n",
      "          0.0000, 0.0000, 0.0000, 0.0000, 0.0000, 0.0000, 0.0000, 0.0000,\n",
      "          0.0000, 0.0000, 0.0000, 0.0000, 0.0000, 0.0000, 0.0000, 0.0000,\n",
      "          0.0000, 0.0000, 0.0000, 0.0000],\n",
      "         [0.0000, 0.0000, 0.0000, 0.0000, 0.0000, 0.0000, 0.0000, 0.0000,\n",
      "          0.0000, 0.0000, 0.0000, 0.0000, 0.0000, 0.0000, 0.0000, 0.0000,\n",
      "          0.0000, 0.0000, 0.0000, 0.0000, 0.0000, 0.0000, 0.0000, 0.0000,\n",
      "          0.0000, 0.0000, 0.0000, 0.0000],\n",
      "         [0.0000, 0.0000, 0.0000, 0.0000, 0.0000, 0.0000, 0.0000, 0.0000,\n",
      "          0.0000, 0.0000, 0.0000, 0.0000, 0.0000, 0.0000, 0.0000, 0.0000,\n",
      "          0.0000, 0.0000, 0.0000, 0.0000, 0.0000, 0.0000, 0.0000, 0.0000,\n",
      "          0.0000, 0.0000, 0.0000, 0.0000],\n",
      "         [0.0000, 0.0000, 0.0000, 0.0000, 0.0000, 0.0000, 0.0000, 0.0000,\n",
      "          0.0000, 0.0000, 0.0000, 0.0000, 0.0000, 0.0000, 0.0000, 0.0000,\n",
      "          0.0000, 0.0000, 0.0000, 0.0000, 0.0000, 0.0000, 0.0000, 0.0000,\n",
      "          0.0000, 0.0000, 0.0000, 0.0000],\n",
      "         [0.0000, 0.0000, 0.0000, 0.0000, 0.0000, 0.0000, 0.0000, 0.0000,\n",
      "          0.0000, 0.0000, 0.0000, 0.0000, 0.0118, 0.0706, 0.0706, 0.0706,\n",
      "          0.4941, 0.5333, 0.6863, 0.1020, 0.6510, 1.0000, 0.9686, 0.4980,\n",
      "          0.0000, 0.0000, 0.0000, 0.0000],\n",
      "         [0.0000, 0.0000, 0.0000, 0.0000, 0.0000, 0.0000, 0.0000, 0.0000,\n",
      "          0.1176, 0.1412, 0.3686, 0.6039, 0.6667, 0.9922, 0.9922, 0.9922,\n",
      "          0.9922, 0.9922, 0.8824, 0.6745, 0.9922, 0.9490, 0.7647, 0.2510,\n",
      "          0.0000, 0.0000, 0.0000, 0.0000],\n",
      "         [0.0000, 0.0000, 0.0000, 0.0000, 0.0000, 0.0000, 0.0000, 0.1922,\n",
      "          0.9333, 0.9922, 0.9922, 0.9922, 0.9922, 0.9922, 0.9922, 0.9922,\n",
      "          0.9922, 0.9843, 0.3647, 0.3216, 0.3216, 0.2196, 0.1529, 0.0000,\n",
      "          0.0000, 0.0000, 0.0000, 0.0000],\n",
      "         [0.0000, 0.0000, 0.0000, 0.0000, 0.0000, 0.0000, 0.0000, 0.0706,\n",
      "          0.8588, 0.9922, 0.9922, 0.9922, 0.9922, 0.9922, 0.7765, 0.7137,\n",
      "          0.9686, 0.9451, 0.0000, 0.0000, 0.0000, 0.0000, 0.0000, 0.0000,\n",
      "          0.0000, 0.0000, 0.0000, 0.0000],\n",
      "         [0.0000, 0.0000, 0.0000, 0.0000, 0.0000, 0.0000, 0.0000, 0.0000,\n",
      "          0.3137, 0.6118, 0.4196, 0.9922, 0.9922, 0.8039, 0.0431, 0.0000,\n",
      "          0.1686, 0.6039, 0.0000, 0.0000, 0.0000, 0.0000, 0.0000, 0.0000,\n",
      "          0.0000, 0.0000, 0.0000, 0.0000],\n",
      "         [0.0000, 0.0000, 0.0000, 0.0000, 0.0000, 0.0000, 0.0000, 0.0000,\n",
      "          0.0000, 0.0549, 0.0039, 0.6039, 0.9922, 0.3529, 0.0000, 0.0000,\n",
      "          0.0000, 0.0000, 0.0000, 0.0000, 0.0000, 0.0000, 0.0000, 0.0000,\n",
      "          0.0000, 0.0000, 0.0000, 0.0000],\n",
      "         [0.0000, 0.0000, 0.0000, 0.0000, 0.0000, 0.0000, 0.0000, 0.0000,\n",
      "          0.0000, 0.0000, 0.0000, 0.5451, 0.9922, 0.7451, 0.0078, 0.0000,\n",
      "          0.0000, 0.0000, 0.0000, 0.0000, 0.0000, 0.0000, 0.0000, 0.0000,\n",
      "          0.0000, 0.0000, 0.0000, 0.0000],\n",
      "         [0.0000, 0.0000, 0.0000, 0.0000, 0.0000, 0.0000, 0.0000, 0.0000,\n",
      "          0.0000, 0.0000, 0.0000, 0.0431, 0.7451, 0.9922, 0.2745, 0.0000,\n",
      "          0.0000, 0.0000, 0.0000, 0.0000, 0.0000, 0.0000, 0.0000, 0.0000,\n",
      "          0.0000, 0.0000, 0.0000, 0.0000],\n",
      "         [0.0000, 0.0000, 0.0000, 0.0000, 0.0000, 0.0000, 0.0000, 0.0000,\n",
      "          0.0000, 0.0000, 0.0000, 0.0000, 0.1373, 0.9451, 0.8824, 0.6275,\n",
      "          0.4235, 0.0039, 0.0000, 0.0000, 0.0000, 0.0000, 0.0000, 0.0000,\n",
      "          0.0000, 0.0000, 0.0000, 0.0000],\n",
      "         [0.0000, 0.0000, 0.0000, 0.0000, 0.0000, 0.0000, 0.0000, 0.0000,\n",
      "          0.0000, 0.0000, 0.0000, 0.0000, 0.0000, 0.3176, 0.9412, 0.9922,\n",
      "          0.9922, 0.4667, 0.0980, 0.0000, 0.0000, 0.0000, 0.0000, 0.0000,\n",
      "          0.0000, 0.0000, 0.0000, 0.0000],\n",
      "         [0.0000, 0.0000, 0.0000, 0.0000, 0.0000, 0.0000, 0.0000, 0.0000,\n",
      "          0.0000, 0.0000, 0.0000, 0.0000, 0.0000, 0.0000, 0.1765, 0.7294,\n",
      "          0.9922, 0.9922, 0.5882, 0.1059, 0.0000, 0.0000, 0.0000, 0.0000,\n",
      "          0.0000, 0.0000, 0.0000, 0.0000],\n",
      "         [0.0000, 0.0000, 0.0000, 0.0000, 0.0000, 0.0000, 0.0000, 0.0000,\n",
      "          0.0000, 0.0000, 0.0000, 0.0000, 0.0000, 0.0000, 0.0000, 0.0627,\n",
      "          0.3647, 0.9882, 0.9922, 0.7333, 0.0000, 0.0000, 0.0000, 0.0000,\n",
      "          0.0000, 0.0000, 0.0000, 0.0000],\n",
      "         [0.0000, 0.0000, 0.0000, 0.0000, 0.0000, 0.0000, 0.0000, 0.0000,\n",
      "          0.0000, 0.0000, 0.0000, 0.0000, 0.0000, 0.0000, 0.0000, 0.0000,\n",
      "          0.0000, 0.9765, 0.9922, 0.9765, 0.2510, 0.0000, 0.0000, 0.0000,\n",
      "          0.0000, 0.0000, 0.0000, 0.0000],\n",
      "         [0.0000, 0.0000, 0.0000, 0.0000, 0.0000, 0.0000, 0.0000, 0.0000,\n",
      "          0.0000, 0.0000, 0.0000, 0.0000, 0.0000, 0.0000, 0.1804, 0.5098,\n",
      "          0.7176, 0.9922, 0.9922, 0.8118, 0.0078, 0.0000, 0.0000, 0.0000,\n",
      "          0.0000, 0.0000, 0.0000, 0.0000],\n",
      "         [0.0000, 0.0000, 0.0000, 0.0000, 0.0000, 0.0000, 0.0000, 0.0000,\n",
      "          0.0000, 0.0000, 0.0000, 0.0000, 0.1529, 0.5804, 0.8980, 0.9922,\n",
      "          0.9922, 0.9922, 0.9804, 0.7137, 0.0000, 0.0000, 0.0000, 0.0000,\n",
      "          0.0000, 0.0000, 0.0000, 0.0000],\n",
      "         [0.0000, 0.0000, 0.0000, 0.0000, 0.0000, 0.0000, 0.0000, 0.0000,\n",
      "          0.0000, 0.0000, 0.0941, 0.4471, 0.8667, 0.9922, 0.9922, 0.9922,\n",
      "          0.9922, 0.7882, 0.3059, 0.0000, 0.0000, 0.0000, 0.0000, 0.0000,\n",
      "          0.0000, 0.0000, 0.0000, 0.0000],\n",
      "         [0.0000, 0.0000, 0.0000, 0.0000, 0.0000, 0.0000, 0.0000, 0.0000,\n",
      "          0.0902, 0.2588, 0.8353, 0.9922, 0.9922, 0.9922, 0.9922, 0.7765,\n",
      "          0.3176, 0.0078, 0.0000, 0.0000, 0.0000, 0.0000, 0.0000, 0.0000,\n",
      "          0.0000, 0.0000, 0.0000, 0.0000],\n",
      "         [0.0000, 0.0000, 0.0000, 0.0000, 0.0000, 0.0000, 0.0706, 0.6706,\n",
      "          0.8588, 0.9922, 0.9922, 0.9922, 0.9922, 0.7647, 0.3137, 0.0353,\n",
      "          0.0000, 0.0000, 0.0000, 0.0000, 0.0000, 0.0000, 0.0000, 0.0000,\n",
      "          0.0000, 0.0000, 0.0000, 0.0000],\n",
      "         [0.0000, 0.0000, 0.0000, 0.0000, 0.2157, 0.6745, 0.8863, 0.9922,\n",
      "          0.9922, 0.9922, 0.9922, 0.9569, 0.5216, 0.0431, 0.0000, 0.0000,\n",
      "          0.0000, 0.0000, 0.0000, 0.0000, 0.0000, 0.0000, 0.0000, 0.0000,\n",
      "          0.0000, 0.0000, 0.0000, 0.0000],\n",
      "         [0.0000, 0.0000, 0.0000, 0.0000, 0.5333, 0.9922, 0.9922, 0.9922,\n",
      "          0.8314, 0.5294, 0.5176, 0.0627, 0.0000, 0.0000, 0.0000, 0.0000,\n",
      "          0.0000, 0.0000, 0.0000, 0.0000, 0.0000, 0.0000, 0.0000, 0.0000,\n",
      "          0.0000, 0.0000, 0.0000, 0.0000],\n",
      "         [0.0000, 0.0000, 0.0000, 0.0000, 0.0000, 0.0000, 0.0000, 0.0000,\n",
      "          0.0000, 0.0000, 0.0000, 0.0000, 0.0000, 0.0000, 0.0000, 0.0000,\n",
      "          0.0000, 0.0000, 0.0000, 0.0000, 0.0000, 0.0000, 0.0000, 0.0000,\n",
      "          0.0000, 0.0000, 0.0000, 0.0000],\n",
      "         [0.0000, 0.0000, 0.0000, 0.0000, 0.0000, 0.0000, 0.0000, 0.0000,\n",
      "          0.0000, 0.0000, 0.0000, 0.0000, 0.0000, 0.0000, 0.0000, 0.0000,\n",
      "          0.0000, 0.0000, 0.0000, 0.0000, 0.0000, 0.0000, 0.0000, 0.0000,\n",
      "          0.0000, 0.0000, 0.0000, 0.0000],\n",
      "         [0.0000, 0.0000, 0.0000, 0.0000, 0.0000, 0.0000, 0.0000, 0.0000,\n",
      "          0.0000, 0.0000, 0.0000, 0.0000, 0.0000, 0.0000, 0.0000, 0.0000,\n",
      "          0.0000, 0.0000, 0.0000, 0.0000, 0.0000, 0.0000, 0.0000, 0.0000,\n",
      "          0.0000, 0.0000, 0.0000, 0.0000]]])\n",
      "label = 5\n"
     ]
    },
    {
     "data": {
      "text/plain": [
       "2435"
      ]
     },
     "execution_count": 3,
     "metadata": {},
     "output_type": "execute_result"
    }
   ],
   "source": [
    "# Step 3: Visualize a random sample from the training data\n",
    "img, label = train_data[0]\n",
    "\n",
    "print(f\"img = {img}\")\n",
    "print(f\"label = {label}\")\n",
    "\n",
    "# Select a random index to visualize\n",
    "random_index = int(torch.randint(0, len(train_data), size=[1]))\n",
    "random_index"
   ]
  },
  {
   "cell_type": "markdown",
   "id": "bc96954a",
   "metadata": {},
   "source": [
    "### Get Class Names\n",
    "\n",
    "The MNIST dataset contains 10 classes, one for each digit (0-9)."
   ]
  },
  {
   "cell_type": "code",
   "execution_count": 4,
   "id": "f5c25808",
   "metadata": {},
   "outputs": [
    {
     "data": {
      "text/plain": [
       "['0 - zero',\n",
       " '1 - one',\n",
       " '2 - two',\n",
       " '3 - three',\n",
       " '4 - four',\n",
       " '5 - five',\n",
       " '6 - six',\n",
       " '7 - seven',\n",
       " '8 - eight',\n",
       " '9 - nine']"
      ]
     },
     "execution_count": 4,
     "metadata": {},
     "output_type": "execute_result"
    }
   ],
   "source": [
    "# Get class names for MNIST dataset\n",
    "class_names = train_data.classes\n",
    "\n",
    "class_names"
   ]
  },
  {
   "cell_type": "markdown",
   "id": "f8cc995a",
   "metadata": {},
   "source": [
    "### Plot Example Images\n",
    "\n",
    "Let's plot a grid of example images from the training set to visualize the data distribution."
   ]
  },
  {
   "cell_type": "code",
   "execution_count": 5,
   "id": "bcf22c9f",
   "metadata": {},
   "outputs": [
    {
     "name": "stderr",
     "output_type": "stream",
     "text": [
      "d:\\Machine Learning\\.venv\\lib\\site-packages\\tqdm\\auto.py:21: TqdmWarning: IProgress not found. Please update jupyter and ipywidgets. See https://ipywidgets.readthedocs.io/en/stable/user_install.html\n",
      "  from .autonotebook import tqdm as notebook_tqdm\n"
     ]
    },
    {
     "data": {
      "image/png": "[encoded data removed]",
      "text/plain": [
       "<Figure size 900x900 with 16 Axes>"
      ]
     },
     "metadata": {},
     "output_type": "display_data"
    }
   ],
   "source": [
    "# Plot example images using a helper function\n",
    "from matplotlib import pyplot as plt\n",
    "from helper_functions import plot_example\n",
    "\n",
    "plot_example(train_data=train_data, class_names=class_names)"
   ]
  },
  {
   "cell_type": "markdown",
   "id": "65b3be3a",
   "metadata": {},
   "source": [
    "## 4. Prepare DataLoaders\n",
    "\n",
    "We use DataLoader to efficiently load data in batches during training and testing. This helps with memory management and speeds up training."
   ]
  },
  {
   "cell_type": "code",
   "execution_count": 6,
   "id": "a9735d0c",
   "metadata": {},
   "outputs": [
    {
     "name": "stdout",
     "output_type": "stream",
     "text": [
      "Dataloaders: (<torch.utils.data.dataloader.DataLoader object at 0x000001C83531EF80>, <torch.utils.data.dataloader.DataLoader object at 0x000001C86A133DF0>)\n",
      "Length of train dataloader: 1875 batches of 32\n",
      "1875.0\n",
      "Length of test dataloader: 313 batches of 32\n",
      "312.5\n"
     ]
    }
   ],
   "source": [
    "# Step 4: Create DataLoaders for batching\n",
    "from torch.utils.data import DataLoader\n",
    "\n",
    "BATCH_SIZE = 32\n",
    "train_dataloader = DataLoader(train_data,\n",
    "                            batch_size = BATCH_SIZE,\n",
    "                            shuffle = True,\n",
    ")\n",
    "test_dataloader = DataLoader(test_data,\n",
    "                            batch_size = BATCH_SIZE,\n",
    "                            shuffle = False,\n",
    ")\n",
    "\n",
    "# Print DataLoader details\n",
    "print(f\"Dataloaders: {train_dataloader, test_dataloader}\") \n",
    "print(f\"Length of train dataloader: {len(train_dataloader)} batches of {BATCH_SIZE}\")\n",
    "print(60000/32)\n",
    "print(f\"Length of test dataloader: {len(test_dataloader)} batches of {BATCH_SIZE}\")\n",
    "print(10000/32) # gets rounded up, and the last batch has less than 32 items in it"
   ]
  },
  {
   "cell_type": "markdown",
   "id": "08abf121",
   "metadata": {},
   "source": [
    "## 5. Define the CNN Model\n",
    "\n",
    "We define a Convolutional Neural Network (CNN) using PyTorch's `nn.Module`. The model consists of two convolutional blocks followed by a fully connected layer."
   ]
  },
  {
   "cell_type": "code",
   "execution_count": 7,
   "id": "7362a553",
   "metadata": {},
   "outputs": [
    {
     "data": {
      "text/plain": [
       "MNIST_model(\n",
       "  (block_1): Sequential(\n",
       "    (0): Conv2d(1, 32, kernel_size=(3, 3), stride=(1, 1))\n",
       "    (1): ReLU()\n",
       "    (2): Conv2d(32, 32, kernel_size=(3, 3), stride=(1, 1))\n",
       "    (3): ReLU()\n",
       "    (4): MaxPool2d(kernel_size=2, stride=2, padding=0, dilation=1, ceil_mode=False)\n",
       "  )\n",
       "  (block_2): Sequential(\n",
       "    (0): Conv2d(32, 32, kernel_size=(3, 3), stride=(1, 1))\n",
       "    (1): ReLU()\n",
       "    (2): Conv2d(32, 32, kernel_size=(3, 3), stride=(1, 1))\n",
       "    (3): ReLU()\n",
       "    (4): MaxPool2d(kernel_size=2, stride=2, padding=0, dilation=1, ceil_mode=False)\n",
       "  )\n",
       "  (classifier): Sequential(\n",
       "    (0): Flatten(start_dim=1, end_dim=-1)\n",
       "    (1): Linear(in_features=512, out_features=10, bias=True)\n",
       "  )\n",
       ")"
      ]
     },
     "execution_count": 7,
     "metadata": {},
     "output_type": "execute_result"
    }
   ],
   "source": [
    "# Step 5: Define the CNN model for MNIST classification\n",
    "from torch import nn\n",
    "\n",
    "class MNIST_model (nn.Module):\n",
    "    def __init__(self, \n",
    "                input_shape:int,\n",
    "                hidden_units:int,\n",
    "                output_shape:int):\n",
    "        super().__init__()\n",
    "        \n",
    "        # First convolutional block\n",
    "        self.block_1 = nn.Sequential(\n",
    "            nn.Conv2d(in_channels=input_shape,\n",
    "                    out_channels= hidden_units,\n",
    "                    kernel_size= 3),\n",
    "            nn.ReLU(),\n",
    "            \n",
    "            nn.Conv2d(in_channels=hidden_units,\n",
    "                    out_channels=hidden_units,\n",
    "                    kernel_size=3),\n",
    "            nn.ReLU(),\n",
    "            \n",
    "            nn.MaxPool2d(kernel_size=2)\n",
    "        )\n",
    "        \n",
    "        # Second convolutional block\n",
    "        self.block_2 = nn.Sequential(\n",
    "            nn.Conv2d(in_channels=hidden_units,\n",
    "                    out_channels= hidden_units,\n",
    "                    kernel_size= 3),\n",
    "            nn.ReLU(),\n",
    "            \n",
    "            nn.Conv2d(in_channels=hidden_units,\n",
    "                    out_channels=hidden_units,\n",
    "                    kernel_size=3),\n",
    "            nn.ReLU(),\n",
    "            \n",
    "            nn.MaxPool2d(kernel_size=2)\n",
    "        )\n",
    "        \n",
    "        # Calculate the flattened feature size after conv blocks\n",
    "        with torch.no_grad():\n",
    "            dummy_input = torch.zeros(1, input_shape, 28, 28)\n",
    "            x = self.block_1(dummy_input)\n",
    "            x = self.block_2(x)\n",
    "            num_features = x.shape[1] * x.shape[2] * x.shape[3]\n",
    "            \n",
    "        # Classifier (fully connected layer)\n",
    "        self.classifier = nn.Sequential(\n",
    "            nn.Flatten(),\n",
    "            nn.Linear(\n",
    "                in_features= num_features,\n",
    "                out_features= output_shape\n",
    "            )\n",
    "        )\n",
    "        \n",
    "    def forward (self, x:torch.Tensor):\n",
    "        # Forward pass through conv blocks and classifier\n",
    "        x = self.block_1(x)\n",
    "        x = self.block_2(x)\n",
    "        x = self.classifier(x)\n",
    "        \n",
    "        return x\n",
    "    \n",
    "\n",
    "# Instantiate the model\n",
    "number_model = MNIST_model(input_shape=1,\n",
    "                    hidden_units=32,\n",
    "                    output_shape=len(class_names))\n",
    "\n",
    "number_model"
   ]
  },
  {
   "cell_type": "markdown",
   "id": "37f87ac2",
   "metadata": {},
   "source": [
    "## 6. Set Up Loss, Optimizer, and Metrics\n",
    "\n",
    "We use CrossEntropyLoss for multi-class classification, SGD optimizer, and accuracy as the evaluation metric."
   ]
  },
  {
   "cell_type": "code",
   "execution_count": 8,
   "id": "d65eeaf1",
   "metadata": {},
   "outputs": [],
   "source": [
    "# Step 6: Set up loss function, optimizer, and accuracy metric\n",
    "from torchmetrics import Accuracy\n",
    "\n",
    "acc_metric = Accuracy(task=\"multiclass\", num_classes=len(class_names))\n",
    "loss_fn = nn.CrossEntropyLoss()\n",
    "optm = torch.optim.SGD(params= number_model.parameters(),\n",
    "                    lr = 0.1)"
   ]
  },
  {
   "cell_type": "markdown",
   "id": "219a41bc",
   "metadata": {},
   "source": [
    "## 7. Train the Model\n",
    "\n",
    "We train the model for a specified number of epochs using helper functions for training and testing."
   ]
  },
  {
   "cell_type": "code",
   "execution_count": 9,
   "id": "6be8a93e",
   "metadata": {},
   "outputs": [
    {
     "name": "stderr",
     "output_type": "stream",
     "text": [
      "  0%|          | 0/5 [00:00<?, ?it/s]"
     ]
    },
    {
     "name": "stdout",
     "output_type": "stream",
     "text": [
      "\u001b[96mEpoch: 1\n",
      "-----------------------------\u001b[0m\n",
      "Looked at 0/60000 samples\n",
      "Looked at 12800/60000 samples\n",
      "Looked at 25600/60000 samples\n",
      "Looked at 38400/60000 samples\n",
      "Looked at 51200/60000 samples\n",
      "\n",
      "\n",
      "\u001b[91m======================================================\u001b[0m\n",
      "\u001b[94mTrain loss: 0.22019 | Train accuracy: 92.97%\u001b[0m\n"
     ]
    },
    {
     "name": "stderr",
     "output_type": "stream",
     "text": [
      " 20%|██        | 1/5 [01:02<04:08, 62.05s/it]"
     ]
    },
    {
     "name": "stdout",
     "output_type": "stream",
     "text": [
      "\u001b[92mTest loss: 0.05283 | Test accuracy: 98.26%\u001b[0m\n",
      "\u001b[91m======================================================\u001b[0m\n",
      "\n",
      "\n",
      "\u001b[96mEpoch: 2\n",
      "-----------------------------\u001b[0m\n",
      "Looked at 0/60000 samples\n",
      "Looked at 12800/60000 samples\n",
      "Looked at 25600/60000 samples\n",
      "Looked at 38400/60000 samples\n",
      "Looked at 51200/60000 samples\n",
      "\n",
      "\n",
      "\u001b[91m======================================================\u001b[0m\n",
      "\u001b[94mTrain loss: 0.06173 | Train accuracy: 98.11%\u001b[0m\n"
     ]
    },
    {
     "name": "stderr",
     "output_type": "stream",
     "text": [
      " 40%|████      | 2/5 [01:44<02:31, 50.64s/it]"
     ]
    },
    {
     "name": "stdout",
     "output_type": "stream",
     "text": [
      "\u001b[92mTest loss: 0.04087 | Test accuracy: 98.60%\u001b[0m\n",
      "\u001b[91m======================================================\u001b[0m\n",
      "\n",
      "\n",
      "\u001b[96mEpoch: 3\n",
      "-----------------------------\u001b[0m\n",
      "Looked at 0/60000 samples\n",
      "Looked at 12800/60000 samples\n",
      "Looked at 25600/60000 samples\n",
      "Looked at 38400/60000 samples\n",
      "Looked at 51200/60000 samples\n",
      "\n",
      "\n",
      "\u001b[91m======================================================\u001b[0m\n",
      "\u001b[94mTrain loss: 0.04602 | Train accuracy: 98.55%\u001b[0m\n"
     ]
    },
    {
     "name": "stderr",
     "output_type": "stream",
     "text": [
      " 60%|██████    | 3/5 [02:18<01:25, 42.94s/it]"
     ]
    },
    {
     "name": "stdout",
     "output_type": "stream",
     "text": [
      "\u001b[92mTest loss: 0.03867 | Test accuracy: 98.73%\u001b[0m\n",
      "\u001b[91m======================================================\u001b[0m\n",
      "\n",
      "\n",
      "\u001b[96mEpoch: 4\n",
      "-----------------------------\u001b[0m\n",
      "Looked at 0/60000 samples\n",
      "Looked at 12800/60000 samples\n",
      "Looked at 25600/60000 samples\n",
      "Looked at 38400/60000 samples\n",
      "Looked at 51200/60000 samples\n",
      "\n",
      "\n",
      "\u001b[91m======================================================\u001b[0m\n",
      "\u001b[94mTrain loss: 0.03761 | Train accuracy: 98.82%\u001b[0m\n"
     ]
    },
    {
     "name": "stderr",
     "output_type": "stream",
     "text": [
      " 80%|████████  | 4/5 [02:50<00:38, 38.77s/it]"
     ]
    },
    {
     "name": "stdout",
     "output_type": "stream",
     "text": [
      "\u001b[92mTest loss: 0.03553 | Test accuracy: 98.82%\u001b[0m\n",
      "\u001b[91m======================================================\u001b[0m\n",
      "\n",
      "\n",
      "\u001b[96mEpoch: 5\n",
      "-----------------------------\u001b[0m\n",
      "Looked at 0/60000 samples\n",
      "Looked at 12800/60000 samples\n",
      "Looked at 25600/60000 samples\n",
      "Looked at 38400/60000 samples\n",
      "Looked at 51200/60000 samples\n",
      "\n",
      "\n",
      "\u001b[91m======================================================\u001b[0m\n",
      "\u001b[94mTrain loss: 0.03106 | Train accuracy: 99.01%\u001b[0m\n"
     ]
    },
    {
     "name": "stderr",
     "output_type": "stream",
     "text": [
      "100%|██████████| 5/5 [03:23<00:00, 40.64s/it]"
     ]
    },
    {
     "name": "stdout",
     "output_type": "stream",
     "text": [
      "\u001b[92mTest loss: 0.03431 | Test accuracy: 98.86%\u001b[0m\n",
      "\u001b[91m======================================================\u001b[0m\n",
      "\n",
      "\n",
      "\u001b[95mTime taken = 3 minutes and 23.21 seconds\u001b[0m\n"
     ]
    },
    {
     "name": "stderr",
     "output_type": "stream",
     "text": [
      "\n"
     ]
    }
   ],
   "source": [
    "# Step 7: Train the model using helper functions\n",
    "from helper_functions import train_and_test_model\n",
    "\n",
    "train_and_test_model ( epochs = 5,\n",
    "                        model= number_model,\n",
    "                        loss_fn = loss_fn,\n",
    "                        acc_fn = acc_metric,\n",
    "                        optim = optm,\n",
    "                        train_dataloader = train_dataloader,\n",
    "                        test_dataloader = test_dataloader)"
   ]
  },
  {
   "cell_type": "markdown",
   "id": "9f25a129",
   "metadata": {},
   "source": [
    "## 8. Evaluate Model Performance\n",
    "\n",
    "After training, we evaluate the model's performance on the test set using a helper function."
   ]
  },
  {
   "cell_type": "code",
   "execution_count": 10,
   "id": "1bd7c627",
   "metadata": {},
   "outputs": [
    {
     "data": {
      "text/plain": [
       "{'model_name': 'MNIST_model',\n",
       " 'model_loss': 0.03430958464741707,\n",
       " 'model_acc': 98.86000156402588}"
      ]
     },
     "execution_count": 10,
     "metadata": {},
     "output_type": "execute_result"
    }
   ],
   "source": [
    "# Step 8: Evaluate the trained model on the test set\n",
    "from helper_functions import eval_model\n",
    "\n",
    "number_model_results = eval_model(model=number_model, \n",
    "                            data_loader=test_dataloader,\n",
    "                            loss_fn=loss_fn, \n",
    "                            accuracy_fn=acc_metric\n",
    ")\n",
    "number_model_results"
   ]
  },
  {
   "cell_type": "markdown",
   "id": "30aa115b",
   "metadata": {},
   "source": [
    "## 9. Make Predictions and Visualize Results\n",
    "\n",
    "We randomly select 16 test samples, make predictions, and visualize the results to see how well the model performs on unseen data."
   ]
  },
  {
   "cell_type": "code",
   "execution_count": 11,
   "id": "0ca069d0",
   "metadata": {},
   "outputs": [
    {
     "name": "stdout",
     "output_type": "stream",
     "text": [
      "Test sample image shape: torch.Size([1, 28, 28])\n",
      "Test sample label: 5 (5 - five)\n"
     ]
    }
   ],
   "source": [
    "# Step 9: Select random test samples and view their shapes and labels\n",
    "import random\n",
    "test_samples = []\n",
    "test_labels = []\n",
    "\n",
    "for sample, label in random.sample(list(test_data), k=16): # k=16 to get 16 random samples\n",
    "    test_samples.append(sample)\n",
    "    test_labels.append(label)\n",
    "\n",
    "# View the first test sample shape and label\n",
    "print(f\"Test sample image shape: {test_samples[0].shape}\\nTest sample label: {test_labels[0]} ({class_names[test_labels[0]]})\")"
   ]
  },
  {
   "cell_type": "code",
   "execution_count": 12,
   "id": "51e320c0",
   "metadata": {},
   "outputs": [
    {
     "data": {
      "text/plain": [
       "tensor([[1.4433e-08, 1.8091e-11, 5.5734e-12, 4.6154e-06, 1.2282e-10, 9.9997e-01,\n",
       "         7.3405e-09, 3.8424e-13, 3.2618e-06, 1.9003e-05],\n",
       "        [3.5723e-09, 1.7135e-12, 4.1328e-11, 1.4787e-04, 4.0344e-10, 9.9980e-01,\n",
       "         3.1979e-08, 1.2674e-11, 2.3272e-06, 5.1500e-05]])"
      ]
     },
     "execution_count": 12,
     "metadata": {},
     "output_type": "execute_result"
    }
   ],
   "source": [
    "# Make predictions on test samples using the trained model\n",
    "from helper_functions import make_predictions\n",
    "\n",
    "# Make predictions on test samples with model 2\n",
    "pred_probs= make_predictions(model=number_model, \n",
    "                            data=test_samples)\n",
    "\n",
    "# Get predicted classes by taking the argmax\n",
    "pred_classes = pred_probs.argmax(dim=1)\n",
    "\n",
    "# View first two prediction probabilities list\n",
    "pred_probs[:2]"
   ]
  },
  {
   "cell_type": "code",
   "execution_count": 13,
   "id": "53223d23",
   "metadata": {},
   "outputs": [
    {
     "data": {
      "image/png": "[encoded data removed]",
      "text/plain": [
       "<Figure size 1200x1200 with 16 Axes>"
      ]
     },
     "metadata": {},
     "output_type": "display_data"
    }
   ],
   "source": [
    "# Visualize predictions vs. true labels for the test samples\n",
    "from helper_functions import test_model_plot\n",
    "\n",
    "test_model_plot(test_samples= test_samples, \n",
    "                class_names=class_names, \n",
    "                pred_classes=pred_classes,\n",
    "                test_labels=test_labels)"
   ]
  },
  {
   "cell_type": "markdown",
   "id": "567c8831",
   "metadata": {},
   "source": [
    "## 10. Plot Confusion Matrix\n",
    "\n",
    "Finally, we plot a confusion matrix to visualize the model's performance across all classes. This helps identify which digits are most often confused by the model."
   ]
  },
  {
   "cell_type": "code",
   "execution_count": 14,
   "id": "ec49ce9a",
   "metadata": {},
   "outputs": [
    {
     "name": "stderr",
     "output_type": "stream",
     "text": [
      "Making predictions: 100%|██████████| 313/313 [00:03<00:00, 101.47it/s]\n"
     ]
    },
    {
     "data": {
      "image/png": "[encoded data removed]",
      "text/plain": [
       "<Figure size 1000x700 with 1 Axes>"
      ]
     },
     "metadata": {},
     "output_type": "display_data"
    }
   ],
   "source": [
    "# Step 10: Plot confusion matrix for the test set predictions\n",
    "from helper_functions import plot_conffusion_matrix\n",
    "\n",
    "plot_conffusion_matrix(model=number_model, \n",
    "                    dataloader=test_dataloader,\n",
    "                    class_names=class_names,\n",
    "                    test_data=test_data)"
   ]
  },
  {
   "cell_type": "markdown",
   "id": "ca7733a2",
   "metadata": {},
   "source": [
    "## 11. Save the Trained Model\n",
    "\n",
    "After evaluating the model, we save the trained model's state dictionary to disk using `torch.save`. This allows us to reload the model later for inference or further training."
   ]
  },
  {
   "cell_type": "code",
   "execution_count": 15,
   "id": "216485a9",
   "metadata": {},
   "outputs": [
    {
     "name": "stdout",
     "output_type": "stream",
     "text": [
      "Model saved to MNIST_Model.pth\n"
     ]
    }
   ],
   "source": [
    "# Step 11: Save the trained model to a file\n",
    "import torch\n",
    "\n",
    "MODEL_PATH = \"MNIST_Model.pth\"\n",
    "torch.save(\n",
    "    obj= number_model.state_dict(), \n",
    "    f= MODEL_PATH)\n",
    "print(f\"Model saved to {MODEL_PATH}\")"
   ]
  },
  {
   "cell_type": "markdown",
   "id": "200fb68b",
   "metadata": {},
   "source": [
    "## 12. Train with Custom Datasets\n",
    "\n",
    "In this section, we train the model with a custom MNIST dataset downloaded from KaggleHub. The dataset is in the form of numpy arrays (.npy files)."
   ]
  },
  {
   "cell_type": "markdown",
   "id": "df237749",
   "metadata": {},
   "source": [
    "### Download and Load Custom MNIST Numpy Dataset\n",
    "\n",
    "This section downloads the custom MNIST dataset from KaggleHub and loads the `.npy` files for images and labels."
   ]
  },
  {
   "cell_type": "code",
   "execution_count": 16,
   "id": "fbbafeb2",
   "metadata": {},
   "outputs": [
    {
     "name": "stdout",
     "output_type": "stream",
     "text": [
      "Path to dataset files: C:\\Users\\User\\.cache\\kagglehub\\datasets\\hichamachahboun\\mnist-handwritten-digits\\versions\\2\n"
     ]
    }
   ],
   "source": [
    "# Download the dataset using kagglehub and print the path\n",
    "import kagglehub\n",
    "\n",
    "# Download latest version of the dataset from KaggleHub\n",
    "path = kagglehub.dataset_download(\"hichamachahboun/mnist-handwritten-digits\")\n",
    "\n",
    "print(\"Path to dataset files:\", path)"
   ]
  },
  {
   "cell_type": "markdown",
   "id": "5b685ff0",
   "metadata": {},
   "source": [
    "### Load Numpy Arrays\n",
    "\n",
    "Load the train, validation, and test images and labels from the downloaded `.npy` files."
   ]
  },
  {
   "cell_type": "code",
   "execution_count": 17,
   "id": "a72847d6",
   "metadata": {},
   "outputs": [],
   "source": [
    "import numpy as np\n",
    "import os\n",
    "\n",
    "# Set the base path to the downloaded dataset files\n",
    "BASE_PATH = r\"C:\\Users\\User\\.cache\\kagglehub\\datasets\\hichamachahboun\\mnist-handwritten-digits\\versions\\2\"\n",
    "\n",
    "# Load the .npy files for images and labels\n",
    "train_val_images = np.load(os.path.join(BASE_PATH, \"train_images.npy\"))\n",
    "train_val_labels = np.load(os.path.join(BASE_PATH, \"train_labels.npy\"))\n",
    "test_images = np.load(os.path.join(BASE_PATH, \"test_images.npy\"))\n",
    "test_labels = np.load(os.path.join(BASE_PATH, \"test_labels.npy\"))"
   ]
  },
  {
   "cell_type": "markdown",
   "id": "f0441037",
   "metadata": {},
   "source": [
    "### Prepare Torch Tensors and Split Train/Validation\n",
    "\n",
    "Convert the numpy arrays to torch tensors, normalize pixel values to [0, 1], and split into train and validation sets."
   ]
  },
  {
   "cell_type": "code",
   "execution_count": 18,
   "id": "5430ac35",
   "metadata": {},
   "outputs": [
    {
     "name": "stdout",
     "output_type": "stream",
     "text": [
      "torch.Size([60000, 1, 28, 28])\n",
      "torch.float32\n"
     ]
    }
   ],
   "source": [
    "# Normalize pixel values to [0, 1] and convert to torch tensors\n",
    "train_val_images = torch.from_numpy(train_val_images).float().div(255).unsqueeze(1)  # [N, 1, 28, 28]\n",
    "train_val_labels = torch.from_numpy(train_val_labels).long()\n",
    "\n",
    "test_images = torch.from_numpy(test_images).float().div(255).unsqueeze(1)\n",
    "test_labels = torch.from_numpy(test_labels).long()\n",
    "\n",
    "\n",
    "# Split train/val (80% train, 20% val)\n",
    "split_idx = int(0.8 * len(train_val_images))\n",
    "train_images = train_val_images[:split_idx]\n",
    "train_labels = train_val_labels[:split_idx]\n",
    "\n",
    "val_images = train_val_images[split_idx:]\n",
    "val_labels = train_val_labels[split_idx:]\n",
    "\n",
    "print(train_val_images.shape)  # should be [60000, 1, 28, 28]\n",
    "print(train_val_images.dtype)  # should be torch.float32\n"
   ]
  },
  {
   "cell_type": "markdown",
   "id": "19131384",
   "metadata": {},
   "source": [
    "### Create TensorDatasets\n",
    "\n",
    "Wrap the train, validation, and test tensors in `TensorDataset` objects for use with PyTorch DataLoader."
   ]
  },
  {
   "cell_type": "code",
   "execution_count": 19,
   "id": "2b08edcc",
   "metadata": {},
   "outputs": [
    {
     "name": "stdout",
     "output_type": "stream",
     "text": [
      "<torch.utils.data.dataset.TensorDataset object at 0x000001C8151B58A0> <torch.utils.data.dataset.TensorDataset object at 0x000001C818ACAB60>\n"
     ]
    }
   ],
   "source": [
    "from torch.utils.data import TensorDataset\n",
    "\n",
    "# Create TensorDataset objects for train, validation, and test sets\n",
    "train_dataset = TensorDataset(train_images, train_labels)\n",
    "val_dataset = TensorDataset(val_images, val_labels)\n",
    "test_dataset = TensorDataset(test_images, test_labels)\n",
    "\n",
    "print(train_dataset, test_dataset)"
   ]
  },
  {
   "cell_type": "markdown",
   "id": "195af366",
   "metadata": {},
   "source": [
    "### Create DataLoaders and Inspect a Batch\n",
    "\n",
    "Create DataLoaders for the train and test sets, and inspect the shape of a batch."
   ]
  },
  {
   "cell_type": "code",
   "execution_count": 20,
   "id": "85b5689b",
   "metadata": {},
   "outputs": [
    {
     "name": "stdout",
     "output_type": "stream",
     "text": [
      "<torch.utils.data.dataloader.DataLoader object at 0x000001C81845DA50> <torch.utils.data.dataloader.DataLoader object at 0x000001C818AC8430>\n",
      "img = tensor([[[0.0000, 0.0000, 0.0000, 0.0000, 0.0000, 0.0000, 0.0000, 0.0000,\n",
      "          0.0000, 0.0000, 0.0000, 0.0000, 0.0000, 0.0000, 0.0000, 0.0000,\n",
      "          0.0000, 0.0000, 0.0000, 0.0000, 0.0000, 0.0000, 0.0000, 0.0000,\n",
      "          0.0000, 0.0000, 0.0000, 0.0000],\n",
      "         [0.0000, 0.0000, 0.0000, 0.0000, 0.0000, 0.0000, 0.0000, 0.0000,\n",
      "          0.0000, 0.0000, 0.0000, 0.0000, 0.0000, 0.0000, 0.0000, 0.0000,\n",
      "          0.0000, 0.0000, 0.0000, 0.0000, 0.0000, 0.0000, 0.0000, 0.0000,\n",
      "          0.0000, 0.0000, 0.0000, 0.0000],\n",
      "         [0.0000, 0.0000, 0.0000, 0.0000, 0.0000, 0.0000, 0.0000, 0.0000,\n",
      "          0.0000, 0.0000, 0.0000, 0.0000, 0.0000, 0.0000, 0.0000, 0.0000,\n",
      "          0.0000, 0.0000, 0.0000, 0.0000, 0.0000, 0.0000, 0.0000, 0.0000,\n",
      "          0.0000, 0.0000, 0.0000, 0.0000],\n",
      "         [0.0000, 0.0000, 0.0000, 0.0000, 0.0000, 0.0000, 0.0000, 0.0000,\n",
      "          0.0000, 0.0000, 0.0000, 0.0000, 0.0000, 0.0000, 0.0000, 0.0000,\n",
      "          0.0000, 0.0000, 0.0000, 0.0000, 0.0000, 0.0000, 0.0000, 0.0000,\n",
      "          0.0000, 0.0000, 0.0000, 0.0000],\n",
      "         [0.0000, 0.0000, 0.0000, 0.0000, 0.0000, 0.0000, 0.0000, 0.0000,\n",
      "          0.0000, 0.0000, 0.0000, 0.0000, 0.0000, 0.0000, 0.0000, 0.0000,\n",
      "          0.0000, 0.0000, 0.0000, 0.0000, 0.0000, 0.0000, 0.0000, 0.0000,\n",
      "          0.0000, 0.0000, 0.0000, 0.0000],\n",
      "         [0.0000, 0.0000, 0.0000, 0.0000, 0.0000, 0.0000, 0.0000, 0.0000,\n",
      "          0.0000, 0.0000, 0.0000, 0.0000, 0.0118, 0.0706, 0.0706, 0.0706,\n",
      "          0.4941, 0.5333, 0.6863, 0.1020, 0.6510, 1.0000, 0.9686, 0.4980,\n",
      "          0.0000, 0.0000, 0.0000, 0.0000],\n",
      "         [0.0000, 0.0000, 0.0000, 0.0000, 0.0000, 0.0000, 0.0000, 0.0000,\n",
      "          0.1176, 0.1412, 0.3686, 0.6039, 0.6667, 0.9922, 0.9922, 0.9922,\n",
      "          0.9922, 0.9922, 0.8824, 0.6745, 0.9922, 0.9490, 0.7647, 0.2510,\n",
      "          0.0000, 0.0000, 0.0000, 0.0000],\n",
      "         [0.0000, 0.0000, 0.0000, 0.0000, 0.0000, 0.0000, 0.0000, 0.1922,\n",
      "          0.9333, 0.9922, 0.9922, 0.9922, 0.9922, 0.9922, 0.9922, 0.9922,\n",
      "          0.9922, 0.9843, 0.3647, 0.3216, 0.3216, 0.2196, 0.1529, 0.0000,\n",
      "          0.0000, 0.0000, 0.0000, 0.0000],\n",
      "         [0.0000, 0.0000, 0.0000, 0.0000, 0.0000, 0.0000, 0.0000, 0.0706,\n",
      "          0.8588, 0.9922, 0.9922, 0.9922, 0.9922, 0.9922, 0.7765, 0.7137,\n",
      "          0.9686, 0.9451, 0.0000, 0.0000, 0.0000, 0.0000, 0.0000, 0.0000,\n",
      "          0.0000, 0.0000, 0.0000, 0.0000],\n",
      "         [0.0000, 0.0000, 0.0000, 0.0000, 0.0000, 0.0000, 0.0000, 0.0000,\n",
      "          0.3137, 0.6118, 0.4196, 0.9922, 0.9922, 0.8039, 0.0431, 0.0000,\n",
      "          0.1686, 0.6039, 0.0000, 0.0000, 0.0000, 0.0000, 0.0000, 0.0000,\n",
      "          0.0000, 0.0000, 0.0000, 0.0000],\n",
      "         [0.0000, 0.0000, 0.0000, 0.0000, 0.0000, 0.0000, 0.0000, 0.0000,\n",
      "          0.0000, 0.0549, 0.0039, 0.6039, 0.9922, 0.3529, 0.0000, 0.0000,\n",
      "          0.0000, 0.0000, 0.0000, 0.0000, 0.0000, 0.0000, 0.0000, 0.0000,\n",
      "          0.0000, 0.0000, 0.0000, 0.0000],\n",
      "         [0.0000, 0.0000, 0.0000, 0.0000, 0.0000, 0.0000, 0.0000, 0.0000,\n",
      "          0.0000, 0.0000, 0.0000, 0.5451, 0.9922, 0.7451, 0.0078, 0.0000,\n",
      "          0.0000, 0.0000, 0.0000, 0.0000, 0.0000, 0.0000, 0.0000, 0.0000,\n",
      "          0.0000, 0.0000, 0.0000, 0.0000],\n",
      "         [0.0000, 0.0000, 0.0000, 0.0000, 0.0000, 0.0000, 0.0000, 0.0000,\n",
      "          0.0000, 0.0000, 0.0000, 0.0431, 0.7451, 0.9922, 0.2745, 0.0000,\n",
      "          0.0000, 0.0000, 0.0000, 0.0000, 0.0000, 0.0000, 0.0000, 0.0000,\n",
      "          0.0000, 0.0000, 0.0000, 0.0000],\n",
      "         [0.0000, 0.0000, 0.0000, 0.0000, 0.0000, 0.0000, 0.0000, 0.0000,\n",
      "          0.0000, 0.0000, 0.0000, 0.0000, 0.1373, 0.9451, 0.8824, 0.6275,\n",
      "          0.4235, 0.0039, 0.0000, 0.0000, 0.0000, 0.0000, 0.0000, 0.0000,\n",
      "          0.0000, 0.0000, 0.0000, 0.0000],\n",
      "         [0.0000, 0.0000, 0.0000, 0.0000, 0.0000, 0.0000, 0.0000, 0.0000,\n",
      "          0.0000, 0.0000, 0.0000, 0.0000, 0.0000, 0.3176, 0.9412, 0.9922,\n",
      "          0.9922, 0.4667, 0.0980, 0.0000, 0.0000, 0.0000, 0.0000, 0.0000,\n",
      "          0.0000, 0.0000, 0.0000, 0.0000],\n",
      "         [0.0000, 0.0000, 0.0000, 0.0000, 0.0000, 0.0000, 0.0000, 0.0000,\n",
      "          0.0000, 0.0000, 0.0000, 0.0000, 0.0000, 0.0000, 0.1765, 0.7294,\n",
      "          0.9922, 0.9922, 0.5882, 0.1059, 0.0000, 0.0000, 0.0000, 0.0000,\n",
      "          0.0000, 0.0000, 0.0000, 0.0000],\n",
      "         [0.0000, 0.0000, 0.0000, 0.0000, 0.0000, 0.0000, 0.0000, 0.0000,\n",
      "          0.0000, 0.0000, 0.0000, 0.0000, 0.0000, 0.0000, 0.0000, 0.0627,\n",
      "          0.3647, 0.9882, 0.9922, 0.7333, 0.0000, 0.0000, 0.0000, 0.0000,\n",
      "          0.0000, 0.0000, 0.0000, 0.0000],\n",
      "         [0.0000, 0.0000, 0.0000, 0.0000, 0.0000, 0.0000, 0.0000, 0.0000,\n",
      "          0.0000, 0.0000, 0.0000, 0.0000, 0.0000, 0.0000, 0.0000, 0.0000,\n",
      "          0.0000, 0.9765, 0.9922, 0.9765, 0.2510, 0.0000, 0.0000, 0.0000,\n",
      "          0.0000, 0.0000, 0.0000, 0.0000],\n",
      "         [0.0000, 0.0000, 0.0000, 0.0000, 0.0000, 0.0000, 0.0000, 0.0000,\n",
      "          0.0000, 0.0000, 0.0000, 0.0000, 0.0000, 0.0000, 0.1804, 0.5098,\n",
      "          0.7176, 0.9922, 0.9922, 0.8118, 0.0078, 0.0000, 0.0000, 0.0000,\n",
      "          0.0000, 0.0000, 0.0000, 0.0000],\n",
      "         [0.0000, 0.0000, 0.0000, 0.0000, 0.0000, 0.0000, 0.0000, 0.0000,\n",
      "          0.0000, 0.0000, 0.0000, 0.0000, 0.1529, 0.5804, 0.8980, 0.9922,\n",
      "          0.9922, 0.9922, 0.9804, 0.7137, 0.0000, 0.0000, 0.0000, 0.0000,\n",
      "          0.0000, 0.0000, 0.0000, 0.0000],\n",
      "         [0.0000, 0.0000, 0.0000, 0.0000, 0.0000, 0.0000, 0.0000, 0.0000,\n",
      "          0.0000, 0.0000, 0.0941, 0.4471, 0.8667, 0.9922, 0.9922, 0.9922,\n",
      "          0.9922, 0.7882, 0.3059, 0.0000, 0.0000, 0.0000, 0.0000, 0.0000,\n",
      "          0.0000, 0.0000, 0.0000, 0.0000],\n",
      "         [0.0000, 0.0000, 0.0000, 0.0000, 0.0000, 0.0000, 0.0000, 0.0000,\n",
      "          0.0902, 0.2588, 0.8353, 0.9922, 0.9922, 0.9922, 0.9922, 0.7765,\n",
      "          0.3176, 0.0078, 0.0000, 0.0000, 0.0000, 0.0000, 0.0000, 0.0000,\n",
      "          0.0000, 0.0000, 0.0000, 0.0000],\n",
      "         [0.0000, 0.0000, 0.0000, 0.0000, 0.0000, 0.0000, 0.0706, 0.6706,\n",
      "          0.8588, 0.9922, 0.9922, 0.9922, 0.9922, 0.7647, 0.3137, 0.0353,\n",
      "          0.0000, 0.0000, 0.0000, 0.0000, 0.0000, 0.0000, 0.0000, 0.0000,\n",
      "          0.0000, 0.0000, 0.0000, 0.0000],\n",
      "         [0.0000, 0.0000, 0.0000, 0.0000, 0.2157, 0.6745, 0.8863, 0.9922,\n",
      "          0.9922, 0.9922, 0.9922, 0.9569, 0.5216, 0.0431, 0.0000, 0.0000,\n",
      "          0.0000, 0.0000, 0.0000, 0.0000, 0.0000, 0.0000, 0.0000, 0.0000,\n",
      "          0.0000, 0.0000, 0.0000, 0.0000],\n",
      "         [0.0000, 0.0000, 0.0000, 0.0000, 0.5333, 0.9922, 0.9922, 0.9922,\n",
      "          0.8314, 0.5294, 0.5176, 0.0627, 0.0000, 0.0000, 0.0000, 0.0000,\n",
      "          0.0000, 0.0000, 0.0000, 0.0000, 0.0000, 0.0000, 0.0000, 0.0000,\n",
      "          0.0000, 0.0000, 0.0000, 0.0000],\n",
      "         [0.0000, 0.0000, 0.0000, 0.0000, 0.0000, 0.0000, 0.0000, 0.0000,\n",
      "          0.0000, 0.0000, 0.0000, 0.0000, 0.0000, 0.0000, 0.0000, 0.0000,\n",
      "          0.0000, 0.0000, 0.0000, 0.0000, 0.0000, 0.0000, 0.0000, 0.0000,\n",
      "          0.0000, 0.0000, 0.0000, 0.0000],\n",
      "         [0.0000, 0.0000, 0.0000, 0.0000, 0.0000, 0.0000, 0.0000, 0.0000,\n",
      "          0.0000, 0.0000, 0.0000, 0.0000, 0.0000, 0.0000, 0.0000, 0.0000,\n",
      "          0.0000, 0.0000, 0.0000, 0.0000, 0.0000, 0.0000, 0.0000, 0.0000,\n",
      "          0.0000, 0.0000, 0.0000, 0.0000],\n",
      "         [0.0000, 0.0000, 0.0000, 0.0000, 0.0000, 0.0000, 0.0000, 0.0000,\n",
      "          0.0000, 0.0000, 0.0000, 0.0000, 0.0000, 0.0000, 0.0000, 0.0000,\n",
      "          0.0000, 0.0000, 0.0000, 0.0000, 0.0000, 0.0000, 0.0000, 0.0000,\n",
      "          0.0000, 0.0000, 0.0000, 0.0000]]])\n",
      "label = 5\n",
      "torch.Size([32, 1, 28, 28])\n"
     ]
    }
   ],
   "source": [
    "from torchvision import datasets, transforms\n",
    "from torch.utils.data import DataLoader, random_split\n",
    "\n",
    "# Dataloaders for the custom MNIST dataset\n",
    "train_loader = DataLoader(train_dataset, batch_size=32, shuffle=True)\n",
    "test_loader = DataLoader(test_dataset, batch_size=32, shuffle=False)\n",
    "\n",
    "print(train_loader, test_loader)\n",
    "\n",
    "# Show a sample image and label from the train set\n",
    "img, label = train_dataset[0]\n",
    "print(f\"img = {img}\")\n",
    "print(f\"label = {label}\")\n",
    "\n",
    "# Inspect the shape of a batch\n",
    "for batch in train_loader:\n",
    "    x, y = batch\n",
    "    print(x.shape)\n",
    "    break"
   ]
  },
  {
   "cell_type": "markdown",
   "id": "e38936b5",
   "metadata": {},
   "source": [
    "### Visualize Example Images from the Custom Dataset\n",
    "\n",
    "Use the helper function to plot a grid of example images from the custom dataset."
   ]
  },
  {
   "cell_type": "code",
   "execution_count": 21,
   "id": "389df89a",
   "metadata": {},
   "outputs": [
    {
     "data": {
      "image/png": "[encoded data removed]",
      "text/plain": [
       "<Figure size 900x900 with 16 Axes>"
      ]
     },
     "metadata": {},
     "output_type": "display_data"
    }
   ],
   "source": [
    "# Plot example images using a helper function\n",
    "from matplotlib import pyplot as plt\n",
    "from helper_functions import plot_example\n",
    "\n",
    "plot_example(train_data=train_dataset, class_names=class_names)"
   ]
  },
  {
   "cell_type": "markdown",
   "id": "e0478124",
   "metadata": {},
   "source": [
    "### Train the Model on the Custom Dataset\n",
    "\n",
    "Train the model using the custom dataset DataLoaders."
   ]
  },
  {
   "cell_type": "code",
   "execution_count": 22,
   "id": "d380c89f",
   "metadata": {},
   "outputs": [
    {
     "name": "stderr",
     "output_type": "stream",
     "text": [
      "  0%|          | 0/5 [00:00<?, ?it/s]"
     ]
    },
    {
     "name": "stdout",
     "output_type": "stream",
     "text": [
      "\u001b[96mEpoch: 1\n",
      "-----------------------------\u001b[0m\n",
      "Looked at 0/48000 samples\n",
      "Looked at 12800/48000 samples\n",
      "Looked at 25600/48000 samples\n",
      "Looked at 38400/48000 samples\n",
      "\n",
      "\n",
      "\u001b[91m======================================================\u001b[0m\n",
      "\u001b[94mTrain loss: 0.02748 | Train accuracy: 99.14%\u001b[0m\n"
     ]
    },
    {
     "name": "stderr",
     "output_type": "stream",
     "text": [
      " 20%|██        | 1/5 [00:31<02:07, 31.93s/it]"
     ]
    },
    {
     "name": "stdout",
     "output_type": "stream",
     "text": [
      "\u001b[92mTest loss: 0.03069 | Test accuracy: 99.03%\u001b[0m\n",
      "\u001b[91m======================================================\u001b[0m\n",
      "\n",
      "\n",
      "\u001b[96mEpoch: 2\n",
      "-----------------------------\u001b[0m\n",
      "Looked at 0/48000 samples\n",
      "Looked at 12800/48000 samples\n",
      "Looked at 25600/48000 samples\n",
      "Looked at 38400/48000 samples\n",
      "\n",
      "\n",
      "\u001b[91m======================================================\u001b[0m\n",
      "\u001b[94mTrain loss: 0.02261 | Train accuracy: 99.26%\u001b[0m\n"
     ]
    },
    {
     "name": "stderr",
     "output_type": "stream",
     "text": [
      " 40%|████      | 2/5 [00:56<01:23, 27.79s/it]"
     ]
    },
    {
     "name": "stdout",
     "output_type": "stream",
     "text": [
      "\u001b[92mTest loss: 0.02944 | Test accuracy: 99.13%\u001b[0m\n",
      "\u001b[91m======================================================\u001b[0m\n",
      "\n",
      "\n",
      "\u001b[96mEpoch: 3\n",
      "-----------------------------\u001b[0m\n",
      "Looked at 0/48000 samples\n",
      "Looked at 12800/48000 samples\n",
      "Looked at 25600/48000 samples\n",
      "Looked at 38400/48000 samples\n",
      "\n",
      "\n",
      "\u001b[91m======================================================\u001b[0m\n",
      "\u001b[94mTrain loss: 0.02045 | Train accuracy: 99.35%\u001b[0m\n"
     ]
    },
    {
     "name": "stderr",
     "output_type": "stream",
     "text": [
      " 60%|██████    | 3/5 [01:23<00:54, 27.16s/it]"
     ]
    },
    {
     "name": "stdout",
     "output_type": "stream",
     "text": [
      "\u001b[92mTest loss: 0.03061 | Test accuracy: 99.11%\u001b[0m\n",
      "\u001b[91m======================================================\u001b[0m\n",
      "\n",
      "\n",
      "\u001b[96mEpoch: 4\n",
      "-----------------------------\u001b[0m\n",
      "Looked at 0/48000 samples\n",
      "Looked at 12800/48000 samples\n",
      "Looked at 25600/48000 samples\n",
      "Looked at 38400/48000 samples\n",
      "\n",
      "\n",
      "\u001b[91m======================================================\u001b[0m\n",
      "\u001b[94mTrain loss: 0.01757 | Train accuracy: 99.46%\u001b[0m\n"
     ]
    },
    {
     "name": "stderr",
     "output_type": "stream",
     "text": [
      " 80%|████████  | 4/5 [01:47<00:26, 26.20s/it]"
     ]
    },
    {
     "name": "stdout",
     "output_type": "stream",
     "text": [
      "\u001b[92mTest loss: 0.03340 | Test accuracy: 98.91%\u001b[0m\n",
      "\u001b[91m======================================================\u001b[0m\n",
      "\n",
      "\n",
      "\u001b[96mEpoch: 5\n",
      "-----------------------------\u001b[0m\n",
      "Looked at 0/48000 samples\n",
      "Looked at 12800/48000 samples\n",
      "Looked at 25600/48000 samples\n",
      "Looked at 38400/48000 samples\n",
      "\n",
      "\n",
      "\u001b[91m======================================================\u001b[0m\n",
      "\u001b[94mTrain loss: 0.01693 | Train accuracy: 99.40%\u001b[0m\n"
     ]
    },
    {
     "name": "stderr",
     "output_type": "stream",
     "text": [
      "100%|██████████| 5/5 [02:09<00:00, 25.95s/it]"
     ]
    },
    {
     "name": "stdout",
     "output_type": "stream",
     "text": [
      "\u001b[92mTest loss: 0.03145 | Test accuracy: 99.08%\u001b[0m\n",
      "\u001b[91m======================================================\u001b[0m\n",
      "\n",
      "\n",
      "\u001b[95mTime taken = 2 minutes and 9.73 seconds\u001b[0m\n"
     ]
    },
    {
     "name": "stderr",
     "output_type": "stream",
     "text": [
      "\n"
     ]
    }
   ],
   "source": [
    "from helper_functions import train_and_test_model\n",
    "\n",
    "# Train the model using the custom dataset\n",
    "train_and_test_model ( epochs = 5,\n",
    "                        model= number_model,\n",
    "                        loss_fn = loss_fn,\n",
    "                        acc_fn = acc_metric,\n",
    "                        optim = optm,\n",
    "                        train_dataloader = train_loader,\n",
    "                        test_dataloader = test_loader)"
   ]
  },
  {
   "cell_type": "markdown",
   "id": "5044904b",
   "metadata": {},
   "source": [
    "### Save the Trained Model\n",
    "\n",
    "Save the trained model's state dictionary to disk."
   ]
  },
  {
   "cell_type": "code",
   "execution_count": 23,
   "id": "bdd32ee1",
   "metadata": {},
   "outputs": [
    {
     "name": "stdout",
     "output_type": "stream",
     "text": [
      "Model saved to MNIST_Model.pth\n"
     ]
    }
   ],
   "source": [
    "import torch\n",
    "\n",
    "# Save the trained model to a file\n",
    "MODEL_PATH = \"MNIST_Model.pth\"\n",
    "torch.save(\n",
    "    obj= number_model.state_dict(), \n",
    "    f= MODEL_PATH)\n",
    "print(f\"Model saved to {MODEL_PATH}\")"
   ]
  },
  {
   "cell_type": "markdown",
   "id": "49f44222",
   "metadata": {},
   "source": [
    "### Plot Confusion Matrix for TensorDataset\n",
    "\n",
    "Use the helper function to plot a confusion matrix for predictions on a TensorDataset (e.g., from torch TensorDataset)."
   ]
  },
  {
   "cell_type": "code",
   "execution_count": 24,
   "id": "51165679",
   "metadata": {},
   "outputs": [],
   "source": [
    "def plot_confusion_matrix_tensor_dataset(model, dataloader, class_names, test_dataset):\n",
    "    \"\"\"\n",
    "    Plots a confusion matrix for predictions of a model on a TensorDataset (e.g., from torch TensorDataset).\n",
    "\n",
    "    Args:\n",
    "        model (nn.Module): Trained PyTorch model to evaluate.\n",
    "        dataloader (DataLoader): DataLoader for the test dataset.\n",
    "        class_names (list): List of class names for the dataset.\n",
    "        test_dataset (TensorDataset): The original test dataset (used for true labels).\n",
    "\n",
    "    Returns:\n",
    "        None. Displays the confusion matrix plot.\n",
    "    \"\"\"\n",
    "    from torchmetrics import ConfusionMatrix\n",
    "    from mlxtend.plotting import plot_confusion_matrix\n",
    "    import torch\n",
    "\n",
    "    # 1. Make predictions with trained model\n",
    "    y_preds = []\n",
    "    model.eval()\n",
    "    with torch.inference_mode():\n",
    "        for X, y in tqdm(dataloader, desc=\"Making predictions\"):\n",
    "            y_logits = model(X)\n",
    "            y_pred = torch.softmax(y_logits, dim=1).argmax(dim=1)\n",
    "            y_preds.append(y_pred)\n",
    "        y_pred_tensor = torch.cat(y_preds)\n",
    "\n",
    "    # 2. Get all true labels from the TensorDataset\n",
    "    # test_dataset.tensors[1] is the label tensor\n",
    "    y_true_tensor = test_dataset.tensors[1]\n",
    "\n",
    "    # 3. Setup confusion matrix instance and compare predictions to targets\n",
    "    con_mat = ConfusionMatrix(num_classes=len(class_names), task=\"multiclass\")\n",
    "    con_mat_tensor = con_mat(preds=y_pred_tensor, target=y_true_tensor)\n",
    "\n",
    "    # 4. Plot the confusion matrix\n",
    "    fig, ax = plot_confusion_matrix(\n",
    "        conf_mat=con_mat_tensor.numpy(),\n",
    "        class_names=class_names,\n",
    "        figsize=(10, 7)\n",
    "    )"
   ]
  },
  {
   "cell_type": "code",
   "execution_count": 26,
   "id": "96d73113",
   "metadata": {},
   "outputs": [
    {
     "name": "stderr",
     "output_type": "stream",
     "text": [
      "Making predictions: 100%|██████████| 313/313 [00:01<00:00, 193.62it/s]\n"
     ]
    },
    {
     "data": {
      "image/png": "[encoded data removed]",
      "text/plain": [
       "<Figure size 1000x700 with 1 Axes>"
      ]
     },
     "metadata": {},
     "output_type": "display_data"
    }
   ],
   "source": [
    "from tqdm.auto import tqdm\n",
    "plot_confusion_matrix_tensor_dataset(model=number_model, \n",
    "                    dataloader=test_loader,\n",
    "                    class_names=class_names,\n",
    "                    test_dataset=test_dataset)"
   ]
  },
  {
   "cell_type": "markdown",
   "id": "5095353f",
   "metadata": {},
   "source": [
    "### (Optional) Load and Train on Japanese Handwritten Digits Dataset\n",
    "\n",
    "This section demonstrates how to load and train on another custom dataset (Japanese Handwritten Digits) using the same workflow."
   ]
  },
  {
   "cell_type": "code",
   "execution_count": 27,
   "id": "efa512c4",
   "metadata": {},
   "outputs": [
    {
     "name": "stdout",
     "output_type": "stream",
     "text": [
      "Path to dataset files: C:\\Users\\User\\.cache\\kagglehub\\datasets\\anwarzalek\\japanese-handwritten-digits\\versions\\1\n"
     ]
    }
   ],
   "source": [
    "import kagglehub\n",
    "\n",
    "# Download latest version\n",
    "path = kagglehub.dataset_download(\"anwarzalek/japanese-handwritten-digits\")\n",
    "\n",
    "print(\"Path to dataset files:\", path)"
   ]
  },
  {
   "cell_type": "code",
   "execution_count": 28,
   "id": "1be8db95",
   "metadata": {},
   "outputs": [
    {
     "name": "stdout",
     "output_type": "stream",
     "text": [
      "Train samples: 10800\n",
      "Test samples: 2700\n",
      "Classes: ['00', '01', '02', '03', '04', '05', '06', '07', '08', '09']\n"
     ]
    }
   ],
   "source": [
    "# Set the base path to the downloaded dataset files\n",
    "BASE_PATH = r\"C:\\Users\\User\\.cache\\kagglehub\\datasets\\anwarzalek\\japanese-handwritten-digits\\versions\\1\\Japanese Handwritten Digits\"\n",
    "\n",
    "from torch.utils.data import random_split, DataLoader\n",
    "\n",
    "# Define transforms (e.g., resize, grayscale, tensor conversion, normalize)\n",
    "transform = transforms.Compose([\n",
    "    transforms.Grayscale(num_output_channels=1),  # In case images are RGB\n",
    "    transforms.Resize((28, 28)),\n",
    "    transforms.ToTensor(),\n",
    "    transforms.Normalize((0.5,), (0.5,))  # Normalize to [-1, 1]\n",
    "])\n",
    "\n",
    "# Load dataset using ImageFolder\n",
    "full_dataset = datasets.ImageFolder(root=BASE_PATH, transform=transform)\n",
    "\n",
    "# Split dataset into train and test\n",
    "train_size = int(0.8 * len(full_dataset))\n",
    "test_size = len(full_dataset) - train_size\n",
    "train_dataset, test_dataset = random_split(full_dataset, [train_size, test_size])\n",
    "\n",
    "# Create DataLoaders\n",
    "train_loader = DataLoader(train_dataset, batch_size=32, shuffle=True)\n",
    "test_loader = DataLoader(test_dataset, batch_size=32, shuffle=False)\n",
    "\n",
    "# Print to verify\n",
    "print(f\"Train samples: {len(train_dataset)}\")\n",
    "print(f\"Test samples: {len(test_dataset)}\")\n",
    "print(f\"Classes: {full_dataset.classes}\")\n"
   ]
  },
  {
   "cell_type": "code",
   "execution_count": 29,
   "id": "35c49a54",
   "metadata": {},
   "outputs": [
    {
     "data": {
      "image/png": "[encoded data removed]",
      "text/plain": [
       "<Figure size 900x900 with 16 Axes>"
      ]
     },
     "metadata": {},
     "output_type": "display_data"
    }
   ],
   "source": [
    "plot_example(train_data=train_dataset, class_names=class_names)"
   ]
  },
  {
   "cell_type": "code",
   "execution_count": 30,
   "id": "bbd513a7",
   "metadata": {},
   "outputs": [
    {
     "name": "stderr",
     "output_type": "stream",
     "text": [
      "  0%|          | 0/5 [00:00<?, ?it/s]"
     ]
    },
    {
     "name": "stdout",
     "output_type": "stream",
     "text": [
      "\u001b[96mEpoch: 1\n",
      "-----------------------------\u001b[0m\n",
      "Looked at 0/10800 samples\n",
      "\n",
      "\n",
      "\u001b[91m======================================================\u001b[0m\n",
      "\u001b[94mTrain loss: 0.24346 | Train accuracy: 93.44%\u001b[0m\n"
     ]
    },
    {
     "name": "stderr",
     "output_type": "stream",
     "text": [
      " 20%|██        | 1/5 [00:17<01:11, 17.90s/it]"
     ]
    },
    {
     "name": "stdout",
     "output_type": "stream",
     "text": [
      "\u001b[92mTest loss: 0.20463 | Test accuracy: 94.70%\u001b[0m\n",
      "\u001b[91m======================================================\u001b[0m\n",
      "\n",
      "\n",
      "\u001b[96mEpoch: 2\n",
      "-----------------------------\u001b[0m\n",
      "Looked at 0/10800 samples\n",
      "\n",
      "\n",
      "\u001b[91m======================================================\u001b[0m\n",
      "\u001b[94mTrain loss: 0.14374 | Train accuracy: 96.05%\u001b[0m\n"
     ]
    },
    {
     "name": "stderr",
     "output_type": "stream",
     "text": [
      " 40%|████      | 2/5 [00:30<00:43, 14.52s/it]"
     ]
    },
    {
     "name": "stdout",
     "output_type": "stream",
     "text": [
      "\u001b[92mTest loss: 0.19721 | Test accuracy: 94.52%\u001b[0m\n",
      "\u001b[91m======================================================\u001b[0m\n",
      "\n",
      "\n",
      "\u001b[96mEpoch: 3\n",
      "-----------------------------\u001b[0m\n",
      "Looked at 0/10800 samples\n",
      "\n",
      "\n",
      "\u001b[91m======================================================\u001b[0m\n",
      "\u001b[94mTrain loss: 0.11353 | Train accuracy: 97.06%\u001b[0m\n"
     ]
    },
    {
     "name": "stderr",
     "output_type": "stream",
     "text": [
      " 60%|██████    | 3/5 [00:42<00:26, 13.48s/it]"
     ]
    },
    {
     "name": "stdout",
     "output_type": "stream",
     "text": [
      "\u001b[92mTest loss: 0.18740 | Test accuracy: 95.04%\u001b[0m\n",
      "\u001b[91m======================================================\u001b[0m\n",
      "\n",
      "\n",
      "\u001b[96mEpoch: 4\n",
      "-----------------------------\u001b[0m\n",
      "Looked at 0/10800 samples\n",
      "\n",
      "\n",
      "\u001b[91m======================================================\u001b[0m\n",
      "\u001b[94mTrain loss: 0.09792 | Train accuracy: 97.33%\u001b[0m\n"
     ]
    },
    {
     "name": "stderr",
     "output_type": "stream",
     "text": [
      " 80%|████████  | 4/5 [00:53<00:12, 12.50s/it]"
     ]
    },
    {
     "name": "stdout",
     "output_type": "stream",
     "text": [
      "\u001b[92mTest loss: 0.16087 | Test accuracy: 95.89%\u001b[0m\n",
      "\u001b[91m======================================================\u001b[0m\n",
      "\n",
      "\n",
      "\u001b[96mEpoch: 5\n",
      "-----------------------------\u001b[0m\n",
      "Looked at 0/10800 samples\n",
      "\n",
      "\n",
      "\u001b[91m======================================================\u001b[0m\n",
      "\u001b[94mTrain loss: 0.08156 | Train accuracy: 98.03%\u001b[0m\n"
     ]
    },
    {
     "name": "stderr",
     "output_type": "stream",
     "text": [
      "100%|██████████| 5/5 [01:04<00:00, 12.82s/it]"
     ]
    },
    {
     "name": "stdout",
     "output_type": "stream",
     "text": [
      "\u001b[92mTest loss: 0.17288 | Test accuracy: 96.15%\u001b[0m\n",
      "\u001b[91m======================================================\u001b[0m\n",
      "\n",
      "\n",
      "\u001b[95mTime taken = 1 minutes and 4.12 seconds\u001b[0m\n"
     ]
    },
    {
     "name": "stderr",
     "output_type": "stream",
     "text": [
      "\n"
     ]
    }
   ],
   "source": [
    "# Train the model using the Japanese Handwritten Digits dataset\n",
    "train_and_test_model ( epochs = 5,\n",
    "                        model= number_model,\n",
    "                        loss_fn = loss_fn,\n",
    "                        acc_fn = acc_metric,\n",
    "                        optim = optm,\n",
    "                        train_dataloader = train_loader,\n",
    "                        test_dataloader = test_loader)"
   ]
  },
  {
   "cell_type": "code",
   "execution_count": 31,
   "id": "ca0789ea",
   "metadata": {},
   "outputs": [
    {
     "name": "stdout",
     "output_type": "stream",
     "text": [
      "Model saved to MNIST_Model.pth\n"
     ]
    }
   ],
   "source": [
    "# Save the trained model after training on the Japanese dataset\n",
    "import torch\n",
    "\n",
    "MODEL_PATH = \"MNIST_Model.pth\"\n",
    "torch.save(\n",
    "    obj= number_model.state_dict(), \n",
    "    f= MODEL_PATH)\n",
    "print(f\"Model saved to {MODEL_PATH}\")"
   ]
  },
  {
   "cell_type": "code",
   "execution_count": 33,
   "id": "027ffca7",
   "metadata": {},
   "outputs": [
    {
     "name": "stderr",
     "output_type": "stream",
     "text": [
      "Making predictions: 100%|██████████| 85/85 [00:01<00:00, 44.64it/s]\n"
     ]
    },
    {
     "ename": "AttributeError",
     "evalue": "'Subset' object has no attribute 'tensors'",
     "output_type": "error",
     "traceback": [
      "\u001b[1;31m---------------------------------------------------------------------------\u001b[0m",
      "\u001b[1;31mAttributeError\u001b[0m                            Traceback (most recent call last)",
      "Cell \u001b[1;32mIn[33], line 2\u001b[0m\n\u001b[0;32m      1\u001b[0m \u001b[38;5;66;03m# Plot confusion matrix for the Japanese Handwritten Digits dataset\u001b[39;00m\n\u001b[1;32m----> 2\u001b[0m \u001b[43mplot_confusion_matrix_tensor_dataset\u001b[49m\u001b[43m(\u001b[49m\u001b[43mmodel\u001b[49m\u001b[38;5;241;43m=\u001b[39;49m\u001b[43mnumber_model\u001b[49m\u001b[43m,\u001b[49m\u001b[43m \u001b[49m\n\u001b[0;32m      3\u001b[0m \u001b[43m                    \u001b[49m\u001b[43mdataloader\u001b[49m\u001b[38;5;241;43m=\u001b[39;49m\u001b[43mtest_loader\u001b[49m\u001b[43m,\u001b[49m\n\u001b[0;32m      4\u001b[0m \u001b[43m                    \u001b[49m\u001b[43mclass_names\u001b[49m\u001b[38;5;241;43m=\u001b[39;49m\u001b[43mclass_names\u001b[49m\u001b[43m,\u001b[49m\n\u001b[0;32m      5\u001b[0m \u001b[43m                    \u001b[49m\u001b[43mtest_dataset\u001b[49m\u001b[38;5;241;43m=\u001b[39;49m\u001b[43mtest_dataset\u001b[49m\u001b[43m)\u001b[49m\n",
      "Cell \u001b[1;32mIn[24], line 30\u001b[0m, in \u001b[0;36mplot_confusion_matrix_tensor_dataset\u001b[1;34m(model, dataloader, class_names, test_dataset)\u001b[0m\n\u001b[0;32m     26\u001b[0m     y_pred_tensor \u001b[38;5;241m=\u001b[39m torch\u001b[38;5;241m.\u001b[39mcat(y_preds)\n\u001b[0;32m     28\u001b[0m \u001b[38;5;66;03m# 2. Get all true labels from the TensorDataset\u001b[39;00m\n\u001b[0;32m     29\u001b[0m \u001b[38;5;66;03m# test_dataset.tensors[1] is the label tensor\u001b[39;00m\n\u001b[1;32m---> 30\u001b[0m y_true_tensor \u001b[38;5;241m=\u001b[39m \u001b[43mtest_dataset\u001b[49m\u001b[38;5;241;43m.\u001b[39;49m\u001b[43mtensors\u001b[49m[\u001b[38;5;241m1\u001b[39m]\n\u001b[0;32m     32\u001b[0m \u001b[38;5;66;03m# 3. Setup confusion matrix instance and compare predictions to targets\u001b[39;00m\n\u001b[0;32m     33\u001b[0m con_mat \u001b[38;5;241m=\u001b[39m ConfusionMatrix(num_classes\u001b[38;5;241m=\u001b[39m\u001b[38;5;28mlen\u001b[39m(class_names), task\u001b[38;5;241m=\u001b[39m\u001b[38;5;124m\"\u001b[39m\u001b[38;5;124mmulticlass\u001b[39m\u001b[38;5;124m\"\u001b[39m)\n",
      "\u001b[1;31mAttributeError\u001b[0m: 'Subset' object has no attribute 'tensors'"
     ]
    }
   ],
   "source": [
    "# Plot confusion matrix for the Japanese Handwritten Digits dataset\n",
    "plot_confusion_matrix_tensor_dataset(model=number_model, \n",
    "                    dataloader=test_loader,\n",
    "                    class_names=class_names,\n",
    "                    test_dataset=test_dataset)"
   ]
  },
  {
   "cell_type": "markdown",
   "id": "4f45b0f4",
   "metadata": {},
   "source": [
    "---\n",
    "\n",
    "## Summary\n",
    "\n",
    "This notebook demonstrated a complete workflow for digit classification using PyTorch, including data loading, visualization, model definition, training, evaluation, and working with custom datasets. You can adapt this workflow to other image classification tasks by changing the dataset and adjusting the model architecture as needed."
   ]
  },
  {
   "cell_type": "markdown",
   "id": "c61c1b67",
   "metadata": {},
   "source": []
  },
  {
   "cell_type": "markdown",
   "id": "0c861355",
   "metadata": {},
   "source": []
  }
 ],
 "metadata": {
  "kernelspec": {
   "display_name": ".venv",
   "language": "python",
   "name": "python3"
  },
  "language_info": {
   "codemirror_mode": {
    "name": "ipython",
    "version": 3
   },
   "file_extension": ".py",
   "mimetype": "text/x-python",
   "name": "python",
   "nbconvert_exporter": "python",
   "pygments_lexer": "ipython3",
   "version": "3.10.5"
  }
 },
 "nbformat": 4,
 "nbformat_minor": 5
}
