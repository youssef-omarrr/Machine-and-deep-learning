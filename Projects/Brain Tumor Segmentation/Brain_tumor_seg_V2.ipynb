{
 "cells": [
  {
   "cell_type": "markdown",
   "id": "72f5ee8b",
   "metadata": {},
   "source": [
    "# Brain Tumor Segmentation — DeepLabV3 Transfer Learning (v2)\n",
    "\n",
    "This notebook fine-tunes a pretrained DeepLabV3 (ResNet-50) model from torchvision for binary brain tumor segmentation on single-channel (grayscale) MRI slices.\n",
    "\n",
    "Primary goals:\n",
    "\n",
    "- Adapt a pretrained DeepLabV3 model to accept 1-channel input and output two classes (background vs tumor).\n",
    "- Freeze the ResNet backbone and fine-tune the segmentation heads to leverage pretrained features while reducing training time.\n",
    "- Create a robust PyTorch Dataset and DataLoaders for grayscale images and binary masks.\n",
    "- Use Dice loss and MONAI's Dice metric for segmentation-specific optimization and evaluation. Automatic Mixed Precision (AMP) is enabled for faster GPU training.\n",
    "\n",
    "Assumptions:\n",
    "\n",
    "- Input images are stored as PNG files in `brain_tumor_dataset/images` and masks in `brain_tumor_dataset/masks`.\n",
    "- Masks are binary or use 0/255; the dataset class binarizes masks automatically.\n"
   ]
  },
  {
   "cell_type": "code",
   "execution_count": 1,
   "id": "ab811a83",
   "metadata": {},
   "outputs": [
    {
     "data": {
      "text/plain": [
       "(device(type='cuda'), '2.8.0+cu126', '0.23.0+cu126')"
      ]
     },
     "execution_count": 1,
     "metadata": {},
     "output_type": "execute_result"
    }
   ],
   "source": [
    "import torch\n",
    "import torchvision\n",
    "\n",
    "\n",
    "device = torch.device(\"cuda\" if torch.cuda.is_available() else \"cpu\")\n",
    "device, torch.__version__, torchvision.__version__"
   ]
  },
  {
   "cell_type": "markdown",
   "id": "af6d2e1b",
   "metadata": {},
   "source": [
    "## 1. Load the pretrained model\n",
    "\n",
    "We load DeepLabV3 (ResNet-50) with torchvision's DEFAULT weights to leverage pretrained feature extractors. The weights object provides a `transforms()` helper describing the original model's expected preprocessing.\n",
    "\n",
    "Because our MRI slices are grayscale, we build a custom transform pipeline that:\n",
    "\n",
    "- Resizes images to the network's expected resolution,\n",
    "- Converts RGB to a single grayscale channel,\n",
    "- Converts to a tensor and normalizes with a 1-channel mean/std.\n",
    "\n",
    "After loading the pretrained model we will:\n",
    "\n",
    "1. Freeze the backbone parameters to keep pretrained features fixed during initial training.\n",
    "2. Replace the classifier and auxiliary classifier to output 2 channels (background vs tumor).\n",
    "3. Update the first convolution to accept a single input channel.\n",
    "\n",
    "This approach reduces the amount of training required while adapting the architecture to our data.\n"
   ]
  },
  {
   "cell_type": "code",
   "execution_count": 2,
   "id": "b47f91ec",
   "metadata": {},
   "outputs": [
    {
     "data": {
      "text/plain": [
       "DeepLabV3(\n",
       "  (backbone): IntermediateLayerGetter(\n",
       "    (conv1): Conv2d(3, 64, kernel_size=(7, 7), stride=(2, 2), padding=(3, 3), bias=False)\n",
       "    (bn1): BatchNorm2d(64, eps=1e-05, momentum=0.1, affine=True, track_running_stats=True)\n",
       "    (relu): ReLU(inplace=True)\n",
       "    (maxpool): MaxPool2d(kernel_size=3, stride=2, padding=1, dilation=1, ceil_mode=False)\n",
       "    (layer1): Sequential(\n",
       "      (0): Bottleneck(\n",
       "        (conv1): Conv2d(64, 64, kernel_size=(1, 1), stride=(1, 1), bias=False)\n",
       "        (bn1): BatchNorm2d(64, eps=1e-05, momentum=0.1, affine=True, track_running_stats=True)\n",
       "        (conv2): Conv2d(64, 64, kernel_size=(3, 3), stride=(1, 1), padding=(1, 1), bias=False)\n",
       "        (bn2): BatchNorm2d(64, eps=1e-05, momentum=0.1, affine=True, track_running_stats=True)\n",
       "        (conv3): Conv2d(64, 256, kernel_size=(1, 1), stride=(1, 1), bias=False)\n",
       "        (bn3): BatchNorm2d(256, eps=1e-05, momentum=0.1, affine=True, track_running_stats=True)\n",
       "        (relu): ReLU(inplace=True)\n",
       "        (downsample): Sequential(\n",
       "          (0): Conv2d(64, 256, kernel_size=(1, 1), stride=(1, 1), bias=False)\n",
       "          (1): BatchNorm2d(256, eps=1e-05, momentum=0.1, affine=True, track_running_stats=True)\n",
       "        )\n",
       "      )\n",
       "      (1): Bottleneck(\n",
       "        (conv1): Conv2d(256, 64, kernel_size=(1, 1), stride=(1, 1), bias=False)\n",
       "        (bn1): BatchNorm2d(64, eps=1e-05, momentum=0.1, affine=True, track_running_stats=True)\n",
       "        (conv2): Conv2d(64, 64, kernel_size=(3, 3), stride=(1, 1), padding=(1, 1), bias=False)\n",
       "        (bn2): BatchNorm2d(64, eps=1e-05, momentum=0.1, affine=True, track_running_stats=True)\n",
       "        (conv3): Conv2d(64, 256, kernel_size=(1, 1), stride=(1, 1), bias=False)\n",
       "        (bn3): BatchNorm2d(256, eps=1e-05, momentum=0.1, affine=True, track_running_stats=True)\n",
       "        (relu): ReLU(inplace=True)\n",
       "      )\n",
       "      (2): Bottleneck(\n",
       "        (conv1): Conv2d(256, 64, kernel_size=(1, 1), stride=(1, 1), bias=False)\n",
       "        (bn1): BatchNorm2d(64, eps=1e-05, momentum=0.1, affine=True, track_running_stats=True)\n",
       "        (conv2): Conv2d(64, 64, kernel_size=(3, 3), stride=(1, 1), padding=(1, 1), bias=False)\n",
       "        (bn2): BatchNorm2d(64, eps=1e-05, momentum=0.1, affine=True, track_running_stats=True)\n",
       "        (conv3): Conv2d(64, 256, kernel_size=(1, 1), stride=(1, 1), bias=False)\n",
       "        (bn3): BatchNorm2d(256, eps=1e-05, momentum=0.1, affine=True, track_running_stats=True)\n",
       "        (relu): ReLU(inplace=True)\n",
       "      )\n",
       "    )\n",
       "    (layer2): Sequential(\n",
       "      (0): Bottleneck(\n",
       "        (conv1): Conv2d(256, 128, kernel_size=(1, 1), stride=(1, 1), bias=False)\n",
       "        (bn1): BatchNorm2d(128, eps=1e-05, momentum=0.1, affine=True, track_running_stats=True)\n",
       "        (conv2): Conv2d(128, 128, kernel_size=(3, 3), stride=(2, 2), padding=(1, 1), bias=False)\n",
       "        (bn2): BatchNorm2d(128, eps=1e-05, momentum=0.1, affine=True, track_running_stats=True)\n",
       "        (conv3): Conv2d(128, 512, kernel_size=(1, 1), stride=(1, 1), bias=False)\n",
       "        (bn3): BatchNorm2d(512, eps=1e-05, momentum=0.1, affine=True, track_running_stats=True)\n",
       "        (relu): ReLU(inplace=True)\n",
       "        (downsample): Sequential(\n",
       "          (0): Conv2d(256, 512, kernel_size=(1, 1), stride=(2, 2), bias=False)\n",
       "          (1): BatchNorm2d(512, eps=1e-05, momentum=0.1, affine=True, track_running_stats=True)\n",
       "        )\n",
       "      )\n",
       "      (1): Bottleneck(\n",
       "        (conv1): Conv2d(512, 128, kernel_size=(1, 1), stride=(1, 1), bias=False)\n",
       "        (bn1): BatchNorm2d(128, eps=1e-05, momentum=0.1, affine=True, track_running_stats=True)\n",
       "        (conv2): Conv2d(128, 128, kernel_size=(3, 3), stride=(1, 1), padding=(1, 1), bias=False)\n",
       "        (bn2): BatchNorm2d(128, eps=1e-05, momentum=0.1, affine=True, track_running_stats=True)\n",
       "        (conv3): Conv2d(128, 512, kernel_size=(1, 1), stride=(1, 1), bias=False)\n",
       "        (bn3): BatchNorm2d(512, eps=1e-05, momentum=0.1, affine=True, track_running_stats=True)\n",
       "        (relu): ReLU(inplace=True)\n",
       "      )\n",
       "      (2): Bottleneck(\n",
       "        (conv1): Conv2d(512, 128, kernel_size=(1, 1), stride=(1, 1), bias=False)\n",
       "        (bn1): BatchNorm2d(128, eps=1e-05, momentum=0.1, affine=True, track_running_stats=True)\n",
       "        (conv2): Conv2d(128, 128, kernel_size=(3, 3), stride=(1, 1), padding=(1, 1), bias=False)\n",
       "        (bn2): BatchNorm2d(128, eps=1e-05, momentum=0.1, affine=True, track_running_stats=True)\n",
       "        (conv3): Conv2d(128, 512, kernel_size=(1, 1), stride=(1, 1), bias=False)\n",
       "        (bn3): BatchNorm2d(512, eps=1e-05, momentum=0.1, affine=True, track_running_stats=True)\n",
       "        (relu): ReLU(inplace=True)\n",
       "      )\n",
       "      (3): Bottleneck(\n",
       "        (conv1): Conv2d(512, 128, kernel_size=(1, 1), stride=(1, 1), bias=False)\n",
       "        (bn1): BatchNorm2d(128, eps=1e-05, momentum=0.1, affine=True, track_running_stats=True)\n",
       "        (conv2): Conv2d(128, 128, kernel_size=(3, 3), stride=(1, 1), padding=(1, 1), bias=False)\n",
       "        (bn2): BatchNorm2d(128, eps=1e-05, momentum=0.1, affine=True, track_running_stats=True)\n",
       "        (conv3): Conv2d(128, 512, kernel_size=(1, 1), stride=(1, 1), bias=False)\n",
       "        (bn3): BatchNorm2d(512, eps=1e-05, momentum=0.1, affine=True, track_running_stats=True)\n",
       "        (relu): ReLU(inplace=True)\n",
       "      )\n",
       "    )\n",
       "    (layer3): Sequential(\n",
       "      (0): Bottleneck(\n",
       "        (conv1): Conv2d(512, 256, kernel_size=(1, 1), stride=(1, 1), bias=False)\n",
       "        (bn1): BatchNorm2d(256, eps=1e-05, momentum=0.1, affine=True, track_running_stats=True)\n",
       "        (conv2): Conv2d(256, 256, kernel_size=(3, 3), stride=(1, 1), padding=(1, 1), bias=False)\n",
       "        (bn2): BatchNorm2d(256, eps=1e-05, momentum=0.1, affine=True, track_running_stats=True)\n",
       "        (conv3): Conv2d(256, 1024, kernel_size=(1, 1), stride=(1, 1), bias=False)\n",
       "        (bn3): BatchNorm2d(1024, eps=1e-05, momentum=0.1, affine=True, track_running_stats=True)\n",
       "        (relu): ReLU(inplace=True)\n",
       "        (downsample): Sequential(\n",
       "          (0): Conv2d(512, 1024, kernel_size=(1, 1), stride=(1, 1), bias=False)\n",
       "          (1): BatchNorm2d(1024, eps=1e-05, momentum=0.1, affine=True, track_running_stats=True)\n",
       "        )\n",
       "      )\n",
       "      (1): Bottleneck(\n",
       "        (conv1): Conv2d(1024, 256, kernel_size=(1, 1), stride=(1, 1), bias=False)\n",
       "        (bn1): BatchNorm2d(256, eps=1e-05, momentum=0.1, affine=True, track_running_stats=True)\n",
       "        (conv2): Conv2d(256, 256, kernel_size=(3, 3), stride=(1, 1), padding=(2, 2), dilation=(2, 2), bias=False)\n",
       "        (bn2): BatchNorm2d(256, eps=1e-05, momentum=0.1, affine=True, track_running_stats=True)\n",
       "        (conv3): Conv2d(256, 1024, kernel_size=(1, 1), stride=(1, 1), bias=False)\n",
       "        (bn3): BatchNorm2d(1024, eps=1e-05, momentum=0.1, affine=True, track_running_stats=True)\n",
       "        (relu): ReLU(inplace=True)\n",
       "      )\n",
       "      (2): Bottleneck(\n",
       "        (conv1): Conv2d(1024, 256, kernel_size=(1, 1), stride=(1, 1), bias=False)\n",
       "        (bn1): BatchNorm2d(256, eps=1e-05, momentum=0.1, affine=True, track_running_stats=True)\n",
       "        (conv2): Conv2d(256, 256, kernel_size=(3, 3), stride=(1, 1), padding=(2, 2), dilation=(2, 2), bias=False)\n",
       "        (bn2): BatchNorm2d(256, eps=1e-05, momentum=0.1, affine=True, track_running_stats=True)\n",
       "        (conv3): Conv2d(256, 1024, kernel_size=(1, 1), stride=(1, 1), bias=False)\n",
       "        (bn3): BatchNorm2d(1024, eps=1e-05, momentum=0.1, affine=True, track_running_stats=True)\n",
       "        (relu): ReLU(inplace=True)\n",
       "      )\n",
       "      (3): Bottleneck(\n",
       "        (conv1): Conv2d(1024, 256, kernel_size=(1, 1), stride=(1, 1), bias=False)\n",
       "        (bn1): BatchNorm2d(256, eps=1e-05, momentum=0.1, affine=True, track_running_stats=True)\n",
       "        (conv2): Conv2d(256, 256, kernel_size=(3, 3), stride=(1, 1), padding=(2, 2), dilation=(2, 2), bias=False)\n",
       "        (bn2): BatchNorm2d(256, eps=1e-05, momentum=0.1, affine=True, track_running_stats=True)\n",
       "        (conv3): Conv2d(256, 1024, kernel_size=(1, 1), stride=(1, 1), bias=False)\n",
       "        (bn3): BatchNorm2d(1024, eps=1e-05, momentum=0.1, affine=True, track_running_stats=True)\n",
       "        (relu): ReLU(inplace=True)\n",
       "      )\n",
       "      (4): Bottleneck(\n",
       "        (conv1): Conv2d(1024, 256, kernel_size=(1, 1), stride=(1, 1), bias=False)\n",
       "        (bn1): BatchNorm2d(256, eps=1e-05, momentum=0.1, affine=True, track_running_stats=True)\n",
       "        (conv2): Conv2d(256, 256, kernel_size=(3, 3), stride=(1, 1), padding=(2, 2), dilation=(2, 2), bias=False)\n",
       "        (bn2): BatchNorm2d(256, eps=1e-05, momentum=0.1, affine=True, track_running_stats=True)\n",
       "        (conv3): Conv2d(256, 1024, kernel_size=(1, 1), stride=(1, 1), bias=False)\n",
       "        (bn3): BatchNorm2d(1024, eps=1e-05, momentum=0.1, affine=True, track_running_stats=True)\n",
       "        (relu): ReLU(inplace=True)\n",
       "      )\n",
       "      (5): Bottleneck(\n",
       "        (conv1): Conv2d(1024, 256, kernel_size=(1, 1), stride=(1, 1), bias=False)\n",
       "        (bn1): BatchNorm2d(256, eps=1e-05, momentum=0.1, affine=True, track_running_stats=True)\n",
       "        (conv2): Conv2d(256, 256, kernel_size=(3, 3), stride=(1, 1), padding=(2, 2), dilation=(2, 2), bias=False)\n",
       "        (bn2): BatchNorm2d(256, eps=1e-05, momentum=0.1, affine=True, track_running_stats=True)\n",
       "        (conv3): Conv2d(256, 1024, kernel_size=(1, 1), stride=(1, 1), bias=False)\n",
       "        (bn3): BatchNorm2d(1024, eps=1e-05, momentum=0.1, affine=True, track_running_stats=True)\n",
       "        (relu): ReLU(inplace=True)\n",
       "      )\n",
       "    )\n",
       "    (layer4): Sequential(\n",
       "      (0): Bottleneck(\n",
       "        (conv1): Conv2d(1024, 512, kernel_size=(1, 1), stride=(1, 1), bias=False)\n",
       "        (bn1): BatchNorm2d(512, eps=1e-05, momentum=0.1, affine=True, track_running_stats=True)\n",
       "        (conv2): Conv2d(512, 512, kernel_size=(3, 3), stride=(1, 1), padding=(2, 2), dilation=(2, 2), bias=False)\n",
       "        (bn2): BatchNorm2d(512, eps=1e-05, momentum=0.1, affine=True, track_running_stats=True)\n",
       "        (conv3): Conv2d(512, 2048, kernel_size=(1, 1), stride=(1, 1), bias=False)\n",
       "        (bn3): BatchNorm2d(2048, eps=1e-05, momentum=0.1, affine=True, track_running_stats=True)\n",
       "        (relu): ReLU(inplace=True)\n",
       "        (downsample): Sequential(\n",
       "          (0): Conv2d(1024, 2048, kernel_size=(1, 1), stride=(1, 1), bias=False)\n",
       "          (1): BatchNorm2d(2048, eps=1e-05, momentum=0.1, affine=True, track_running_stats=True)\n",
       "        )\n",
       "      )\n",
       "      (1): Bottleneck(\n",
       "        (conv1): Conv2d(2048, 512, kernel_size=(1, 1), stride=(1, 1), bias=False)\n",
       "        (bn1): BatchNorm2d(512, eps=1e-05, momentum=0.1, affine=True, track_running_stats=True)\n",
       "        (conv2): Conv2d(512, 512, kernel_size=(3, 3), stride=(1, 1), padding=(4, 4), dilation=(4, 4), bias=False)\n",
       "        (bn2): BatchNorm2d(512, eps=1e-05, momentum=0.1, affine=True, track_running_stats=True)\n",
       "        (conv3): Conv2d(512, 2048, kernel_size=(1, 1), stride=(1, 1), bias=False)\n",
       "        (bn3): BatchNorm2d(2048, eps=1e-05, momentum=0.1, affine=True, track_running_stats=True)\n",
       "        (relu): ReLU(inplace=True)\n",
       "      )\n",
       "      (2): Bottleneck(\n",
       "        (conv1): Conv2d(2048, 512, kernel_size=(1, 1), stride=(1, 1), bias=False)\n",
       "        (bn1): BatchNorm2d(512, eps=1e-05, momentum=0.1, affine=True, track_running_stats=True)\n",
       "        (conv2): Conv2d(512, 512, kernel_size=(3, 3), stride=(1, 1), padding=(4, 4), dilation=(4, 4), bias=False)\n",
       "        (bn2): BatchNorm2d(512, eps=1e-05, momentum=0.1, affine=True, track_running_stats=True)\n",
       "        (conv3): Conv2d(512, 2048, kernel_size=(1, 1), stride=(1, 1), bias=False)\n",
       "        (bn3): BatchNorm2d(2048, eps=1e-05, momentum=0.1, affine=True, track_running_stats=True)\n",
       "        (relu): ReLU(inplace=True)\n",
       "      )\n",
       "    )\n",
       "  )\n",
       "  (classifier): DeepLabHead(\n",
       "    (0): ASPP(\n",
       "      (convs): ModuleList(\n",
       "        (0): Sequential(\n",
       "          (0): Conv2d(2048, 256, kernel_size=(1, 1), stride=(1, 1), bias=False)\n",
       "          (1): BatchNorm2d(256, eps=1e-05, momentum=0.1, affine=True, track_running_stats=True)\n",
       "          (2): ReLU()\n",
       "        )\n",
       "        (1): ASPPConv(\n",
       "          (0): Conv2d(2048, 256, kernel_size=(3, 3), stride=(1, 1), padding=(12, 12), dilation=(12, 12), bias=False)\n",
       "          (1): BatchNorm2d(256, eps=1e-05, momentum=0.1, affine=True, track_running_stats=True)\n",
       "          (2): ReLU()\n",
       "        )\n",
       "        (2): ASPPConv(\n",
       "          (0): Conv2d(2048, 256, kernel_size=(3, 3), stride=(1, 1), padding=(24, 24), dilation=(24, 24), bias=False)\n",
       "          (1): BatchNorm2d(256, eps=1e-05, momentum=0.1, affine=True, track_running_stats=True)\n",
       "          (2): ReLU()\n",
       "        )\n",
       "        (3): ASPPConv(\n",
       "          (0): Conv2d(2048, 256, kernel_size=(3, 3), stride=(1, 1), padding=(36, 36), dilation=(36, 36), bias=False)\n",
       "          (1): BatchNorm2d(256, eps=1e-05, momentum=0.1, affine=True, track_running_stats=True)\n",
       "          (2): ReLU()\n",
       "        )\n",
       "        (4): ASPPPooling(\n",
       "          (0): AdaptiveAvgPool2d(output_size=1)\n",
       "          (1): Conv2d(2048, 256, kernel_size=(1, 1), stride=(1, 1), bias=False)\n",
       "          (2): BatchNorm2d(256, eps=1e-05, momentum=0.1, affine=True, track_running_stats=True)\n",
       "          (3): ReLU()\n",
       "        )\n",
       "      )\n",
       "      (project): Sequential(\n",
       "        (0): Conv2d(1280, 256, kernel_size=(1, 1), stride=(1, 1), bias=False)\n",
       "        (1): BatchNorm2d(256, eps=1e-05, momentum=0.1, affine=True, track_running_stats=True)\n",
       "        (2): ReLU()\n",
       "        (3): Dropout(p=0.5, inplace=False)\n",
       "      )\n",
       "    )\n",
       "    (1): Conv2d(256, 256, kernel_size=(3, 3), stride=(1, 1), padding=(1, 1), bias=False)\n",
       "    (2): BatchNorm2d(256, eps=1e-05, momentum=0.1, affine=True, track_running_stats=True)\n",
       "    (3): ReLU()\n",
       "    (4): Conv2d(256, 21, kernel_size=(1, 1), stride=(1, 1))\n",
       "  )\n",
       "  (aux_classifier): FCNHead(\n",
       "    (0): Conv2d(1024, 256, kernel_size=(3, 3), stride=(1, 1), padding=(1, 1), bias=False)\n",
       "    (1): BatchNorm2d(256, eps=1e-05, momentum=0.1, affine=True, track_running_stats=True)\n",
       "    (2): ReLU()\n",
       "    (3): Dropout(p=0.1, inplace=False)\n",
       "    (4): Conv2d(256, 21, kernel_size=(1, 1), stride=(1, 1))\n",
       "  )\n",
       ")"
      ]
     },
     "execution_count": 2,
     "metadata": {},
     "output_type": "execute_result"
    }
   ],
   "source": [
    "weights = torchvision.models.segmentation.DeepLabV3_ResNet50_Weights.DEFAULT\n",
    "transforms = weights.transforms()\n",
    "\n",
    "deeplap_V3 = torchvision.models.segmentation.deeplabv3_resnet50(weights = weights)\n",
    "deeplap_V3"
   ]
  },
  {
   "cell_type": "code",
   "execution_count": 3,
   "id": "03f3b258",
   "metadata": {},
   "outputs": [
    {
     "data": {
      "text/plain": [
       "======================================================================================================================================================\n",
       "Layer (type:depth-idx)                             Input Shape               Output Shape              Param #                   Trainable\n",
       "======================================================================================================================================================\n",
       "DeepLabV3                                          [1, 3, 224, 224]          [1, 21, 224, 224]         --                        True\n",
       "├─IntermediateLayerGetter: 1-1                     [1, 3, 224, 224]          [1, 2048, 28, 28]         --                        True\n",
       "│    └─Conv2d: 2-1                                 [1, 3, 224, 224]          [1, 64, 112, 112]         9,408                     True\n",
       "│    └─BatchNorm2d: 2-2                            [1, 64, 112, 112]         [1, 64, 112, 112]         128                       True\n",
       "│    └─ReLU: 2-3                                   [1, 64, 112, 112]         [1, 64, 112, 112]         --                        --\n",
       "│    └─MaxPool2d: 2-4                              [1, 64, 112, 112]         [1, 64, 56, 56]           --                        --\n",
       "│    └─Sequential: 2-5                             [1, 64, 56, 56]           [1, 256, 56, 56]          --                        True\n",
       "│    │    └─Bottleneck: 3-1                        [1, 64, 56, 56]           [1, 256, 56, 56]          75,008                    True\n",
       "│    │    └─Bottleneck: 3-2                        [1, 256, 56, 56]          [1, 256, 56, 56]          70,400                    True\n",
       "│    │    └─Bottleneck: 3-3                        [1, 256, 56, 56]          [1, 256, 56, 56]          70,400                    True\n",
       "│    └─Sequential: 2-6                             [1, 256, 56, 56]          [1, 512, 28, 28]          --                        True\n",
       "│    │    └─Bottleneck: 3-4                        [1, 256, 56, 56]          [1, 512, 28, 28]          379,392                   True\n",
       "│    │    └─Bottleneck: 3-5                        [1, 512, 28, 28]          [1, 512, 28, 28]          280,064                   True\n",
       "│    │    └─Bottleneck: 3-6                        [1, 512, 28, 28]          [1, 512, 28, 28]          280,064                   True\n",
       "│    │    └─Bottleneck: 3-7                        [1, 512, 28, 28]          [1, 512, 28, 28]          280,064                   True\n",
       "│    └─Sequential: 2-7                             [1, 512, 28, 28]          [1, 1024, 28, 28]         --                        True\n",
       "│    │    └─Bottleneck: 3-8                        [1, 512, 28, 28]          [1, 1024, 28, 28]         1,512,448                 True\n",
       "│    │    └─Bottleneck: 3-9                        [1, 1024, 28, 28]         [1, 1024, 28, 28]         1,117,184                 True\n",
       "│    │    └─Bottleneck: 3-10                       [1, 1024, 28, 28]         [1, 1024, 28, 28]         1,117,184                 True\n",
       "│    │    └─Bottleneck: 3-11                       [1, 1024, 28, 28]         [1, 1024, 28, 28]         1,117,184                 True\n",
       "│    │    └─Bottleneck: 3-12                       [1, 1024, 28, 28]         [1, 1024, 28, 28]         1,117,184                 True\n",
       "│    │    └─Bottleneck: 3-13                       [1, 1024, 28, 28]         [1, 1024, 28, 28]         1,117,184                 True\n",
       "│    └─Sequential: 2-8                             [1, 1024, 28, 28]         [1, 2048, 28, 28]         --                        True\n",
       "│    │    └─Bottleneck: 3-14                       [1, 1024, 28, 28]         [1, 2048, 28, 28]         6,039,552                 True\n",
       "│    │    └─Bottleneck: 3-15                       [1, 2048, 28, 28]         [1, 2048, 28, 28]         4,462,592                 True\n",
       "│    │    └─Bottleneck: 3-16                       [1, 2048, 28, 28]         [1, 2048, 28, 28]         4,462,592                 True\n",
       "├─DeepLabHead: 1-2                                 [1, 2048, 28, 28]         [1, 21, 28, 28]           --                        True\n",
       "│    └─ASPP: 2-9                                   [1, 2048, 28, 28]         [1, 256, 28, 28]          --                        True\n",
       "│    │    └─ModuleList: 3-17                       --                        --                        15,206,912                True\n",
       "│    │    └─Sequential: 3-18                       [1, 1280, 28, 28]         [1, 256, 28, 28]          328,192                   True\n",
       "│    └─Conv2d: 2-10                                [1, 256, 28, 28]          [1, 256, 28, 28]          589,824                   True\n",
       "│    └─BatchNorm2d: 2-11                           [1, 256, 28, 28]          [1, 256, 28, 28]          512                       True\n",
       "│    └─ReLU: 2-12                                  [1, 256, 28, 28]          [1, 256, 28, 28]          --                        --\n",
       "│    └─Conv2d: 2-13                                [1, 256, 28, 28]          [1, 21, 28, 28]           5,397                     True\n",
       "├─FCNHead: 1-3                                     [1, 1024, 28, 28]         [1, 21, 28, 28]           --                        True\n",
       "│    └─Conv2d: 2-14                                [1, 1024, 28, 28]         [1, 256, 28, 28]          2,359,296                 True\n",
       "│    └─BatchNorm2d: 2-15                           [1, 256, 28, 28]          [1, 256, 28, 28]          512                       True\n",
       "│    └─ReLU: 2-16                                  [1, 256, 28, 28]          [1, 256, 28, 28]          --                        --\n",
       "│    └─Dropout: 2-17                               [1, 256, 28, 28]          [1, 256, 28, 28]          --                        --\n",
       "│    └─Conv2d: 2-18                                [1, 256, 28, 28]          [1, 21, 28, 28]           5,397                     True\n",
       "======================================================================================================================================================\n",
       "Total params: 42,004,074\n",
       "Trainable params: 42,004,074\n",
       "Non-trainable params: 0\n",
       "Total mult-adds (G): 33.16\n",
       "======================================================================================================================================================\n",
       "Input size (MB): 0.60\n",
       "Forward/backward pass size (MB): 425.76\n",
       "Params size (MB): 168.02\n",
       "Estimated Total Size (MB): 594.38\n",
       "======================================================================================================================================================"
      ]
     },
     "execution_count": 3,
     "metadata": {},
     "output_type": "execute_result"
    }
   ],
   "source": [
    "from torchinfo import summary\n",
    "\n",
    "summary(\n",
    "    deeplap_V3,\n",
    "    # The input size should match the model's 2D configuration: (batch_size, channels, height, width)\n",
    "    input_size=(1, 3, 224, 224),\n",
    "    col_names=(\"input_size\", \"output_size\", \"num_params\", \"trainable\"),\n",
    ")"
   ]
  },
  {
   "cell_type": "code",
   "execution_count": 4,
   "id": "d51404ba",
   "metadata": {},
   "outputs": [
    {
     "data": {
      "text/plain": [
       "SemanticSegmentation(\n",
       "    resize_size=[520]\n",
       "    mean=[0.485, 0.456, 0.406]\n",
       "    std=[0.229, 0.224, 0.225]\n",
       "    interpolation=InterpolationMode.BILINEAR\n",
       ")"
      ]
     },
     "execution_count": 4,
     "metadata": {},
     "output_type": "execute_result"
    }
   ],
   "source": [
    "transforms # notice how the mean and std are on 3 channels, but we need only one"
   ]
  },
  {
   "cell_type": "code",
   "execution_count": 5,
   "id": "ab59b5c9",
   "metadata": {},
   "outputs": [],
   "source": [
    "# Define the transform for single-channel (grayscale) images\n",
    "import torchvision.transforms as T\n",
    "from torchvision.transforms import InterpolationMode\n",
    "\n",
    "deeplab_V3_transform = T.Compose([\n",
    "    T.ToPILImage(), # fixes a numpy type error\n",
    "    T.Resize(520, interpolation=InterpolationMode.BILINEAR),\n",
    "    T.Grayscale(num_output_channels=1),   # convert to 1 channel\n",
    "    T.ToTensor(),\n",
    "    T.Normalize(mean=[0.5], std=[0.5])    # adjust mean/std for 1 channel\n",
    "])"
   ]
  },
  {
   "cell_type": "code",
   "execution_count": 6,
   "id": "ccbe0175",
   "metadata": {},
   "outputs": [
    {
     "data": {
      "text/plain": [
       "======================================================================================================================================================\n",
       "Layer (type:depth-idx)                             Input Shape               Output Shape              Param #                   Trainable\n",
       "======================================================================================================================================================\n",
       "DeepLabV3                                          [1, 1, 224, 224]          [1, 2, 224, 224]          --                        Partial\n",
       "├─IntermediateLayerGetter: 1-1                     [1, 1, 224, 224]          [1, 2048, 28, 28]         --                        Partial\n",
       "│    └─Conv2d: 2-1                                 [1, 1, 224, 224]          [1, 64, 112, 112]         3,136                     True\n",
       "│    └─BatchNorm2d: 2-2                            [1, 64, 112, 112]         [1, 64, 112, 112]         (128)                     False\n",
       "│    └─ReLU: 2-3                                   [1, 64, 112, 112]         [1, 64, 112, 112]         --                        --\n",
       "│    └─MaxPool2d: 2-4                              [1, 64, 112, 112]         [1, 64, 56, 56]           --                        --\n",
       "│    └─Sequential: 2-5                             [1, 64, 56, 56]           [1, 256, 56, 56]          --                        False\n",
       "│    │    └─Bottleneck: 3-1                        [1, 64, 56, 56]           [1, 256, 56, 56]          (75,008)                  False\n",
       "│    │    └─Bottleneck: 3-2                        [1, 256, 56, 56]          [1, 256, 56, 56]          (70,400)                  False\n",
       "│    │    └─Bottleneck: 3-3                        [1, 256, 56, 56]          [1, 256, 56, 56]          (70,400)                  False\n",
       "│    └─Sequential: 2-6                             [1, 256, 56, 56]          [1, 512, 28, 28]          --                        False\n",
       "│    │    └─Bottleneck: 3-4                        [1, 256, 56, 56]          [1, 512, 28, 28]          (379,392)                 False\n",
       "│    │    └─Bottleneck: 3-5                        [1, 512, 28, 28]          [1, 512, 28, 28]          (280,064)                 False\n",
       "│    │    └─Bottleneck: 3-6                        [1, 512, 28, 28]          [1, 512, 28, 28]          (280,064)                 False\n",
       "│    │    └─Bottleneck: 3-7                        [1, 512, 28, 28]          [1, 512, 28, 28]          (280,064)                 False\n",
       "│    └─Sequential: 2-7                             [1, 512, 28, 28]          [1, 1024, 28, 28]         --                        False\n",
       "│    │    └─Bottleneck: 3-8                        [1, 512, 28, 28]          [1, 1024, 28, 28]         (1,512,448)               False\n",
       "│    │    └─Bottleneck: 3-9                        [1, 1024, 28, 28]         [1, 1024, 28, 28]         (1,117,184)               False\n",
       "│    │    └─Bottleneck: 3-10                       [1, 1024, 28, 28]         [1, 1024, 28, 28]         (1,117,184)               False\n",
       "│    │    └─Bottleneck: 3-11                       [1, 1024, 28, 28]         [1, 1024, 28, 28]         (1,117,184)               False\n",
       "│    │    └─Bottleneck: 3-12                       [1, 1024, 28, 28]         [1, 1024, 28, 28]         (1,117,184)               False\n",
       "│    │    └─Bottleneck: 3-13                       [1, 1024, 28, 28]         [1, 1024, 28, 28]         (1,117,184)               False\n",
       "│    └─Sequential: 2-8                             [1, 1024, 28, 28]         [1, 2048, 28, 28]         --                        False\n",
       "│    │    └─Bottleneck: 3-14                       [1, 1024, 28, 28]         [1, 2048, 28, 28]         (6,039,552)               False\n",
       "│    │    └─Bottleneck: 3-15                       [1, 2048, 28, 28]         [1, 2048, 28, 28]         (4,462,592)               False\n",
       "│    │    └─Bottleneck: 3-16                       [1, 2048, 28, 28]         [1, 2048, 28, 28]         (4,462,592)               False\n",
       "├─DeepLabHead: 1-2                                 [1, 2048, 28, 28]         [1, 2, 28, 28]            --                        Partial\n",
       "│    └─ASPP: 2-9                                   [1, 2048, 28, 28]         [1, 256, 28, 28]          --                        False\n",
       "│    │    └─ModuleList: 3-17                       --                        --                        (15,206,912)              False\n",
       "│    │    └─Sequential: 3-18                       [1, 1280, 28, 28]         [1, 256, 28, 28]          (328,192)                 False\n",
       "│    └─Conv2d: 2-10                                [1, 256, 28, 28]          [1, 256, 28, 28]          (589,824)                 False\n",
       "│    └─BatchNorm2d: 2-11                           [1, 256, 28, 28]          [1, 256, 28, 28]          (512)                     False\n",
       "│    └─ReLU: 2-12                                  [1, 256, 28, 28]          [1, 256, 28, 28]          --                        --\n",
       "│    └─Conv2d: 2-13                                [1, 256, 28, 28]          [1, 2, 28, 28]            514                       True\n",
       "├─FCNHead: 1-3                                     [1, 1024, 28, 28]         [1, 2, 28, 28]            --                        Partial\n",
       "│    └─Conv2d: 2-14                                [1, 1024, 28, 28]         [1, 256, 28, 28]          (2,359,296)               False\n",
       "│    └─BatchNorm2d: 2-15                           [1, 256, 28, 28]          [1, 256, 28, 28]          (512)                     False\n",
       "│    └─ReLU: 2-16                                  [1, 256, 28, 28]          [1, 256, 28, 28]          --                        --\n",
       "│    └─Dropout: 2-17                               [1, 256, 28, 28]          [1, 256, 28, 28]          --                        --\n",
       "│    └─Conv2d: 2-18                                [1, 256, 28, 28]          [1, 2, 28, 28]            514                       True\n",
       "======================================================================================================================================================\n",
       "Total params: 41,988,036\n",
       "Trainable params: 4,164\n",
       "Non-trainable params: 41,983,872\n",
       "Total mult-adds (G): 33.08\n",
       "======================================================================================================================================================\n",
       "Input size (MB): 0.20\n",
       "Forward/backward pass size (MB): 425.52\n",
       "Params size (MB): 167.95\n",
       "Estimated Total Size (MB): 593.67\n",
       "======================================================================================================================================================"
      ]
     },
     "execution_count": 6,
     "metadata": {},
     "output_type": "execute_result"
    }
   ],
   "source": [
    "from torchinfo import summary\n",
    "\n",
    "# Freeze backbone\n",
    "for param in deeplap_V3.backbone.parameters():\n",
    "    param.requires_grad = False\n",
    "\n",
    "# ======================================================================== #\n",
    "# FURTHER FREEZING (reducing trainable params from 18,489,412 to 4,164)\n",
    "# a 4,440× reduction in the number of parameters being updated each step.\n",
    "# ========================================================================= #\n",
    "# Freeze classifier except final conv\n",
    "for name, param in deeplap_V3.classifier.named_parameters():\n",
    "    if not isinstance(param, torch.nn.Conv2d) or \"4\" not in name or \"13\" not in name:  # keep only final conv2d trainable\n",
    "        param.requires_grad = False\n",
    "\n",
    "# Freeze aux classifier except final conv\n",
    "for name, param in deeplap_V3.aux_classifier.named_parameters():\n",
    "    if not isinstance(param, torch.nn.Conv2d) or \"4\" not in name or \"18\" not in name: # keep only final conv2d trainable\n",
    "        param.requires_grad = False\n",
    "    \n",
    "# Change classifier and auxiliary head to 2 only\n",
    "deeplap_V3.classifier[4] =  torch.nn.Conv2d(256, 2, # this is the only change\n",
    "                                            kernel_size=(1, 1), stride=(1, 1))\n",
    "deeplap_V3.aux_classifier[4] =  torch.nn.Conv2d(256, 2, # this is the only change\n",
    "                                                kernel_size=(1, 1), stride=(1, 1))\n",
    "\n",
    "# Change the input to be 1 channel only (not 3)\n",
    "deeplap_V3.backbone['conv1'] = torch.nn.Conv2d (1 # this is the only change\n",
    "                                                , 64, kernel_size=(7, 7), stride=(2, 2), padding=(3, 3), bias=False)\n",
    "\n",
    "summary(\n",
    "    deeplap_V3,\n",
    "    # The input size should match the model's 2D configuration: (batch_size, channels, height, width)\n",
    "    input_size=(1, 1, 224, 224),\n",
    "    col_names=(\"input_size\", \"output_size\", \"num_params\", \"trainable\"),\n",
    ")"
   ]
  },
  {
   "cell_type": "markdown",
   "id": "97c70f6c",
   "metadata": {},
   "source": [
    "## 2. Create dataset and dataloaders\n",
    "\n",
    "This section prepares the dataset and DataLoaders. Steps:\n",
    "\n",
    "1. Implement a custom Dataset that reads grayscale images and masks, binarizes masks, and applies optional transforms (e.g., resizing/augmentation).\n",
    "2. Instantiate the full dataset and split it into training and validation subsets (80/20 split).\n",
    "3. Create DataLoaders with appropriate batch sizes and worker counts for training and validation.\n",
    "\n",
    "Keep the transforms consistent between training and validation (except for any augmentations you only want during training).\n"
   ]
  },
  {
   "cell_type": "markdown",
   "id": "48f189d1",
   "metadata": {},
   "source": [
    "### 2.1 Dataset details\n",
    "\n",
    "The custom `BrainTumorDataset` does the following:\n",
    "\n",
    "- Loads images and masks from the provided directories and sorts filenames to keep pairs aligned.\n",
    "- Converts both image and mask to grayscale (`L` mode) and returns them as NumPy arrays.\n",
    "- Binarizes masks by thresholding at 127 (so 0/255 masks become 0/1).\n",
    "- If a transform is provided (e.g., Albumentations), it is applied to both image and mask together.\n",
    "\n",
    "Important: Ensure the dataset directories contain matching image/mask pairs and are named consistently.\n"
   ]
  },
  {
   "cell_type": "code",
   "execution_count": 7,
   "id": "807ecafa",
   "metadata": {},
   "outputs": [],
   "source": [
    "from torch.utils.data import Dataset\n",
    "from PIL import Image\n",
    "import numpy as np\n",
    "\n",
    "class BrainTumorDataset(Dataset):\n",
    "    \"\"\"Custom PyTorch Dataset for loading brain tumor images and masks.\"\"\"\n",
    "    \n",
    "    def __init__(self, image_dir, mask_dir, image_transform=None, mask_transform=None):\n",
    "        \"\"\"\n",
    "        Args:\n",
    "            image_dir (pathlib.Path or str): Directory with all the images.\n",
    "            mask_dir (pathlib.Path or str): Directory with all the masks.\n",
    "            image_transform (callable, optional): Transform for images.\n",
    "            mask_transform (callable, optional): Transform for masks.\n",
    "    \"\"\"\n",
    "        self.image_transform = image_transform\n",
    "        self.mask_transform = mask_transform\n",
    "        \n",
    "        # Get all image and mask file paths and sort them to ensure they correspond\n",
    "        self.images = sorted(list(image_dir.glob(\"*.png\")))\n",
    "        self.masks = sorted(list(mask_dir.glob(\"*.png\")))\n",
    "        \n",
    "        # Ensure the number of images and masks are the same for data integrity\n",
    "        assert len(self.images) == len(self.masks), \"Number of images and masks must be equal.\"\n",
    "\n",
    "    def __len__(self):\n",
    "        \"\"\"Returns the total number of samples in the dataset.\"\"\"\n",
    "        return len(self.images)\n",
    "\n",
    "    def __getitem__(self, idx):\n",
    "        \"\"\"\n",
    "        Fetches the sample at the given index, loads it, and applies transforms.\n",
    "\n",
    "        Args:\n",
    "            idx (int): The index of the sample to fetch.\n",
    "\n",
    "        Returns:\n",
    "            tuple: (image, mask) where image is the transformed image and mask is the transformed mask.\n",
    "        \"\"\"\n",
    "        # Get the file paths for the image and mask\n",
    "        image_path = self.images[idx]\n",
    "        mask_path = self.masks[idx]\n",
    "        \n",
    "        # Open the image and mask files\n",
    "        # Images and masks are converted to grayscale (L) for single-channel processing\n",
    "        image = np.array(Image.open(image_path).convert(\"L\"))\n",
    "        mask = np.array(Image.open(mask_path).convert(\"L\"), dtype=np.float32)\n",
    "        \n",
    "        # Normalize mask to be 0 or 1, as pixel values are often 0 and 255\n",
    "        # A more robust and explicit way to binarize the mask\n",
    "        mask = (mask > 127).astype(np.float32)\n",
    "        \n",
    "        \"\"\"\n",
    "        (mask > 127): This creates a boolean array \n",
    "                    where pixels with a value greater than 127 become True \n",
    "                    and all others become False.\n",
    "                    \n",
    "        .astype(np.float32): This converts the boolean array into a float array, \n",
    "                            where True becomes 1.0 and False becomes 0.0.\n",
    "        \"\"\"\n",
    "\n",
    "        \n",
    "        # Apply transformations if they are provided\n",
    "        if self.image_transform:\n",
    "            image = self.image_transform(image)\n",
    "        if self.mask_transform:\n",
    "            mask = self.mask_transform(mask)\n",
    "            \n",
    "        return image, mask\n",
    "\n"
   ]
  },
  {
   "cell_type": "code",
   "execution_count": 8,
   "id": "87924492",
   "metadata": {},
   "outputs": [],
   "source": [
    "# Define the transform for single-channel (grayscale) images\n",
    "import torchvision.transforms as T\n",
    "from torchvision.transforms import InterpolationMode\n",
    "\n",
    "# Define separate, robust transformation pipelines for images and masks.\n",
    "# This is critical because masks require different handling (e.g., no normalization).\n",
    "\n",
    "# Transform for the IMAGES\n",
    "image_transform = T.Compose([\n",
    "    T.ToPILImage(), # fixes a numpy type error\n",
    "    T.Resize((520, 520), interpolation=InterpolationMode.BILINEAR),\n",
    "    T.Grayscale(num_output_channels=1),\n",
    "    T.ToTensor(),\n",
    "    T.Normalize(mean=[0.5], std=[0.5])  # Normalization is for images only\n",
    "])\n",
    "\n",
    "# Transform for the MASKS\n",
    "mask_transform = T.Compose([\n",
    "    T.ToPILImage(),\n",
    "    T.Resize((520, 520), interpolation=InterpolationMode.NEAREST), # Use NEAREST to preserve 0/1 values,\n",
    "    T.Grayscale(num_output_channels=1),\n",
    "    T.ToTensor()  # DO NOT normalize masks\n",
    "])"
   ]
  },
  {
   "cell_type": "code",
   "execution_count": 9,
   "id": "0a3757e8",
   "metadata": {},
   "outputs": [
    {
     "name": "stdout",
     "output_type": "stream",
     "text": [
      "Train dataset: <torch.utils.data.dataset.Subset object at 0x0000020278806740>\n",
      "Validation dataset: <torch.utils.data.dataset.Subset object at 0x0000020278807C70>\n",
      "Total samples: 3064\n",
      "Training samples: 2451\n",
      "Validation samples: 613\n"
     ]
    }
   ],
   "source": [
    "# init datasets\n",
    "from pathlib import Path\n",
    "from torch.utils.data import random_split\n",
    "\n",
    "\n",
    "IMAGES_DIR = Path(\"brain_tumor_dataset/images\")\n",
    "MASKS_DIR = Path(\"brain_tumor_dataset/masks\")\n",
    "\n",
    "# 1. Instantiate the full dataset\n",
    "full_dataset = BrainTumorDataset(image_dir= IMAGES_DIR,\n",
    "                            mask_dir= MASKS_DIR,\n",
    "                            image_transform = image_transform,\n",
    "                            mask_transform= mask_transform)\n",
    "\n",
    "# 2. Define split sizes (80% train, 20% validation)\n",
    "train_size = int(0.8 * len(full_dataset))\n",
    "val_size = len(full_dataset) - train_size\n",
    "\n",
    "# 3. Perform the split\n",
    "generator = torch.Generator().manual_seed(42) # for reproducibility\n",
    "train_dataset, val_dataset = random_split(full_dataset, \n",
    "                                        [train_size, val_size], \n",
    "                                        generator=generator)\n",
    "\n",
    "# Test print lengths\n",
    "print(f\"Train dataset: {train_dataset}\")\n",
    "print(f\"Validation dataset: {val_dataset}\")\n",
    "\n",
    "print(f\"Total samples: {len(full_dataset)}\")\n",
    "print(f\"Training samples: {len(train_dataset)}\")\n",
    "print(f\"Validation samples: {len(val_dataset)}\")"
   ]
  },
  {
   "cell_type": "markdown",
   "id": "b0cd12a9",
   "metadata": {},
   "source": [
    "### 2.2 DataLoaders\n",
    "\n",
    "We create PyTorch DataLoaders for training and validation. Important considerations:\n",
    "\n",
    "- Use `shuffle=True` for the training loader to randomize samples each epoch.\n",
    "- Use reasonable `batch_size` values based on GPU memory.\n",
    "- Set `num_workers` to a value appropriate for your machine (e.g., `os.cpu_count()`), and use `pin_memory=True` when training on CUDA.\n",
    "\n",
    "The loaders return (image, mask) tuples ready for the training loop.\n"
   ]
  },
  {
   "cell_type": "code",
   "execution_count": 10,
   "id": "efe3dd44",
   "metadata": {},
   "outputs": [
    {
     "data": {
      "text/plain": [
       "16"
      ]
     },
     "execution_count": 10,
     "metadata": {},
     "output_type": "execute_result"
    }
   ],
   "source": [
    "import os\n",
    "os.cpu_count()"
   ]
  },
  {
   "cell_type": "code",
   "execution_count": 11,
   "id": "ffde3b11",
   "metadata": {},
   "outputs": [
    {
     "data": {
      "text/plain": [
       "(<torch.utils.data.dataloader.DataLoader at 0x202788040a0>,\n",
       " <torch.utils.data.dataloader.DataLoader at 0x20278804dc0>)"
      ]
     },
     "execution_count": 11,
     "metadata": {},
     "output_type": "execute_result"
    }
   ],
   "source": [
    "from torch.utils.data import DataLoader\n",
    "\n",
    "\n",
    "# --- Hyperparameters for Data Loading ---\n",
    "# BATCH_SIZE: Increase this to the largest value that fits on your GPU VRAM.\n",
    "BATCH_SIZE = 8\n",
    "\n",
    "# NUM_WORKERS: The number of parallel processes for data loading.\n",
    "# On Windows, setting this > 0 can cause a deadlock if not handled carefully.\n",
    "# Start with 0 to ensure the program runs. If it works, you can try a small\n",
    "# number like 2 or 4. Using os.cpu_count() is often unstable on Windows.\n",
    "NUM_WORKERS = os.cpu_count() # START WITH 0 TO FIX THE HANG.\n",
    "\n",
    "train_loader = DataLoader(dataset= train_dataset,\n",
    "                        shuffle= True,\n",
    "                        \n",
    "                        batch_size= BATCH_SIZE,\n",
    "                        num_workers= 0,\n",
    "                        \n",
    "                        pin_memory= True)\n",
    "\n",
    "val_loader = DataLoader(dataset= val_dataset,\n",
    "                        shuffle= False,\n",
    "                        \n",
    "                        batch_size= BATCH_SIZE,\n",
    "                        num_workers= 0,\n",
    "\n",
    "                        pin_memory= True)\n",
    "                        \n",
    "\n",
    "train_loader, val_loader\n",
    "\n"
   ]
  },
  {
   "cell_type": "markdown",
   "id": "f1361035",
   "metadata": {},
   "source": [
    "## 3. Loss function, optimizer, and metrics\n",
    "\n",
    "Choices and rationale:\n",
    "\n",
    "- Loss: MONAI's `DiceLoss(sigmoid=True)` is used because Dice is appropriate for segmentation and encourages overlap between predictions and ground truth. `sigmoid=True` applies a per-pixel sigmoid to raw logits.\n",
    "- Optimizer: Adam with a small learning rate (1e-4) is a good default for fine-tuning segmentation heads.\n",
    "- Scheduler: `ReduceLROnPlateau` reduces the learning rate if validation loss plateaus, helping escape local minima.\n",
    "- Metric: MONAI's `DiceMetric` (with `include_background=False`) evaluates segmentation quality excluding background to focus on tumor detection.\n",
    "- AMP: Automatic Mixed Precision via `torch.amp.GradScaler` speeds up training on modern GPUs and reduces memory usage.\n",
    "\n",
    "We also keep a `best_val_dice` to checkpoint the best-performing model during training.\n"
   ]
  },
  {
   "cell_type": "code",
   "execution_count": 12,
   "id": "a67a1893",
   "metadata": {},
   "outputs": [],
   "source": [
    "from monai.losses import DiceCELoss\n",
    "from monai.metrics import DiceMetric\n",
    "\n",
    "# Move the model to the target device (GPU/CPU) before creating the optimizer.\n",
    "# This ensures that the optimizer is initialized with the model parameters on the correct device.\n",
    "deeplap_V3.to(device)\n",
    "\n",
    "# Define the loss function. DiceCELoss combines Dice and Cross-Entropy for more stable training.\n",
    "# For multi-class output (even with 2 classes), softmax is the correct activation.\n",
    "# to_onehot_y=True converts the single-channel mask to a 2-channel one-hot mask.\n",
    "# It applies a sigmoid to the output before calculating loss.\n",
    "class_weights = torch.tensor([0.1, 0.9], device=device)  # background, foreground\n",
    "loss_fn = DiceCELoss(softmax=True,\n",
    "                    to_onehot_y=True,\n",
    "                    include_background=True,\n",
    "                    weight=class_weights )\n",
    "\n",
    "# Define the optimizer.\n",
    "optimizer = torch.optim.Adam(deeplap_V3.parameters(), \n",
    "                            lr=1e-4)\n",
    "\n",
    "# Define a learning rate scheduler. \n",
    "# It will reduce the learning rate when the validation loss stops improving ('min' mode).\n",
    "scheduler = torch.optim.lr_scheduler.ReduceLROnPlateau(optimizer,\n",
    "                                                        mode='min', \n",
    "                                                        factor=0.1, \n",
    "                                                        patience=10)\n",
    "\n",
    "\n",
    "# Initialize the Dice Metric for evaluating segmentation performance.\n",
    "# `include_background=False` means the background class (label 0) is ignored during calculation.\n",
    "# `reduction=\"mean\"` specifies that the Dice scores for all classes will be averaged.\n",
    "metric = DiceMetric(include_background=False,\n",
    "                    reduction= \"mean\")\n",
    "\n",
    "# Set the total number of training epochs.\n",
    "epochs = 10\n",
    "\n",
    "# Initialize a variable to track the best validation Dice score achieved so far.\n",
    "# This is used to save the best performing model checkpoint.\n",
    "best_val_dice = 0.0\n",
    "\n",
    "# Initialize a Gradient Scaler for Automatic Mixed Precision (AMP) training.\n",
    "# This helps prevent underflow of gradients when using float16 precision,\n",
    "# improving training stability and speed on compatible GPUs.\n",
    "scaler = torch.amp.GradScaler(device = \"cuda\")\n",
    "\n"
   ]
  },
  {
   "cell_type": "markdown",
   "id": "182c9859",
   "metadata": {},
   "source": [
    "## 4. Training loop\n",
    "\n",
    "Training uses a modular engine (imported from `going_modular.engine`) to encapsulate the training and validation steps. Key points:\n",
    "\n",
    "- The engine handles forward/backward passes, loss computation, metric updates, AMP scaling, scheduler steps, and checkpointing.\n",
    "- Provide model, data loaders, loss function, optimizer, scheduler, scaler, device, number of epochs, and a checkpoint directory.\n",
    "- Checkpointing saves the best model (by validation Dice) so you can resume or evaluate the best weights later.\n",
    "\n",
    "After training, inspect the saved checkpoints and validation metrics to assess performance. Consider unfreezing parts of the backbone and fine-tuning with a lower learning rate if more improvement is needed.\n"
   ]
  },
  {
   "cell_type": "code",
   "execution_count": 13,
   "id": "5e841c59",
   "metadata": {},
   "outputs": [],
   "source": [
    "# # TESTING\n",
    "\n",
    "# from going_modular import engine\n",
    "\n",
    "# mean_dice, mean_accuracy = engine.evaluate(model = deeplap_V3, \n",
    "#                                             loader = val_loader,\n",
    "#                                             metric = metric,\n",
    "#                                             device = device,\n",
    "#                                             epoch_num = 1)\n",
    "\n",
    "# mean_dice, mean_accuracy"
   ]
  },
  {
   "cell_type": "code",
   "execution_count": 14,
   "id": "3412c0cd",
   "metadata": {},
   "outputs": [
    {
     "name": "stdout",
     "output_type": "stream",
     "text": [
      "\n",
      "===== Starting Epoch 1/10 =====\n"
     ]
    },
    {
     "name": "stderr",
     "output_type": "stream",
     "text": [
      "Train E-1: 100%|██████████| 307/307 [03:02<00:00,  1.68it/s, loss=0.771]\n",
      "Validation E-1: 100%|██████████| 77/77 [00:26<00:00,  2.94it/s, acc=0.98] \n"
     ]
    },
    {
     "name": "stdout",
     "output_type": "stream",
     "text": [
      "\n",
      "--- Epoch 1 Summary ---\n",
      "  Train Loss:      0.8483\n",
      "  Validation Dice:   0.0000\n",
      "  Validation Acc:    98.32%\n",
      "  Checkpoint saved:  checkpoints_2/model_epoch_1.pth\n",
      "==========================================================\n",
      "\n",
      "===== Starting Epoch 2/10 =====\n"
     ]
    },
    {
     "name": "stderr",
     "output_type": "stream",
     "text": [
      "Train E-2: 100%|██████████| 307/307 [03:14<00:00,  1.58it/s, loss=0.677]\n",
      "Validation E-2: 100%|██████████| 77/77 [00:25<00:00,  2.97it/s, acc=0.98] \n"
     ]
    },
    {
     "name": "stdout",
     "output_type": "stream",
     "text": [
      "\n",
      "--- Epoch 2 Summary ---\n",
      "  Train Loss:      0.7660\n",
      "  Validation Dice:   0.0000\n",
      "  Validation Acc:    98.32%\n",
      "  Checkpoint saved:  checkpoints_2/model_epoch_2.pth\n",
      "==========================================================\n",
      "\n",
      "===== Starting Epoch 3/10 =====\n"
     ]
    },
    {
     "name": "stderr",
     "output_type": "stream",
     "text": [
      "Train E-3: 100%|██████████| 307/307 [03:17<00:00,  1.56it/s, loss=0.764]\n",
      "Validation E-3: 100%|██████████| 77/77 [00:26<00:00,  2.94it/s, acc=0.943]\n"
     ]
    },
    {
     "name": "stdout",
     "output_type": "stream",
     "text": [
      "\n",
      "  New best validation Dice: 0.0395. Model saved to checkpoints_2/best_model.pth\n",
      "\n",
      "--- Epoch 3 Summary ---\n",
      "  Train Loss:      0.7332\n",
      "  Validation Dice:   0.0395\n",
      "  Validation Acc:    97.52%\n",
      "  Checkpoint saved:  checkpoints_2/model_epoch_3.pth\n",
      "==========================================================\n",
      "\n",
      "===== Starting Epoch 4/10 =====\n"
     ]
    },
    {
     "name": "stderr",
     "output_type": "stream",
     "text": [
      "Train E-4: 100%|██████████| 307/307 [04:10<00:00,  1.23it/s, loss=0.738]\n",
      "Validation E-4: 100%|██████████| 77/77 [00:28<00:00,  2.70it/s, acc=0.906]\n"
     ]
    },
    {
     "name": "stdout",
     "output_type": "stream",
     "text": [
      "\n",
      "  New best validation Dice: 0.0862. Model saved to checkpoints_2/best_model.pth\n",
      "\n",
      "--- Epoch 4 Summary ---\n",
      "  Train Loss:      0.7096\n",
      "  Validation Dice:   0.0862\n",
      "  Validation Acc:    96.95%\n",
      "  Checkpoint saved:  checkpoints_2/model_epoch_4.pth\n",
      "==========================================================\n",
      "\n",
      "===== Starting Epoch 5/10 =====\n"
     ]
    },
    {
     "name": "stderr",
     "output_type": "stream",
     "text": [
      "Train E-5: 100%|██████████| 307/307 [04:21<00:00,  1.17it/s, loss=0.693]\n",
      "Validation E-5: 100%|██████████| 77/77 [00:28<00:00,  2.69it/s, acc=0.888]\n"
     ]
    },
    {
     "name": "stdout",
     "output_type": "stream",
     "text": [
      "\n",
      "  New best validation Dice: 0.0966. Model saved to checkpoints_2/best_model.pth\n",
      "\n",
      "--- Epoch 5 Summary ---\n",
      "  Train Loss:      0.6937\n",
      "  Validation Dice:   0.0966\n",
      "  Validation Acc:    94.06%\n",
      "  Checkpoint saved:  checkpoints_2/model_epoch_5.pth\n",
      "==========================================================\n",
      "\n",
      "===== Starting Epoch 6/10 =====\n"
     ]
    },
    {
     "name": "stderr",
     "output_type": "stream",
     "text": [
      "Train E-6: 100%|██████████| 307/307 [03:51<00:00,  1.32it/s, loss=0.743]\n",
      "Validation E-6: 100%|██████████| 77/77 [00:28<00:00,  2.72it/s, acc=0.935]\n"
     ]
    },
    {
     "name": "stdout",
     "output_type": "stream",
     "text": [
      "\n",
      "--- Epoch 6 Summary ---\n",
      "  Train Loss:      0.6831\n",
      "  Validation Dice:   0.0949\n",
      "  Validation Acc:    96.55%\n",
      "  Checkpoint saved:  checkpoints_2/model_epoch_6.pth\n",
      "==========================================================\n",
      "\n",
      "===== Starting Epoch 7/10 =====\n"
     ]
    },
    {
     "name": "stderr",
     "output_type": "stream",
     "text": [
      "Train E-7: 100%|██████████| 307/307 [03:50<00:00,  1.33it/s, loss=0.652]\n",
      "Validation E-7: 100%|██████████| 77/77 [00:28<00:00,  2.67it/s, acc=0.872]\n"
     ]
    },
    {
     "name": "stdout",
     "output_type": "stream",
     "text": [
      "\n",
      "  New best validation Dice: 0.1145. Model saved to checkpoints_2/best_model.pth\n",
      "\n",
      "--- Epoch 7 Summary ---\n",
      "  Train Loss:      0.6739\n",
      "  Validation Dice:   0.1145\n",
      "  Validation Acc:    92.07%\n",
      "  Checkpoint saved:  checkpoints_2/model_epoch_7.pth\n",
      "==========================================================\n",
      "\n",
      "===== Starting Epoch 8/10 =====\n"
     ]
    },
    {
     "name": "stderr",
     "output_type": "stream",
     "text": [
      "Train E-8: 100%|██████████| 307/307 [04:38<00:00,  1.10it/s, loss=0.596]\n",
      "Validation E-8: 100%|██████████| 77/77 [00:37<00:00,  2.07it/s, acc=0.904]\n"
     ]
    },
    {
     "name": "stdout",
     "output_type": "stream",
     "text": [
      "\n",
      "  New best validation Dice: 0.1189. Model saved to checkpoints_2/best_model.pth\n",
      "\n",
      "--- Epoch 8 Summary ---\n",
      "  Train Loss:      0.6659\n",
      "  Validation Dice:   0.1189\n",
      "  Validation Acc:    95.47%\n",
      "  Checkpoint saved:  checkpoints_2/model_epoch_8.pth\n",
      "==========================================================\n",
      "\n",
      "===== Starting Epoch 9/10 =====\n"
     ]
    },
    {
     "name": "stderr",
     "output_type": "stream",
     "text": [
      "Train E-9: 100%|██████████| 307/307 [05:14<00:00,  1.03s/it, loss=0.622]\n",
      "Validation E-9: 100%|██████████| 77/77 [00:29<00:00,  2.58it/s, acc=0.9]  \n"
     ]
    },
    {
     "name": "stdout",
     "output_type": "stream",
     "text": [
      "\n",
      "--- Epoch 9 Summary ---\n",
      "  Train Loss:      0.6594\n",
      "  Validation Dice:   0.1131\n",
      "  Validation Acc:    96.99%\n",
      "  Checkpoint saved:  checkpoints_2/model_epoch_9.pth\n",
      "==========================================================\n",
      "\n",
      "===== Starting Epoch 10/10 =====\n"
     ]
    },
    {
     "name": "stderr",
     "output_type": "stream",
     "text": [
      "Train E-10: 100%|██████████| 307/307 [04:02<00:00,  1.27it/s, loss=0.628]\n",
      "Validation E-10: 100%|██████████| 77/77 [00:28<00:00,  2.68it/s, acc=0.866]\n"
     ]
    },
    {
     "name": "stdout",
     "output_type": "stream",
     "text": [
      "\n",
      "--- Epoch 10 Summary ---\n",
      "  Train Loss:      0.6519\n",
      "  Validation Dice:   0.0876\n",
      "  Validation Acc:    96.81%\n",
      "  Checkpoint saved:  checkpoints_2/model_epoch_10.pth\n",
      "===========================================================\n",
      "\n",
      "Training finished!\n"
     ]
    }
   ],
   "source": [
    "from going_modular import engine\n",
    "\n",
    "results = engine.train(model = deeplap_V3,\n",
    "                    \n",
    "                    train_loader = train_loader,\n",
    "                    test_loader = val_loader, \n",
    "                    \n",
    "                    loss_fn = loss_fn, \n",
    "                    metric = metric,\n",
    "                    optimizer = optimizer, \n",
    "                    scheduler = scheduler,\n",
    "                    scaler = scaler, \n",
    "                    \n",
    "                    device = device, \n",
    "                    epochs = epochs,\n",
    "                    checkpoint_dir = \"checkpoints_2/ \")\n"
   ]
  },
  {
   "cell_type": "code",
   "execution_count": 15,
   "id": "dc5734a7",
   "metadata": {},
   "outputs": [
    {
     "data": {
      "image/png": "[encoded data removed]",
      "text/plain": [
       "<Figure size 1000x600 with 2 Axes>"
      ]
     },
     "metadata": {},
     "output_type": "display_data"
    }
   ],
   "source": [
    "engine.plot_results(results)"
   ]
  },
  {
   "cell_type": "code",
   "execution_count": 16,
   "id": "d765601d",
   "metadata": {},
   "outputs": [
    {
     "name": "stdout",
     "output_type": "stream",
     "text": [
      "\n",
      "===== Starting Epoch 1/10 =====\n"
     ]
    },
    {
     "name": "stderr",
     "output_type": "stream",
     "text": [
      "Train E-1: 100%|██████████| 307/307 [05:01<00:00,  1.02it/s, loss=0.59] \n",
      "Validation E-1: 100%|██████████| 77/77 [00:31<00:00,  2.48it/s, acc=0.893]\n"
     ]
    },
    {
     "name": "stdout",
     "output_type": "stream",
     "text": [
      "\n",
      "  New best validation Dice: 0.1346. Model saved to checkpoints_2/best_model.pth\n",
      "\n",
      "--- Epoch 1 Summary ---\n",
      "  Train Loss:      0.6472\n",
      "  Validation Dice:   0.1346\n",
      "  Validation Acc:    95.80%\n",
      "  Checkpoint saved:  checkpoints_2/model_epoch_1.pth\n",
      "==========================================================\n",
      "\n",
      "===== Starting Epoch 2/10 =====\n"
     ]
    },
    {
     "name": "stderr",
     "output_type": "stream",
     "text": [
      "Train E-2: 100%|██████████| 307/307 [04:45<00:00,  1.08it/s, loss=0.62] \n",
      "Validation E-2: 100%|██████████| 77/77 [00:32<00:00,  2.37it/s, acc=0.905]\n"
     ]
    },
    {
     "name": "stdout",
     "output_type": "stream",
     "text": [
      "\n",
      "  New best validation Dice: 0.1434. Model saved to checkpoints_2/best_model.pth\n",
      "\n",
      "--- Epoch 2 Summary ---\n",
      "  Train Loss:      0.6411\n",
      "  Validation Dice:   0.1434\n",
      "  Validation Acc:    95.92%\n",
      "  Checkpoint saved:  checkpoints_2/model_epoch_2.pth\n",
      "==========================================================\n",
      "\n",
      "===== Starting Epoch 3/10 =====\n"
     ]
    },
    {
     "name": "stderr",
     "output_type": "stream",
     "text": [
      "Train E-3: 100%|██████████| 307/307 [04:01<00:00,  1.27it/s, loss=1.02] \n",
      "Validation E-3: 100%|██████████| 77/77 [00:28<00:00,  2.67it/s, acc=0.907]\n"
     ]
    },
    {
     "name": "stdout",
     "output_type": "stream",
     "text": [
      "\n",
      "  New best validation Dice: 0.1775. Model saved to checkpoints_2/best_model.pth\n",
      "\n",
      "--- Epoch 3 Summary ---\n",
      "  Train Loss:      0.6411\n",
      "  Validation Dice:   0.1775\n",
      "  Validation Acc:    93.29%\n",
      "  Checkpoint saved:  checkpoints_2/model_epoch_3.pth\n",
      "==========================================================\n",
      "\n",
      "===== Starting Epoch 4/10 =====\n"
     ]
    },
    {
     "name": "stderr",
     "output_type": "stream",
     "text": [
      "Train E-4: 100%|██████████| 307/307 [03:52<00:00,  1.32it/s, loss=0.743]\n",
      "Validation E-4: 100%|██████████| 77/77 [00:28<00:00,  2.70it/s, acc=0.86] \n"
     ]
    },
    {
     "name": "stdout",
     "output_type": "stream",
     "text": [
      "\n",
      "  New best validation Dice: 0.1826. Model saved to checkpoints_2/best_model.pth\n",
      "\n",
      "--- Epoch 4 Summary ---\n",
      "  Train Loss:      0.6337\n",
      "  Validation Dice:   0.1826\n",
      "  Validation Acc:    94.96%\n",
      "  Checkpoint saved:  checkpoints_2/model_epoch_4.pth\n",
      "==========================================================\n",
      "\n",
      "===== Starting Epoch 5/10 =====\n"
     ]
    },
    {
     "name": "stderr",
     "output_type": "stream",
     "text": [
      "Train E-5: 100%|██████████| 307/307 [03:41<00:00,  1.39it/s, loss=0.703]\n",
      "Validation E-5: 100%|██████████| 77/77 [00:27<00:00,  2.78it/s, acc=0.882]\n"
     ]
    },
    {
     "name": "stdout",
     "output_type": "stream",
     "text": [
      "\n",
      "  New best validation Dice: 0.1916. Model saved to checkpoints_2/best_model.pth\n",
      "\n",
      "--- Epoch 5 Summary ---\n",
      "  Train Loss:      0.6251\n",
      "  Validation Dice:   0.1916\n",
      "  Validation Acc:    95.00%\n",
      "  Checkpoint saved:  checkpoints_2/model_epoch_5.pth\n",
      "==========================================================\n",
      "\n",
      "===== Starting Epoch 6/10 =====\n"
     ]
    },
    {
     "name": "stderr",
     "output_type": "stream",
     "text": [
      "Train E-6: 100%|██████████| 307/307 [03:42<00:00,  1.38it/s, loss=0.773]\n",
      "Validation E-6: 100%|██████████| 77/77 [00:28<00:00,  2.75it/s, acc=0.889]\n"
     ]
    },
    {
     "name": "stdout",
     "output_type": "stream",
     "text": [
      "\n",
      "--- Epoch 6 Summary ---\n",
      "  Train Loss:      0.6207\n",
      "  Validation Dice:   0.1898\n",
      "  Validation Acc:    96.50%\n",
      "  Checkpoint saved:  checkpoints_2/model_epoch_6.pth\n",
      "==========================================================\n",
      "\n",
      "===== Starting Epoch 7/10 =====\n"
     ]
    },
    {
     "name": "stderr",
     "output_type": "stream",
     "text": [
      "Train E-7: 100%|██████████| 307/307 [04:01<00:00,  1.27it/s, loss=0.525]\n",
      "Validation E-7: 100%|██████████| 77/77 [00:29<00:00,  2.65it/s, acc=0.93] \n"
     ]
    },
    {
     "name": "stdout",
     "output_type": "stream",
     "text": [
      "\n",
      "  New best validation Dice: 0.2107. Model saved to checkpoints_2/best_model.pth\n",
      "\n",
      "--- Epoch 7 Summary ---\n",
      "  Train Loss:      0.6164\n",
      "  Validation Dice:   0.2107\n",
      "  Validation Acc:    96.71%\n",
      "  Checkpoint saved:  checkpoints_2/model_epoch_7.pth\n",
      "==========================================================\n",
      "\n",
      "===== Starting Epoch 8/10 =====\n"
     ]
    },
    {
     "name": "stderr",
     "output_type": "stream",
     "text": [
      "Train E-8: 100%|██████████| 307/307 [03:51<00:00,  1.33it/s, loss=0.543]\n",
      "Validation E-8: 100%|██████████| 77/77 [00:29<00:00,  2.64it/s, acc=0.884]\n"
     ]
    },
    {
     "name": "stdout",
     "output_type": "stream",
     "text": [
      "\n",
      "--- Epoch 8 Summary ---\n",
      "  Train Loss:      0.6115\n",
      "  Validation Dice:   0.2063\n",
      "  Validation Acc:    95.86%\n",
      "  Checkpoint saved:  checkpoints_2/model_epoch_8.pth\n",
      "==========================================================\n",
      "\n",
      "===== Starting Epoch 9/10 =====\n"
     ]
    },
    {
     "name": "stderr",
     "output_type": "stream",
     "text": [
      "Train E-9: 100%|██████████| 307/307 [03:59<00:00,  1.28it/s, loss=0.57] \n",
      "Validation E-9: 100%|██████████| 77/77 [00:28<00:00,  2.69it/s, acc=0.882]\n"
     ]
    },
    {
     "name": "stdout",
     "output_type": "stream",
     "text": [
      "\n",
      "  New best validation Dice: 0.2197. Model saved to checkpoints_2/best_model.pth\n",
      "\n",
      "--- Epoch 9 Summary ---\n",
      "  Train Loss:      0.6065\n",
      "  Validation Dice:   0.2197\n",
      "  Validation Acc:    91.72%\n",
      "  Checkpoint saved:  checkpoints_2/model_epoch_9.pth\n",
      "==========================================================\n",
      "\n",
      "===== Starting Epoch 10/10 =====\n"
     ]
    },
    {
     "name": "stderr",
     "output_type": "stream",
     "text": [
      "Train E-10: 100%|██████████| 307/307 [03:59<00:00,  1.28it/s, loss=0.491]\n",
      "Validation E-10: 100%|██████████| 77/77 [00:28<00:00,  2.71it/s, acc=0.939]\n"
     ]
    },
    {
     "name": "stdout",
     "output_type": "stream",
     "text": [
      "\n",
      "  New best validation Dice: 0.2617. Model saved to checkpoints_2/best_model.pth\n",
      "\n",
      "--- Epoch 10 Summary ---\n",
      "  Train Loss:      0.6033\n",
      "  Validation Dice:   0.2617\n",
      "  Validation Acc:    93.67%\n",
      "  Checkpoint saved:  checkpoints_2/model_epoch_10.pth\n",
      "===========================================================\n",
      "\n",
      "Training finished!\n"
     ]
    }
   ],
   "source": [
    "results = engine.train(model = deeplap_V3,\n",
    "                    \n",
    "                    train_loader = train_loader,\n",
    "                    test_loader = val_loader, \n",
    "                    \n",
    "                    loss_fn = loss_fn, \n",
    "                    metric = metric,\n",
    "                    optimizer = optimizer, \n",
    "                    scheduler = scheduler,\n",
    "                    scaler = scaler, \n",
    "                    \n",
    "                    device = device, \n",
    "                    epochs = epochs,\n",
    "                    checkpoint_dir = \"checkpoints_2/ \")"
   ]
  },
  {
   "cell_type": "code",
   "execution_count": 17,
   "id": "1dc43278",
   "metadata": {},
   "outputs": [
    {
     "data": {
      "image/png": "[encoded data removed]",
      "text/plain": [
       "<Figure size 1000x600 with 2 Axes>"
      ]
     },
     "metadata": {},
     "output_type": "display_data"
    }
   ],
   "source": [
    "engine.plot_results(results)"
   ]
  }
 ],
 "metadata": {
  "kernelspec": {
   "display_name": ".venv",
   "language": "python",
   "name": "python3"
  },
  "language_info": {
   "codemirror_mode": {
    "name": "ipython",
    "version": 3
   },
   "file_extension": ".py",
   "mimetype": "text/x-python",
   "name": "python",
   "nbconvert_exporter": "python",
   "pygments_lexer": "ipython3",
   "version": "3.10.5"
  }
 },
 "nbformat": 4,
 "nbformat_minor": 5
}
