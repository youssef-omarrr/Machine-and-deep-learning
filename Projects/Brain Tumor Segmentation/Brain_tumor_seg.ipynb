{
 "cells": [
  {
   "cell_type": "markdown",
   "id": "c29688d4",
   "metadata": {},
   "source": [
    "# Brain Tumor Segmentation with MONAI\n",
    "\n",
    "A step-by-step guide to building a 2D brain tumor segmentation model using the MONAI framework.\n"
   ]
  },
  {
   "cell_type": "markdown",
   "id": "b0c30c05",
   "metadata": {},
   "source": [
    "## Workflow Overview\n",
    "\n",
    "1. Prepare file lists for images and masks\n",
    "2. Define MONAI transforms for preprocessing and augmentation\n",
    "3. Create datasets and dataloaders (using `PersistentDataset` for speed)\n",
    "4. Build a 2D U-Net model with MONAI\n",
    "5. Set up loss function, optimizer, and learning rate scheduler\n",
    "6. Train the model with validation, metrics, and checkpointing\n",
    "7. Tips for fine-tuning (e.g., freezing layers, low learning rate, augmentations)\n"
   ]
  },
  {
   "cell_type": "markdown",
   "id": "05fc18a1",
   "metadata": {},
   "source": [
    "## 0. Imports\n",
    "\n",
    "Import all required libraries and set up the environment.\n"
   ]
  },
  {
   "cell_type": "code",
   "execution_count": null,
   "id": "37d58d26",
   "metadata": {},
   "outputs": [
    {
     "data": {
      "text/plain": [
       "(device(type='cuda'), '2.6.0+cu126')"
      ]
     },
     "execution_count": 15,
     "metadata": {},
     "output_type": "execute_result"
    }
   ],
   "source": [
    "import os\n",
    "from pathlib import Path\n",
    "\n",
    "import torch\n",
    "from torch.utils.data import DataLoader\n",
    "from torchinfo import summary\n",
    "\n",
    "from monai.transforms import (\n",
    "    LoadImaged, EnsureChannelFirstd, ScaleIntensityd, ToTensord,\n",
    "    RandFlipd, RandRotate90d, Compose, Resized\n",
    ")\n",
    "from monai.data import PersistentDataset\n",
    "from monai.networks.nets import UNet\n",
    "from monai.losses import DiceLoss\n",
    "from monai.metrics import DiceMetric\n",
    "from monai.utils import set_determinism\n",
    "\n",
    "from tqdm import tqdm\n",
    "\n",
    "set_determinism(42)\n",
    "device = torch.device(\"cuda\" if torch.cuda.is_available() else \"cpu\")\n",
    "\n",
    "# Frees unused memory held by the caching allocator\n",
    "torch.cuda.empty_cache()  \n",
    "device, torch.__version__"
   ]
  },
  {
   "cell_type": "code",
   "execution_count": 3,
   "id": "898de07b",
   "metadata": {},
   "outputs": [
    {
     "name": "stdout",
     "output_type": "stream",
     "text": [
      "Wed Aug 13 10:06:33 2025       \n",
      "+-----------------------------------------------------------------------------------------+\n",
      "| NVIDIA-SMI 576.88                 Driver Version: 576.88         CUDA Version: 12.9     |\n",
      "|-----------------------------------------+------------------------+----------------------+\n",
      "| GPU  Name                  Driver-Model | Bus-Id          Disp.A | Volatile Uncorr. ECC |\n",
      "| Fan  Temp   Perf          Pwr:Usage/Cap |           Memory-Usage | GPU-Util  Compute M. |\n",
      "|                                         |                        |               MIG M. |\n",
      "|=========================================+========================+======================|\n",
      "|   0  NVIDIA GeForce RTX 3060 ...  WDDM  |   00000000:01:00.0 Off |                  N/A |\n",
      "| N/A   57C    P5             20W /  115W |     324MiB /   6144MiB |     20%      Default |\n",
      "|                                         |                        |                  N/A |\n",
      "+-----------------------------------------+------------------------+----------------------+\n",
      "                                                                                         \n",
      "+-----------------------------------------------------------------------------------------+\n",
      "| Processes:                                                                              |\n",
      "|  GPU   GI   CI              PID   Type   Process name                        GPU Memory |\n",
      "|        ID   ID                                                               Usage      |\n",
      "|=========================================================================================|\n",
      "|    0   N/A  N/A           19820    C+G   ...\\app-1.20.1\\Flow.Launcher.exe      N/A      |\n",
      "|    0   N/A  N/A           21676    C+G   ...ms\\Microsoft VS Code\\Code.exe      N/A      |\n",
      "+-----------------------------------------------------------------------------------------+\n"
     ]
    }
   ],
   "source": [
    "!nvidia-smi"
   ]
  },
  {
   "cell_type": "markdown",
   "id": "2585f80f",
   "metadata": {},
   "source": [
    "## 1. Prepare File Lists\n",
    "\n",
    "Build lists of image and mask file paths, and split them into training and testing sets.\n"
   ]
  },
  {
   "cell_type": "code",
   "execution_count": 4,
   "id": "4bde988f",
   "metadata": {},
   "outputs": [
    {
     "name": "stdout",
     "output_type": "stream",
     "text": [
      "Sample from training set: {'image': WindowsPath('brain_tumor_dataset/images/1041.png'), 'mask': WindowsPath('brain_tumor_dataset/masks/1041.png')}\n",
      "Sample from testing set: {'image': WindowsPath('brain_tumor_dataset/images/1284.png'), 'mask': WindowsPath('brain_tumor_dataset/masks/1284.png')}\n",
      "Length of training set: 2451\n",
      "Length of testing set: 613\n"
     ]
    }
   ],
   "source": [
    "# Define paths to the image and mask directories\n",
    "IMAGE_DIR = Path(\"brain_tumor_dataset/images\")\n",
    "MASK_DIR = Path(\"brain_tumor_dataset/masks\")\n",
    "\n",
    "# Get all image and mask file paths, assuming they are PNG files\n",
    "images = list(IMAGE_DIR.glob(\"*.png\"))\n",
    "masks = list(MASK_DIR.glob(\"*.png\"))\n",
    "\n",
    "# Create a list of dictionaries, pairing each image with its corresponding mask.\n",
    "# This assumes that the files in both directories are sorted in a corresponding order.\n",
    "data_dicts = [\n",
    "    {\n",
    "        \"image\": img, \n",
    "        \"mask\": m\n",
    "        \n",
    "    } for img, m in zip(images, masks)\n",
    "]\n",
    "\n",
    "# --- Data Splitting ---\n",
    "import random\n",
    "# Set a random seed for reproducibility, ensuring the shuffle is the same every time.\n",
    "random.seed(42) \n",
    "# Shuffle the data dictionaries in place to randomize the dataset.\n",
    "random.shuffle(data_dicts)\n",
    "\n",
    "# Calculate the split index for an 80/20 train-test split.\n",
    "n_val = int(0.8 * len(data_dicts)) \n",
    "# Split the data into training and testing sets.\n",
    "train_files = data_dicts[:n_val]\n",
    "test_files = data_dicts[n_val:]\n",
    "\n",
    "# Print a sample from each set to verify the structure.\n",
    "print(\"Sample from training set:\", train_files[5])\n",
    "print(\"Sample from testing set:\", test_files[5])\n",
    "print (f\"Length of training set: {len(train_files)}\")\n",
    "print (f\"Length of testing set: {len(test_files)}\")\n",
    "\n"
   ]
  },
  {
   "cell_type": "markdown",
   "id": "a84c2d98",
   "metadata": {},
   "source": [
    "## 2. Define 2D Transforms\n",
    "\n",
    "Set up preprocessing and augmentation transforms for both training and validation.\n"
   ]
  },
  {
   "cell_type": "code",
   "execution_count": 5,
   "id": "8712815c",
   "metadata": {},
   "outputs": [
    {
     "data": {
      "text/plain": [
       "(<monai.transforms.compose.Compose at 0x2b66edbbb20>,\n",
       " <monai.transforms.compose.Compose at 0x2b66e8567a0>)"
      ]
     },
     "execution_count": 5,
     "metadata": {},
     "output_type": "execute_result"
    }
   ],
   "source": [
    "# Target size\n",
    "target_size = (256, 256) # change if it doesn'tfit the GPU\n",
    "\n",
    "# Define the sequence of transformations for the training data. These include data augmentation steps.\n",
    "train_transforms = Compose([ \n",
    "    LoadImaged(keys=[\"image\", \"mask\"]),           # Loads the image and mask data from the file paths specified in the dictionary.\n",
    "    \n",
    "    EnsureChannelFirstd(keys=[\"image\", \"mask\"]),  # Ensures the data format is [Channel, Height, Width], which is standard for PyTorch.\n",
    "    \n",
    "    ScaleIntensityd(keys=[\"image\"]),              # Normalizes the intensity values of the image (e.g., to a [0, 1] range). \n",
    "    \n",
    "    Resized(keys=[\"image\", \"mask\"],               # Resize all image to the same shape\n",
    "            spatial_size=target_size),\n",
    "    \n",
    "    RandFlipd(keys=[\"image\", \"mask\"],             # Randomly flips the image and mask for data augmentation.\n",
    "                prob=0.5, spatial_axis=0),        # Flips along the first spatial axis (e.g., horizontal) with a 50% probability.\n",
    "    \n",
    "    RandRotate90d(keys=[\"image\", \"mask\"],         # Randomly rotates the image and mask in 90-degree increments for augmentation.\n",
    "                prob=0.5, max_k=3),               # Applies rotation with a 50% probability, up to 3 times (90, 180, or 270 degrees).\n",
    "    \n",
    "    ToTensord(keys=[\"image\", \"mask\"]),            # Converts the image and mask from NumPy arrays to PyTorch Tensors.\n",
    "])\n",
    "\n",
    "# Define the sequence of transformations for the testing/validation data.\n",
    "# Note: This pipeline does not include random augmentations (like flip or rotate) to ensure consistent evaluation.\n",
    "test_transforms = Compose([ \n",
    "    LoadImaged(keys=[\"image\", \"mask\"]),           # Loads the image and mask data from the file paths specified in the dictionary.\n",
    "    \n",
    "    EnsureChannelFirstd(keys=[\"image\", \"mask\"]),  # Ensures the data format is [Channel, Height, Width].\n",
    "    \n",
    "    ScaleIntensityd(keys=[\"image\"]),              # Normalizes the intensity values of the image.\n",
    "    \n",
    "    Resized(keys=[\"image\", \"mask\"],               # Resize all image to the same shape\n",
    "            spatial_size=target_size),\n",
    "    \n",
    "    ToTensord(keys=[\"image\", \"mask\"]),            # Converts the image and mask from NumPy arrays to PyTorch Tensors.\n",
    "])\n",
    "\n",
    "\n",
    "train_transforms, test_transforms"
   ]
  },
  {
   "cell_type": "markdown",
   "id": "d44b8ce8",
   "metadata": {},
   "source": [
    "## 3. Datasets and Dataloaders\n",
    "\n",
    "Create MONAI datasets and PyTorch dataloaders for efficient data loading.\n"
   ]
  },
  {
   "cell_type": "code",
   "execution_count": 6,
   "id": "9c1afbca",
   "metadata": {},
   "outputs": [
    {
     "data": {
      "text/plain": [
       "(16, 8)"
      ]
     },
     "execution_count": 6,
     "metadata": {},
     "output_type": "execute_result"
    }
   ],
   "source": [
    "os.cpu_count(), os.cpu_count()//2"
   ]
  },
  {
   "cell_type": "code",
   "execution_count": 13,
   "id": "4ff6caf4",
   "metadata": {},
   "outputs": [],
   "source": [
    "# --- Create a directory for the persistent cache ---\n",
    "# For best performance, ensure this directory is on a fast drive (like an NVMe SSD).\n",
    "cache_dir = os.path.join(\".\", \"persistent_cache\") # Using a local folder\n",
    "os.makedirs(cache_dir, exist_ok=True)"
   ]
  },
  {
   "cell_type": "code",
   "execution_count": 17,
   "id": "baec4b73",
   "metadata": {},
   "outputs": [],
   "source": [
    "# --- Create MONAI Datasets and PyTorch DataLoaders ---\n",
    "\n",
    "# Create a training dataset with caching.\n",
    "train_DS = PersistentDataset(\n",
    "    data=train_files,         # The list of file dictionaries for training.\n",
    "    transform=train_transforms, # The transformations (including augmentations) to apply.\n",
    "    cache_dir=os.path.join(cache_dir, \"train\") # Use a sub-directory for the training caches.\n",
    ")\n",
    "\n",
    "# Create a testing dataset. Caching is also beneficial here for faster repeated evaluations.\n",
    "test_DS = PersistentDataset(\n",
    "    data=test_files,          # The list of file dictionaries for testing.\n",
    "    transform=test_transforms,  # The transformations (without augmentations) to apply.\n",
    "    cache_dir=os.path.join(cache_dir, \"test\") # Use a sub-directory for the testing cache\n",
    ")\n",
    "\n",
    "\n",
    "# Create a DataLoader for the training set.\n",
    "train_loader = DataLoader(\n",
    "    dataset=train_DS,         # The dataset to load from.\n",
    "    batch_size=8,             # Number of samples per batch.\n",
    "    shuffle=True,             # Shuffle the data at the beginning of each epoch to improve model generalization.\n",
    "    num_workers=os.cpu_count(),  # Use all available CPU cores to load data in parallel, preventing bottlenecks.\n",
    "    pin_memory=True           # Speeds up data transfer from CPU to GPU by putting tensors in pinned memory.\n",
    ")\n",
    "\n",
    "# Create a DataLoader for the testing set.\n",
    "test_loader = DataLoader(\n",
    "    dataset=test_DS,          # The dataset to load from.\n",
    "    batch_size=4,             # A smaller batch size for evaluation is common.\n",
    "    shuffle=False,            # Do not shuffle the test data to ensure consistent and reproducible evaluation.\n",
    "    num_workers=os.cpu_count()//2, # Use half the CPU cores for loading test data.\n",
    "    pin_memory=True           # Speeds up data transfer from CPU to GPU by putting tensors in pinned memory.\n",
    ")"
   ]
  },
  {
   "cell_type": "code",
   "execution_count": 18,
   "id": "42c0fbf9",
   "metadata": {},
   "outputs": [
    {
     "data": {
      "text/plain": [
       "(<monai.data.dataset.PersistentDataset at 0x2b6fea81660>,\n",
       " <monai.data.dataset.PersistentDataset at 0x2b6fea83f40>,\n",
       " <torch.utils.data.dataloader.DataLoader at 0x2b66e0bbee0>,\n",
       " <torch.utils.data.dataloader.DataLoader at 0x2b6fea80a00>)"
      ]
     },
     "execution_count": 18,
     "metadata": {},
     "output_type": "execute_result"
    }
   ],
   "source": [
    "train_DS, test_DS, train_loader, test_loader"
   ]
  },
  {
   "cell_type": "markdown",
   "id": "821ea627",
   "metadata": {},
   "source": [
    "## 4. Model\n",
    "\n",
    "Define a 2D U-Net model for segmentation using MONAI.\n"
   ]
  },
  {
   "cell_type": "code",
   "execution_count": 9,
   "id": "a2e1c96b",
   "metadata": {},
   "outputs": [
    {
     "data": {
      "text/plain": [
       "==============================================================================================================================================================================================\n",
       "Layer (type:depth-idx)                                                                     Input Shape               Output Shape              Param #                   Trainable\n",
       "==============================================================================================================================================================================================\n",
       "UNet                                                                                       [1, 1, 224, 224]          [1, 1, 224, 224]          --                        True\n",
       "├─Sequential: 1-1                                                                          [1, 1, 224, 224]          [1, 1, 224, 224]          --                        True\n",
       "│    └─ResidualUnit: 2-1                                                                   [1, 1, 224, 224]          [1, 16, 112, 112]         --                        True\n",
       "│    │    └─Conv2d: 3-1                                                                    [1, 1, 224, 224]          [1, 16, 112, 112]         160                       True\n",
       "│    │    └─Sequential: 3-2                                                                [1, 1, 224, 224]          [1, 16, 112, 112]         2,482                     True\n",
       "│    └─SkipConnection: 2-2                                                                 [1, 16, 112, 112]         [1, 32, 112, 112]         --                        True\n",
       "│    │    └─Sequential: 3-3                                                                [1, 16, 112, 112]         [1, 16, 112, 112]         1,621,902                 True\n",
       "│    └─Sequential: 2-3                                                                     [1, 32, 112, 112]         [1, 1, 224, 224]          --                        True\n",
       "│    │    └─Convolution: 3-4                                                               [1, 32, 112, 112]         [1, 1, 224, 224]          290                       True\n",
       "│    │    └─ResidualUnit: 3-5                                                              [1, 1, 224, 224]          [1, 1, 224, 224]          10                        True\n",
       "==============================================================================================================================================================================================\n",
       "Total params: 1,624,844\n",
       "Trainable params: 1,624,844\n",
       "Non-trainable params: 0\n",
       "Total mult-adds (M): 894.06\n",
       "==============================================================================================================================================================================================\n",
       "Input size (MB): 0.20\n",
       "Forward/backward pass size (MB): 29.50\n",
       "Params size (MB): 6.50\n",
       "Estimated Total Size (MB): 36.20\n",
       "=============================================================================================================================================================================================="
      ]
     },
     "execution_count": 9,
     "metadata": {},
     "output_type": "execute_result"
    }
   ],
   "source": [
    "\"\"\"\n",
    "The following code block initializes the U-Net model with specific parameters tailored for this brain tumor segmentation task.\n",
    "\n",
    "U-Net Parameters Explained:\n",
    "---------------------------\n",
    "spatial_dims: Defines the dimensionality of the data. \n",
    "            For 2D MRI slices, this is 2. \n",
    "            For 3D MRI volumes, it would be 3.\n",
    "\n",
    "in_channels: The number of input channels for the model. \n",
    "                For a single grayscale MRI slice, this is 1. \n",
    "                If using multi-modal data (like T1, T1ce, T2, FLAIR from BraTS), this would be 4.\n",
    "\n",
    "out_channels: The number of output channels, which corresponds to the number of classes to be segmented. \n",
    "            For binary segmentation (tumor vs. background), this is 1.\n",
    "\n",
    "channels: A tuple defining the number of feature channels at each level of the U-Net's encoder path. \n",
    "        The model starts with 16 channels, \n",
    "        then downsamples and increases the channel count to 32, 64, 128, and finally 256 at the bottleneck. \n",
    "        The decoder path will mirror this in reverse.\n",
    "\n",
    "strides: A tuple defining the stride for the downsampling convolutions at each level of the encoder. \n",
    "        A stride of 2 halves the spatial dimensions (height and width) of the feature map at each step, which is standard for U-Nets.\n",
    "\n",
    "num_res_units: The number of residual convolutional blocks at each level of the U-Net. \n",
    "            Using 2 units per level increases the model's capacity to learn complex features at different resolutions.\n",
    "\"\"\"\n",
    "\n",
    "# Set the number of classes for segmentation.\n",
    "# For binary segmentation (tumor vs. background), this is 1.\n",
    "num_classes = 1\n",
    "\n",
    "# Set the number of input channels.\n",
    "# Since we are using 2D grayscale MRI slices, this is 1.\n",
    "in_channels = 1\n",
    "\n",
    "# The number of output channels is equal to the number of classes.\n",
    "out_channels = num_classes\n",
    "\n",
    "model = UNet(\n",
    "    spatial_dims=2,                 # Using 2D convolutions and operations.\n",
    "    \n",
    "    in_channels=in_channels,        # Number of channels in the input image.\n",
    "    out_channels=out_channels,      # Number of channels in the output mask.\n",
    "    \n",
    "    channels=(16, 32, 64, 128, 256),# Feature maps at each level of the encoder.\n",
    "    strides=(2, 2, 2, 2),           # Downsampling factor at each encoder level.\n",
    "    \n",
    "    num_res_units=2,                # Number of convolutional blocks per level.\n",
    ").to(device) # Move the model to the specified device (GPU or CPU).\n",
    "\n",
    "\n",
    "\n",
    "summary(\n",
    "    model,\n",
    "    # The input size should match the model's 2D configuration: (batch_size, channels, height, width)\n",
    "    input_size=(1, in_channels, 224, 224),\n",
    "    col_names=(\"input_size\", \"output_size\", \"num_params\", \"trainable\"),\n",
    ")\n",
    "\n"
   ]
  },
  {
   "cell_type": "markdown",
   "id": "b7daace0",
   "metadata": {},
   "source": [
    "## 5. Loss Function and Optimizer\n",
    "\n",
    "Set up the Dice loss, Adam optimizer, and a learning rate scheduler.\n"
   ]
  },
  {
   "cell_type": "code",
   "execution_count": 10,
   "id": "0d16e3cc",
   "metadata": {},
   "outputs": [],
   "source": [
    "\"\"\"\n",
    "This block sets up the core components for training the model: \n",
    "the loss function, \n",
    "the optimizer, \n",
    "and a learning rate scheduler.\n",
    "\n",
    "- Loss Function (DiceLoss): Measures how well the model's prediction matches the \n",
    "  ground truth mask. \n",
    "  Dice Loss is particularly effective for segmentation tasks as \n",
    "  it focuses on the overlap between the predicted and actual regions, which is \n",
    "  robust to class imbalance (e.g., small tumors in a large image).\n",
    "\n",
    "- Optimizer (Adam): The algorithm that updates the model's weights to minimize the loss.\n",
    "\n",
    "- Scheduler (ReduceLROnPlateau): A strategy to dynamically adjust the learning \n",
    "  rate during training. It will \"reduce\" the learning rate when the model's \n",
    "  performance on the validation set \"plateaus\" (stops improving). This helps the \n",
    "  model to fine-tune its weights and escape local minima.\n",
    "\"\"\"\n",
    "# Define the loss function. DiceLoss is excellent for segmentation tasks.\n",
    "# sigmoid=True is necessary as our model outputs raw logits. \n",
    "# It applies a sigmoid to the output before calculating loss.\n",
    "loss_fn = DiceLoss(sigmoid=True)\n",
    "\n",
    "# Define the optimizer.\n",
    "optimizer = torch.optim.Adam(model.parameters(), \n",
    "                            lr=1e-4)\n",
    "\n",
    "# Define a learning rate scheduler. \n",
    "# It will reduce the learning rate when the validation loss stops improving ('min' mode).\n",
    "scheduler = torch.optim.lr_scheduler.ReduceLROnPlateau(optimizer,\n",
    "                                                        mode='min', \n",
    "                                                        factor=0.1, \n",
    "                                                        patience=10, \n",
    "                                                        verbose=True)\n",
    "\n"
   ]
  },
  {
   "cell_type": "markdown",
   "id": "a2ec4554",
   "metadata": {},
   "source": [
    "## 6. Training Loop and Metrics\n",
    "\n",
    "Configure training and validation loops, and initialize metrics for evaluation.\n"
   ]
  },
  {
   "cell_type": "code",
   "execution_count": 11,
   "id": "9ffe6be2",
   "metadata": {},
   "outputs": [],
   "source": [
    "# Initialize the Dice Metric for evaluating segmentation performance.\n",
    "# `include_background=False` means the background class (label 0) is ignored during calculation.\n",
    "# `reduction=\"mean\"` specifies that the Dice scores for all classes will be averaged.\n",
    "metric = DiceMetric(include_background=False,\n",
    "                    reduction= \"mean\")\n",
    "\n",
    "# Set the total number of training epochs.\n",
    "epochs = 20\n",
    "\n",
    "# Initialize a variable to track the best validation Dice score achieved so far.\n",
    "# This is used to save the best performing model checkpoint.\n",
    "best_val_dice = 0.0\n",
    "\n",
    "# Initialize a Gradient Scaler for Automatic Mixed Precision (AMP) training.\n",
    "# This helps prevent underflow of gradients when using float16 precision,\n",
    "# improving training stability and speed on compatible GPUs.\n",
    "scaler = torch.amp.GradScaler(device = \"cuda\")"
   ]
  },
  {
   "cell_type": "markdown",
   "id": "85edab9d",
   "metadata": {},
   "source": [
    "### 6.1 Detailed Training Loop (for explanation only)\n",
    "\n",
    "_This cell explains the training loop step-by-step. Do not execute._\n"
   ]
  },
  {
   "cell_type": "code",
   "execution_count": null,
   "id": "65a99480",
   "metadata": {},
   "outputs": [],
   "source": [
    "# 1. Start the training loop\n",
    "for epoch in range(epochs):\n",
    "    print (f\"Starting Epoch number = {epoch+1}\")\n",
    "    \n",
    "    # 2. Set the model to training mode\n",
    "    model.train()\n",
    "    \n",
    "    # 3. init the total loss for the current epoch\n",
    "    epoch_loss = 0\n",
    "    \n",
    "    # 4. Loop over all batches of data in the training loader\n",
    "    for batch in tqdm(train_loader, desc=f\"Train E-{epoch+1}\"):\n",
    "        \n",
    "        # 5. Load images and ground truth masks for the current batch\n",
    "        # and move them to the specified computing device (e.g., \"cuda\" for GPU).\n",
    "        # Move imgs and gts to the GPU asynchronously\n",
    "        imgs = batch[\"image\"].to(device, non_blocking=True)  # Input images (B, C, H, W)\n",
    "        gts = batch[\"mask\"].to(device, non_blocking=True)   # Ground truth masks (B, 1, H, W)\n",
    "    \n",
    "        # 6. Clear the gradients from the previous iteration\n",
    "        # This is essential because PyTorch gradients are accumulated by default.\n",
    "        optimizer.zero_grad()\n",
    "        \n",
    "        # 7. Use Automatic Mixed Precision (AMP) for training\n",
    "        # This can speed up training and reduce memory usage on compatible hardware (NVIDIA GPUs).\n",
    "        with torch.amp.autocast(device_type=\"cuda\"):\n",
    "            \n",
    "            # 8. Forward pass: Get model predictions (logits) for the input images\n",
    "            logits = model(imgs)  # (B, 1, H, W)\n",
    "            \n",
    "            # 9. Calculate the loss between the model's predictions and the ground truth\n",
    "            loss = loss_fn(logits, gts)\n",
    "            \n",
    "        # 10. Backpropagation: Calculate gradients using the scaled loss\n",
    "        # The GradScaler helps prevent gradients from becoming zero (\"underflowing\") when using float16 precision.\n",
    "        scaler.scale(loss).backward()\n",
    "        \n",
    "        # 11. Update model weights\n",
    "        # The scaler checks for invalid gradients (NaNs/Infs) and tells the optimizer to update the weights.\n",
    "        scaler.step(optimizer)\n",
    "        \n",
    "        # 12. Update the GradScaler's scale factor for the next iteration\n",
    "        scaler.update()\n",
    "        \n",
    "        # 13. Accumulate the loss for the current batch\n",
    "        # .item() gets the scalar value from the loss tensor.\n",
    "        epoch_loss += loss.item()\n",
    "    \n",
    "    # 14. Calculate the average loss for the entire epoch\n",
    "    epoch_loss /= len(train_loader)\n",
    "    \n",
    "    # 15. Save the model checkpoint after the epoch\n",
    "    checkpoint_path = os.path.join(\"checkpoints/\", f\"model_epoch_{epoch+1}.pth\")\n",
    "    # Saving the model's state_dict is the recommended practice for flexibility.\n",
    "    torch.save(model.state_dict(), checkpoint_path)\n",
    "    \n",
    "    print(f\"\\nEpoch {epoch+1} Average Loss: {epoch_loss:.4f}\")\n",
    "    print(f\"Checkpoint saved: {checkpoint_path}\\n\")\n",
    "\n"
   ]
  },
  {
   "cell_type": "markdown",
   "id": "1c619c8d",
   "metadata": {},
   "source": [
    "### 6.2 Detailed Validation Loop (for explanation only)\n",
    "\n",
    "_This cell explains the validation loop step-by-step. Do not execute._\n"
   ]
  },
  {
   "cell_type": "code",
   "execution_count": null,
   "id": "579477b8",
   "metadata": {},
   "outputs": [],
   "source": [
    "# --- Start Validation Phase ---\n",
    "\n",
    "# 1. Set the model to evaluation mode\n",
    "model.eval()\n",
    "\n",
    "# 2. Initialize a list to store the average Dice score for each batch\n",
    "val_dice_scores = []\n",
    "\n",
    "# 3. Use torch.inference_mode() to disable gradient calculations\n",
    "with torch.inference_mode():\n",
    "    \n",
    "    # 4. Loop over all batches in the test_loader\n",
    "    for batch_data in tqdm(test_loader, desc=f\"Validation E-{epoch+1}\"):\n",
    "        \n",
    "        # 5. Load images and masks for the current batch and move to the GPU\n",
    "        #    - `non_blocking=True` allows for asynchronous data transfer, which can\n",
    "        #      overlap with other computations and speed up the pipeline.\n",
    "        test_img = batch_data[\"image\"].to(device, non_blocking=True)\n",
    "        test_gts = batch_data[\"mask\"].to(device, non_blocking=True)\n",
    "        \n",
    "        # 6. Use Automatic Mixed Precision (AMP) for the forward pass\n",
    "        #    - `autocast` automatically uses float16 for eligible operations, which\n",
    "        #      speeds up inference and reduces GPU memory usage on compatible hardware.\n",
    "        with torch.amp.autocast(device_type=\"cuda\"):\n",
    "            # Get the raw model outputs (logits)\n",
    "            test_outputs = model(test_img)\n",
    "            \n",
    "            # 7. Convert logits to binary predictions\n",
    "            #    - Apply the sigmoid function to squash outputs to a [0, 1] range (probabilities).\n",
    "            #    - Threshold the probabilities at 0.5 to create a binary mask (0 or 1).\n",
    "            #    - Convert the boolean mask to a float tensor for calculations.\n",
    "            preds = (torch.sigmoid(test_outputs) > 0.5).float()\n",
    "            \n",
    "        # 8. Calculate the Dice score for each image in the batch\n",
    "        #    - The Dice coefficient is a standard metric for segmentation tasks.\n",
    "        #    - Formula: (2 * |A ∩ B|) / (|A| + |B|)\n",
    "        #    - We sum over the channel, height, and width dimensions (1, 2, 3).\n",
    "        #    - `1e-6` (epsilon) is added for numerical stability to avoid division by zero.\n",
    "        intersection = (preds * test_gts).sum(dim=(1, 2, 3))\n",
    "        union = preds.sum(dim=(1, 2, 3)) + test_gts.sum(dim=(1, 2, 3))\n",
    "        dice_per_image = (2.0 * intersection + 1e-6) / (union + 1e-6)\n",
    "        \n",
    "        # 9. Append the mean Dice score of the batch to our list of scores\n",
    "        #    - We take the mean of the Dice scores calculated for each image in the batch.\n",
    "        #    - `.item()` extracts the scalar value from the tensor.\n",
    "        val_dice_scores.append(dice_per_image.mean().item())\n",
    "\n",
    "# 10. Calculate the final validation Dice score for the entire epoch\n",
    "#     - This is the average of the mean Dice scores from all batches.\n",
    "mean_val_dice = sum(val_dice_scores) / len(val_dice_scores)\n",
    "\n",
    "# 11. Update the learning rate scheduler\n",
    "#     - For schedulers like ReduceLROnPlateau, this adjusts the LR based on the\n",
    "#       validation metric. We use (1.0 - Dice) because schedulers typically\n",
    "#       monitor a value that should be minimized (like loss).\n",
    "if scheduler:\n",
    "    scheduler.step(1.0 - mean_val_dice)\n",
    "\n",
    "# 12. Print a summary of the epoch's performance\n",
    "print(f\"\\n--- Epoch {epoch+1} Summary ---\")\n",
    "print(f\"  Train Loss: {epoch_loss:.4f}\")\n",
    "print(f\"  Validation Dice: {mean_val_dice:.4f}\")\n",
    "\n"
   ]
  },
  {
   "cell_type": "markdown",
   "id": "0242037a",
   "metadata": {},
   "source": [
    "### 6.3 Training and Validation as Functions\n",
    "\n",
    "Refactor the training and validation logic into reusable functions.\n"
   ]
  },
  {
   "cell_type": "code",
   "execution_count": 23,
   "id": "4dd0cfe7",
   "metadata": {},
   "outputs": [],
   "source": [
    "# ======================================================================================\n",
    "# 1. DEFINE THE TRAINING FUNCTION FOR ONE EPOCH\n",
    "# ======================================================================================\n",
    "def train_one_epoch(model, loader, optimizer, loss_fn, scaler, device, epoch_num):\n",
    "    \"\"\"\n",
    "    Performs one full training epoch.\n",
    "    \n",
    "    Args:\n",
    "        model (torch.nn.Module): The model to be trained.\n",
    "        loader (DataLoader): The DataLoader for the training data.\n",
    "        optimizer (torch.optim.Optimizer): The optimizer for updating weights.\n",
    "        loss_fn: The loss function.\n",
    "        scaler (torch.cuda.amp.GradScaler): The gradient scaler for mixed precision.\n",
    "        device (torch.device): The device to train on (e.g., \"cuda\").\n",
    "        epoch_num (int): The current epoch number, for logging.\n",
    "        \n",
    "    Returns:\n",
    "        float: The average training loss for the epoch.\n",
    "    \"\"\"\n",
    "    # Set the model to training mode\n",
    "    model.train()\n",
    "    \n",
    "    epoch_loss = 0.0\n",
    "    progress_bar = tqdm(loader, desc=f\"Train E-{epoch_num}\")\n",
    "    \n",
    "    for batch in progress_bar:\n",
    "        # Move data to the target device asynchronously\n",
    "        imgs = batch[\"image\"].to(device, non_blocking=True)\n",
    "        gts = batch[\"mask\"].to(device, non_blocking=True)\n",
    "        \n",
    "        # Clear previous gradients\n",
    "        optimizer.zero_grad()\n",
    "        \n",
    "        # Forward pass with Automatic Mixed Precision (AMP)\n",
    "        with torch.amp.autocast(device_type=\"cuda\"):\n",
    "            logits = model(imgs)\n",
    "            loss = loss_fn(logits, gts)\n",
    "            \n",
    "        # Backward pass and optimization\n",
    "        scaler.scale(loss).backward()\n",
    "        scaler.step(optimizer)\n",
    "        scaler.update()\n",
    "        \n",
    "        # Accumulate loss and update progress bar\n",
    "        epoch_loss += loss.item()\n",
    "        progress_bar.set_postfix(loss=loss.item())\n",
    "        \n",
    "    # Return the average loss for the epoch\n",
    "    return epoch_loss / len(loader)"
   ]
  },
  {
   "cell_type": "code",
   "execution_count": null,
   "id": "5c57688a",
   "metadata": {},
   "outputs": [],
   "source": [
    "def evaluate(model, loader, device, epoch_num):\n",
    "    \"\"\"\n",
    "    Evaluates the model on the validation set.\n",
    "    \n",
    "    Args:\n",
    "        model (torch.nn.Module): The model to be evaluated.\n",
    "        loader (DataLoader): The DataLoader for the validation data.\n",
    "        device (torch.device): The device to evaluate on.\n",
    "        epoch_num (int): The current epoch number, for logging.\n",
    "        \n",
    "    Returns:\n",
    "        tuple[float, float]: A tuple containing the average validation Dice score\n",
    "                            and the average validation accuracy.\n",
    "    \"\"\"\n",
    "    # Set the model to evaluation mode\n",
    "    model.eval()\n",
    "    \n",
    "    val_dice_scores = []\n",
    "    val_acc = []\n",
    "    progress_bar = tqdm(loader, desc=f\"Validation E-{epoch_num}\")\n",
    "    \n",
    "    # Disable gradient calculations for efficiency\n",
    "    with torch.inference_mode():\n",
    "        for batch_data in progress_bar:\n",
    "            # Move data to the target device\n",
    "            test_img = batch_data[\"image\"].to(device, non_blocking=True)\n",
    "            test_gts = batch_data[\"mask\"].to(device, non_blocking=True)\n",
    "            \n",
    "            # Forward pass with AMP\n",
    "            with torch.amp.autocast(device_type=\"cuda\"):\n",
    "                test_outputs = model(test_img)\n",
    "                preds = (torch.sigmoid(test_outputs) > 0.5).float()\n",
    "                # binarize your ground truth before computing Dice:\n",
    "                test_gts = (test_gts > 0.5).float()\n",
    "\n",
    "            # Calculate Dice score for the batch\n",
    "            intersection = (preds * test_gts).sum(dim=(1, 2, 3))\n",
    "            union = preds.sum(dim=(1, 2, 3)) + test_gts.sum(dim=(1, 2, 3))\n",
    "            dice_per_image = (2.0 * intersection + 1e-6) / (union + 1e-6)\n",
    "            batch_dice = dice_per_image.mean().item()\n",
    "            \n",
    "            # Calculate pixel-wise accuracy for the batch\n",
    "            # - Accuracy = (Correctly classified pixels) / (Total pixels)\n",
    "            correct_pixels = (preds == test_gts).sum()\n",
    "            total_pixels = test_gts.numel() # Total number of pixels in the batch\n",
    "            batch_accuracy = (correct_pixels / total_pixels).item()\n",
    "            \n",
    "            # Store the mean dice score for the batch\n",
    "            val_dice_scores.append(batch_dice)\n",
    "            val_acc.append(batch_accuracy)\n",
    "            progress_bar.set_postfix(dice=batch_dice, acc=batch_accuracy)\n",
    "            \n",
    "    # Return the average Dice and Accuracy scores across all validation batches\n",
    "    mean_dice = sum(val_dice_scores) / len(val_dice_scores)\n",
    "    mean_accuracy = sum(val_acc) / len(val_acc)\n",
    "    return mean_dice, mean_accuracy"
   ]
  },
  {
   "cell_type": "code",
   "execution_count": 26,
   "id": "21d47448",
   "metadata": {},
   "outputs": [
    {
     "name": "stdout",
     "output_type": "stream",
     "text": [
      "\n",
      "===== Starting Epoch 1/20 =====\n"
     ]
    },
    {
     "name": "stderr",
     "output_type": "stream",
     "text": [
      "Train E-1: 100%|██████████| 307/307 [03:02<00:00,  1.68it/s, loss=-0.821]  \n",
      "Validation E-1: 100%|██████████| 154/154 [00:24<00:00,  6.35it/s, acc=0.855, dice=1.91]\n"
     ]
    },
    {
     "name": "stdout",
     "output_type": "stream",
     "text": [
      "\n",
      "--- Epoch 1 Summary ---\n",
      "  Train Loss:      -0.8249\n",
      "  Validation Dice:   1.8366\n",
      "  Validation Acc:    84.7002\n",
      "  Checkpoint saved:  checkpoints/model_epoch_1.pth\n",
      "======================================\n",
      "\n",
      "===== Starting Epoch 2/20 =====\n"
     ]
    },
    {
     "name": "stderr",
     "output_type": "stream",
     "text": [
      "Train E-2: 100%|██████████| 307/307 [02:56<00:00,  1.73it/s, loss=-0.885]  \n",
      "Validation E-2: 100%|██████████| 154/154 [00:24<00:00,  6.32it/s, acc=0.862, dice=1.91]\n"
     ]
    },
    {
     "name": "stdout",
     "output_type": "stream",
     "text": [
      "\n",
      "--- Epoch 2 Summary ---\n",
      "  Train Loss:      -0.8399\n",
      "  Validation Dice:   1.8618\n",
      "  Validation Acc:    87.4591\n",
      "  Checkpoint saved:  checkpoints/model_epoch_2.pth\n",
      "======================================\n",
      "\n",
      "===== Starting Epoch 3/20 =====\n"
     ]
    },
    {
     "name": "stderr",
     "output_type": "stream",
     "text": [
      "Train E-3: 100%|██████████| 307/307 [02:52<00:00,  1.78it/s, loss=-0.792]  \n",
      "Validation E-3: 100%|██████████| 154/154 [00:24<00:00,  6.24it/s, acc=0.87, dice=1.92] \n"
     ]
    },
    {
     "name": "stdout",
     "output_type": "stream",
     "text": [
      "\n",
      "--- Epoch 3 Summary ---\n",
      "  Train Loss:      -0.8400\n",
      "  Validation Dice:   1.8481\n",
      "  Validation Acc:    86.2800\n",
      "  Checkpoint saved:  checkpoints/model_epoch_3.pth\n",
      "======================================\n",
      "\n",
      "===== Starting Epoch 4/20 =====\n"
     ]
    },
    {
     "name": "stderr",
     "output_type": "stream",
     "text": [
      "Train E-4: 100%|██████████| 307/307 [03:03<00:00,  1.67it/s, loss=-0.828]  \n",
      "Validation E-4: 100%|██████████| 154/154 [00:23<00:00,  6.43it/s, acc=0.847, dice=1.9] \n"
     ]
    },
    {
     "name": "stdout",
     "output_type": "stream",
     "text": [
      "\n",
      "--- Epoch 4 Summary ---\n",
      "  Train Loss:      -0.8377\n",
      "  Validation Dice:   1.8284\n",
      "  Validation Acc:    82.9685\n",
      "  Checkpoint saved:  checkpoints/model_epoch_4.pth\n",
      "======================================\n",
      "\n",
      "===== Starting Epoch 5/20 =====\n"
     ]
    },
    {
     "name": "stderr",
     "output_type": "stream",
     "text": [
      "Train E-5: 100%|██████████| 307/307 [03:03<00:00,  1.67it/s, loss=-0.875]  \n",
      "Validation E-5: 100%|██████████| 154/154 [00:25<00:00,  6.08it/s, acc=0.853, dice=1.91]\n"
     ]
    },
    {
     "name": "stdout",
     "output_type": "stream",
     "text": [
      "\n",
      "--- Epoch 5 Summary ---\n",
      "  Train Loss:      -0.8398\n",
      "  Validation Dice:   1.8385\n",
      "  Validation Acc:    82.9726\n",
      "  Checkpoint saved:  checkpoints/model_epoch_5.pth\n",
      "======================================\n",
      "\n",
      "===== Starting Epoch 6/20 =====\n"
     ]
    },
    {
     "name": "stderr",
     "output_type": "stream",
     "text": [
      "Train E-6: 100%|██████████| 307/307 [02:54<00:00,  1.76it/s, loss=-0.752]  \n",
      "Validation E-6: 100%|██████████| 154/154 [00:26<00:00,  5.87it/s, acc=0.892, dice=1.9] \n"
     ]
    },
    {
     "name": "stdout",
     "output_type": "stream",
     "text": [
      "\n",
      "--- Epoch 6 Summary ---\n",
      "  Train Loss:      -0.8546\n",
      "  Validation Dice:   1.8732\n",
      "  Validation Acc:    88.8233\n",
      "  Checkpoint saved:  checkpoints/model_epoch_6.pth\n",
      "======================================\n",
      "\n",
      "===== Starting Epoch 7/20 =====\n"
     ]
    },
    {
     "name": "stderr",
     "output_type": "stream",
     "text": [
      "Train E-7: 100%|██████████| 307/307 [02:58<00:00,  1.72it/s, loss=-0.851]  \n",
      "Validation E-7: 100%|██████████| 154/154 [00:23<00:00,  6.62it/s, acc=0.863, dice=1.91]\n"
     ]
    },
    {
     "name": "stdout",
     "output_type": "stream",
     "text": [
      "\n",
      "--- Epoch 7 Summary ---\n",
      "  Train Loss:      -0.8591\n",
      "  Validation Dice:   1.8391\n",
      "  Validation Acc:    86.3476\n",
      "  Checkpoint saved:  checkpoints/model_epoch_7.pth\n",
      "======================================\n",
      "\n",
      "===== Starting Epoch 8/20 =====\n"
     ]
    },
    {
     "name": "stderr",
     "output_type": "stream",
     "text": [
      "Train E-8: 100%|██████████| 307/307 [03:03<00:00,  1.67it/s, loss=-0.599]  \n",
      "Validation E-8: 100%|██████████| 154/154 [00:23<00:00,  6.49it/s, acc=0.884, dice=1.93]\n"
     ]
    },
    {
     "name": "stdout",
     "output_type": "stream",
     "text": [
      "\n",
      "--- Epoch 8 Summary ---\n",
      "  Train Loss:      -0.8608\n",
      "  Validation Dice:   1.8627\n",
      "  Validation Acc:    86.3803\n",
      "  Checkpoint saved:  checkpoints/model_epoch_8.pth\n",
      "======================================\n",
      "\n",
      "===== Starting Epoch 9/20 =====\n"
     ]
    },
    {
     "name": "stderr",
     "output_type": "stream",
     "text": [
      "Train E-9: 100%|██████████| 307/307 [02:58<00:00,  1.72it/s, loss=-0.905]  \n",
      "Validation E-9: 100%|██████████| 154/154 [00:24<00:00,  6.32it/s, acc=0.887, dice=1.93]\n"
     ]
    },
    {
     "name": "stdout",
     "output_type": "stream",
     "text": [
      "\n",
      "--- Epoch 9 Summary ---\n",
      "  Train Loss:      -0.8637\n",
      "  Validation Dice:   1.8784\n",
      "  Validation Acc:    88.5619\n",
      "  Checkpoint saved:  checkpoints/model_epoch_9.pth\n",
      "======================================\n",
      "\n",
      "===== Starting Epoch 10/20 =====\n"
     ]
    },
    {
     "name": "stderr",
     "output_type": "stream",
     "text": [
      "Train E-10: 100%|██████████| 307/307 [02:57<00:00,  1.73it/s, loss=-0.853]  \n",
      "Validation E-10: 100%|██████████| 154/154 [00:24<00:00,  6.36it/s, acc=0.889, dice=1.93]\n"
     ]
    },
    {
     "name": "stdout",
     "output_type": "stream",
     "text": [
      "\n",
      "--- Epoch 10 Summary ---\n",
      "  Train Loss:      -0.8658\n",
      "  Validation Dice:   1.8622\n",
      "  Validation Acc:    87.6556\n",
      "  Checkpoint saved:  checkpoints/model_epoch_10.pth\n",
      "=======================================\n",
      "\n",
      "===== Starting Epoch 11/20 =====\n"
     ]
    },
    {
     "name": "stderr",
     "output_type": "stream",
     "text": [
      "Train E-11: 100%|██████████| 307/307 [03:03<00:00,  1.67it/s, loss=-0.864]  \n",
      "Validation E-11: 100%|██████████| 154/154 [00:23<00:00,  6.56it/s, acc=0.863, dice=1.91]\n"
     ]
    },
    {
     "name": "stdout",
     "output_type": "stream",
     "text": [
      "\n",
      "--- Epoch 11 Summary ---\n",
      "  Train Loss:      -0.8702\n",
      "  Validation Dice:   1.8698\n",
      "  Validation Acc:    87.6570\n",
      "  Checkpoint saved:  checkpoints/model_epoch_11.pth\n",
      "=======================================\n",
      "\n",
      "===== Starting Epoch 12/20 =====\n"
     ]
    },
    {
     "name": "stderr",
     "output_type": "stream",
     "text": [
      "Train E-12: 100%|██████████| 307/307 [03:01<00:00,  1.69it/s, loss=-0.749]  \n",
      "Validation E-12: 100%|██████████| 154/154 [00:24<00:00,  6.39it/s, acc=0.899, dice=1.94]\n"
     ]
    },
    {
     "name": "stdout",
     "output_type": "stream",
     "text": [
      "\n",
      "--- Epoch 12 Summary ---\n",
      "  Train Loss:      -0.8752\n",
      "  Validation Dice:   1.8800\n",
      "  Validation Acc:    89.6552\n",
      "  Checkpoint saved:  checkpoints/model_epoch_12.pth\n",
      "=======================================\n",
      "\n",
      "===== Starting Epoch 13/20 =====\n"
     ]
    },
    {
     "name": "stderr",
     "output_type": "stream",
     "text": [
      "Train E-13: 100%|██████████| 307/307 [02:54<00:00,  1.75it/s, loss=-0.896]  \n",
      "Validation E-13: 100%|██████████| 154/154 [00:23<00:00,  6.58it/s, acc=0.921, dice=1.95]\n"
     ]
    },
    {
     "name": "stdout",
     "output_type": "stream",
     "text": [
      "\n",
      "--- Epoch 13 Summary ---\n",
      "  Train Loss:      -0.8722\n",
      "  Validation Dice:   1.8778\n",
      "  Validation Acc:    89.2228\n",
      "  Checkpoint saved:  checkpoints/model_epoch_13.pth\n",
      "=======================================\n",
      "\n",
      "===== Starting Epoch 14/20 =====\n"
     ]
    },
    {
     "name": "stderr",
     "output_type": "stream",
     "text": [
      "Train E-14: 100%|██████████| 307/307 [03:01<00:00,  1.70it/s, loss=-0.905]  \n",
      "Validation E-14: 100%|██████████| 154/154 [00:22<00:00,  6.95it/s, acc=0.91, dice=1.94] \n"
     ]
    },
    {
     "name": "stdout",
     "output_type": "stream",
     "text": [
      "\n",
      "--- Epoch 14 Summary ---\n",
      "  Train Loss:      -0.8808\n",
      "  Validation Dice:   1.8848\n",
      "  Validation Acc:    90.1186\n",
      "  Checkpoint saved:  checkpoints/model_epoch_14.pth\n",
      "=======================================\n",
      "\n",
      "===== Starting Epoch 15/20 =====\n"
     ]
    },
    {
     "name": "stderr",
     "output_type": "stream",
     "text": [
      "Train E-15: 100%|██████████| 307/307 [03:01<00:00,  1.69it/s, loss=-0.913]  \n",
      "Validation E-15: 100%|██████████| 154/154 [00:23<00:00,  6.49it/s, acc=0.91, dice=1.94] \n"
     ]
    },
    {
     "name": "stdout",
     "output_type": "stream",
     "text": [
      "\n",
      "--- Epoch 15 Summary ---\n",
      "  Train Loss:      -0.8866\n",
      "  Validation Dice:   1.8852\n",
      "  Validation Acc:    90.5764\n",
      "  Checkpoint saved:  checkpoints/model_epoch_15.pth\n",
      "=======================================\n",
      "\n",
      "===== Starting Epoch 16/20 =====\n"
     ]
    },
    {
     "name": "stderr",
     "output_type": "stream",
     "text": [
      "Train E-16: 100%|██████████| 307/307 [02:54<00:00,  1.76it/s, loss=-0.967]  \n",
      "Validation E-16: 100%|██████████| 154/154 [00:24<00:00,  6.39it/s, acc=0.922, dice=1.95]\n"
     ]
    },
    {
     "name": "stdout",
     "output_type": "stream",
     "text": [
      "\n",
      "--- Epoch 16 Summary ---\n",
      "  Train Loss:      -0.8912\n",
      "  Validation Dice:   1.8873\n",
      "  Validation Acc:    90.5535\n",
      "  Checkpoint saved:  checkpoints/model_epoch_16.pth\n",
      "=======================================\n",
      "\n",
      "===== Starting Epoch 17/20 =====\n"
     ]
    },
    {
     "name": "stderr",
     "output_type": "stream",
     "text": [
      "Train E-17: 100%|██████████| 307/307 [03:01<00:00,  1.69it/s, loss=-0.948]  \n",
      "Validation E-17: 100%|██████████| 154/154 [00:23<00:00,  6.54it/s, acc=0.93, dice=1.96] \n"
     ]
    },
    {
     "name": "stdout",
     "output_type": "stream",
     "text": [
      "\n",
      "--- Epoch 17 Summary ---\n",
      "  Train Loss:      -0.8915\n",
      "  Validation Dice:   1.8844\n",
      "  Validation Acc:    90.8224\n",
      "  Checkpoint saved:  checkpoints/model_epoch_17.pth\n",
      "=======================================\n",
      "\n",
      "===== Starting Epoch 18/20 =====\n"
     ]
    },
    {
     "name": "stderr",
     "output_type": "stream",
     "text": [
      "Train E-18: 100%|██████████| 307/307 [03:04<00:00,  1.66it/s, loss=-0.843]  \n",
      "Validation E-18: 100%|██████████| 154/154 [00:22<00:00,  6.99it/s, acc=0.929, dice=1.95]\n"
     ]
    },
    {
     "name": "stdout",
     "output_type": "stream",
     "text": [
      "\n",
      "--- Epoch 18 Summary ---\n",
      "  Train Loss:      -0.8903\n",
      "  Validation Dice:   1.8885\n",
      "  Validation Acc:    89.8967\n",
      "  Checkpoint saved:  checkpoints/model_epoch_18.pth\n",
      "=======================================\n",
      "\n",
      "===== Starting Epoch 19/20 =====\n"
     ]
    },
    {
     "name": "stderr",
     "output_type": "stream",
     "text": [
      "Train E-19: 100%|██████████| 307/307 [02:55<00:00,  1.75it/s, loss=-0.859]  \n",
      "Validation E-19: 100%|██████████| 154/154 [00:27<00:00,  5.57it/s, acc=0.892, dice=1.93]\n"
     ]
    },
    {
     "name": "stdout",
     "output_type": "stream",
     "text": [
      "\n",
      "--- Epoch 19 Summary ---\n",
      "  Train Loss:      -0.8972\n",
      "  Validation Dice:   1.8668\n",
      "  Validation Acc:    87.1146\n",
      "  Checkpoint saved:  checkpoints/model_epoch_19.pth\n",
      "=======================================\n",
      "\n",
      "===== Starting Epoch 20/20 =====\n"
     ]
    },
    {
     "name": "stderr",
     "output_type": "stream",
     "text": [
      "Train E-20: 100%|██████████| 307/307 [03:02<00:00,  1.69it/s, loss=-0.908]  \n",
      "Validation E-20: 100%|██████████| 154/154 [00:24<00:00,  6.25it/s, acc=0.924, dice=1.95]"
     ]
    },
    {
     "name": "stdout",
     "output_type": "stream",
     "text": [
      "\n",
      "--- Epoch 20 Summary ---\n",
      "  Train Loss:      -0.8973\n",
      "  Validation Dice:   1.8940\n",
      "  Validation Acc:    90.8133\n",
      "  Checkpoint saved:  checkpoints/model_epoch_20.pth\n",
      "=======================================\n",
      "\n",
      "Training finished!\n"
     ]
    },
    {
     "name": "stderr",
     "output_type": "stream",
     "text": [
      "\n"
     ]
    }
   ],
   "source": [
    "for epoch in range(1, epochs + 1):\n",
    "    print(f\"\\n===== Starting Epoch {epoch}/{epochs} =====\")\n",
    "    \n",
    "    # Run the training function\n",
    "    train_loss = train_one_epoch(model,\n",
    "                                train_loader, \n",
    "                                optimizer, \n",
    "                                loss_fn, \n",
    "                                scaler, \n",
    "                                device, \n",
    "                                epoch)\n",
    "    \n",
    "    # Run the evaluation function\n",
    "    val_dice, val_acc = evaluate(model, \n",
    "                                test_loader, \n",
    "                                device, \n",
    "                                epoch)\n",
    "    \n",
    "    # Update the learning rate scheduler based on the validation metric\n",
    "    if scheduler:\n",
    "        # We use (1.0 - Dice) because schedulers typically monitor a value to be minimized\n",
    "        scheduler.step(1.0 - val_dice)\n",
    "        \n",
    "    # Save the model checkpoint\n",
    "    checkpoint_path = os.path.join(\"checkpoints/\", f\"model_epoch_{epoch}.pth\")\n",
    "    torch.save(model.state_dict(), checkpoint_path)\n",
    "    \n",
    "    # Print a summary of the epoch's performance\n",
    "    print(f\"\\n--- Epoch {epoch} Summary ---\")\n",
    "    print(f\"  Train Loss:      {train_loss:.4f}\")\n",
    "    print(f\"  Validation Dice:   {val_dice:.4f}\")\n",
    "    print(f\"  Validation Acc:    {val_acc*100:.4f}\")\n",
    "    print(f\"  Checkpoint saved:  {checkpoint_path}\")\n",
    "    print(\"=\" * (35 + len(str(epoch)) + len(str(epochs))))\n",
    "\n",
    "print(\"\\nTraining finished!\")"
   ]
  },
  {
   "cell_type": "markdown",
   "id": "4e8f4877",
   "metadata": {},
   "source": [
    "## 7. Plot loss and accuracy curves"
   ]
  },
  {
   "cell_type": "code",
   "execution_count": 27,
   "id": "fcad2779",
   "metadata": {},
   "outputs": [
    {
     "data": {
      "image/png": "[encoded data removed]",
      "text/plain": [
       "<Figure size 1000x600 with 2 Axes>"
      ]
     },
     "metadata": {},
     "output_type": "display_data"
    }
   ],
   "source": [
    "import matplotlib.pyplot as plt\n",
    "\n",
    "# Data extracted from the logs (because i forgot to save them before starting training)\n",
    "epochs = list(range(1, 21))\n",
    "train_loss = [\n",
    "    -0.8249, -0.8399, -0.8400, -0.8377, -0.8398,\n",
    "    -0.8546, -0.8591, -0.8608, -0.8637, -0.8658,\n",
    "    -0.8702, -0.8752, -0.8722, -0.8808, -0.8866,\n",
    "    -0.8912, -0.8915, -0.8903, -0.8972, -0.8973\n",
    "]\n",
    "val_acc = [\n",
    "    84.7002, 87.4591, 86.2800, 82.9685, 82.9726,\n",
    "    88.8233, 86.3476, 86.3803, 88.5619, 87.6556,\n",
    "    87.6570, 89.6552, 89.2228, 90.1186, 90.5764,\n",
    "    90.5535, 90.8224, 89.8967, 87.1146, 90.8133\n",
    "]\n",
    "\n",
    "# Create plots\n",
    "fig, ax1 = plt.subplots(figsize=(10, 6))\n",
    "\n",
    "color_loss = 'tab:red'\n",
    "ax1.set_xlabel('Epoch')\n",
    "ax1.set_ylabel('Train Loss', color=color_loss)\n",
    "ax1.plot(epochs, train_loss, marker='o', color=color_loss, label='Train Loss')\n",
    "ax1.tick_params(axis='y', labelcolor=color_loss)\n",
    "\n",
    "# Twin axis for validation accuracy\n",
    "ax2 = ax1.twinx()\n",
    "color_acc = 'tab:blue'\n",
    "ax2.set_ylabel('Validation Accuracy (%)', color=color_acc)\n",
    "ax2.plot(epochs, val_acc, marker='o', linestyle='--', color=color_acc, label='Val Accuracy')\n",
    "ax2.tick_params(axis='y', labelcolor=color_acc)\n",
    "\n",
    "# Title and grid\n",
    "plt.title('Training Loss and Validation Accuracy per Epoch')\n",
    "fig.tight_layout()\n",
    "plt.grid(True, linestyle='--', alpha=0.5)\n",
    "plt.show()\n"
   ]
  },
  {
   "cell_type": "code",
   "execution_count": null,
   "id": "aaa4aee8",
   "metadata": {},
   "outputs": [],
   "source": []
  }
 ],
 "metadata": {
  "kernelspec": {
   "display_name": ".venv",
   "language": "python",
   "name": "python3"
  },
  "language_info": {
   "codemirror_mode": {
    "name": "ipython",
    "version": 3
   },
   "file_extension": ".py",
   "mimetype": "text/x-python",
   "name": "python",
   "nbconvert_exporter": "python",
   "pygments_lexer": "ipython3",
   "version": "3.10.5"
  }
 },
 "nbformat": 4,
 "nbformat_minor": 5
}
