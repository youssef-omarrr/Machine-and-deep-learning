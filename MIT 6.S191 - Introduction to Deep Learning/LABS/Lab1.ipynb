{
 "cells": [
  {
   "cell_type": "markdown",
   "id": "78c00349",
   "metadata": {},
   "source": [
    "# Lab 1: Intro to PyTorch and Music Generation with RNNs\n"
   ]
  },
  {
   "cell_type": "markdown",
   "id": "04017e96",
   "metadata": {},
   "source": [
    "## Part 1: Speedrunning the intro\n"
   ]
  },
  {
   "cell_type": "code",
   "execution_count": 1,
   "id": "5491012d",
   "metadata": {},
   "outputs": [
    {
     "name": "stderr",
     "output_type": "stream",
     "text": [
      "d:\\Machine Learning\\.venv\\lib\\site-packages\\tqdm\\auto.py:21: TqdmWarning: IProgress not found. Please update jupyter and ipywidgets. See https://ipywidgets.readthedocs.io/en/stable/user_install.html\n",
      "  from .autonotebook import tqdm as notebook_tqdm\n"
     ]
    }
   ],
   "source": [
    "import torch\n",
    "from torch import nn\n",
    "\n",
    "import mitdeeplearning as mdl\n",
    "\n",
    "import numpy as np\n",
    "import matplotlib.pyplot as plt"
   ]
  },
  {
   "cell_type": "code",
   "execution_count": 2,
   "id": "626856f9",
   "metadata": {},
   "outputs": [
    {
     "name": "stdout",
     "output_type": "stream",
     "text": [
      "CUDA available: True\n",
      "CUDA devices: 1\n",
      "Current device: 0\n",
      "Device name: NVIDIA GeForce RTX 3060 Laptop GPU\n"
     ]
    }
   ],
   "source": [
    "import torch\n",
    "print(\"CUDA available:\", torch.cuda.is_available())\n",
    "print(\"CUDA devices:\", torch.cuda.device_count())\n",
    "print(\"Current device:\", torch.cuda.current_device() if torch.cuda.is_available() else \"None\")\n",
    "print(\"Device name:\", torch.cuda.get_device_name(0) if torch.cuda.is_available() else \"None\")\n"
   ]
  },
  {
   "cell_type": "code",
   "execution_count": 3,
   "id": "a675d408",
   "metadata": {},
   "outputs": [
    {
     "name": "stdout",
     "output_type": "stream",
     "text": [
      "Mon Jul  7 19:46:02 2025       \n",
      "+-----------------------------------------------------------------------------------------+\n",
      "| NVIDIA-SMI 576.88                 Driver Version: 576.88         CUDA Version: 12.9     |\n",
      "|-----------------------------------------+------------------------+----------------------+\n",
      "| GPU  Name                  Driver-Model | Bus-Id          Disp.A | Volatile Uncorr. ECC |\n",
      "| Fan  Temp   Perf          Pwr:Usage/Cap |           Memory-Usage | GPU-Util  Compute M. |\n",
      "|                                         |                        |               MIG M. |\n",
      "|=========================================+========================+======================|\n",
      "|   0  NVIDIA GeForce RTX 3060 ...  WDDM  |   00000000:01:00.0  On |                  N/A |\n",
      "| N/A   68C    P0             43W /  115W |     609MiB /   6144MiB |     26%      Default |\n",
      "|                                         |                        |                  N/A |\n",
      "+-----------------------------------------+------------------------+----------------------+\n",
      "                                                                                         \n",
      "+-----------------------------------------------------------------------------------------+\n",
      "| Processes:                                                                              |\n",
      "|  GPU   GI   CI              PID   Type   Process name                        GPU Memory |\n",
      "|        ID   ID                                                               Usage      |\n",
      "|=========================================================================================|\n",
      "|    0   N/A  N/A            4164    C+G   ...99wrpcg\\ModernFlyoutsHost.exe      N/A      |\n",
      "|    0   N/A  N/A           22592    C+G   ...ms\\Microsoft VS Code\\Code.exe      N/A      |\n",
      "+-----------------------------------------------------------------------------------------+\n"
     ]
    }
   ],
   "source": [
    "!nvidia-smi"
   ]
  },
  {
   "cell_type": "markdown",
   "id": "d700ed6f",
   "metadata": {},
   "source": [
    "## 1.4 Automatic Differentiation in PyTorch\n",
    "\n",
    "In PyTorch, [`torch.autograd`](https://pytorch.org/docs/stable/autograd.html) is used for [automatic differentiation](https://en.wikipedia.org/wiki/Automatic_differentiation), which is critical for training deep learning models with [backpropagation](https://en.wikipedia.org/wiki/Backpropagation).\n",
    "\n",
    "We will use the PyTorch [`.backward()`](https://pytorch.org/docs/stable/generated/torch.Tensor.backward.html) method to trace operations for computing gradients. On a tensor, the [`requires_grad`](https://pytorch.org/docs/stable/generated/torch.Tensor.requires_grad_.html) attribute controls whether autograd should record operations on that tensor. When a forward pass is made through the network, PyTorch builds a computational graph dynamically; then, to compute the gradient, the `backward()` method is called to perform backpropagation.\n",
    "\n",
    "Let's compute the gradient of $ y = x^2 $:\n"
   ]
  },
  {
   "cell_type": "code",
   "execution_count": 4,
   "id": "4e43ce4f",
   "metadata": {},
   "outputs": [
    {
     "name": "stdout",
     "output_type": "stream",
     "text": [
      "dy_dx of y=x^2 at x=3.0 is:  tensor(6.)\n"
     ]
    }
   ],
   "source": [
    "x = torch.tensor(3.0, requires_grad=True)\n",
    "y = x ** 2\n",
    "y.backward()  # Compute the gradient\n",
    "\n",
    "dy_dx = x.grad\n",
    "print(\"dy_dx of y=x^2 at x=3.0 is: \", dy_dx)\n",
    "assert dy_dx == 6.0"
   ]
  },
  {
   "cell_type": "markdown",
   "id": "d4de8276",
   "metadata": {},
   "source": [
    "# Part 2: Music Generation with RNNs\n",
    "\n",
    "In this portion of the lab, we will explore building a Recurrent Neural Network (RNN) for music generation using PyTorch. We will train a model to learn the patterns in raw sheet music in [ABC notation](https://en.wikipedia.org/wiki/ABC_notation) and then use this model to generate new music.\n"
   ]
  },
  {
   "cell_type": "markdown",
   "id": "49ee7cac",
   "metadata": {},
   "source": [
    "## 2.1 Dependencies\n",
    "\n",
    "First, let's download the course repository, install dependencies, and import the relevant packages we'll need for this lab.\n",
    "\n",
    "We will be using [Comet ML](https://www.comet.com/docs/v2/) to track our model development and training runs. First, sign up for a Comet account [at this link](https://www.comet.com/signup?utm_source=mit_dl&utm_medium=partner&utm_content=github) (you can use your Google or Github account). You will need to generate a new personal API Key, which you can find either in the first 'Get Started with Comet' page, under your account settings, or by pressing the '?' in the top right corner and then 'Quickstart Guide'. Enter this API key as the global variable `COMET_API_KEY`.\n"
   ]
  },
  {
   "cell_type": "code",
   "execution_count": null,
   "id": "22cffdeb",
   "metadata": {},
   "outputs": [],
   "source": [
    "import comet_ml\n",
    "from API import get_comet_API\n",
    "\n",
    "# TODO: ENTER YOUR API KEY HERE!! instructions above\n",
    "COMET_API_KEY = get_comet_API()\n",
    "\n",
    "# Import PyTorch and other relevant libraries\n",
    "import torch\n",
    "import torch.nn as nn\n",
    "import torch.optim as optim\n",
    "\n",
    "# Download and import the MIT Introduction to Deep Learning package\n",
    "import mitdeeplearning as mdl\n",
    "\n",
    "# Import all remaining packages\n",
    "import numpy as np\n",
    "import os\n",
    "import time\n",
    "import functools\n",
    "from IPython import display as ipythondisplay\n",
    "from tqdm import tqdm\n",
    "from scipy.io.wavfile import write\n",
    "\n",
    "# Check that we are using a GPU, if not switch runtimes\n",
    "#   using Runtime > Change Runtime Type > GPU\n",
    "assert torch.cuda.is_available(), \"Please enable GPU from runtime settings\"\n",
    "assert COMET_API_KEY != \"\", \"Please insert your Comet API Key\"\n"
   ]
  },
  {
   "cell_type": "markdown",
   "id": "8e94d7e7",
   "metadata": {},
   "source": [
    "## 2.2 Dataset\n",
    "\n",
    "![Let's Dance!](http://33.media.tumblr.com/3d223954ad0a77f4e98a7b87136aa395/tumblr_nlct5lFVbF1qhu7oio1_500.gif)\n",
    "\n",
    "We've gathered a dataset of thousands of Irish folk songs, represented in the ABC notation. Let's download the dataset and inspect it:\n"
   ]
  },
  {
   "cell_type": "code",
   "execution_count": 6,
   "id": "7a5c7532",
   "metadata": {},
   "outputs": [
    {
     "name": "stdout",
     "output_type": "stream",
     "text": [
      "Found 817 songs in text\n",
      "\n",
      "Example song: \n",
      "X:1\n",
      "T:Alexander's\n",
      "Z: id:dc-hornpipe-1\n",
      "M:C|\n",
      "L:1/8\n",
      "K:D Major\n",
      "(3ABc|dAFA DFAd|fdcd FAdf|gfge fefd|(3efe (3dcB A2 (3ABc|!\n",
      "dAFA DFAd|fdcd FAdf|gfge fefd|(3efe dc d2:|!\n",
      "AG|FAdA FAdA|GBdB GBdB|Acec Acec|dfaf gecA|!\n",
      "FAdA FAdA|GBdB GBdB|Aceg fefd|(3efe dc d2:|!\n"
     ]
    }
   ],
   "source": [
    "# Download the dataset\n",
    "songs = mdl.lab1.load_training_data()\n",
    "\n",
    "# Print one of the songs to inspect it in greater detail!\n",
    "example_song = songs[0]\n",
    "print(\"\\nExample song: \")\n",
    "print(example_song)"
   ]
  },
  {
   "cell_type": "markdown",
   "id": "f82539fc",
   "metadata": {},
   "source": [
    "We can easily convert a song in ABC notation to an audio waveform and play it back. Be patient for this conversion to run, it can take some time.\n"
   ]
  },
  {
   "cell_type": "markdown",
   "id": "59217d2c",
   "metadata": {},
   "source": [
    "THIS PART DOES NOT WORK IN VSCODE!!!!\n"
   ]
  },
  {
   "cell_type": "code",
   "execution_count": 7,
   "id": "aff48fc1",
   "metadata": {},
   "outputs": [],
   "source": [
    "# Convert the ABC notation to audio file and listen to it\n",
    "mdl.lab1.play_song(example_song)"
   ]
  },
  {
   "cell_type": "markdown",
   "id": "b8aef2f8",
   "metadata": {},
   "source": [
    "One important thing to think about is that this notation of music does not simply contain information on the notes being played, but additionally there is meta information such as the song title, key, and tempo. How does the number of different characters that are present in the text file impact the complexity of the learning problem? This will become important soon, when we generate a numerical representation for the text data.\n"
   ]
  },
  {
   "cell_type": "code",
   "execution_count": 8,
   "id": "a2c6073c",
   "metadata": {},
   "outputs": [
    {
     "name": "stdout",
     "output_type": "stream",
     "text": [
      "There are 83 unique characters in the dataset\n"
     ]
    }
   ],
   "source": [
    "# Join our list of song strings into a single string containing all songs\n",
    "songs_joined = \"\\n\\n\".join(songs)\n",
    "\n",
    "# Find all unique characters in the joined string\n",
    "vocab = sorted(set(songs_joined))\n",
    "print(\"There are\", len(vocab), \"unique characters in the dataset\")"
   ]
  },
  {
   "cell_type": "markdown",
   "id": "51edc047",
   "metadata": {},
   "source": [
    "## 2.3 Process the dataset for the learning task\n",
    "\n",
    "Let's take a step back and consider our prediction task. We're trying to train an RNN model to learn patterns in ABC music, and then use this model to generate (i.e., predict) a new piece of music based on this learned information.\n",
    "\n",
    "Breaking this down, what we're really asking the model is: given a character, or a sequence of characters, what is the most probable next character? We'll train the model to perform this task.\n",
    "\n",
    "To achieve this, we will input a sequence of characters to the model, and train the model to predict the output, that is, the following character at each time step. RNNs maintain an internal state that depends on previously seen elements, so information about all characters seen up until a given moment will be taken into account in generating the prediction.\n"
   ]
  },
  {
   "cell_type": "markdown",
   "id": "c6a68410",
   "metadata": {},
   "source": [
    "### Vectorize the text\n",
    "\n",
    "Before we begin training our RNN model, we'll need to create a numerical representation of our text-based dataset. To do this, we'll generate two lookup tables: one that maps **characters to numbers**, and a second that maps **numbers back to characters**.\n",
    "\n",
    "> Recall that we just identified the unique characters present in the text.\n"
   ]
  },
  {
   "cell_type": "code",
   "execution_count": 9,
   "id": "bddbc3ed",
   "metadata": {},
   "outputs": [
    {
     "data": {
      "text/plain": [
       "({'\\n': 0,\n",
       "  ' ': 1,\n",
       "  '!': 2,\n",
       "  '\"': 3,\n",
       "  '#': 4,\n",
       "  \"'\": 5,\n",
       "  '(': 6,\n",
       "  ')': 7,\n",
       "  ',': 8,\n",
       "  '-': 9,\n",
       "  '.': 10,\n",
       "  '/': 11,\n",
       "  '0': 12,\n",
       "  '1': 13,\n",
       "  '2': 14,\n",
       "  '3': 15,\n",
       "  '4': 16,\n",
       "  '5': 17,\n",
       "  '6': 18,\n",
       "  '7': 19,\n",
       "  '8': 20,\n",
       "  '9': 21,\n",
       "  ':': 22,\n",
       "  '<': 23,\n",
       "  '=': 24,\n",
       "  '>': 25,\n",
       "  'A': 26,\n",
       "  'B': 27,\n",
       "  'C': 28,\n",
       "  'D': 29,\n",
       "  'E': 30,\n",
       "  'F': 31,\n",
       "  'G': 32,\n",
       "  'H': 33,\n",
       "  'I': 34,\n",
       "  'J': 35,\n",
       "  'K': 36,\n",
       "  'L': 37,\n",
       "  'M': 38,\n",
       "  'N': 39,\n",
       "  'O': 40,\n",
       "  'P': 41,\n",
       "  'Q': 42,\n",
       "  'R': 43,\n",
       "  'S': 44,\n",
       "  'T': 45,\n",
       "  'U': 46,\n",
       "  'V': 47,\n",
       "  'W': 48,\n",
       "  'X': 49,\n",
       "  'Y': 50,\n",
       "  'Z': 51,\n",
       "  '[': 52,\n",
       "  ']': 53,\n",
       "  '^': 54,\n",
       "  '_': 55,\n",
       "  'a': 56,\n",
       "  'b': 57,\n",
       "  'c': 58,\n",
       "  'd': 59,\n",
       "  'e': 60,\n",
       "  'f': 61,\n",
       "  'g': 62,\n",
       "  'h': 63,\n",
       "  'i': 64,\n",
       "  'j': 65,\n",
       "  'k': 66,\n",
       "  'l': 67,\n",
       "  'm': 68,\n",
       "  'n': 69,\n",
       "  'o': 70,\n",
       "  'p': 71,\n",
       "  'q': 72,\n",
       "  'r': 73,\n",
       "  's': 74,\n",
       "  't': 75,\n",
       "  'u': 76,\n",
       "  'v': 77,\n",
       "  'w': 78,\n",
       "  'x': 79,\n",
       "  'y': 80,\n",
       "  'z': 81,\n",
       "  '|': 82},\n",
       " array(['\\n', ' ', '!', '\"', '#', \"'\", '(', ')', ',', '-', '.', '/', '0',\n",
       "        '1', '2', '3', '4', '5', '6', '7', '8', '9', ':', '<', '=', '>',\n",
       "        'A', 'B', 'C', 'D', 'E', 'F', 'G', 'H', 'I', 'J', 'K', 'L', 'M',\n",
       "        'N', 'O', 'P', 'Q', 'R', 'S', 'T', 'U', 'V', 'W', 'X', 'Y', 'Z',\n",
       "        '[', ']', '^', '_', 'a', 'b', 'c', 'd', 'e', 'f', 'g', 'h', 'i',\n",
       "        'j', 'k', 'l', 'm', 'n', 'o', 'p', 'q', 'r', 's', 't', 'u', 'v',\n",
       "        'w', 'x', 'y', 'z', '|'], dtype='<U1'))"
      ]
     },
     "execution_count": 9,
     "metadata": {},
     "output_type": "execute_result"
    }
   ],
   "source": [
    "### Define numerical representation of text ###\n",
    "\n",
    "# Create a mapping from character to unique index.\n",
    "# For example, to get the index of the character \"d\",\n",
    "#   we can evaluate `char2idx[\"d\"]`.\n",
    "char2idx = {u: i for i, u in enumerate(vocab)}\n",
    "\n",
    "# Create a mapping from indices to characters. This is\n",
    "#   the inverse of char2idx and allows us to convert back\n",
    "#   from unique index to the character in our vocabulary.\n",
    "idx2char = np.array(vocab)\n",
    "\n",
    "char2idx, idx2char"
   ]
  },
  {
   "cell_type": "markdown",
   "id": "765f3b55",
   "metadata": {},
   "source": [
    "This gives us an integer representation for each character. Observe that the unique characters (i.e., our vocabulary) in the text are mapped as indices from 0 to `len(unique)`. Let's take a peek at this numerical representation of our dataset:\n"
   ]
  },
  {
   "cell_type": "code",
   "execution_count": 11,
   "id": "0738d0c5",
   "metadata": {},
   "outputs": [
    {
     "name": "stdout",
     "output_type": "stream",
     "text": [
      "{\n",
      "  '\\n':   0,\n",
      "  ' ' :   1,\n",
      "  '!' :   2,\n",
      "  '\"' :   3,\n",
      "  '#' :   4,\n",
      "  \"'\" :   5,\n",
      "  '(' :   6,\n",
      "  ')' :   7,\n",
      "  ',' :   8,\n",
      "  '-' :   9,\n",
      "  '.' :  10,\n",
      "  '/' :  11,\n",
      "  '0' :  12,\n",
      "  '1' :  13,\n",
      "  '2' :  14,\n",
      "  '3' :  15,\n",
      "  '4' :  16,\n",
      "  '5' :  17,\n",
      "  '6' :  18,\n",
      "  '7' :  19,\n",
      "  ...\n",
      "}\n"
     ]
    }
   ],
   "source": [
    "print('{')\n",
    "for char, _ in zip(char2idx, range(20)):\n",
    "    print('  {:4s}: {:3d},'.format(repr(char), char2idx[char]))\n",
    "print('  ...\\n}')"
   ]
  },
  {
   "cell_type": "code",
   "execution_count": 12,
   "id": "6e9e4a99",
   "metadata": {},
   "outputs": [],
   "source": [
    "### Vectorize the songs string ###\n",
    "\n",
    "'''TODO: Write a function to convert the all songs string to a vectorized\n",
    "    (i.e., numeric) representation. Use the appropriate mapping\n",
    "    above to convert from vocab characters to the corresponding indices.\n",
    "\n",
    "  NOTE: the output of the `vectorize_string` function\n",
    "  should be a np.array with `N` elements, where `N` is\n",
    "  the number of characters in the input string\n",
    "'''\n",
    "def vectorize_string(string):\n",
    "  '''TODO'''\n",
    "  vector = [char2idx.get(l, 0) for l in string]\n",
    "  return np.array(vector, dtype = np.int32)\n",
    "\n",
    "vectorized_songs = vectorize_string(songs_joined)"
   ]
  },
  {
   "cell_type": "markdown",
   "id": "192624c1",
   "metadata": {},
   "source": [
    "We can also look at how the first part of the text is mapped to an integer representation:\n"
   ]
  },
  {
   "cell_type": "code",
   "execution_count": 13,
   "id": "94b7480c",
   "metadata": {},
   "outputs": [
    {
     "name": "stdout",
     "output_type": "stream",
     "text": [
      "'X:1\\nT:Alex' ---- characters mapped to int ----> [49 22 13  0 45 22 26 67 60 79]\n"
     ]
    }
   ],
   "source": [
    "print ('{} ---- characters mapped to int ----> {}'.format(repr(songs_joined[:10]), vectorized_songs[:10]))\n",
    "# check that vectorized_songs is a numpy array\n",
    "assert isinstance(vectorized_songs, np.ndarray), \"returned result should be a numpy array\""
   ]
  },
  {
   "cell_type": "markdown",
   "id": "8d48c0d9",
   "metadata": {},
   "source": [
    "### Create training examples and targets\n",
    "\n",
    "Our next step is to actually divide the text into example sequences that we'll use during training. Each input sequence that we feed into our RNN will contain `seq_length` characters from the text. We'll also need to define a target sequence for each input sequence, which will be used in training the RNN to predict the next character. For each input, the corresponding target will contain the same length of text, except shifted one character to the right.\n",
    "\n",
    "To do this, we'll break the text into chunks of `seq_length+1`. Suppose `seq_length` is 4 and our text is \"Hello\". Then, our input sequence is \"Hell\" and the target sequence is \"ello\".\n",
    "\n",
    "The batch method will then let us convert this stream of character indices to sequences of the desired size.\n"
   ]
  },
  {
   "cell_type": "code",
   "execution_count": 14,
   "id": "629c52ae",
   "metadata": {},
   "outputs": [
    {
     "name": "stdout",
     "output_type": "stream",
     "text": [
      "Batch function works correctly!\n"
     ]
    },
    {
     "name": "stderr",
     "output_type": "stream",
     "text": [
      "C:\\Users\\User\\AppData\\Local\\Temp\\ipykernel_16340\\328132692.py:17: UserWarning: Creating a tensor from a list of numpy.ndarrays is extremely slow. Please consider converting the list to a single numpy.ndarray with numpy.array() before converting to a tensor. (Triggered internally at C:\\actions-runner\\_work\\pytorch\\pytorch\\pytorch\\torch\\csrc\\utils\\tensor_new.cpp:257.)\n",
      "  x_batch = torch.tensor(input_batch, dtype=torch.long)\n"
     ]
    }
   ],
   "source": [
    "### Batch definition to create training examples ###\n",
    "\n",
    "def get_batch(vectorized_songs, seq_length, batch_size):\n",
    "    # the length of the vectorized songs string\n",
    "    n = vectorized_songs.shape[0] - 1\n",
    "\n",
    "    # randomly choose the starting indices for the examples in the training batch\n",
    "    idx = np.random.choice(n - seq_length, batch_size)\n",
    "\n",
    "    '''TODO: construct a list of input sequences for the training batch'''\n",
    "    input_batch = [vectorized_songs[i: i+seq_length] for i in idx]\n",
    "\n",
    "    '''TODO: construct a list of output sequences for the training batch'''\n",
    "    output_batch = [vectorized_songs[i+1: i+seq_length+1] for i in idx]\n",
    "\n",
    "    # Convert the input and output batches to tensors\n",
    "    x_batch = torch.tensor(input_batch, dtype=torch.long)\n",
    "    y_batch = torch.tensor(output_batch, dtype=torch.long)\n",
    "\n",
    "    return x_batch, y_batch\n",
    "\n",
    "# Perform some simple tests to make sure your batch function is working properly!\n",
    "test_args = (vectorized_songs, 10, 2)\n",
    "x_batch, y_batch = get_batch(*test_args)\n",
    "assert x_batch.shape == (2, 10), \"x_batch shape is incorrect\"\n",
    "assert y_batch.shape == (2, 10), \"y_batch shape is incorrect\"\n",
    "print(\"Batch function works correctly!\")\n"
   ]
  },
  {
   "cell_type": "markdown",
   "id": "9d68094f",
   "metadata": {},
   "source": [
    "For each of these vectors, each index is processed at a single time step. So, for the input at time step 0, the model receives the index for the first character in the sequence, and tries to predict the index of the next character. At the next timestep, it does the same thing, but the RNN considers the information from the previous step, i.e., its updated state, in addition to the current input.\n",
    "\n",
    "We can make this concrete by taking a look at how this works over the first several characters in our text:\n"
   ]
  },
  {
   "cell_type": "code",
   "execution_count": 16,
   "id": "28a45460",
   "metadata": {},
   "outputs": [
    {
     "name": "stdout",
     "output_type": "stream",
     "text": [
      "Step   0\n",
      "  input: 1 (np.str_(' '))\n",
      "  expected output: 64 (np.str_('i'))\n",
      "Step   1\n",
      "  input: 64 (np.str_('i'))\n",
      "  expected output: 59 (np.str_('d'))\n",
      "Step   2\n",
      "  input: 59 (np.str_('d'))\n",
      "  expected output: 22 (np.str_(':'))\n",
      "Step   3\n",
      "  input: 22 (np.str_(':'))\n",
      "  expected output: 59 (np.str_('d'))\n",
      "Step   4\n",
      "  input: 59 (np.str_('d'))\n",
      "  expected output: 58 (np.str_('c'))\n"
     ]
    }
   ],
   "source": [
    "x_batch, y_batch = get_batch(vectorized_songs, seq_length=5, batch_size=1)\n",
    "\n",
    "for i, (input_idx, target_idx) in enumerate(zip(x_batch[0], y_batch[0])):\n",
    "    print(\"Step {:3d}\".format(i))\n",
    "    print(\"  input: {} ({:s})\".format(input_idx, repr(idx2char[input_idx.item()])))\n",
    "    print(\"  expected output: {} ({:s})\".format(target_idx, repr(idx2char[target_idx.item()])))\n"
   ]
  },
  {
   "cell_type": "markdown",
   "id": "9a4686ba",
   "metadata": {},
   "source": [
    "## 2.4 The Recurrent Neural Network (RNN) model\n",
    "\n",
    "---\n"
   ]
  },
  {
   "cell_type": "markdown",
   "id": "ce834b4f",
   "metadata": {},
   "source": [
    "Now we're ready to define and train an RNN model on our ABC music dataset, and then use that trained model to generate a new song. We'll train our RNN using batches of song snippets from our dataset, which we generated in the previous section.\n",
    "\n",
    "The model is based off the **LSTM** architecture, where we use a state vector to maintain information about the temporal relationships between consecutive characters. The final output of the LSTM is then fed into a fully connected linear [`nn.Linear`](https://pytorch.org/docs/stable/generated/torch.nn.Linear.html) layer where we'll output a softmax over each character in the vocabulary, and then sample from this distribution to predict the next character.\n",
    "\n",
    "As we introduced in the first portion of this lab, we'll be using PyTorch's [`nn.Module`](https://pytorch.org/docs/stable/generated/torch.nn.Module.html) to define the model. Three components are used to define the model:\n",
    "\n",
    "- [`nn.Embedding`](https://pytorch.org/docs/stable/generated/torch.nn.Embedding.html): This is the input layer, consisting of a trainable lookup table that maps the numbers of each character to a vector with `embedding_dim` dimensions.\n",
    "- [`nn.LSTM`](https://pytorch.org/docs/stable/generated/torch.nn.LSTM.html): Our LSTM network, with size `hidden_size`.\n",
    "- [`nn.Linear`](https://pytorch.org/docs/stable/generated/torch.nn.Linear.html): The output layer, with `vocab_size` outputs.\n",
    "\n",
    "<img src=\"https://raw.githubusercontent.com/MITDeepLearning/introtodeeplearning/2019/lab1/img/lstm_unrolled-01-01.png\" alt=\"Drawing\"/>\n",
    "\n",
    "<!--\n",
    "Now we're ready to define and train a RNN model on our ABC music dataset, and then use that trained model to generate a new song. We'll train our RNN using batches of song snippets from our dataset, which we generated in the previous section.\n",
    "\n",
    "The model is based off the LSTM architecture, where we use a state vector to maintain information about the temporal relationships between consecutive characters. The final output of the LSTM is then fed into a fully connected [`Dense`](https://www.tensorflow.org/api_docs/python/tf/keras/layers/Dense) layer where we'll output a softmax over each character in the vocabulary, and then sample from this distribution to predict the next character.\n",
    "\n",
    "As we introduced in the first portion of this lab, we'll be using the Keras API, specifically, [`tf.keras.Sequential`](https://www.tensorflow.org/api_docs/python/tf/keras/models/Sequential), to define the model. Three layers are used to define the model:\n",
    "\n",
    "* [`tf.keras.layers.Embedding`](https://www.tensorflow.org/api_docs/python/tf/keras/layers/Embedding): This is the input layer, consisting of a trainable lookup table that maps the numbers of each character to a vector with `embedding_dim` dimensions.\n",
    "* [`tf.keras.layers.LSTM`](https://www.tensorflow.org/api_docs/python/tf/keras/layers/LSTM): Our LSTM network, with size `units=rnn_units`.\n",
    "* [`tf.keras.layers.Dense`](https://www.tensorflow.org/api_docs/python/tf/keras/layers/Dense): The output layer, with `vocab_size` outputs.\n",
    "\n",
    "\n",
    "<img src=\"https://raw.githubusercontent.com/MITDeepLearning/introtodeeplearning/2019/lab1/img/lstm_unrolled-01-01.png\" alt=\"Drawing\"/> -->\n"
   ]
  },
  {
   "cell_type": "markdown",
   "id": "8dec0660",
   "metadata": {},
   "source": [
    "### What is embedding_dim?\n",
    "\n",
    "If you're working with sequences of text or characters, the input is usually converted to embedding vectors — i.e., instead of feeding raw character indices like 5, 8, etc., we map each index to a dense vector of size `embedding_dim`.\n"
   ]
  },
  {
   "cell_type": "markdown",
   "id": "bbb51483",
   "metadata": {},
   "source": [
    "### Define the RNN model\n",
    "\n",
    "Let's define our model as an `nn.Module`. Fill in the `TODOs` to define the RNN model.\n"
   ]
  },
  {
   "cell_type": "code",
   "execution_count": null,
   "id": "721903c5",
   "metadata": {},
   "outputs": [],
   "source": [
    "### Defining the RNN Model ###\n",
    "\n",
    "'''TODO: Add LSTM and Linear layers to define the RNN model using nn.Module'''\n",
    "class LSTMModel(nn.Module):\n",
    "    def __init__(self, vocab_size, embedding_dim, hidden_size):\n",
    "        super(LSTMModel, self).__init__()\n",
    "        self.hidden_size = hidden_size\n",
    "\n",
    "        # Define each of the network layers\n",
    "        # Layer 1: Embedding layer to transform indices into dense vectors\n",
    "        #   of a fixed embedding size\n",
    "        self.embedding = nn.Embedding(vocab_size, embedding_dim)\n",
    "\n",
    "        '''TODO: Layer 2: LSTM with hidden_size `hidden_size`. note: number of layers defaults to 1.\n",
    "        Use the nn.LSTM() module from pytorch.'''\n",
    "        self.lstm = nn.LSTM(input_size= embedding_dim,\n",
    "                            hidden_size=hidden_size,\n",
    "                            num_layers=1,\n",
    "                            batch_first=True) # TODO\n",
    "\n",
    "        '''TODO: Layer 3: Linear (fully-connected) layer that transforms the LSTM output\n",
    "        #   into the vocabulary size.'''\n",
    "        self.fc = nn.Linear(in_features= hidden_size,\n",
    "                            out_features= vocab_size) # TODO\n",
    "\n",
    "    def init_hidden(self, batch_size, device):\n",
    "        # Initialize hidden state and cell state with zeros\n",
    "        return (torch.zeros(1, batch_size, self.hidden_size).to(device),\n",
    "                torch.zeros(1, batch_size, self.hidden_size).to(device))\n",
    "\n",
    "    def forward(self, x, state=None, return_state=False):\n",
    "        x = self.embedding(x)\n",
    "\n",
    "        if state is None:\n",
    "            state = self.init_hidden(x.size(0), x.device)\n",
    "        out, state = self.lstm(x, state)\n",
    "\n",
    "        out = self.fc(out)\n",
    "        return out if not return_state else (out, state)\n",
    "\n"
   ]
  },
  {
   "cell_type": "code",
   "execution_count": 18,
   "id": "127b759a",
   "metadata": {},
   "outputs": [
    {
     "name": "stdout",
     "output_type": "stream",
     "text": [
      "LSTMModel(\n",
      "  (embedding): Embedding(83, 256)\n",
      "  (lstm): LSTM(256, 1024, batch_first=True)\n",
      "  (fc): Linear(in_features=1024, out_features=83, bias=True)\n",
      ")\n"
     ]
    }
   ],
   "source": [
    "# Instantiate the model! Build a simple model with default hyperparameters. You\n",
    "#     will get the chance to change these later.\n",
    "vocab_size = len(vocab)\n",
    "embedding_dim = 256\n",
    "hidden_size = 1024\n",
    "batch_size = 8\n",
    "\n",
    "device = torch.device(\"cuda\" if torch.cuda.is_available() else \"cpu\")\n",
    "\n",
    "model = LSTMModel(vocab_size, embedding_dim, hidden_size).to(device)\n",
    "\n",
    "# print out a summary of the model\n",
    "print(model)"
   ]
  },
  {
   "cell_type": "markdown",
   "id": "85bad9ae",
   "metadata": {},
   "source": [
    "### Test out the RNN model\n",
    "\n",
    "It's always a good idea to run a few simple checks on our model to see that it behaves as expected.\n",
    "\n",
    "We can quickly check the layers in the model, the shape of the output of each of the layers, the batch size, and the dimensionality of the output. Note that the model can be run on inputs of any length.\n"
   ]
  },
  {
   "cell_type": "code",
   "execution_count": 19,
   "id": "b5aca5db",
   "metadata": {},
   "outputs": [
    {
     "name": "stdout",
     "output_type": "stream",
     "text": [
      "Input shape:       torch.Size([32, 100])  # (batch_size, sequence_length)\n",
      "Prediction shape:  torch.Size([32, 100, 83]) # (batch_size, sequence_length, vocab_size)\n"
     ]
    }
   ],
   "source": [
    "# Test the model with some sample data\n",
    "x, y = get_batch(vectorized_songs, seq_length=100, batch_size=32)\n",
    "x = x.to(device)\n",
    "y = y.to(device)\n",
    "\n",
    "pred = model(x)\n",
    "print(\"Input shape:      \", x.shape, \" # (batch_size, sequence_length)\")\n",
    "print(\"Prediction shape: \", pred.shape, \"# (batch_size, sequence_length, vocab_size)\")"
   ]
  },
  {
   "cell_type": "markdown",
   "id": "c253743f",
   "metadata": {},
   "source": [
    "### Predictions from the untrained model\n",
    "\n",
    "Let's take a look at what our untrained model is predicting.\n",
    "\n",
    "To get actual predictions from the model, we sample from the output distribution, which is defined by a torch.softmax over our character vocabulary. This will give us actual character indices. This means we are using a [categorical distribution](https://en.wikipedia.org/wiki/Categorical_distribution) to sample over the example prediction. This gives a prediction of the next character (specifically its index) at each timestep. [`torch.multinomial`](https://pytorch.org/docs/stable/generated/torch.multinomial.html#torch.multinomial) samples over a categorical distribution to generate predictions.\n",
    "\n",
    "Note here that we sample from this probability distribution, as opposed to simply taking the `argmax`, which can cause the model to get stuck in a repetitive loop.\n",
    "\n",
    "Let's try this sampling out for the first example in the batch.\n"
   ]
  },
  {
   "cell_type": "code",
   "execution_count": 20,
   "id": "b7195b6d",
   "metadata": {},
   "outputs": [
    {
     "data": {
      "text/plain": [
       "array([ 6, 50, 42, 49, 25, 45, 24, 12, 36,  3, 38, 65, 63, 71, 45, 18, 58,\n",
       "        2, 60, 59, 65,  2, 66, 33,  1, 73, 69, 48,  8,  4, 67, 42, 59, 18,\n",
       "        4, 68, 50, 61, 34, 11, 76, 28, 32, 79, 56, 28, 76, 80, 67, 58, 66,\n",
       "       49, 72, 67, 33, 80, 80, 45, 43,  6, 27, 13, 74, 45, 61, 72, 55, 65,\n",
       "       53, 33, 33,  7, 38, 23, 33, 58, 51,  6, 43, 62, 73, 14, 37,  0, 14,\n",
       "       24, 48, 71, 47, 76, 38, 11, 51, 79, 33, 29, 19, 61, 44, 50])"
      ]
     },
     "execution_count": 20,
     "metadata": {},
     "output_type": "execute_result"
    }
   ],
   "source": [
    "sampled_indices = torch.multinomial(torch.softmax(pred[0], dim=-1), num_samples=1)\n",
    "sampled_indices = sampled_indices.squeeze(-1).cpu().numpy()\n",
    "sampled_indices"
   ]
  },
  {
   "cell_type": "code",
   "execution_count": 21,
   "id": "98058d1f",
   "metadata": {},
   "outputs": [
    {
     "name": "stdout",
     "output_type": "stream",
     "text": [
      "Input: \n",
      " 'gb a2f=g|!\\nagfa gfeg|fdec dfag|fdec dBAG|FGEF D2:|!\\n\\nX:324\\nT:Sally Gardens\\nZ: id:dc-reel-302\\nM:C\\nL:1'\n",
      "\n",
      "Next Char Predictions: \n",
      " '(YQX>T=0K\"MjhpT6c!edj!kH rnW,#lQd6#mYfI/uCGxaCuylckXqlHyyTR(B1sTfq_j]HH)M<HcZ(Rgr2L\\n2=WpVuM/ZxHD7fSY'\n"
     ]
    }
   ],
   "source": [
    "print(\"Input: \\n\", repr(\"\".join(idx2char[x[0].cpu()])))\n",
    "print()\n",
    "print(\"Next Char Predictions: \\n\", repr(\"\".join(idx2char[sampled_indices])))"
   ]
  },
  {
   "cell_type": "markdown",
   "id": "e853eb97",
   "metadata": {},
   "source": [
    "As you can see, the text predicted by the untrained model is pretty nonsensical! How can we do better? Well, we can train the network!\n"
   ]
  },
  {
   "cell_type": "markdown",
   "id": "d760e517",
   "metadata": {},
   "source": [
    "## 2.5 Training the model: loss and training operations\n",
    "\n",
    "Now it's time to train the model!\n",
    "\n",
    "At this point, we can think of our next character prediction problem as a standard classification problem. Given the previous state of the RNN, as well as the input at a given time step, we want to predict the class of the next character -- that is, to actually predict the next character.\n",
    "\n",
    "To train our model on this classification task, we can use a form of the `crossentropy` loss (i.e., negative log likelihood loss). Specifically, we will use PyTorch's [`CrossEntropyLoss`](https://pytorch.org/docs/stable/generated/torch.nn.CrossEntropyLoss.html), as it combines the application of a log-softmax ([`LogSoftmax`](https://pytorch.org/docs/stable/generated/torch.nn.LogSoftmax.html#torch.nn.LogSoftmax)) and negative log-likelihood ([`NLLLoss`](https://pytorch.org/docs/stable/generated/torch.nn.NLLLoss.html#torch.nn.NLLLoss) in a single class and accepts integer targets for categorical classification tasks. We will want to compute the loss using the true targets -- the `labels` -- and the predicted targets -- the `logits`.\n",
    "\n",
    "Let's define a function to compute the loss, and then use that function to compute the loss using our example predictions from the untrained model.\n"
   ]
  },
  {
   "cell_type": "markdown",
   "id": "e585f3d1",
   "metadata": {},
   "source": [
    "## Goal\n",
    "\n",
    "We want to compute the **cross-entropy loss** between the model's output (`logits`) and the target labels over a whole batch of sequences.\n",
    "\n",
    "Inputs:\n",
    "\n",
    "- `labels`: shape **(B, L)** — true token indices\n",
    "- `logits`: shape **(B, L, V)** — raw model outputs (before softmax) for each position in each sequence\n",
    "\n",
    "---\n",
    "\n",
    "## Step-by-step Breakdown\n",
    "\n",
    "### Define the loss function\n",
    "\n",
    "```python\n",
    "cross_entropy = nn.CrossEntropyLoss()\n",
    "```\n",
    "\n",
    "This PyTorch loss combines:\n",
    "\n",
    "- `nn.LogSoftmax(dim=1)`\n",
    "- `nn.NLLLoss()` — Negative Log Likelihood Loss\n",
    "\n",
    "It expects:\n",
    "\n",
    "- `input`: shape **(N, C)** = logits, where `C` is number of classes\n",
    "- `target`: shape **(N,)** = class indices\n",
    "\n",
    "So, we must reshape our inputs accordingly.\n",
    "\n",
    "---\n",
    "\n",
    "### Reshape `labels` to (B × L,)\n",
    "\n",
    "```python\n",
    "batched_labels = labels.view(-1)\n",
    "```\n",
    "\n",
    "Why?\n",
    "Because we want to treat all tokens in all sequences in the batch as a **flat list of targets**.\n",
    "\n",
    "Example:\n",
    "\n",
    "```python\n",
    "labels.shape = (2, 3)  →  [[5, 3, 2], [7, 4, 1]]\n",
    "batched_labels = [5, 3, 2, 7, 4, 1] → shape (6,)\n",
    "```\n",
    "\n",
    "---\n",
    "\n",
    "### Reshape `logits` to (B × L, V)\n",
    "\n",
    "```python\n",
    "batched_logits = logits.view(-1, logits.size(-1))\n",
    "```\n",
    "\n",
    "Why?\n",
    "Each position in the sequence has a prediction vector over `vocab_size` (V), and we want to **match each one to its corresponding label**.\n",
    "\n",
    "Example:\n",
    "\n",
    "```python\n",
    "logits.shape = (2, 3, 65) → 6 rows of [V=65] logits\n",
    "```\n",
    "\n",
    "Now:\n",
    "\n",
    "```python\n",
    "batched_logits.shape = (6, 65)\n",
    "```\n",
    "\n",
    "Each row corresponds to a token's predicted distribution.\n",
    "\n",
    "---\n",
    "\n",
    "### Compute the loss\n",
    "\n",
    "```python\n",
    "loss = cross_entropy(batched_logits, batched_labels)\n",
    "```\n",
    "\n",
    "This computes the **average loss over all (B × L) predictions**.\n",
    "\n",
    "Under the hood:\n",
    "\n",
    "- Applies `LogSoftmax` to each row of logits\n",
    "- Picks the log-probability of the correct class (from `batched_labels`)\n",
    "- Averages all the log losses\n",
    "\n",
    "---\n",
    "\n",
    "## Summary\n",
    "\n",
    "| Step          | Shape         | Meaning                              |\n",
    "| ------------- | ------------- | ------------------------------------ |\n",
    "| `labels`      | (B, L)        | Target indices                       |\n",
    "| `logits`      | (B, L, V)     | Raw model output (before softmax)    |\n",
    "| `view(-1)`    | → (B \\* L,)   | Flattened token list                 |\n",
    "| `view(-1, V)` | → (B \\* L, V) | Each token’s predicted vocab logits  |\n",
    "| `loss`        | scalar        | Avg. cross-entropy across all tokens |\n"
   ]
  },
  {
   "cell_type": "code",
   "execution_count": 22,
   "id": "cfce24c5",
   "metadata": {},
   "outputs": [],
   "source": [
    "### Defining the loss function ###\n",
    "\n",
    "# '''TODO: define the compute_loss function to compute and return the loss between\n",
    "#     the true labels and predictions (logits). '''\n",
    "cross_entropy = nn.CrossEntropyLoss() # instantiates the function\n",
    "def compute_loss(labels, logits):\n",
    "    \"\"\"\n",
    "    Inputs:\n",
    "      labels: (batch_size, sequence_length)\n",
    "      logits: (batch_size, sequence_length, vocab_size)\n",
    "\n",
    "    Output:\n",
    "      loss: scalar cross entropy loss over the batch and sequence length\n",
    "    \"\"\"\n",
    "\n",
    "    # Batch the labels so that the shape of the labels should be (B * L,)\n",
    "    batched_labels = labels.view(-1)\n",
    "\n",
    "    ''' TODO: Batch the logits so that the shape of the logits should be (B * L, V) '''\n",
    "    batched_logits =  logits.view(-1, logits.size(-1)) # TODO\n",
    "\n",
    "    '''TODO: Compute the cross-entropy loss using the batched  next characters and predictions'''\n",
    "    loss = cross_entropy(batched_logits, batched_labels) # TODO\n",
    "    return loss"
   ]
  },
  {
   "cell_type": "code",
   "execution_count": 23,
   "id": "08427db2",
   "metadata": {},
   "outputs": [
    {
     "name": "stdout",
     "output_type": "stream",
     "text": [
      "Prediction shape: torch.Size([32, 100, 83]) # (batch_size, sequence_length, vocab_size)\n",
      "scalar_loss:      4.416975021362305\n"
     ]
    }
   ],
   "source": [
    "### compute the loss on the predictions from the untrained model from earlier. ###\n",
    "y.shape  # (batch_size, sequence_length)\n",
    "pred.shape  # (batch_size, sequence_length, vocab_size)\n",
    "\n",
    "'''TODO: compute the loss using the true next characters from the example batch\n",
    "    and the predictions from the untrained model several cells above'''\n",
    "example_batch_loss = compute_loss(y, pred) # TODO\n",
    "\n",
    "print(f\"Prediction shape: {pred.shape} # (batch_size, sequence_length, vocab_size)\")\n",
    "print(f\"scalar_loss:      {example_batch_loss.mean().item()}\")"
   ]
  },
  {
   "cell_type": "markdown",
   "id": "ae3a79db",
   "metadata": {},
   "source": [
    "Let's start by defining some hyperparameters for training the model. To start, we have provided some reasonable values for some of the parameters. It is up to you to use what we've learned in class to help optimize the parameter selection here!\n"
   ]
  },
  {
   "cell_type": "code",
   "execution_count": 24,
   "id": "6ac60673",
   "metadata": {},
   "outputs": [],
   "source": [
    "### Hyperparameter setting and optimization ###\n",
    "\n",
    "vocab_size = len(vocab)\n",
    "\n",
    "# Model parameters:\n",
    "params = dict(\n",
    "  num_training_iterations = 3000,  # Increase this to train longer\n",
    "  batch_size = 8,  # Experiment between 1 and 64\n",
    "  seq_length = 100,  # Experiment between 50 and 500\n",
    "  learning_rate = 5e-3,  # Experiment between 1e-5 and 1e-1\n",
    "  embedding_dim = 256,\n",
    "  hidden_size = 1024,  # Experiment between 1 and 2048\n",
    ")\n",
    "\n",
    "# Checkpoint location:\n",
    "checkpoint_dir = './training_checkpoints'\n",
    "checkpoint_prefix = os.path.join(checkpoint_dir, \"my_ckpt\")\n",
    "os.makedirs(checkpoint_dir, exist_ok=True)"
   ]
  },
  {
   "cell_type": "markdown",
   "id": "1a89b0de",
   "metadata": {},
   "source": [
    "Having defined our hyperparameters we can set up for experiment tracking with Comet. [`Experiment`](https://www.comet.com/docs/v2/api-and-sdk/python-sdk/reference/Experiment/) are the core objects in Comet and will allow us to track training and model development. Here we have written a short function to create a new Comet experiment. Note that in this setup, when hyperparameters change, you can run the `create_experiment()` function to initiate a new experiment. All experiments defined with the same `project_name` will live under that project in your Comet interface.\n"
   ]
  },
  {
   "cell_type": "code",
   "execution_count": 25,
   "id": "7396b964",
   "metadata": {},
   "outputs": [],
   "source": [
    "### Create a Comet experiment to track our training run ###\n",
    "\n",
    "def create_experiment():\n",
    "  # end any prior experiments\n",
    "  if 'experiment' in locals():\n",
    "    experiment.end()\n",
    "\n",
    "  # initiate the comet experiment for tracking\n",
    "  experiment = comet_ml.Experiment(\n",
    "                  api_key=COMET_API_KEY,\n",
    "                  project_name=\"6S191_Lab1_Part2\")\n",
    "  # log our hyperparameters, defined above, to the experiment\n",
    "  for param, value in params.items():\n",
    "    experiment.log_parameter(param, value)\n",
    "  experiment.flush()\n",
    "\n",
    "  return experiment"
   ]
  },
  {
   "cell_type": "markdown",
   "id": "b9c7eb04",
   "metadata": {},
   "source": [
    "Now, we are ready to define our training operation -- the optimizer and duration of training -- and use this function to train the model. You will experiment with the choice of optimizer and the duration for which you train your models, and see how these changes affect the network's output. Some optimizers you may like to try are [`Adam`](https://pytorch.org/docs/stable/generated/torch.optim.Adam.html) and [`Adagrad`](https://pytorch.org/docs/stable/generated/torch.optim.Adagrad.html).\n",
    "\n",
    "First, we will instantiate a new model and an optimizer, and ready them for training. Then, we will use [`loss.backward()`](https://pytorch.org/docs/stable/generated/torch.Tensor.backward.html), enabled by PyTorch's [autograd](https://pytorch.org/docs/stable/generated/torch.autograd.grad.html) method, to perform the backpropagation. Finally, to update the model's parameters based on the computed gradients, we will utake a step with the optimizer, using [`optimizer.step()`](https://pytorch.org/docs/stable/generated/torch.optim.Optimizer.step.html).\n",
    "\n",
    "We will also generate a print-out of the model's progress through training, which will help us easily visualize whether or not we are minimizing the loss.\n"
   ]
  },
  {
   "cell_type": "code",
   "execution_count": 26,
   "id": "b793bc32",
   "metadata": {},
   "outputs": [
    {
     "data": {
      "image/png": "[encoded data removed]",
      "text/plain": [
       "<Figure size 640x480 with 1 Axes>"
      ]
     },
     "metadata": {},
     "output_type": "display_data"
    },
    {
     "name": "stderr",
     "output_type": "stream",
     "text": [
      "100%|██████████| 3000/3000 [01:34<00:00, 31.74it/s]\n"
     ]
    },
    {
     "data": {
      "text/plain": [
       "True"
      ]
     },
     "execution_count": 26,
     "metadata": {},
     "output_type": "execute_result"
    },
    {
     "data": {
      "image/png": "[encoded data removed]",
      "text/plain": [
       "<Figure size 640x480 with 1 Axes>"
      ]
     },
     "metadata": {},
     "output_type": "display_data"
    }
   ],
   "source": [
    "### Define optimizer and training operation ###\n",
    "\n",
    "'''TODO: instantiate a new LSTMModel model for training using the hyperparameters\n",
    "    created above.'''\n",
    "model = LSTMModel(vocab_size=vocab_size,\n",
    "                  embedding_dim= params['embedding_dim'],\n",
    "                  hidden_size= params['hidden_size'])\n",
    "\n",
    "# Move the model to the GPU\n",
    "model.to(device)\n",
    "\n",
    "'''TODO: instantiate an optimizer with its learning rate.\n",
    "  Checkout the PyTorch website for a list of supported optimizers.\n",
    "  https://pytorch.org/docs/stable/optim.html\n",
    "  Try using the Adam optimizer to start.'''\n",
    "optimizer = optim.Adam(params= model.parameters(),\n",
    "                       lr = params['learning_rate'])\n",
    "\n",
    "def train_step(x, y):\n",
    "  # Set the model's mode to train\n",
    "  model.train()\n",
    "\n",
    "  # Zero gradients for every step\n",
    "  optimizer.zero_grad()\n",
    "\n",
    "  # Forward pass\n",
    "  '''TODO: feed the current input into the model and generate predictions'''\n",
    "  y_hat = model(x)\n",
    "\n",
    "  # Compute the loss\n",
    "  '''TODO: compute the loss!'''\n",
    "  loss = compute_loss(y, y_hat)\n",
    "\n",
    "  # Backward pass\n",
    "  '''TODO: complete the gradient computation and update step.\n",
    "    Remember that in PyTorch there are two steps to the training loop:\n",
    "    1. Backpropagate the loss\n",
    "    2. Update the model parameters using the optimizer\n",
    "  '''\n",
    "  '''TODO'''\n",
    "  loss.backward()\n",
    "  optimizer.step()\n",
    "\n",
    "  return loss\n",
    "\n",
    "##################\n",
    "# Begin training!#\n",
    "##################\n",
    "\n",
    "history = []\n",
    "plotter = mdl.util.PeriodicPlotter(sec=2, xlabel='Iterations', ylabel='Loss')\n",
    "experiment = create_experiment()\n",
    "\n",
    "if hasattr(tqdm, '_instances'): tqdm._instances.clear() # clear if it exists\n",
    "for iter in tqdm(range(params[\"num_training_iterations\"])):\n",
    "\n",
    "    # Grab a batch and propagate it through the network\n",
    "    x_batch, y_batch = get_batch(vectorized_songs, params[\"seq_length\"], params[\"batch_size\"])\n",
    "\n",
    "    # Convert numpy arrays to PyTorch tensors\n",
    "    x_batch = torch.tensor(x_batch, dtype=torch.long).to(device)\n",
    "    y_batch = torch.tensor(y_batch, dtype=torch.long).to(device)\n",
    "\n",
    "    # Take a train step\n",
    "    loss = train_step(x_batch, y_batch)\n",
    "\n",
    "    # Log the loss to the Comet interface\n",
    "    experiment.log_metric(\"loss\", loss.item(), step=iter)\n",
    "\n",
    "    # Update the progress bar and visualize within notebook\n",
    "    history.append(loss.item())\n",
    "    plotter.plot(history)\n",
    "\n",
    "    # Save model checkpoint\n",
    "    if iter % 100 == 0:\n",
    "        torch.save(model.state_dict(), checkpoint_prefix)\n",
    "\n",
    "# Save the final trained model\n",
    "torch.save(model.state_dict(), checkpoint_prefix)\n",
    "experiment.flush()\n"
   ]
  },
  {
   "cell_type": "markdown",
   "id": "462566f0",
   "metadata": {},
   "source": [
    "## 2.6 Generate music using the RNN model\n",
    "\n",
    "Now, we can use our trained RNN model to generate some music! When generating music, we'll have to feed the model some sort of seed to get it started (because it can't predict anything without something to start with!).\n",
    "\n",
    "Once we have a generated seed, we can then iteratively predict each successive character (remember, we are using the ABC representation for our music) using our trained RNN. More specifically, recall that our RNN outputs a `softmax` over possible successive characters. For inference, we iteratively sample from these distributions, and then use our samples to encode a generated song in the ABC format.\n",
    "\n",
    "Then, all we have to do is write it to a file and listen!\n"
   ]
  },
  {
   "cell_type": "markdown",
   "id": "af63b8a2",
   "metadata": {},
   "source": [
    "### The prediction procedure\n",
    "\n",
    "Now, we're ready to write the code to generate text in the ABC music format:\n",
    "\n",
    "- Initialize a \"seed\" start string and the RNN state, and set the number of characters we want to generate.\n",
    "\n",
    "- Use the start string and the RNN state to obtain the probability distribution over the next predicted character.\n",
    "\n",
    "- Sample from multinomial distribution to calculate the index of the predicted character. This predicted character is then used as the next input to the model.\n",
    "\n",
    "- At each time step, the updated RNN state is fed back into the model, so that it now has more context in making the next prediction. After predicting the next character, the updated RNN states are again fed back into the model, which is how it learns sequence dependencies in the data, as it gets more information from the previous predictions.\n",
    "\n",
    "![LSTM inference](https://raw.githubusercontent.com/MITDeepLearning/introtodeeplearning/2019/lab1/img/lstm_inference.png)\n",
    "\n",
    "Complete and experiment with this code block (as well as some of the aspects of network definition and training!), and see how the model performs. How do songs generated after training with a small number of epochs compare to those generated after a longer duration of training?\n"
   ]
  },
  {
   "cell_type": "code",
   "execution_count": 35,
   "id": "a3f7d2bf",
   "metadata": {},
   "outputs": [],
   "source": [
    "### Prediction of a generated song ###\n",
    "\n",
    "def generate_text(model, start_string, generation_length=1000):\n",
    "  # Evaluation step (generating ABC text using the learned RNN model)\n",
    "\n",
    "  '''TODO: convert the start string to numbers (vectorize)'''\n",
    "  input_idx = [char2idx[i] for i in start_string] # TODO\n",
    "  input_idx = torch.tensor([input_idx], dtype=torch.long).to(device)\n",
    "\n",
    "  # Initialize the hidden state\n",
    "  state = model.init_hidden(input_idx.size(0), device)\n",
    "\n",
    "  # Empty string to store our results\n",
    "  text_generated = []\n",
    "  tqdm._instances.clear()\n",
    "\n",
    "  for i in tqdm(range(generation_length)):\n",
    "    '''TODO: evaluate the inputs and generate the next character predictions'''\n",
    "    predictions, state = model(input_idx, state, return_state=True) # TODO\n",
    "\n",
    "    # Remove the batch dimension\n",
    "    predictions = predictions.squeeze(0)\n",
    "\n",
    "    '''TODO: use a multinomial distribution to sample over the probabilities'''\n",
    "    input_idx = torch.multinomial(torch.softmax(predictions, dim=-1), num_samples=1) # TODO\n",
    "\n",
    "    '''TODO: add the predicted character to the generated text!'''\n",
    "    # Hint: consider what format the prediction is in vs. the output\n",
    "    text_generated.append(idx2char[input_idx].item()) # TODO\n",
    "\n",
    "  return (start_string + ''.join(text_generated))"
   ]
  },
  {
   "cell_type": "code",
   "execution_count": 36,
   "id": "7c266adb",
   "metadata": {},
   "outputs": [
    {
     "name": "stderr",
     "output_type": "stream",
     "text": [
      "100%|██████████| 1000/1000 [00:00<00:00, 1242.21it/s]\n"
     ]
    }
   ],
   "source": [
    "'''TODO: Use the model and the function defined above to generate ABC format text of length 1000!\n",
    "    As you may notice, ABC files start with \"X\" - this may be a good start string.'''\n",
    "generated_text = generate_text(model=model, start_string=\"X\", generation_length=1000) # TODO"
   ]
  },
  {
   "cell_type": "markdown",
   "id": "4b435458",
   "metadata": {},
   "source": [
    "### Play back the generated music!\n",
    "\n",
    "We can now call a function to convert the ABC format text to an audio file, and then play that back to check out our generated music! Try training longer if the resulting song is not long enough, or re-generating the song!\n",
    "\n",
    "We will save the song to Comet -- you will be able to find your songs under the `Audio` and `Assets & Artifacts` pages in your Comet interface for the project. Note the [`log_asset()`](https://www.comet.com/docs/v2/api-and-sdk/python-sdk/reference/Experiment/#experimentlog_asset) documentation, where you will see how to specify file names and other parameters for saving your assets.\n"
   ]
  },
  {
   "cell_type": "code",
   "execution_count": 37,
   "id": "c00ce3bf",
   "metadata": {},
   "outputs": [
    {
     "name": "stdout",
     "output_type": "stream",
     "text": [
      "Found 5 songs in text\n"
     ]
    }
   ],
   "source": [
    "### Play back generated songs ###\n",
    "\n",
    "generated_songs = mdl.lab1.extract_song_snippet(generated_text)\n",
    "\n",
    "for i, song in enumerate(generated_songs):\n",
    "  # Synthesize the waveform from a song\n",
    "  waveform = mdl.lab1.play_song(song)\n",
    "\n",
    "  # If its a valid song (correct syntax), lets play it!\n",
    "  if waveform:\n",
    "    print(\"Generated song\", i)\n",
    "    ipythondisplay.display(waveform)\n",
    "\n",
    "    numeric_data = np.frombuffer(waveform.data, dtype=np.int16)\n",
    "    wav_file_path = f\"output_{i}.wav\"\n",
    "    write(wav_file_path, 88200, numeric_data)\n",
    "\n",
    "    # save your song to the Comet interface -- you can access it there\n",
    "    experiment.log_asset(wav_file_path)"
   ]
  },
  {
   "cell_type": "code",
   "execution_count": 38,
   "id": "a01c2f3c",
   "metadata": {},
   "outputs": [
    {
     "name": "stderr",
     "output_type": "stream",
     "text": [
      "\u001b[1;38;5;39mCOMET INFO:\u001b[0m ---------------------------------------------------------------------------------------\n",
      "\u001b[1;38;5;39mCOMET INFO:\u001b[0m Comet.ml Experiment Summary\n",
      "\u001b[1;38;5;39mCOMET INFO:\u001b[0m ---------------------------------------------------------------------------------------\n",
      "\u001b[1;38;5;39mCOMET INFO:\u001b[0m   Data:\n",
      "\u001b[1;38;5;39mCOMET INFO:\u001b[0m     display_summary_level : 1\n",
      "\u001b[1;38;5;39mCOMET INFO:\u001b[0m     name                  : optimistic_beaver_4454\n",
      "\u001b[1;38;5;39mCOMET INFO:\u001b[0m     url                   : https://www.comet.com/youssef-omarrr/6s191-lab1-part2/2804cba201ee4e99a3db1cc5ad5f0be5\n",
      "\u001b[1;38;5;39mCOMET INFO:\u001b[0m   Metrics [count] (min, max):\n",
      "\u001b[1;38;5;39mCOMET INFO:\u001b[0m     loss [3000] : (0.5633514523506165, 4.519618034362793)\n",
      "\u001b[1;38;5;39mCOMET INFO:\u001b[0m   Parameters:\n",
      "\u001b[1;38;5;39mCOMET INFO:\u001b[0m     batch_size              : 8\n",
      "\u001b[1;38;5;39mCOMET INFO:\u001b[0m     embedding_dim           : 256\n",
      "\u001b[1;38;5;39mCOMET INFO:\u001b[0m     hidden_size             : 1024\n",
      "\u001b[1;38;5;39mCOMET INFO:\u001b[0m     learning_rate           : 0.005\n",
      "\u001b[1;38;5;39mCOMET INFO:\u001b[0m     num_training_iterations : 3000\n",
      "\u001b[1;38;5;39mCOMET INFO:\u001b[0m     seq_length              : 100\n",
      "\u001b[1;38;5;39mCOMET INFO:\u001b[0m   Uploads:\n",
      "\u001b[1;38;5;39mCOMET INFO:\u001b[0m     environment details      : 1\n",
      "\u001b[1;38;5;39mCOMET INFO:\u001b[0m     filename                 : 1\n",
      "\u001b[1;38;5;39mCOMET INFO:\u001b[0m     git metadata             : 1\n",
      "\u001b[1;38;5;39mCOMET INFO:\u001b[0m     git-patch (uncompressed) : 1 (248.04 KB)\n",
      "\u001b[1;38;5;39mCOMET INFO:\u001b[0m     installed packages       : 1\n",
      "\u001b[1;38;5;39mCOMET INFO:\u001b[0m     notebook                 : 1\n",
      "\u001b[1;38;5;39mCOMET INFO:\u001b[0m     source_code              : 1\n",
      "\u001b[1;38;5;39mCOMET INFO:\u001b[0m \n",
      "\u001b[1;38;5;214mCOMET WARNING:\u001b[0m To get all data logged automatically, import comet_ml before the following modules: sklearn, keras, torch, tensorflow.\n",
      "\u001b[1;38;5;39mCOMET INFO:\u001b[0m Please wait for metadata to finish uploading (timeout is 3600 seconds)\n",
      "\u001b[1;38;5;39mCOMET INFO:\u001b[0m Uploading 2 metrics, params and output messages\n"
     ]
    }
   ],
   "source": [
    "# when done, end the comet experiment\n",
    "experiment.end()"
   ]
  }
 ],
 "metadata": {
  "kernelspec": {
   "display_name": ".venv",
   "language": "python",
   "name": "python3"
  },
  "language_info": {
   "codemirror_mode": {
    "name": "ipython",
    "version": 3
   },
   "file_extension": ".py",
   "mimetype": "text/x-python",
   "name": "python",
   "nbconvert_exporter": "python",
   "pygments_lexer": "ipython3",
   "version": "3.10.5"
  }
 },
 "nbformat": 4,
 "nbformat_minor": 5
}
