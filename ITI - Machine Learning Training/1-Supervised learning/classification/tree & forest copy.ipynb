{
 "cells": [
  {
   "cell_type": "code",
   "execution_count": 1,
   "id": "2fa84c62",
   "metadata": {},
   "outputs": [
    {
     "name": "stdout",
     "output_type": "stream",
     "text": [
      "<class 'pandas.core.frame.DataFrame'>\n",
      "RangeIndex: 55500 entries, 0 to 55499\n",
      "Data columns (total 15 columns):\n",
      " #   Column              Non-Null Count  Dtype  \n",
      "---  ------              --------------  -----  \n",
      " 0   Name                55500 non-null  object \n",
      " 1   Age                 55500 non-null  int64  \n",
      " 2   Gender              55500 non-null  object \n",
      " 3   Blood Type          55500 non-null  object \n",
      " 4   Medical Condition   55500 non-null  object \n",
      " 5   Date of Admission   55500 non-null  object \n",
      " 6   Doctor              55500 non-null  object \n",
      " 7   Hospital            55500 non-null  object \n",
      " 8   Insurance Provider  55500 non-null  object \n",
      " 9   Billing Amount      55500 non-null  float64\n",
      " 10  Room Number         55500 non-null  int64  \n",
      " 11  Admission Type      55500 non-null  object \n",
      " 12  Discharge Date      55500 non-null  object \n",
      " 13  Medication          55500 non-null  object \n",
      " 14  Test Results        55500 non-null  object \n",
      "dtypes: float64(1), int64(2), object(12)\n",
      "memory usage: 6.4+ MB\n"
     ]
    }
   ],
   "source": [
    "import pandas as pd\n",
    "\n",
    "data = pd.read_csv(\"../Datasets/healthcare_dataset.csv\")\n",
    "data.info()"
   ]
  },
  {
   "cell_type": "code",
   "execution_count": 2,
   "id": "5d0a66bc",
   "metadata": {},
   "outputs": [
    {
     "data": {
      "application/vnd.microsoft.datawrangler.viewer.v0+json": {
       "columns": [
        {
         "name": "index",
         "rawType": "object",
         "type": "string"
        },
        {
         "name": "0",
         "rawType": "int64",
         "type": "integer"
        }
       ],
       "ref": "5aee6033-fe87-47c5-b019-a802d99df55b",
       "rows": [
        [
         "Name",
         "0"
        ],
        [
         "Age",
         "0"
        ],
        [
         "Gender",
         "0"
        ],
        [
         "Blood Type",
         "0"
        ],
        [
         "Medical Condition",
         "0"
        ],
        [
         "Date of Admission",
         "0"
        ],
        [
         "Doctor",
         "0"
        ],
        [
         "Hospital",
         "0"
        ],
        [
         "Insurance Provider",
         "0"
        ],
        [
         "Billing Amount",
         "0"
        ],
        [
         "Room Number",
         "0"
        ],
        [
         "Admission Type",
         "0"
        ],
        [
         "Discharge Date",
         "0"
        ],
        [
         "Medication",
         "0"
        ],
        [
         "Test Results",
         "0"
        ]
       ],
       "shape": {
        "columns": 1,
        "rows": 15
       }
      },
      "text/plain": [
       "Name                  0\n",
       "Age                   0\n",
       "Gender                0\n",
       "Blood Type            0\n",
       "Medical Condition     0\n",
       "Date of Admission     0\n",
       "Doctor                0\n",
       "Hospital              0\n",
       "Insurance Provider    0\n",
       "Billing Amount        0\n",
       "Room Number           0\n",
       "Admission Type        0\n",
       "Discharge Date        0\n",
       "Medication            0\n",
       "Test Results          0\n",
       "dtype: int64"
      ]
     },
     "execution_count": 2,
     "metadata": {},
     "output_type": "execute_result"
    }
   ],
   "source": [
    "data.isnull().sum()"
   ]
  },
  {
   "cell_type": "code",
   "execution_count": 3,
   "id": "844eb1d3",
   "metadata": {},
   "outputs": [
    {
     "data": {
      "text/plain": [
       "np.int64(534)"
      ]
     },
     "execution_count": 3,
     "metadata": {},
     "output_type": "execute_result"
    }
   ],
   "source": [
    "data.duplicated().sum()"
   ]
  },
  {
   "cell_type": "code",
   "execution_count": 4,
   "id": "82fbefde",
   "metadata": {},
   "outputs": [
    {
     "data": {
      "text/plain": [
       "Index(['Name', 'Age', 'Gender', 'Blood Type', 'Medical Condition',\n",
       "       'Date of Admission', 'Doctor', 'Hospital', 'Insurance Provider',\n",
       "       'Billing Amount', 'Room Number', 'Admission Type', 'Discharge Date',\n",
       "       'Medication', 'Test Results'],\n",
       "      dtype='object')"
      ]
     },
     "execution_count": 4,
     "metadata": {},
     "output_type": "execute_result"
    }
   ],
   "source": [
    "ls = data.columns\n",
    "\n",
    "ls"
   ]
  },
  {
   "cell_type": "code",
   "execution_count": 5,
   "id": "f3c0cd59",
   "metadata": {},
   "outputs": [
    {
     "data": {
      "text/plain": [
       "np.int64(0)"
      ]
     },
     "execution_count": 5,
     "metadata": {},
     "output_type": "execute_result"
    }
   ],
   "source": [
    "data = data.drop_duplicates(ls, keep = 'last')\n",
    "data.duplicated().sum()"
   ]
  },
  {
   "cell_type": "code",
   "execution_count": 6,
   "id": "3086ca57",
   "metadata": {},
   "outputs": [
    {
     "data": {
      "text/plain": [
       "Index(['Age', 'Gender', 'Blood Type', 'Medical Condition', 'Doctor',\n",
       "       'Hospital', 'Insurance Provider', 'Medication', 'Test Results'],\n",
       "      dtype='object')"
      ]
     },
     "execution_count": 6,
     "metadata": {},
     "output_type": "execute_result"
    }
   ],
   "source": [
    "data = data.drop(['Name', 'Date of Admission',\n",
    "                'Billing Amount', 'Room Number', 'Admission Type', 'Discharge Date' ], axis = 1)\n",
    "\n",
    "data.columns"
   ]
  },
  {
   "cell_type": "code",
   "execution_count": 7,
   "id": "c1798438",
   "metadata": {},
   "outputs": [
    {
     "data": {
      "text/plain": [
       "array(['Normal', 'Inconclusive', 'Abnormal'], dtype=object)"
      ]
     },
     "execution_count": 7,
     "metadata": {},
     "output_type": "execute_result"
    }
   ],
   "source": [
    "RESULTS = data['Test Results']\n",
    "RESULTS.unique()"
   ]
  },
  {
   "cell_type": "code",
   "execution_count": 8,
   "id": "5453b5da",
   "metadata": {},
   "outputs": [
    {
     "name": "stdout",
     "output_type": "stream",
     "text": [
      "<class 'pandas.core.frame.DataFrame'>\n",
      "Index: 54966 entries, 0 to 55499\n",
      "Data columns (total 9 columns):\n",
      " #   Column              Non-Null Count  Dtype \n",
      "---  ------              --------------  ----- \n",
      " 0   Age                 54966 non-null  int64 \n",
      " 1   Gender              54966 non-null  object\n",
      " 2   Blood Type          54966 non-null  object\n",
      " 3   Medical Condition   54966 non-null  object\n",
      " 4   Doctor              54966 non-null  object\n",
      " 5   Hospital            54966 non-null  object\n",
      " 6   Insurance Provider  54966 non-null  object\n",
      " 7   Medication          54966 non-null  object\n",
      " 8   Test Results        54966 non-null  object\n",
      "dtypes: int64(1), object(8)\n",
      "memory usage: 4.2+ MB\n"
     ]
    }
   ],
   "source": [
    "data.info()"
   ]
  },
  {
   "cell_type": "code",
   "execution_count": 9,
   "id": "30c822a1",
   "metadata": {},
   "outputs": [
    {
     "data": {
      "application/vnd.microsoft.datawrangler.viewer.v0+json": {
       "columns": [
        {
         "name": "index",
         "rawType": "int64",
         "type": "integer"
        },
        {
         "name": "Age",
         "rawType": "int64",
         "type": "integer"
        },
        {
         "name": "Gender",
         "rawType": "int8",
         "type": "integer"
        },
        {
         "name": "Blood Type",
         "rawType": "int8",
         "type": "integer"
        },
        {
         "name": "Medical Condition",
         "rawType": "int8",
         "type": "integer"
        },
        {
         "name": "Doctor",
         "rawType": "int32",
         "type": "integer"
        },
        {
         "name": "Hospital",
         "rawType": "int32",
         "type": "integer"
        },
        {
         "name": "Insurance Provider",
         "rawType": "int8",
         "type": "integer"
        },
        {
         "name": "Medication",
         "rawType": "int8",
         "type": "integer"
        },
        {
         "name": "Test Results",
         "rawType": "int8",
         "type": "integer"
        }
       ],
       "ref": "9b27ec81-35c6-496d-98d2-3f54bc476525",
       "rows": [
        [
         "0",
         "30",
         "1",
         "5",
         "2",
         "26612",
         "29933",
         "1",
         "3",
         "2"
        ],
        [
         "1",
         "62",
         "1",
         "0",
         "5",
         "33648",
         "16012",
         "3",
         "1",
         "1"
        ],
        [
         "2",
         "76",
         "0",
         "1",
         "5",
         "37828",
         "5473",
         "0",
         "0",
         "2"
        ],
        [
         "3",
         "28",
         "0",
         "6",
         "3",
         "22511",
         "12317",
         "3",
         "1",
         "0"
        ],
        [
         "4",
         "43",
         "0",
         "2",
         "2",
         "21259",
         "33598",
         "0",
         "4",
         "0"
        ]
       ],
       "shape": {
        "columns": 9,
        "rows": 5
       }
      },
      "text/html": [
       "<div>\n",
       "<style scoped>\n",
       "    .dataframe tbody tr th:only-of-type {\n",
       "        vertical-align: middle;\n",
       "    }\n",
       "\n",
       "    .dataframe tbody tr th {\n",
       "        vertical-align: top;\n",
       "    }\n",
       "\n",
       "    .dataframe thead th {\n",
       "        text-align: right;\n",
       "    }\n",
       "</style>\n",
       "<table border=\"1\" class=\"dataframe\">\n",
       "  <thead>\n",
       "    <tr style=\"text-align: right;\">\n",
       "      <th></th>\n",
       "      <th>Age</th>\n",
       "      <th>Gender</th>\n",
       "      <th>Blood Type</th>\n",
       "      <th>Medical Condition</th>\n",
       "      <th>Doctor</th>\n",
       "      <th>Hospital</th>\n",
       "      <th>Insurance Provider</th>\n",
       "      <th>Medication</th>\n",
       "      <th>Test Results</th>\n",
       "    </tr>\n",
       "  </thead>\n",
       "  <tbody>\n",
       "    <tr>\n",
       "      <th>0</th>\n",
       "      <td>30</td>\n",
       "      <td>1</td>\n",
       "      <td>5</td>\n",
       "      <td>2</td>\n",
       "      <td>26612</td>\n",
       "      <td>29933</td>\n",
       "      <td>1</td>\n",
       "      <td>3</td>\n",
       "      <td>2</td>\n",
       "    </tr>\n",
       "    <tr>\n",
       "      <th>1</th>\n",
       "      <td>62</td>\n",
       "      <td>1</td>\n",
       "      <td>0</td>\n",
       "      <td>5</td>\n",
       "      <td>33648</td>\n",
       "      <td>16012</td>\n",
       "      <td>3</td>\n",
       "      <td>1</td>\n",
       "      <td>1</td>\n",
       "    </tr>\n",
       "    <tr>\n",
       "      <th>2</th>\n",
       "      <td>76</td>\n",
       "      <td>0</td>\n",
       "      <td>1</td>\n",
       "      <td>5</td>\n",
       "      <td>37828</td>\n",
       "      <td>5473</td>\n",
       "      <td>0</td>\n",
       "      <td>0</td>\n",
       "      <td>2</td>\n",
       "    </tr>\n",
       "    <tr>\n",
       "      <th>3</th>\n",
       "      <td>28</td>\n",
       "      <td>0</td>\n",
       "      <td>6</td>\n",
       "      <td>3</td>\n",
       "      <td>22511</td>\n",
       "      <td>12317</td>\n",
       "      <td>3</td>\n",
       "      <td>1</td>\n",
       "      <td>0</td>\n",
       "    </tr>\n",
       "    <tr>\n",
       "      <th>4</th>\n",
       "      <td>43</td>\n",
       "      <td>0</td>\n",
       "      <td>2</td>\n",
       "      <td>2</td>\n",
       "      <td>21259</td>\n",
       "      <td>33598</td>\n",
       "      <td>0</td>\n",
       "      <td>4</td>\n",
       "      <td>0</td>\n",
       "    </tr>\n",
       "  </tbody>\n",
       "</table>\n",
       "</div>"
      ],
      "text/plain": [
       "   Age  Gender  Blood Type  Medical Condition  Doctor  Hospital  \\\n",
       "0   30       1           5                  2   26612     29933   \n",
       "1   62       1           0                  5   33648     16012   \n",
       "2   76       0           1                  5   37828      5473   \n",
       "3   28       0           6                  3   22511     12317   \n",
       "4   43       0           2                  2   21259     33598   \n",
       "\n",
       "   Insurance Provider  Medication  Test Results  \n",
       "0                   1           3             2  \n",
       "1                   3           1             1  \n",
       "2                   0           0             2  \n",
       "3                   3           1             0  \n",
       "4                   0           4             0  "
      ]
     },
     "execution_count": 9,
     "metadata": {},
     "output_type": "execute_result"
    }
   ],
   "source": [
    "# Label encoding for each column in ls\n",
    "ls = ['Doctor', 'Hospital', 'Insurance Provider', 'Gender', 'Blood Type', 'Medical Condition', 'Medication', 'Test Results']\n",
    "label_encoding = data\n",
    "\n",
    "for col in ls:\n",
    "    label_encoding[col] = label_encoding[col].astype(\"category\").cat.codes\n",
    "\n",
    "label_encoding.head()"
   ]
  },
  {
   "cell_type": "code",
   "execution_count": 10,
   "id": "99e1ec15",
   "metadata": {},
   "outputs": [],
   "source": [
    "from sklearn.model_selection import train_test_split\n",
    "\n",
    "X = data.drop(\"Test Results\", axis = 1)\n",
    "y = data[\"Test Results\"]\n",
    "\n",
    "# Split data\n",
    "X_train, X_test, y_train, y_test = train_test_split( X, y, test_size=0.2, random_state=42, stratify=y)"
   ]
  },
  {
   "cell_type": "code",
   "execution_count": 11,
   "id": "a1f6a20d",
   "metadata": {},
   "outputs": [
    {
     "name": "stdout",
     "output_type": "stream",
     "text": [
      "Accuracy of Decision Tree ('gini') at depth=2: 33.0 %\n",
      "Accuracy of Decision Tree ('gini') at depth=3: 33.0 %\n",
      "Accuracy of Decision Tree ('gini') at depth=4: 33.0 %\n",
      "Accuracy of Decision Tree ('gini') at depth=5: 33.0 %\n",
      "Accuracy of Decision Tree ('gini') at depth=6: 34.0 %\n",
      "Accuracy of Decision Tree ('gini') at depth=7: 34.0 %\n",
      "Accuracy of Decision Tree ('gini') at depth=8: 34.0 %\n",
      "Accuracy of Decision Tree ('gini') at depth=9: 34.0 %\n",
      "Accuracy of Decision Tree ('gini') at depth=10: 34.0 %\n",
      "Accuracy of Decision Tree ('gini') at depth=11: 35.0 %\n",
      "Accuracy of Decision Tree ('gini') at depth=12: 35.0 %\n",
      "Accuracy of Decision Tree ('gini') at depth=13: 35.0 %\n",
      "Accuracy of Decision Tree ('gini') at depth=14: 35.0 %\n",
      "Accuracy of Decision Tree ('gini') at depth=15: 35.0 %\n",
      "--------------------------------------------------\n",
      "Accuracy of Decision Tree ('entropy') at depth=2: 33.0 %\n",
      "Accuracy of Decision Tree ('entropy') at depth=3: 33.0 %\n",
      "Accuracy of Decision Tree ('entropy') at depth=4: 33.0 %\n",
      "Accuracy of Decision Tree ('entropy') at depth=5: 33.0 %\n",
      "Accuracy of Decision Tree ('entropy') at depth=6: 34.0 %\n",
      "Accuracy of Decision Tree ('entropy') at depth=7: 34.0 %\n",
      "Accuracy of Decision Tree ('entropy') at depth=8: 34.0 %\n",
      "Accuracy of Decision Tree ('entropy') at depth=9: 34.0 %\n",
      "Accuracy of Decision Tree ('entropy') at depth=10: 34.0 %\n",
      "Accuracy of Decision Tree ('entropy') at depth=11: 34.0 %\n",
      "Accuracy of Decision Tree ('entropy') at depth=12: 35.0 %\n",
      "Accuracy of Decision Tree ('entropy') at depth=13: 35.0 %\n",
      "Accuracy of Decision Tree ('entropy') at depth=14: 35.0 %\n",
      "Accuracy of Decision Tree ('entropy') at depth=15: 35.0 %\n",
      "--------------------------------------------------\n",
      "\n",
      "Confusion Matrix:\n",
      " [[1478 1203 1007]\n",
      " [1346 1301  993]\n",
      " [1334 1244 1088]]\n"
     ]
    }
   ],
   "source": [
    "from sklearn.tree import DecisionTreeClassifier\n",
    "from sklearn.ensemble import RandomForestClassifier\n",
    "from sklearn.metrics import accuracy_score, confusion_matrix\n",
    "\n",
    "for i in range (2, 16):\n",
    "\n",
    "    clff = DecisionTreeClassifier(criterion=\"gini\", max_depth=i, random_state=42)\n",
    "    clff.fit(X_train, y_train)\n",
    "\n",
    "    # Evaluate Model\n",
    "    y_pred = clff.predict(X_test)\n",
    "\n",
    "    print(f\"Accuracy of Decision Tree ('gini') at depth={i}:\", round(accuracy_score(y_test, y_pred), 2)*100, \"%\")\n",
    "    \n",
    "print('-' *50)\n",
    "\n",
    "for i in range (2, 16):\n",
    "\n",
    "    clff = DecisionTreeClassifier(criterion=\"entropy\", max_depth=i, random_state=42)\n",
    "    clff.fit(X_train, y_train)\n",
    "\n",
    "    # Evaluate Model\n",
    "    y_pred = clff.predict(X_test)\n",
    "\n",
    "    print(f\"Accuracy of Decision Tree ('entropy') at depth={i}:\", round(accuracy_score(y_test, y_pred), 2)*100, \"%\")\n",
    "\n",
    "print('-' *50)\n",
    "\n",
    "print(\"\\nConfusion Matrix:\\n\", confusion_matrix(y_test, y_pred))"
   ]
  },
  {
   "cell_type": "code",
   "execution_count": 12,
   "id": "7f8d653f",
   "metadata": {},
   "outputs": [
    {
     "name": "stdout",
     "output_type": "stream",
     "text": [
      "Accuracy of Random Forest ('gini') at depth=2: 34.0 %\n",
      "Accuracy of Random Forest ('gini') at depth=3: 34.0 %\n",
      "Accuracy of Random Forest ('gini') at depth=4: 34.0 %\n",
      "Accuracy of Random Forest ('gini') at depth=5: 34.0 %\n",
      "Accuracy of Random Forest ('gini') at depth=6: 34.0 %\n",
      "Accuracy of Random Forest ('gini') at depth=7: 35.0 %\n",
      "Accuracy of Random Forest ('gini') at depth=8: 36.0 %\n",
      "Accuracy of Random Forest ('gini') at depth=9: 35.0 %\n",
      "Accuracy of Random Forest ('gini') at depth=10: 37.0 %\n",
      "Accuracy of Random Forest ('gini') at depth=11: 37.0 %\n",
      "Accuracy of Random Forest ('gini') at depth=12: 38.0 %\n",
      "Accuracy of Random Forest ('gini') at depth=13: 39.0 %\n",
      "Accuracy of Random Forest ('gini') at depth=14: 40.0 %\n",
      "Accuracy of Random Forest ('gini') at depth=15: 41.0 %\n",
      "--------------------------------------------------\n",
      "Accuracy of Random Forest ('entropy') at depth=2: 34.0 %\n",
      "Accuracy of Random Forest ('entropy') at depth=3: 34.0 %\n",
      "Accuracy of Random Forest ('entropy') at depth=4: 34.0 %\n",
      "Accuracy of Random Forest ('entropy') at depth=5: 34.0 %\n",
      "Accuracy of Random Forest ('entropy') at depth=6: 34.0 %\n",
      "Accuracy of Random Forest ('entropy') at depth=7: 35.0 %\n",
      "Accuracy of Random Forest ('entropy') at depth=8: 35.0 %\n",
      "Accuracy of Random Forest ('entropy') at depth=9: 35.0 %\n",
      "Accuracy of Random Forest ('entropy') at depth=10: 37.0 %\n",
      "Accuracy of Random Forest ('entropy') at depth=11: 37.0 %\n",
      "Accuracy of Random Forest ('entropy') at depth=12: 37.0 %\n",
      "Accuracy of Random Forest ('entropy') at depth=13: 38.0 %\n",
      "Accuracy of Random Forest ('entropy') at depth=14: 40.0 %\n",
      "Accuracy of Random Forest ('entropy') at depth=15: 41.0 %\n",
      "--------------------------------------------------\n",
      "\n",
      "Confusion Matrix:\n",
      " [[1626 1102  960]\n",
      " [1163 1478  999]\n",
      " [1174 1049 1443]]\n"
     ]
    }
   ],
   "source": [
    "for i in range (2, 16):\n",
    "\n",
    "    clff = RandomForestClassifier(criterion=\"gini\", max_depth=i, random_state=42)\n",
    "    clff.fit(X_train, y_train)\n",
    "\n",
    "    # Evaluate Model\n",
    "    y_pred = clff.predict(X_test)\n",
    "\n",
    "    print(f\"Accuracy of Random Forest ('gini') at depth={i}:\", round(accuracy_score(y_test, y_pred), 2)*100 , \"%\")\n",
    "    \n",
    "print('-' *50)\n",
    "\n",
    "for i in range (2, 16):\n",
    "\n",
    "    clff = RandomForestClassifier(criterion=\"entropy\", max_depth=i, random_state=42)\n",
    "    clff.fit(X_train, y_train)\n",
    "\n",
    "    # Evaluate Model\n",
    "    y_pred = clff.predict(X_test)\n",
    "\n",
    "    print(f\"Accuracy of Random Forest ('entropy') at depth={i}:\", round(accuracy_score(y_test, y_pred), 2)*100, \"%\")\n",
    "\n",
    "print('-' *50)\n",
    "\n",
    "print(\"\\nConfusion Matrix:\\n\", confusion_matrix(y_test, y_pred))"
   ]
  }
 ],
 "metadata": {
  "kernelspec": {
   "display_name": ".venv",
   "language": "python",
   "name": "python3"
  },
  "language_info": {
   "codemirror_mode": {
    "name": "ipython",
    "version": 3
   },
   "file_extension": ".py",
   "mimetype": "text/x-python",
   "name": "python",
   "nbconvert_exporter": "python",
   "pygments_lexer": "ipython3",
   "version": "3.10.5"
  }
 },
 "nbformat": 4,
 "nbformat_minor": 5
}
