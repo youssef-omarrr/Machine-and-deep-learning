{
 "cells": [
  {
   "cell_type": "markdown",
   "metadata": {},
   "source": [
    "# **Pandas LAB**\n"
   ]
  },
  {
   "cell_type": "markdown",
   "metadata": {},
   "source": [
    "### Step 1. Import the necessary libraries\n"
   ]
  },
  {
   "cell_type": "code",
   "execution_count": 1,
   "metadata": {
    "collapsed": false,
    "jupyter": {
     "outputs_hidden": false
    }
   },
   "outputs": [],
   "source": [
    "import pandas as pd"
   ]
  },
  {
   "cell_type": "markdown",
   "metadata": {},
   "source": [
    "### Step 2. Get the dataset from this [address](https://raw.githubusercontent.com/justmarkham/DAT8/master/data/u.user).\n"
   ]
  },
  {
   "cell_type": "code",
   "execution_count": 2,
   "metadata": {},
   "outputs": [],
   "source": [
    "url = \"https://raw.githubusercontent.com/justmarkham/DAT8/master/data/u.user\"\n",
    "column_names = [\"user_id\", \"age\", \"gender\", \"occupation\", \"zip_code\"]"
   ]
  },
  {
   "cell_type": "markdown",
   "metadata": {},
   "source": [
    "### Step 3. Assign it to a variable called users and use the 'user_id' as index\n"
   ]
  },
  {
   "cell_type": "code",
   "execution_count": 3,
   "metadata": {
    "collapsed": false,
    "jupyter": {
     "outputs_hidden": false
    }
   },
   "outputs": [
    {
     "data": {
      "application/vnd.microsoft.datawrangler.viewer.v0+json": {
       "columns": [
        {
         "name": "index",
         "rawType": "object",
         "type": "string"
        },
        {
         "name": "user_id",
         "rawType": "object",
         "type": "unknown"
        },
        {
         "name": "age",
         "rawType": "object",
         "type": "unknown"
        },
        {
         "name": "gender",
         "rawType": "object",
         "type": "unknown"
        },
        {
         "name": "occupation",
         "rawType": "object",
         "type": "unknown"
        },
        {
         "name": "zip_code",
         "rawType": "object",
         "type": "unknown"
        }
       ],
       "ref": "b4054b0a-83f5-4d1f-bd9f-3c0f871dc5e9",
       "rows": [
        [
         "count",
         "944",
         "944",
         "944",
         "944",
         "944"
        ],
        [
         "unique",
         "944",
         "62",
         "3",
         "22",
         "796"
        ],
        [
         "top",
         "943",
         "30",
         "M",
         "student",
         "55414"
        ],
        [
         "freq",
         "1",
         "39",
         "670",
         "196",
         "9"
        ]
       ],
       "shape": {
        "columns": 5,
        "rows": 4
       }
      },
      "text/html": [
       "<div>\n",
       "<style scoped>\n",
       "    .dataframe tbody tr th:only-of-type {\n",
       "        vertical-align: middle;\n",
       "    }\n",
       "\n",
       "    .dataframe tbody tr th {\n",
       "        vertical-align: top;\n",
       "    }\n",
       "\n",
       "    .dataframe thead th {\n",
       "        text-align: right;\n",
       "    }\n",
       "</style>\n",
       "<table border=\"1\" class=\"dataframe\">\n",
       "  <thead>\n",
       "    <tr style=\"text-align: right;\">\n",
       "      <th></th>\n",
       "      <th>user_id</th>\n",
       "      <th>age</th>\n",
       "      <th>gender</th>\n",
       "      <th>occupation</th>\n",
       "      <th>zip_code</th>\n",
       "    </tr>\n",
       "  </thead>\n",
       "  <tbody>\n",
       "    <tr>\n",
       "      <th>count</th>\n",
       "      <td>944</td>\n",
       "      <td>944</td>\n",
       "      <td>944</td>\n",
       "      <td>944</td>\n",
       "      <td>944</td>\n",
       "    </tr>\n",
       "    <tr>\n",
       "      <th>unique</th>\n",
       "      <td>944</td>\n",
       "      <td>62</td>\n",
       "      <td>3</td>\n",
       "      <td>22</td>\n",
       "      <td>796</td>\n",
       "    </tr>\n",
       "    <tr>\n",
       "      <th>top</th>\n",
       "      <td>943</td>\n",
       "      <td>30</td>\n",
       "      <td>M</td>\n",
       "      <td>student</td>\n",
       "      <td>55414</td>\n",
       "    </tr>\n",
       "    <tr>\n",
       "      <th>freq</th>\n",
       "      <td>1</td>\n",
       "      <td>39</td>\n",
       "      <td>670</td>\n",
       "      <td>196</td>\n",
       "      <td>9</td>\n",
       "    </tr>\n",
       "  </tbody>\n",
       "</table>\n",
       "</div>"
      ],
      "text/plain": [
       "       user_id  age gender occupation zip_code\n",
       "count      944  944    944        944      944\n",
       "unique     944   62      3         22      796\n",
       "top        943   30      M    student    55414\n",
       "freq         1   39    670        196        9"
      ]
     },
     "execution_count": 3,
     "metadata": {},
     "output_type": "execute_result"
    }
   ],
   "source": [
    "users_df = pd.read_csv(\n",
    "                        url,\n",
    "                        sep='|', \n",
    "                        header=None, \n",
    "                        names=column_names)\n",
    "users_df.describe()"
   ]
  },
  {
   "cell_type": "code",
   "execution_count": 4,
   "metadata": {},
   "outputs": [
    {
     "name": "stdout",
     "output_type": "stream",
     "text": [
      "<class 'pandas.core.frame.DataFrame'>\n",
      "RangeIndex: 944 entries, 0 to 943\n",
      "Data columns (total 5 columns):\n",
      " #   Column      Non-Null Count  Dtype \n",
      "---  ------      --------------  ----- \n",
      " 0   user_id     944 non-null    object\n",
      " 1   age         944 non-null    object\n",
      " 2   gender      944 non-null    object\n",
      " 3   occupation  944 non-null    object\n",
      " 4   zip_code    944 non-null    object\n",
      "dtypes: object(5)\n",
      "memory usage: 37.0+ KB\n"
     ]
    }
   ],
   "source": [
    "users_df.info()"
   ]
  },
  {
   "cell_type": "markdown",
   "metadata": {},
   "source": [
    "### Step 4. See the first 25 entries\n"
   ]
  },
  {
   "cell_type": "code",
   "execution_count": 5,
   "metadata": {
    "collapsed": false,
    "jupyter": {
     "outputs_hidden": false
    },
    "scrolled": true
   },
   "outputs": [
    {
     "data": {
      "application/vnd.microsoft.datawrangler.viewer.v0+json": {
       "columns": [
        {
         "name": "index",
         "rawType": "int64",
         "type": "integer"
        },
        {
         "name": "user_id",
         "rawType": "object",
         "type": "string"
        },
        {
         "name": "age",
         "rawType": "object",
         "type": "string"
        },
        {
         "name": "gender",
         "rawType": "object",
         "type": "string"
        },
        {
         "name": "occupation",
         "rawType": "object",
         "type": "string"
        },
        {
         "name": "zip_code",
         "rawType": "object",
         "type": "string"
        }
       ],
       "ref": "e642b101-b9d3-4d4a-b98d-53894d454a75",
       "rows": [
        [
         "0",
         "user_id",
         "age",
         "gender",
         "occupation",
         "zip_code"
        ],
        [
         "1",
         "1",
         "24",
         "M",
         "technician",
         "85711"
        ],
        [
         "2",
         "2",
         "53",
         "F",
         "other",
         "94043"
        ],
        [
         "3",
         "3",
         "23",
         "M",
         "writer",
         "32067"
        ],
        [
         "4",
         "4",
         "24",
         "M",
         "technician",
         "43537"
        ],
        [
         "5",
         "5",
         "33",
         "F",
         "other",
         "15213"
        ],
        [
         "6",
         "6",
         "42",
         "M",
         "executive",
         "98101"
        ],
        [
         "7",
         "7",
         "57",
         "M",
         "administrator",
         "91344"
        ],
        [
         "8",
         "8",
         "36",
         "M",
         "administrator",
         "05201"
        ],
        [
         "9",
         "9",
         "29",
         "M",
         "student",
         "01002"
        ],
        [
         "10",
         "10",
         "53",
         "M",
         "lawyer",
         "90703"
        ],
        [
         "11",
         "11",
         "39",
         "F",
         "other",
         "30329"
        ],
        [
         "12",
         "12",
         "28",
         "F",
         "other",
         "06405"
        ],
        [
         "13",
         "13",
         "47",
         "M",
         "educator",
         "29206"
        ],
        [
         "14",
         "14",
         "45",
         "M",
         "scientist",
         "55106"
        ],
        [
         "15",
         "15",
         "49",
         "F",
         "educator",
         "97301"
        ],
        [
         "16",
         "16",
         "21",
         "M",
         "entertainment",
         "10309"
        ],
        [
         "17",
         "17",
         "30",
         "M",
         "programmer",
         "06355"
        ],
        [
         "18",
         "18",
         "35",
         "F",
         "other",
         "37212"
        ],
        [
         "19",
         "19",
         "40",
         "M",
         "librarian",
         "02138"
        ],
        [
         "20",
         "20",
         "42",
         "F",
         "homemaker",
         "95660"
        ],
        [
         "21",
         "21",
         "26",
         "M",
         "writer",
         "30068"
        ],
        [
         "22",
         "22",
         "25",
         "M",
         "writer",
         "40206"
        ],
        [
         "23",
         "23",
         "30",
         "F",
         "artist",
         "48197"
        ],
        [
         "24",
         "24",
         "21",
         "F",
         "artist",
         "94533"
        ]
       ],
       "shape": {
        "columns": 5,
        "rows": 25
       }
      },
      "text/html": [
       "<div>\n",
       "<style scoped>\n",
       "    .dataframe tbody tr th:only-of-type {\n",
       "        vertical-align: middle;\n",
       "    }\n",
       "\n",
       "    .dataframe tbody tr th {\n",
       "        vertical-align: top;\n",
       "    }\n",
       "\n",
       "    .dataframe thead th {\n",
       "        text-align: right;\n",
       "    }\n",
       "</style>\n",
       "<table border=\"1\" class=\"dataframe\">\n",
       "  <thead>\n",
       "    <tr style=\"text-align: right;\">\n",
       "      <th></th>\n",
       "      <th>user_id</th>\n",
       "      <th>age</th>\n",
       "      <th>gender</th>\n",
       "      <th>occupation</th>\n",
       "      <th>zip_code</th>\n",
       "    </tr>\n",
       "  </thead>\n",
       "  <tbody>\n",
       "    <tr>\n",
       "      <th>0</th>\n",
       "      <td>user_id</td>\n",
       "      <td>age</td>\n",
       "      <td>gender</td>\n",
       "      <td>occupation</td>\n",
       "      <td>zip_code</td>\n",
       "    </tr>\n",
       "    <tr>\n",
       "      <th>1</th>\n",
       "      <td>1</td>\n",
       "      <td>24</td>\n",
       "      <td>M</td>\n",
       "      <td>technician</td>\n",
       "      <td>85711</td>\n",
       "    </tr>\n",
       "    <tr>\n",
       "      <th>2</th>\n",
       "      <td>2</td>\n",
       "      <td>53</td>\n",
       "      <td>F</td>\n",
       "      <td>other</td>\n",
       "      <td>94043</td>\n",
       "    </tr>\n",
       "    <tr>\n",
       "      <th>3</th>\n",
       "      <td>3</td>\n",
       "      <td>23</td>\n",
       "      <td>M</td>\n",
       "      <td>writer</td>\n",
       "      <td>32067</td>\n",
       "    </tr>\n",
       "    <tr>\n",
       "      <th>4</th>\n",
       "      <td>4</td>\n",
       "      <td>24</td>\n",
       "      <td>M</td>\n",
       "      <td>technician</td>\n",
       "      <td>43537</td>\n",
       "    </tr>\n",
       "    <tr>\n",
       "      <th>5</th>\n",
       "      <td>5</td>\n",
       "      <td>33</td>\n",
       "      <td>F</td>\n",
       "      <td>other</td>\n",
       "      <td>15213</td>\n",
       "    </tr>\n",
       "    <tr>\n",
       "      <th>6</th>\n",
       "      <td>6</td>\n",
       "      <td>42</td>\n",
       "      <td>M</td>\n",
       "      <td>executive</td>\n",
       "      <td>98101</td>\n",
       "    </tr>\n",
       "    <tr>\n",
       "      <th>7</th>\n",
       "      <td>7</td>\n",
       "      <td>57</td>\n",
       "      <td>M</td>\n",
       "      <td>administrator</td>\n",
       "      <td>91344</td>\n",
       "    </tr>\n",
       "    <tr>\n",
       "      <th>8</th>\n",
       "      <td>8</td>\n",
       "      <td>36</td>\n",
       "      <td>M</td>\n",
       "      <td>administrator</td>\n",
       "      <td>05201</td>\n",
       "    </tr>\n",
       "    <tr>\n",
       "      <th>9</th>\n",
       "      <td>9</td>\n",
       "      <td>29</td>\n",
       "      <td>M</td>\n",
       "      <td>student</td>\n",
       "      <td>01002</td>\n",
       "    </tr>\n",
       "    <tr>\n",
       "      <th>10</th>\n",
       "      <td>10</td>\n",
       "      <td>53</td>\n",
       "      <td>M</td>\n",
       "      <td>lawyer</td>\n",
       "      <td>90703</td>\n",
       "    </tr>\n",
       "    <tr>\n",
       "      <th>11</th>\n",
       "      <td>11</td>\n",
       "      <td>39</td>\n",
       "      <td>F</td>\n",
       "      <td>other</td>\n",
       "      <td>30329</td>\n",
       "    </tr>\n",
       "    <tr>\n",
       "      <th>12</th>\n",
       "      <td>12</td>\n",
       "      <td>28</td>\n",
       "      <td>F</td>\n",
       "      <td>other</td>\n",
       "      <td>06405</td>\n",
       "    </tr>\n",
       "    <tr>\n",
       "      <th>13</th>\n",
       "      <td>13</td>\n",
       "      <td>47</td>\n",
       "      <td>M</td>\n",
       "      <td>educator</td>\n",
       "      <td>29206</td>\n",
       "    </tr>\n",
       "    <tr>\n",
       "      <th>14</th>\n",
       "      <td>14</td>\n",
       "      <td>45</td>\n",
       "      <td>M</td>\n",
       "      <td>scientist</td>\n",
       "      <td>55106</td>\n",
       "    </tr>\n",
       "    <tr>\n",
       "      <th>15</th>\n",
       "      <td>15</td>\n",
       "      <td>49</td>\n",
       "      <td>F</td>\n",
       "      <td>educator</td>\n",
       "      <td>97301</td>\n",
       "    </tr>\n",
       "    <tr>\n",
       "      <th>16</th>\n",
       "      <td>16</td>\n",
       "      <td>21</td>\n",
       "      <td>M</td>\n",
       "      <td>entertainment</td>\n",
       "      <td>10309</td>\n",
       "    </tr>\n",
       "    <tr>\n",
       "      <th>17</th>\n",
       "      <td>17</td>\n",
       "      <td>30</td>\n",
       "      <td>M</td>\n",
       "      <td>programmer</td>\n",
       "      <td>06355</td>\n",
       "    </tr>\n",
       "    <tr>\n",
       "      <th>18</th>\n",
       "      <td>18</td>\n",
       "      <td>35</td>\n",
       "      <td>F</td>\n",
       "      <td>other</td>\n",
       "      <td>37212</td>\n",
       "    </tr>\n",
       "    <tr>\n",
       "      <th>19</th>\n",
       "      <td>19</td>\n",
       "      <td>40</td>\n",
       "      <td>M</td>\n",
       "      <td>librarian</td>\n",
       "      <td>02138</td>\n",
       "    </tr>\n",
       "    <tr>\n",
       "      <th>20</th>\n",
       "      <td>20</td>\n",
       "      <td>42</td>\n",
       "      <td>F</td>\n",
       "      <td>homemaker</td>\n",
       "      <td>95660</td>\n",
       "    </tr>\n",
       "    <tr>\n",
       "      <th>21</th>\n",
       "      <td>21</td>\n",
       "      <td>26</td>\n",
       "      <td>M</td>\n",
       "      <td>writer</td>\n",
       "      <td>30068</td>\n",
       "    </tr>\n",
       "    <tr>\n",
       "      <th>22</th>\n",
       "      <td>22</td>\n",
       "      <td>25</td>\n",
       "      <td>M</td>\n",
       "      <td>writer</td>\n",
       "      <td>40206</td>\n",
       "    </tr>\n",
       "    <tr>\n",
       "      <th>23</th>\n",
       "      <td>23</td>\n",
       "      <td>30</td>\n",
       "      <td>F</td>\n",
       "      <td>artist</td>\n",
       "      <td>48197</td>\n",
       "    </tr>\n",
       "    <tr>\n",
       "      <th>24</th>\n",
       "      <td>24</td>\n",
       "      <td>21</td>\n",
       "      <td>F</td>\n",
       "      <td>artist</td>\n",
       "      <td>94533</td>\n",
       "    </tr>\n",
       "  </tbody>\n",
       "</table>\n",
       "</div>"
      ],
      "text/plain": [
       "    user_id  age  gender     occupation  zip_code\n",
       "0   user_id  age  gender     occupation  zip_code\n",
       "1         1   24       M     technician     85711\n",
       "2         2   53       F          other     94043\n",
       "3         3   23       M         writer     32067\n",
       "4         4   24       M     technician     43537\n",
       "5         5   33       F          other     15213\n",
       "6         6   42       M      executive     98101\n",
       "7         7   57       M  administrator     91344\n",
       "8         8   36       M  administrator     05201\n",
       "9         9   29       M        student     01002\n",
       "10       10   53       M         lawyer     90703\n",
       "11       11   39       F          other     30329\n",
       "12       12   28       F          other     06405\n",
       "13       13   47       M       educator     29206\n",
       "14       14   45       M      scientist     55106\n",
       "15       15   49       F       educator     97301\n",
       "16       16   21       M  entertainment     10309\n",
       "17       17   30       M     programmer     06355\n",
       "18       18   35       F          other     37212\n",
       "19       19   40       M      librarian     02138\n",
       "20       20   42       F      homemaker     95660\n",
       "21       21   26       M         writer     30068\n",
       "22       22   25       M         writer     40206\n",
       "23       23   30       F         artist     48197\n",
       "24       24   21       F         artist     94533"
      ]
     },
     "execution_count": 5,
     "metadata": {},
     "output_type": "execute_result"
    }
   ],
   "source": [
    "users_df.head(25)"
   ]
  },
  {
   "cell_type": "markdown",
   "metadata": {},
   "source": [
    "### Step 5. See the last 10 entries\n"
   ]
  },
  {
   "cell_type": "code",
   "execution_count": 6,
   "metadata": {
    "collapsed": false,
    "jupyter": {
     "outputs_hidden": false
    },
    "scrolled": true
   },
   "outputs": [
    {
     "data": {
      "application/vnd.microsoft.datawrangler.viewer.v0+json": {
       "columns": [
        {
         "name": "index",
         "rawType": "int64",
         "type": "integer"
        },
        {
         "name": "user_id",
         "rawType": "object",
         "type": "string"
        },
        {
         "name": "age",
         "rawType": "object",
         "type": "string"
        },
        {
         "name": "gender",
         "rawType": "object",
         "type": "string"
        },
        {
         "name": "occupation",
         "rawType": "object",
         "type": "string"
        },
        {
         "name": "zip_code",
         "rawType": "object",
         "type": "string"
        }
       ],
       "ref": "d342807b-4537-4c50-960b-e697c5e4393e",
       "rows": [
        [
         "934",
         "934",
         "61",
         "M",
         "engineer",
         "22902"
        ],
        [
         "935",
         "935",
         "42",
         "M",
         "doctor",
         "66221"
        ],
        [
         "936",
         "936",
         "24",
         "M",
         "other",
         "32789"
        ],
        [
         "937",
         "937",
         "48",
         "M",
         "educator",
         "98072"
        ],
        [
         "938",
         "938",
         "38",
         "F",
         "technician",
         "55038"
        ],
        [
         "939",
         "939",
         "26",
         "F",
         "student",
         "33319"
        ],
        [
         "940",
         "940",
         "32",
         "M",
         "administrator",
         "02215"
        ],
        [
         "941",
         "941",
         "20",
         "M",
         "student",
         "97229"
        ],
        [
         "942",
         "942",
         "48",
         "F",
         "librarian",
         "78209"
        ],
        [
         "943",
         "943",
         "22",
         "M",
         "student",
         "77841"
        ]
       ],
       "shape": {
        "columns": 5,
        "rows": 10
       }
      },
      "text/html": [
       "<div>\n",
       "<style scoped>\n",
       "    .dataframe tbody tr th:only-of-type {\n",
       "        vertical-align: middle;\n",
       "    }\n",
       "\n",
       "    .dataframe tbody tr th {\n",
       "        vertical-align: top;\n",
       "    }\n",
       "\n",
       "    .dataframe thead th {\n",
       "        text-align: right;\n",
       "    }\n",
       "</style>\n",
       "<table border=\"1\" class=\"dataframe\">\n",
       "  <thead>\n",
       "    <tr style=\"text-align: right;\">\n",
       "      <th></th>\n",
       "      <th>user_id</th>\n",
       "      <th>age</th>\n",
       "      <th>gender</th>\n",
       "      <th>occupation</th>\n",
       "      <th>zip_code</th>\n",
       "    </tr>\n",
       "  </thead>\n",
       "  <tbody>\n",
       "    <tr>\n",
       "      <th>934</th>\n",
       "      <td>934</td>\n",
       "      <td>61</td>\n",
       "      <td>M</td>\n",
       "      <td>engineer</td>\n",
       "      <td>22902</td>\n",
       "    </tr>\n",
       "    <tr>\n",
       "      <th>935</th>\n",
       "      <td>935</td>\n",
       "      <td>42</td>\n",
       "      <td>M</td>\n",
       "      <td>doctor</td>\n",
       "      <td>66221</td>\n",
       "    </tr>\n",
       "    <tr>\n",
       "      <th>936</th>\n",
       "      <td>936</td>\n",
       "      <td>24</td>\n",
       "      <td>M</td>\n",
       "      <td>other</td>\n",
       "      <td>32789</td>\n",
       "    </tr>\n",
       "    <tr>\n",
       "      <th>937</th>\n",
       "      <td>937</td>\n",
       "      <td>48</td>\n",
       "      <td>M</td>\n",
       "      <td>educator</td>\n",
       "      <td>98072</td>\n",
       "    </tr>\n",
       "    <tr>\n",
       "      <th>938</th>\n",
       "      <td>938</td>\n",
       "      <td>38</td>\n",
       "      <td>F</td>\n",
       "      <td>technician</td>\n",
       "      <td>55038</td>\n",
       "    </tr>\n",
       "    <tr>\n",
       "      <th>939</th>\n",
       "      <td>939</td>\n",
       "      <td>26</td>\n",
       "      <td>F</td>\n",
       "      <td>student</td>\n",
       "      <td>33319</td>\n",
       "    </tr>\n",
       "    <tr>\n",
       "      <th>940</th>\n",
       "      <td>940</td>\n",
       "      <td>32</td>\n",
       "      <td>M</td>\n",
       "      <td>administrator</td>\n",
       "      <td>02215</td>\n",
       "    </tr>\n",
       "    <tr>\n",
       "      <th>941</th>\n",
       "      <td>941</td>\n",
       "      <td>20</td>\n",
       "      <td>M</td>\n",
       "      <td>student</td>\n",
       "      <td>97229</td>\n",
       "    </tr>\n",
       "    <tr>\n",
       "      <th>942</th>\n",
       "      <td>942</td>\n",
       "      <td>48</td>\n",
       "      <td>F</td>\n",
       "      <td>librarian</td>\n",
       "      <td>78209</td>\n",
       "    </tr>\n",
       "    <tr>\n",
       "      <th>943</th>\n",
       "      <td>943</td>\n",
       "      <td>22</td>\n",
       "      <td>M</td>\n",
       "      <td>student</td>\n",
       "      <td>77841</td>\n",
       "    </tr>\n",
       "  </tbody>\n",
       "</table>\n",
       "</div>"
      ],
      "text/plain": [
       "    user_id age gender     occupation zip_code\n",
       "934     934  61      M       engineer    22902\n",
       "935     935  42      M         doctor    66221\n",
       "936     936  24      M          other    32789\n",
       "937     937  48      M       educator    98072\n",
       "938     938  38      F     technician    55038\n",
       "939     939  26      F        student    33319\n",
       "940     940  32      M  administrator    02215\n",
       "941     941  20      M        student    97229\n",
       "942     942  48      F      librarian    78209\n",
       "943     943  22      M        student    77841"
      ]
     },
     "execution_count": 6,
     "metadata": {},
     "output_type": "execute_result"
    }
   ],
   "source": [
    "users_df.tail(10)"
   ]
  },
  {
   "cell_type": "markdown",
   "metadata": {},
   "source": [
    "### Step 6. What is the number of observations in the dataset?\n"
   ]
  },
  {
   "cell_type": "code",
   "execution_count": 7,
   "metadata": {
    "collapsed": false,
    "jupyter": {
     "outputs_hidden": false
    }
   },
   "outputs": [
    {
     "name": "stdout",
     "output_type": "stream",
     "text": [
      "Using 'count()': 944\n",
      "Using 'len': 944 \n",
      "Using 'shape': 944 \n"
     ]
    }
   ],
   "source": [
    "print(f\"Using 'count()': {users_df.count().iloc[0]}\")\n",
    "print(f\"Using 'len': {len(users_df)} \")\n",
    "print(f\"Using 'shape': {users_df.shape[0]} \")"
   ]
  },
  {
   "cell_type": "markdown",
   "metadata": {},
   "source": [
    "### Step 7. What is the number of columns in the dataset?\n"
   ]
  },
  {
   "cell_type": "code",
   "execution_count": 8,
   "metadata": {
    "collapsed": false,
    "jupyter": {
     "outputs_hidden": false
    }
   },
   "outputs": [
    {
     "data": {
      "text/plain": [
       "5"
      ]
     },
     "execution_count": 8,
     "metadata": {},
     "output_type": "execute_result"
    }
   ],
   "source": [
    "users_df.shape[1]"
   ]
  },
  {
   "cell_type": "markdown",
   "metadata": {},
   "source": [
    "### Step 8. Print the name of all the columns.\n"
   ]
  },
  {
   "cell_type": "code",
   "execution_count": 9,
   "metadata": {
    "collapsed": false,
    "jupyter": {
     "outputs_hidden": false
    }
   },
   "outputs": [
    {
     "data": {
      "application/vnd.microsoft.datawrangler.viewer.v0+json": {
       "columns": [
        {
         "name": "index",
         "rawType": "object",
         "type": "string"
        },
        {
         "name": "0",
         "rawType": "object",
         "type": "string"
        }
       ],
       "ref": "5224cefe-fa78-46fb-8d6e-62e1672b2895",
       "rows": [
        [
         "user_id",
         "user_id"
        ],
        [
         "age",
         "age"
        ],
        [
         "gender",
         "gender"
        ],
        [
         "occupation",
         "occupation"
        ],
        [
         "zip_code",
         "zip_code"
        ]
       ],
       "shape": {
        "columns": 1,
        "rows": 5
       }
      },
      "text/plain": [
       "user_id          user_id\n",
       "age                  age\n",
       "gender            gender\n",
       "occupation    occupation\n",
       "zip_code        zip_code\n",
       "Name: 0, dtype: object"
      ]
     },
     "execution_count": 9,
     "metadata": {},
     "output_type": "execute_result"
    }
   ],
   "source": [
    "users_df.iloc[0]"
   ]
  },
  {
   "cell_type": "markdown",
   "metadata": {},
   "source": [
    "### Step 10. What is the data type of each column?\n"
   ]
  },
  {
   "cell_type": "code",
   "execution_count": 10,
   "metadata": {
    "collapsed": false,
    "jupyter": {
     "outputs_hidden": false
    }
   },
   "outputs": [
    {
     "data": {
      "application/vnd.microsoft.datawrangler.viewer.v0+json": {
       "columns": [
        {
         "name": "index",
         "rawType": "object",
         "type": "string"
        },
        {
         "name": "0",
         "rawType": "object",
         "type": "unknown"
        }
       ],
       "ref": "1aac6c83-3151-46cf-ab74-3b1731b6c926",
       "rows": [
        [
         "user_id",
         "object"
        ],
        [
         "age",
         "object"
        ],
        [
         "gender",
         "object"
        ],
        [
         "occupation",
         "object"
        ],
        [
         "zip_code",
         "object"
        ]
       ],
       "shape": {
        "columns": 1,
        "rows": 5
       }
      },
      "text/plain": [
       "user_id       object\n",
       "age           object\n",
       "gender        object\n",
       "occupation    object\n",
       "zip_code      object\n",
       "dtype: object"
      ]
     },
     "execution_count": 10,
     "metadata": {},
     "output_type": "execute_result"
    }
   ],
   "source": [
    "users_df.dtypes"
   ]
  },
  {
   "cell_type": "markdown",
   "metadata": {},
   "source": [
    "### Step 11. Print only the occupation column\n"
   ]
  },
  {
   "cell_type": "code",
   "execution_count": 11,
   "metadata": {
    "collapsed": false,
    "jupyter": {
     "outputs_hidden": false
    }
   },
   "outputs": [
    {
     "data": {
      "application/vnd.microsoft.datawrangler.viewer.v0+json": {
       "columns": [
        {
         "name": "index",
         "rawType": "int64",
         "type": "integer"
        },
        {
         "name": "occupation",
         "rawType": "object",
         "type": "string"
        }
       ],
       "ref": "f7606ff9-4a14-430b-b2c3-33f38f208c9c",
       "rows": [
        [
         "0",
         "occupation"
        ],
        [
         "1",
         "technician"
        ],
        [
         "2",
         "other"
        ],
        [
         "3",
         "writer"
        ],
        [
         "4",
         "technician"
        ],
        [
         "5",
         "other"
        ],
        [
         "6",
         "executive"
        ],
        [
         "7",
         "administrator"
        ],
        [
         "8",
         "administrator"
        ],
        [
         "9",
         "student"
        ],
        [
         "10",
         "lawyer"
        ],
        [
         "11",
         "other"
        ],
        [
         "12",
         "other"
        ],
        [
         "13",
         "educator"
        ],
        [
         "14",
         "scientist"
        ],
        [
         "15",
         "educator"
        ],
        [
         "16",
         "entertainment"
        ],
        [
         "17",
         "programmer"
        ],
        [
         "18",
         "other"
        ],
        [
         "19",
         "librarian"
        ],
        [
         "20",
         "homemaker"
        ],
        [
         "21",
         "writer"
        ],
        [
         "22",
         "writer"
        ],
        [
         "23",
         "artist"
        ],
        [
         "24",
         "artist"
        ],
        [
         "25",
         "engineer"
        ],
        [
         "26",
         "engineer"
        ],
        [
         "27",
         "librarian"
        ],
        [
         "28",
         "writer"
        ],
        [
         "29",
         "programmer"
        ],
        [
         "30",
         "student"
        ],
        [
         "31",
         "artist"
        ],
        [
         "32",
         "student"
        ],
        [
         "33",
         "student"
        ],
        [
         "34",
         "administrator"
        ],
        [
         "35",
         "homemaker"
        ],
        [
         "36",
         "student"
        ],
        [
         "37",
         "student"
        ],
        [
         "38",
         "other"
        ],
        [
         "39",
         "entertainment"
        ],
        [
         "40",
         "scientist"
        ],
        [
         "41",
         "engineer"
        ],
        [
         "42",
         "administrator"
        ],
        [
         "43",
         "librarian"
        ],
        [
         "44",
         "technician"
        ],
        [
         "45",
         "programmer"
        ],
        [
         "46",
         "marketing"
        ],
        [
         "47",
         "marketing"
        ],
        [
         "48",
         "administrator"
        ],
        [
         "49",
         "student"
        ]
       ],
       "shape": {
        "columns": 1,
        "rows": 944
       }
      },
      "text/plain": [
       "0         occupation\n",
       "1         technician\n",
       "2              other\n",
       "3             writer\n",
       "4         technician\n",
       "           ...      \n",
       "939          student\n",
       "940    administrator\n",
       "941          student\n",
       "942        librarian\n",
       "943          student\n",
       "Name: occupation, Length: 944, dtype: object"
      ]
     },
     "execution_count": 11,
     "metadata": {},
     "output_type": "execute_result"
    }
   ],
   "source": [
    "users_df[\"occupation\"]"
   ]
  },
  {
   "cell_type": "markdown",
   "metadata": {},
   "source": [
    "### Step 12. How many different occupations are in this dataset?\n"
   ]
  },
  {
   "cell_type": "code",
   "execution_count": 12,
   "metadata": {
    "collapsed": false,
    "jupyter": {
     "outputs_hidden": false
    }
   },
   "outputs": [
    {
     "name": "stdout",
     "output_type": "stream",
     "text": [
      "Uniqe values of occupation: ['occupation' 'technician' 'other' 'writer' 'executive' 'administrator'\n",
      " 'student' 'lawyer' 'educator' 'scientist' 'entertainment' 'programmer'\n",
      " 'librarian' 'homemaker' 'artist' 'engineer' 'marketing' 'none'\n",
      " 'healthcare' 'retired' 'salesman' 'doctor']\n",
      "Their number: 22\n"
     ]
    }
   ],
   "source": [
    "occ = users_df[\"occupation\"].unique()\n",
    "\n",
    "print (f\"Uniqe values of occupation: {occ}\")\n",
    "print (f\"Their number: {len(occ)}\")"
   ]
  },
  {
   "cell_type": "markdown",
   "metadata": {},
   "source": [
    "### Step 13. What is the most frequent occupation?\n"
   ]
  },
  {
   "cell_type": "code",
   "execution_count": 13,
   "metadata": {},
   "outputs": [
    {
     "data": {
      "application/vnd.microsoft.datawrangler.viewer.v0+json": {
       "columns": [
        {
         "name": "occupation",
         "rawType": "object",
         "type": "string"
        },
        {
         "name": "count",
         "rawType": "int64",
         "type": "integer"
        }
       ],
       "ref": "36c1267e-b74b-4e19-ab5d-85819605ade6",
       "rows": [
        [
         "student",
         "196"
        ],
        [
         "other",
         "105"
        ],
        [
         "educator",
         "95"
        ],
        [
         "administrator",
         "79"
        ],
        [
         "engineer",
         "67"
        ],
        [
         "programmer",
         "66"
        ],
        [
         "librarian",
         "51"
        ],
        [
         "writer",
         "45"
        ],
        [
         "executive",
         "32"
        ],
        [
         "scientist",
         "31"
        ],
        [
         "artist",
         "28"
        ],
        [
         "technician",
         "27"
        ],
        [
         "marketing",
         "26"
        ],
        [
         "entertainment",
         "18"
        ],
        [
         "healthcare",
         "16"
        ],
        [
         "retired",
         "14"
        ],
        [
         "salesman",
         "12"
        ],
        [
         "lawyer",
         "12"
        ],
        [
         "none",
         "9"
        ],
        [
         "homemaker",
         "7"
        ],
        [
         "doctor",
         "7"
        ],
        [
         "occupation",
         "1"
        ]
       ],
       "shape": {
        "columns": 1,
        "rows": 22
       }
      },
      "text/plain": [
       "occupation\n",
       "student          196\n",
       "other            105\n",
       "educator          95\n",
       "administrator     79\n",
       "engineer          67\n",
       "programmer        66\n",
       "librarian         51\n",
       "writer            45\n",
       "executive         32\n",
       "scientist         31\n",
       "artist            28\n",
       "technician        27\n",
       "marketing         26\n",
       "entertainment     18\n",
       "healthcare        16\n",
       "retired           14\n",
       "salesman          12\n",
       "lawyer            12\n",
       "none               9\n",
       "homemaker          7\n",
       "doctor             7\n",
       "occupation         1\n",
       "Name: count, dtype: int64"
      ]
     },
     "execution_count": 13,
     "metadata": {},
     "output_type": "execute_result"
    }
   ],
   "source": [
    "users_df[\"occupation\"].value_counts()"
   ]
  },
  {
   "cell_type": "code",
   "execution_count": 14,
   "metadata": {
    "collapsed": false,
    "jupyter": {
     "outputs_hidden": false
    }
   },
   "outputs": [
    {
     "data": {
      "text/plain": [
       "'student'"
      ]
     },
     "execution_count": 14,
     "metadata": {},
     "output_type": "execute_result"
    }
   ],
   "source": [
    "users_df[\"occupation\"].value_counts().idxmax()"
   ]
  },
  {
   "cell_type": "markdown",
   "metadata": {},
   "source": [
    "### Step 14. Summarize the DataFrame.\n"
   ]
  },
  {
   "cell_type": "code",
   "execution_count": 15,
   "metadata": {
    "collapsed": false,
    "jupyter": {
     "outputs_hidden": false
    }
   },
   "outputs": [
    {
     "data": {
      "application/vnd.microsoft.datawrangler.viewer.v0+json": {
       "columns": [
        {
         "name": "index",
         "rawType": "object",
         "type": "string"
        },
        {
         "name": "user_id",
         "rawType": "object",
         "type": "unknown"
        },
        {
         "name": "age",
         "rawType": "object",
         "type": "unknown"
        },
        {
         "name": "gender",
         "rawType": "object",
         "type": "unknown"
        },
        {
         "name": "occupation",
         "rawType": "object",
         "type": "unknown"
        },
        {
         "name": "zip_code",
         "rawType": "object",
         "type": "unknown"
        }
       ],
       "ref": "a5911a93-d3b1-4c2e-b840-6eb9a3d5b374",
       "rows": [
        [
         "count",
         "944",
         "944",
         "944",
         "944",
         "944"
        ],
        [
         "unique",
         "944",
         "62",
         "3",
         "22",
         "796"
        ],
        [
         "top",
         "943",
         "30",
         "M",
         "student",
         "55414"
        ],
        [
         "freq",
         "1",
         "39",
         "670",
         "196",
         "9"
        ]
       ],
       "shape": {
        "columns": 5,
        "rows": 4
       }
      },
      "text/html": [
       "<div>\n",
       "<style scoped>\n",
       "    .dataframe tbody tr th:only-of-type {\n",
       "        vertical-align: middle;\n",
       "    }\n",
       "\n",
       "    .dataframe tbody tr th {\n",
       "        vertical-align: top;\n",
       "    }\n",
       "\n",
       "    .dataframe thead th {\n",
       "        text-align: right;\n",
       "    }\n",
       "</style>\n",
       "<table border=\"1\" class=\"dataframe\">\n",
       "  <thead>\n",
       "    <tr style=\"text-align: right;\">\n",
       "      <th></th>\n",
       "      <th>user_id</th>\n",
       "      <th>age</th>\n",
       "      <th>gender</th>\n",
       "      <th>occupation</th>\n",
       "      <th>zip_code</th>\n",
       "    </tr>\n",
       "  </thead>\n",
       "  <tbody>\n",
       "    <tr>\n",
       "      <th>count</th>\n",
       "      <td>944</td>\n",
       "      <td>944</td>\n",
       "      <td>944</td>\n",
       "      <td>944</td>\n",
       "      <td>944</td>\n",
       "    </tr>\n",
       "    <tr>\n",
       "      <th>unique</th>\n",
       "      <td>944</td>\n",
       "      <td>62</td>\n",
       "      <td>3</td>\n",
       "      <td>22</td>\n",
       "      <td>796</td>\n",
       "    </tr>\n",
       "    <tr>\n",
       "      <th>top</th>\n",
       "      <td>943</td>\n",
       "      <td>30</td>\n",
       "      <td>M</td>\n",
       "      <td>student</td>\n",
       "      <td>55414</td>\n",
       "    </tr>\n",
       "    <tr>\n",
       "      <th>freq</th>\n",
       "      <td>1</td>\n",
       "      <td>39</td>\n",
       "      <td>670</td>\n",
       "      <td>196</td>\n",
       "      <td>9</td>\n",
       "    </tr>\n",
       "  </tbody>\n",
       "</table>\n",
       "</div>"
      ],
      "text/plain": [
       "       user_id  age gender occupation zip_code\n",
       "count      944  944    944        944      944\n",
       "unique     944   62      3         22      796\n",
       "top        943   30      M    student    55414\n",
       "freq         1   39    670        196        9"
      ]
     },
     "execution_count": 15,
     "metadata": {},
     "output_type": "execute_result"
    }
   ],
   "source": [
    "users_df.describe()"
   ]
  },
  {
   "cell_type": "markdown",
   "metadata": {},
   "source": [
    "## **Group by Operations**\n"
   ]
  },
  {
   "cell_type": "markdown",
   "metadata": {},
   "source": [
    "### Count the number of users in each occupation.\n"
   ]
  },
  {
   "cell_type": "code",
   "execution_count": 16,
   "metadata": {},
   "outputs": [
    {
     "data": {
      "application/vnd.microsoft.datawrangler.viewer.v0+json": {
       "columns": [
        {
         "name": "occupation",
         "rawType": "object",
         "type": "string"
        },
        {
         "name": "count",
         "rawType": "int64",
         "type": "integer"
        }
       ],
       "ref": "901124f7-61ee-4d18-a95c-10853d96800c",
       "rows": [
        [
         "student",
         "196"
        ],
        [
         "other",
         "105"
        ],
        [
         "educator",
         "95"
        ],
        [
         "administrator",
         "79"
        ],
        [
         "engineer",
         "67"
        ],
        [
         "programmer",
         "66"
        ],
        [
         "librarian",
         "51"
        ],
        [
         "writer",
         "45"
        ],
        [
         "executive",
         "32"
        ],
        [
         "scientist",
         "31"
        ],
        [
         "artist",
         "28"
        ],
        [
         "technician",
         "27"
        ],
        [
         "marketing",
         "26"
        ],
        [
         "entertainment",
         "18"
        ],
        [
         "healthcare",
         "16"
        ],
        [
         "retired",
         "14"
        ],
        [
         "salesman",
         "12"
        ],
        [
         "lawyer",
         "12"
        ],
        [
         "none",
         "9"
        ],
        [
         "homemaker",
         "7"
        ],
        [
         "doctor",
         "7"
        ],
        [
         "occupation",
         "1"
        ]
       ],
       "shape": {
        "columns": 1,
        "rows": 22
       }
      },
      "text/plain": [
       "occupation\n",
       "student          196\n",
       "other            105\n",
       "educator          95\n",
       "administrator     79\n",
       "engineer          67\n",
       "programmer        66\n",
       "librarian         51\n",
       "writer            45\n",
       "executive         32\n",
       "scientist         31\n",
       "artist            28\n",
       "technician        27\n",
       "marketing         26\n",
       "entertainment     18\n",
       "healthcare        16\n",
       "retired           14\n",
       "salesman          12\n",
       "lawyer            12\n",
       "none               9\n",
       "homemaker          7\n",
       "doctor             7\n",
       "occupation         1\n",
       "Name: count, dtype: int64"
      ]
     },
     "execution_count": 16,
     "metadata": {},
     "output_type": "execute_result"
    }
   ],
   "source": [
    "users_df[\"occupation\"].value_counts()"
   ]
  },
  {
   "cell_type": "markdown",
   "metadata": {},
   "source": [
    "### Calculate the average age of users by gender.\n"
   ]
  },
  {
   "cell_type": "code",
   "execution_count": 17,
   "metadata": {},
   "outputs": [
    {
     "data": {
      "text/plain": [
       "dtype('O')"
      ]
     },
     "execution_count": 17,
     "metadata": {},
     "output_type": "execute_result"
    }
   ],
   "source": [
    "users_df[\"age\"].dtype"
   ]
  },
  {
   "cell_type": "code",
   "execution_count": 18,
   "metadata": {},
   "outputs": [
    {
     "data": {
      "application/vnd.microsoft.datawrangler.viewer.v0+json": {
       "columns": [
        {
         "name": "gender",
         "rawType": "object",
         "type": "string"
        },
        {
         "name": "age",
         "rawType": "float64",
         "type": "float"
        }
       ],
       "ref": "a86dbaf3-8c96-44df-a8a3-de9d95b287cf",
       "rows": [
        [
         "F",
         "33.81318681318681"
        ],
        [
         "M",
         "34.149253731343286"
        ],
        [
         "gender",
         null
        ]
       ],
       "shape": {
        "columns": 1,
        "rows": 3
       }
      },
      "text/plain": [
       "gender\n",
       "F         33.813187\n",
       "M         34.149254\n",
       "gender          NaN\n",
       "Name: age, dtype: float64"
      ]
     },
     "execution_count": 18,
     "metadata": {},
     "output_type": "execute_result"
    }
   ],
   "source": [
    "# convert to numeric first\n",
    "users_df[\"age\"] = pd.to_numeric(users_df[\"age\"], errors=\"coerce\") # from documentation: If 'coerce', then invalid parsing will be set as NaN.\n",
    "\n",
    "users_df.groupby(\"gender\")[\"age\"].mean()"
   ]
  },
  {
   "cell_type": "markdown",
   "metadata": {},
   "source": [
    "### Find the minimum, maximum, and average age for each occupation.\n"
   ]
  },
  {
   "cell_type": "code",
   "execution_count": 19,
   "metadata": {},
   "outputs": [
    {
     "data": {
      "application/vnd.microsoft.datawrangler.viewer.v0+json": {
       "columns": [
        {
         "name": "occupation",
         "rawType": "object",
         "type": "string"
        },
        {
         "name": "age",
         "rawType": "float64",
         "type": "float"
        }
       ],
       "ref": "f5dbcea8-512f-4887-abad-2a0bd49e4cc0",
       "rows": [
        [
         "administrator",
         "21.0"
        ],
        [
         "artist",
         "19.0"
        ],
        [
         "doctor",
         "28.0"
        ],
        [
         "educator",
         "23.0"
        ],
        [
         "engineer",
         "22.0"
        ],
        [
         "entertainment",
         "15.0"
        ],
        [
         "executive",
         "22.0"
        ],
        [
         "healthcare",
         "22.0"
        ],
        [
         "homemaker",
         "20.0"
        ],
        [
         "lawyer",
         "21.0"
        ],
        [
         "librarian",
         "23.0"
        ],
        [
         "marketing",
         "24.0"
        ],
        [
         "none",
         "11.0"
        ],
        [
         "occupation",
         null
        ],
        [
         "other",
         "13.0"
        ],
        [
         "programmer",
         "20.0"
        ],
        [
         "retired",
         "51.0"
        ],
        [
         "salesman",
         "18.0"
        ],
        [
         "scientist",
         "23.0"
        ],
        [
         "student",
         "7.0"
        ],
        [
         "technician",
         "21.0"
        ],
        [
         "writer",
         "18.0"
        ]
       ],
       "shape": {
        "columns": 1,
        "rows": 22
       }
      },
      "text/plain": [
       "occupation\n",
       "administrator    21.0\n",
       "artist           19.0\n",
       "doctor           28.0\n",
       "educator         23.0\n",
       "engineer         22.0\n",
       "entertainment    15.0\n",
       "executive        22.0\n",
       "healthcare       22.0\n",
       "homemaker        20.0\n",
       "lawyer           21.0\n",
       "librarian        23.0\n",
       "marketing        24.0\n",
       "none             11.0\n",
       "occupation        NaN\n",
       "other            13.0\n",
       "programmer       20.0\n",
       "retired          51.0\n",
       "salesman         18.0\n",
       "scientist        23.0\n",
       "student           7.0\n",
       "technician       21.0\n",
       "writer           18.0\n",
       "Name: age, dtype: float64"
      ]
     },
     "execution_count": 19,
     "metadata": {},
     "output_type": "execute_result"
    }
   ],
   "source": [
    "users_df.groupby(\"occupation\")[\"age\"].min()"
   ]
  },
  {
   "cell_type": "code",
   "execution_count": 20,
   "metadata": {},
   "outputs": [
    {
     "data": {
      "application/vnd.microsoft.datawrangler.viewer.v0+json": {
       "columns": [
        {
         "name": "occupation",
         "rawType": "object",
         "type": "string"
        },
        {
         "name": "age",
         "rawType": "float64",
         "type": "float"
        }
       ],
       "ref": "6e426fb5-c3b4-46f0-9c9e-ec7cc8ccdd02",
       "rows": [
        [
         "administrator",
         "70.0"
        ],
        [
         "artist",
         "48.0"
        ],
        [
         "doctor",
         "64.0"
        ],
        [
         "educator",
         "63.0"
        ],
        [
         "engineer",
         "70.0"
        ],
        [
         "entertainment",
         "50.0"
        ],
        [
         "executive",
         "69.0"
        ],
        [
         "healthcare",
         "62.0"
        ],
        [
         "homemaker",
         "50.0"
        ],
        [
         "lawyer",
         "53.0"
        ],
        [
         "librarian",
         "69.0"
        ],
        [
         "marketing",
         "55.0"
        ],
        [
         "none",
         "55.0"
        ],
        [
         "occupation",
         null
        ],
        [
         "other",
         "64.0"
        ],
        [
         "programmer",
         "63.0"
        ],
        [
         "retired",
         "73.0"
        ],
        [
         "salesman",
         "66.0"
        ],
        [
         "scientist",
         "55.0"
        ],
        [
         "student",
         "42.0"
        ],
        [
         "technician",
         "55.0"
        ],
        [
         "writer",
         "60.0"
        ]
       ],
       "shape": {
        "columns": 1,
        "rows": 22
       }
      },
      "text/plain": [
       "occupation\n",
       "administrator    70.0\n",
       "artist           48.0\n",
       "doctor           64.0\n",
       "educator         63.0\n",
       "engineer         70.0\n",
       "entertainment    50.0\n",
       "executive        69.0\n",
       "healthcare       62.0\n",
       "homemaker        50.0\n",
       "lawyer           53.0\n",
       "librarian        69.0\n",
       "marketing        55.0\n",
       "none             55.0\n",
       "occupation        NaN\n",
       "other            64.0\n",
       "programmer       63.0\n",
       "retired          73.0\n",
       "salesman         66.0\n",
       "scientist        55.0\n",
       "student          42.0\n",
       "technician       55.0\n",
       "writer           60.0\n",
       "Name: age, dtype: float64"
      ]
     },
     "execution_count": 20,
     "metadata": {},
     "output_type": "execute_result"
    }
   ],
   "source": [
    "users_df.groupby(\"occupation\")[\"age\"].max()"
   ]
  },
  {
   "cell_type": "code",
   "execution_count": 21,
   "metadata": {},
   "outputs": [
    {
     "data": {
      "application/vnd.microsoft.datawrangler.viewer.v0+json": {
       "columns": [
        {
         "name": "occupation",
         "rawType": "object",
         "type": "string"
        },
        {
         "name": "age",
         "rawType": "float64",
         "type": "float"
        }
       ],
       "ref": "a4ed3a77-d386-446b-9862-958e8cdb0975",
       "rows": [
        [
         "administrator",
         "38.74683544303797"
        ],
        [
         "artist",
         "31.392857142857142"
        ],
        [
         "doctor",
         "43.57142857142857"
        ],
        [
         "educator",
         "42.01052631578948"
        ],
        [
         "engineer",
         "36.38805970149254"
        ],
        [
         "entertainment",
         "29.22222222222222"
        ],
        [
         "executive",
         "38.71875"
        ],
        [
         "healthcare",
         "41.5625"
        ],
        [
         "homemaker",
         "32.57142857142857"
        ],
        [
         "lawyer",
         "36.75"
        ],
        [
         "librarian",
         "40.0"
        ],
        [
         "marketing",
         "37.61538461538461"
        ],
        [
         "none",
         "26.555555555555557"
        ],
        [
         "occupation",
         null
        ],
        [
         "other",
         "34.523809523809526"
        ],
        [
         "programmer",
         "33.121212121212125"
        ],
        [
         "retired",
         "63.07142857142857"
        ],
        [
         "salesman",
         "35.666666666666664"
        ],
        [
         "scientist",
         "35.54838709677419"
        ],
        [
         "student",
         "22.081632653061224"
        ],
        [
         "technician",
         "33.148148148148145"
        ],
        [
         "writer",
         "36.31111111111111"
        ]
       ],
       "shape": {
        "columns": 1,
        "rows": 22
       }
      },
      "text/plain": [
       "occupation\n",
       "administrator    38.746835\n",
       "artist           31.392857\n",
       "doctor           43.571429\n",
       "educator         42.010526\n",
       "engineer         36.388060\n",
       "entertainment    29.222222\n",
       "executive        38.718750\n",
       "healthcare       41.562500\n",
       "homemaker        32.571429\n",
       "lawyer           36.750000\n",
       "librarian        40.000000\n",
       "marketing        37.615385\n",
       "none             26.555556\n",
       "occupation             NaN\n",
       "other            34.523810\n",
       "programmer       33.121212\n",
       "retired          63.071429\n",
       "salesman         35.666667\n",
       "scientist        35.548387\n",
       "student          22.081633\n",
       "technician       33.148148\n",
       "writer           36.311111\n",
       "Name: age, dtype: float64"
      ]
     },
     "execution_count": 21,
     "metadata": {},
     "output_type": "execute_result"
    }
   ],
   "source": [
    "users_df.groupby(\"occupation\")[\"age\"].mean()"
   ]
  },
  {
   "cell_type": "markdown",
   "metadata": {},
   "source": [
    "## **Filtering**\n"
   ]
  },
  {
   "cell_type": "markdown",
   "metadata": {},
   "source": [
    "### Filter the dataset to show only female users.\n"
   ]
  },
  {
   "cell_type": "code",
   "execution_count": 22,
   "metadata": {},
   "outputs": [
    {
     "data": {
      "text/plain": [
       "array(['gender', 'M', 'F'], dtype=object)"
      ]
     },
     "execution_count": 22,
     "metadata": {},
     "output_type": "execute_result"
    }
   ],
   "source": [
    "users_df[\"gender\"].unique()"
   ]
  },
  {
   "cell_type": "code",
   "execution_count": 23,
   "metadata": {},
   "outputs": [
    {
     "data": {
      "application/vnd.microsoft.datawrangler.viewer.v0+json": {
       "columns": [
        {
         "name": "index",
         "rawType": "int64",
         "type": "integer"
        },
        {
         "name": "user_id",
         "rawType": "object",
         "type": "string"
        },
        {
         "name": "age",
         "rawType": "float64",
         "type": "float"
        },
        {
         "name": "gender",
         "rawType": "object",
         "type": "string"
        },
        {
         "name": "occupation",
         "rawType": "object",
         "type": "string"
        },
        {
         "name": "zip_code",
         "rawType": "object",
         "type": "string"
        }
       ],
       "ref": "6040d530-2367-4d4d-adb4-65e088c1eb28",
       "rows": [
        [
         "2",
         "2",
         "53.0",
         "F",
         "other",
         "94043"
        ],
        [
         "5",
         "5",
         "33.0",
         "F",
         "other",
         "15213"
        ],
        [
         "11",
         "11",
         "39.0",
         "F",
         "other",
         "30329"
        ],
        [
         "12",
         "12",
         "28.0",
         "F",
         "other",
         "06405"
        ],
        [
         "15",
         "15",
         "49.0",
         "F",
         "educator",
         "97301"
        ],
        [
         "18",
         "18",
         "35.0",
         "F",
         "other",
         "37212"
        ],
        [
         "20",
         "20",
         "42.0",
         "F",
         "homemaker",
         "95660"
        ],
        [
         "23",
         "23",
         "30.0",
         "F",
         "artist",
         "48197"
        ],
        [
         "24",
         "24",
         "21.0",
         "F",
         "artist",
         "94533"
        ],
        [
         "27",
         "27",
         "40.0",
         "F",
         "librarian",
         "30030"
        ],
        [
         "32",
         "32",
         "28.0",
         "F",
         "student",
         "78741"
        ],
        [
         "34",
         "34",
         "38.0",
         "F",
         "administrator",
         "42141"
        ],
        [
         "35",
         "35",
         "20.0",
         "F",
         "homemaker",
         "42459"
        ],
        [
         "36",
         "36",
         "19.0",
         "F",
         "student",
         "93117"
        ],
        [
         "38",
         "38",
         "28.0",
         "F",
         "other",
         "54467"
        ],
        [
         "43",
         "43",
         "29.0",
         "F",
         "librarian",
         "20854"
        ],
        [
         "46",
         "46",
         "27.0",
         "F",
         "marketing",
         "46538"
        ],
        [
         "49",
         "49",
         "23.0",
         "F",
         "student",
         "76111"
        ],
        [
         "52",
         "52",
         "18.0",
         "F",
         "student",
         "55105"
        ],
        [
         "62",
         "62",
         "27.0",
         "F",
         "administrator",
         "97214"
        ],
        [
         "65",
         "65",
         "51.0",
         "F",
         "educator",
         "48118"
        ],
        [
         "72",
         "72",
         "48.0",
         "F",
         "administrator",
         "73034"
        ],
        [
         "79",
         "79",
         "39.0",
         "F",
         "administrator",
         "03755"
        ],
        [
         "80",
         "80",
         "34.0",
         "F",
         "administrator",
         "52241"
        ],
        [
         "88",
         "88",
         "49.0",
         "F",
         "librarian",
         "11701"
        ],
        [
         "89",
         "89",
         "43.0",
         "F",
         "administrator",
         "68106"
        ],
        [
         "96",
         "96",
         "25.0",
         "F",
         "artist",
         "75206"
        ],
        [
         "98",
         "98",
         "49.0",
         "F",
         "executive",
         "90291"
        ],
        [
         "120",
         "120",
         "47.0",
         "F",
         "other",
         "06260"
        ],
        [
         "122",
         "122",
         "32.0",
         "F",
         "writer",
         "22206"
        ],
        [
         "123",
         "123",
         "48.0",
         "F",
         "artist",
         "20008"
        ],
        [
         "126",
         "126",
         "28.0",
         "F",
         "lawyer",
         "20015"
        ],
        [
         "128",
         "128",
         "24.0",
         "F",
         "marketing",
         "20009"
        ],
        [
         "129",
         "129",
         "36.0",
         "F",
         "marketing",
         "07039"
        ],
        [
         "131",
         "131",
         "59.0",
         "F",
         "administrator",
         "15237"
        ],
        [
         "140",
         "140",
         "30.0",
         "F",
         "student",
         "32250"
        ],
        [
         "147",
         "147",
         "40.0",
         "F",
         "librarian",
         "02143"
        ],
        [
         "149",
         "149",
         "35.0",
         "F",
         "marketing",
         "17325"
        ],
        [
         "150",
         "150",
         "20.0",
         "F",
         "artist",
         "02139"
        ],
        [
         "151",
         "151",
         "38.0",
         "F",
         "administrator",
         "48103"
        ],
        [
         "152",
         "152",
         "33.0",
         "F",
         "educator",
         "68767"
        ],
        [
         "155",
         "155",
         "32.0",
         "F",
         "other",
         "11217"
        ],
        [
         "159",
         "159",
         "23.0",
         "F",
         "student",
         "55346"
        ],
        [
         "165",
         "165",
         "20.0",
         "F",
         "other",
         "53715"
        ],
        [
         "169",
         "169",
         "52.0",
         "F",
         "other",
         "53705"
        ],
        [
         "170",
         "170",
         "53.0",
         "F",
         "healthcare",
         "30067"
        ],
        [
         "171",
         "171",
         "48.0",
         "F",
         "educator",
         "78750"
        ],
        [
         "174",
         "174",
         "30.0",
         "F",
         "administrator",
         "52302"
        ],
        [
         "175",
         "175",
         "26.0",
         "F",
         "scientist",
         "21911"
        ],
        [
         "180",
         "180",
         "22.0",
         "F",
         "administrator",
         "60202"
        ]
       ],
       "shape": {
        "columns": 5,
        "rows": 273
       }
      },
      "text/html": [
       "<div>\n",
       "<style scoped>\n",
       "    .dataframe tbody tr th:only-of-type {\n",
       "        vertical-align: middle;\n",
       "    }\n",
       "\n",
       "    .dataframe tbody tr th {\n",
       "        vertical-align: top;\n",
       "    }\n",
       "\n",
       "    .dataframe thead th {\n",
       "        text-align: right;\n",
       "    }\n",
       "</style>\n",
       "<table border=\"1\" class=\"dataframe\">\n",
       "  <thead>\n",
       "    <tr style=\"text-align: right;\">\n",
       "      <th></th>\n",
       "      <th>user_id</th>\n",
       "      <th>age</th>\n",
       "      <th>gender</th>\n",
       "      <th>occupation</th>\n",
       "      <th>zip_code</th>\n",
       "    </tr>\n",
       "  </thead>\n",
       "  <tbody>\n",
       "    <tr>\n",
       "      <th>2</th>\n",
       "      <td>2</td>\n",
       "      <td>53.0</td>\n",
       "      <td>F</td>\n",
       "      <td>other</td>\n",
       "      <td>94043</td>\n",
       "    </tr>\n",
       "    <tr>\n",
       "      <th>5</th>\n",
       "      <td>5</td>\n",
       "      <td>33.0</td>\n",
       "      <td>F</td>\n",
       "      <td>other</td>\n",
       "      <td>15213</td>\n",
       "    </tr>\n",
       "    <tr>\n",
       "      <th>11</th>\n",
       "      <td>11</td>\n",
       "      <td>39.0</td>\n",
       "      <td>F</td>\n",
       "      <td>other</td>\n",
       "      <td>30329</td>\n",
       "    </tr>\n",
       "    <tr>\n",
       "      <th>12</th>\n",
       "      <td>12</td>\n",
       "      <td>28.0</td>\n",
       "      <td>F</td>\n",
       "      <td>other</td>\n",
       "      <td>06405</td>\n",
       "    </tr>\n",
       "    <tr>\n",
       "      <th>15</th>\n",
       "      <td>15</td>\n",
       "      <td>49.0</td>\n",
       "      <td>F</td>\n",
       "      <td>educator</td>\n",
       "      <td>97301</td>\n",
       "    </tr>\n",
       "    <tr>\n",
       "      <th>...</th>\n",
       "      <td>...</td>\n",
       "      <td>...</td>\n",
       "      <td>...</td>\n",
       "      <td>...</td>\n",
       "      <td>...</td>\n",
       "    </tr>\n",
       "    <tr>\n",
       "      <th>925</th>\n",
       "      <td>925</td>\n",
       "      <td>18.0</td>\n",
       "      <td>F</td>\n",
       "      <td>salesman</td>\n",
       "      <td>49036</td>\n",
       "    </tr>\n",
       "    <tr>\n",
       "      <th>930</th>\n",
       "      <td>930</td>\n",
       "      <td>28.0</td>\n",
       "      <td>F</td>\n",
       "      <td>scientist</td>\n",
       "      <td>07310</td>\n",
       "    </tr>\n",
       "    <tr>\n",
       "      <th>938</th>\n",
       "      <td>938</td>\n",
       "      <td>38.0</td>\n",
       "      <td>F</td>\n",
       "      <td>technician</td>\n",
       "      <td>55038</td>\n",
       "    </tr>\n",
       "    <tr>\n",
       "      <th>939</th>\n",
       "      <td>939</td>\n",
       "      <td>26.0</td>\n",
       "      <td>F</td>\n",
       "      <td>student</td>\n",
       "      <td>33319</td>\n",
       "    </tr>\n",
       "    <tr>\n",
       "      <th>942</th>\n",
       "      <td>942</td>\n",
       "      <td>48.0</td>\n",
       "      <td>F</td>\n",
       "      <td>librarian</td>\n",
       "      <td>78209</td>\n",
       "    </tr>\n",
       "  </tbody>\n",
       "</table>\n",
       "<p>273 rows × 5 columns</p>\n",
       "</div>"
      ],
      "text/plain": [
       "    user_id   age gender  occupation zip_code\n",
       "2         2  53.0      F       other    94043\n",
       "5         5  33.0      F       other    15213\n",
       "11       11  39.0      F       other    30329\n",
       "12       12  28.0      F       other    06405\n",
       "15       15  49.0      F    educator    97301\n",
       "..      ...   ...    ...         ...      ...\n",
       "925     925  18.0      F    salesman    49036\n",
       "930     930  28.0      F   scientist    07310\n",
       "938     938  38.0      F  technician    55038\n",
       "939     939  26.0      F     student    33319\n",
       "942     942  48.0      F   librarian    78209\n",
       "\n",
       "[273 rows x 5 columns]"
      ]
     },
     "execution_count": 23,
     "metadata": {},
     "output_type": "execute_result"
    }
   ],
   "source": [
    "users_df[users_df[\"gender\"] == \"F\" ]"
   ]
  },
  {
   "cell_type": "markdown",
   "metadata": {},
   "source": [
    "### Filter the dataset to show users who are either students or educators.\n"
   ]
  },
  {
   "cell_type": "code",
   "execution_count": 24,
   "metadata": {},
   "outputs": [
    {
     "data": {
      "application/vnd.microsoft.datawrangler.viewer.v0+json": {
       "columns": [
        {
         "name": "index",
         "rawType": "int64",
         "type": "integer"
        },
        {
         "name": "user_id",
         "rawType": "object",
         "type": "string"
        },
        {
         "name": "age",
         "rawType": "float64",
         "type": "float"
        },
        {
         "name": "gender",
         "rawType": "object",
         "type": "string"
        },
        {
         "name": "occupation",
         "rawType": "object",
         "type": "string"
        },
        {
         "name": "zip_code",
         "rawType": "object",
         "type": "string"
        }
       ],
       "ref": "4f2567ca-bf6c-432d-af79-4fd1189c075d",
       "rows": [
        [
         "9",
         "9",
         "29.0",
         "M",
         "student",
         "01002"
        ],
        [
         "13",
         "13",
         "47.0",
         "M",
         "educator",
         "29206"
        ],
        [
         "15",
         "15",
         "49.0",
         "F",
         "educator",
         "97301"
        ],
        [
         "30",
         "30",
         "7.0",
         "M",
         "student",
         "55436"
        ],
        [
         "32",
         "32",
         "28.0",
         "F",
         "student",
         "78741"
        ],
        [
         "33",
         "33",
         "23.0",
         "M",
         "student",
         "27510"
        ],
        [
         "36",
         "36",
         "19.0",
         "F",
         "student",
         "93117"
        ],
        [
         "37",
         "37",
         "23.0",
         "M",
         "student",
         "55105"
        ],
        [
         "49",
         "49",
         "23.0",
         "F",
         "student",
         "76111"
        ],
        [
         "51",
         "51",
         "28.0",
         "M",
         "educator",
         "16509"
        ],
        [
         "52",
         "52",
         "18.0",
         "F",
         "student",
         "55105"
        ],
        [
         "59",
         "59",
         "49.0",
         "M",
         "educator",
         "08403"
        ],
        [
         "64",
         "64",
         "32.0",
         "M",
         "educator",
         "43202"
        ],
        [
         "65",
         "65",
         "51.0",
         "F",
         "educator",
         "48118"
        ],
        [
         "66",
         "66",
         "23.0",
         "M",
         "student",
         "80521"
        ],
        [
         "67",
         "67",
         "17.0",
         "M",
         "student",
         "60402"
        ],
        [
         "68",
         "68",
         "19.0",
         "M",
         "student",
         "22904"
        ],
        [
         "73",
         "73",
         "24.0",
         "M",
         "student",
         "41850"
        ],
        [
         "76",
         "76",
         "20.0",
         "M",
         "student",
         "02215"
        ],
        [
         "81",
         "81",
         "21.0",
         "M",
         "student",
         "21218"
        ],
        [
         "85",
         "85",
         "51.0",
         "M",
         "educator",
         "20003"
        ],
        [
         "90",
         "90",
         "60.0",
         "M",
         "educator",
         "78155"
        ],
        [
         "94",
         "94",
         "26.0",
         "M",
         "student",
         "71457"
        ],
        [
         "99",
         "99",
         "20.0",
         "M",
         "student",
         "63129"
        ],
        [
         "101",
         "101",
         "15.0",
         "M",
         "student",
         "05146"
        ],
        [
         "103",
         "103",
         "26.0",
         "M",
         "student",
         "55108"
        ],
        [
         "104",
         "104",
         "27.0",
         "M",
         "student",
         "55108"
        ],
        [
         "108",
         "108",
         "44.0",
         "M",
         "educator",
         "63130"
        ],
        [
         "110",
         "110",
         "19.0",
         "M",
         "student",
         "77840"
        ],
        [
         "117",
         "117",
         "20.0",
         "M",
         "student",
         "16125"
        ],
        [
         "124",
         "124",
         "34.0",
         "M",
         "student",
         "60615"
        ],
        [
         "135",
         "135",
         "23.0",
         "M",
         "student",
         "38401"
        ],
        [
         "137",
         "137",
         "50.0",
         "M",
         "educator",
         "84408"
        ],
        [
         "139",
         "139",
         "20.0",
         "M",
         "student",
         "08904"
        ],
        [
         "140",
         "140",
         "30.0",
         "F",
         "student",
         "32250"
        ],
        [
         "152",
         "152",
         "33.0",
         "F",
         "educator",
         "68767"
        ],
        [
         "153",
         "153",
         "25.0",
         "M",
         "student",
         "60641"
        ],
        [
         "154",
         "154",
         "25.0",
         "M",
         "student",
         "53703"
        ],
        [
         "156",
         "156",
         "25.0",
         "M",
         "educator",
         "08360"
        ],
        [
         "158",
         "158",
         "50.0",
         "M",
         "educator",
         "27606"
        ],
        [
         "159",
         "159",
         "23.0",
         "F",
         "student",
         "55346"
        ],
        [
         "166",
         "166",
         "47.0",
         "M",
         "educator",
         "55113"
        ],
        [
         "171",
         "171",
         "48.0",
         "F",
         "educator",
         "78750"
        ],
        [
         "187",
         "187",
         "26.0",
         "M",
         "educator",
         "16801"
        ],
        [
         "188",
         "188",
         "42.0",
         "M",
         "student",
         "29440"
        ],
        [
         "192",
         "192",
         "42.0",
         "M",
         "educator",
         "90840"
        ],
        [
         "193",
         "193",
         "29.0",
         "M",
         "student",
         "49931"
        ],
        [
         "198",
         "198",
         "21.0",
         "F",
         "student",
         "55414"
        ],
        [
         "202",
         "202",
         "41.0",
         "F",
         "educator",
         "60201"
        ],
        [
         "203",
         "203",
         "25.0",
         "F",
         "student",
         "32301"
        ]
       ],
       "shape": {
        "columns": 5,
        "rows": 291
       }
      },
      "text/html": [
       "<div>\n",
       "<style scoped>\n",
       "    .dataframe tbody tr th:only-of-type {\n",
       "        vertical-align: middle;\n",
       "    }\n",
       "\n",
       "    .dataframe tbody tr th {\n",
       "        vertical-align: top;\n",
       "    }\n",
       "\n",
       "    .dataframe thead th {\n",
       "        text-align: right;\n",
       "    }\n",
       "</style>\n",
       "<table border=\"1\" class=\"dataframe\">\n",
       "  <thead>\n",
       "    <tr style=\"text-align: right;\">\n",
       "      <th></th>\n",
       "      <th>user_id</th>\n",
       "      <th>age</th>\n",
       "      <th>gender</th>\n",
       "      <th>occupation</th>\n",
       "      <th>zip_code</th>\n",
       "    </tr>\n",
       "  </thead>\n",
       "  <tbody>\n",
       "    <tr>\n",
       "      <th>9</th>\n",
       "      <td>9</td>\n",
       "      <td>29.0</td>\n",
       "      <td>M</td>\n",
       "      <td>student</td>\n",
       "      <td>01002</td>\n",
       "    </tr>\n",
       "    <tr>\n",
       "      <th>13</th>\n",
       "      <td>13</td>\n",
       "      <td>47.0</td>\n",
       "      <td>M</td>\n",
       "      <td>educator</td>\n",
       "      <td>29206</td>\n",
       "    </tr>\n",
       "    <tr>\n",
       "      <th>15</th>\n",
       "      <td>15</td>\n",
       "      <td>49.0</td>\n",
       "      <td>F</td>\n",
       "      <td>educator</td>\n",
       "      <td>97301</td>\n",
       "    </tr>\n",
       "    <tr>\n",
       "      <th>30</th>\n",
       "      <td>30</td>\n",
       "      <td>7.0</td>\n",
       "      <td>M</td>\n",
       "      <td>student</td>\n",
       "      <td>55436</td>\n",
       "    </tr>\n",
       "    <tr>\n",
       "      <th>32</th>\n",
       "      <td>32</td>\n",
       "      <td>28.0</td>\n",
       "      <td>F</td>\n",
       "      <td>student</td>\n",
       "      <td>78741</td>\n",
       "    </tr>\n",
       "    <tr>\n",
       "      <th>...</th>\n",
       "      <td>...</td>\n",
       "      <td>...</td>\n",
       "      <td>...</td>\n",
       "      <td>...</td>\n",
       "      <td>...</td>\n",
       "    </tr>\n",
       "    <tr>\n",
       "      <th>933</th>\n",
       "      <td>933</td>\n",
       "      <td>28.0</td>\n",
       "      <td>M</td>\n",
       "      <td>student</td>\n",
       "      <td>48105</td>\n",
       "    </tr>\n",
       "    <tr>\n",
       "      <th>937</th>\n",
       "      <td>937</td>\n",
       "      <td>48.0</td>\n",
       "      <td>M</td>\n",
       "      <td>educator</td>\n",
       "      <td>98072</td>\n",
       "    </tr>\n",
       "    <tr>\n",
       "      <th>939</th>\n",
       "      <td>939</td>\n",
       "      <td>26.0</td>\n",
       "      <td>F</td>\n",
       "      <td>student</td>\n",
       "      <td>33319</td>\n",
       "    </tr>\n",
       "    <tr>\n",
       "      <th>941</th>\n",
       "      <td>941</td>\n",
       "      <td>20.0</td>\n",
       "      <td>M</td>\n",
       "      <td>student</td>\n",
       "      <td>97229</td>\n",
       "    </tr>\n",
       "    <tr>\n",
       "      <th>943</th>\n",
       "      <td>943</td>\n",
       "      <td>22.0</td>\n",
       "      <td>M</td>\n",
       "      <td>student</td>\n",
       "      <td>77841</td>\n",
       "    </tr>\n",
       "  </tbody>\n",
       "</table>\n",
       "<p>291 rows × 5 columns</p>\n",
       "</div>"
      ],
      "text/plain": [
       "    user_id   age gender occupation zip_code\n",
       "9         9  29.0      M    student    01002\n",
       "13       13  47.0      M   educator    29206\n",
       "15       15  49.0      F   educator    97301\n",
       "30       30   7.0      M    student    55436\n",
       "32       32  28.0      F    student    78741\n",
       "..      ...   ...    ...        ...      ...\n",
       "933     933  28.0      M    student    48105\n",
       "937     937  48.0      M   educator    98072\n",
       "939     939  26.0      F    student    33319\n",
       "941     941  20.0      M    student    97229\n",
       "943     943  22.0      M    student    77841\n",
       "\n",
       "[291 rows x 5 columns]"
      ]
     },
     "execution_count": 24,
     "metadata": {},
     "output_type": "execute_result"
    }
   ],
   "source": [
    "users_df[ (users_df[\"occupation\"] == \"student\") | (users_df[\"occupation\"] == \"educator\") ]"
   ]
  },
  {
   "cell_type": "markdown",
   "metadata": {},
   "source": [
    "### Filter the dataset to show female users who are in their 20s (20-29).\n"
   ]
  },
  {
   "cell_type": "code",
   "execution_count": 25,
   "metadata": {},
   "outputs": [
    {
     "data": {
      "application/vnd.microsoft.datawrangler.viewer.v0+json": {
       "columns": [
        {
         "name": "index",
         "rawType": "int64",
         "type": "integer"
        },
        {
         "name": "user_id",
         "rawType": "object",
         "type": "string"
        },
        {
         "name": "age",
         "rawType": "float64",
         "type": "float"
        },
        {
         "name": "gender",
         "rawType": "object",
         "type": "string"
        },
        {
         "name": "occupation",
         "rawType": "object",
         "type": "string"
        },
        {
         "name": "zip_code",
         "rawType": "object",
         "type": "string"
        }
       ],
       "ref": "42735bcd-51c3-4cc0-9325-f9774eca75cf",
       "rows": [
        [
         "12",
         "12",
         "28.0",
         "F",
         "other",
         "06405"
        ],
        [
         "24",
         "24",
         "21.0",
         "F",
         "artist",
         "94533"
        ],
        [
         "32",
         "32",
         "28.0",
         "F",
         "student",
         "78741"
        ],
        [
         "35",
         "35",
         "20.0",
         "F",
         "homemaker",
         "42459"
        ],
        [
         "38",
         "38",
         "28.0",
         "F",
         "other",
         "54467"
        ],
        [
         "43",
         "43",
         "29.0",
         "F",
         "librarian",
         "20854"
        ],
        [
         "46",
         "46",
         "27.0",
         "F",
         "marketing",
         "46538"
        ],
        [
         "49",
         "49",
         "23.0",
         "F",
         "student",
         "76111"
        ],
        [
         "62",
         "62",
         "27.0",
         "F",
         "administrator",
         "97214"
        ],
        [
         "96",
         "96",
         "25.0",
         "F",
         "artist",
         "75206"
        ],
        [
         "126",
         "126",
         "28.0",
         "F",
         "lawyer",
         "20015"
        ],
        [
         "128",
         "128",
         "24.0",
         "F",
         "marketing",
         "20009"
        ],
        [
         "150",
         "150",
         "20.0",
         "F",
         "artist",
         "02139"
        ],
        [
         "159",
         "159",
         "23.0",
         "F",
         "student",
         "55346"
        ],
        [
         "165",
         "165",
         "20.0",
         "F",
         "other",
         "53715"
        ],
        [
         "175",
         "175",
         "26.0",
         "F",
         "scientist",
         "21911"
        ],
        [
         "180",
         "180",
         "22.0",
         "F",
         "administrator",
         "60202"
        ],
        [
         "198",
         "198",
         "21.0",
         "F",
         "student",
         "55414"
        ],
        [
         "203",
         "203",
         "25.0",
         "F",
         "student",
         "32301"
        ],
        [
         "214",
         "214",
         "26.0",
         "F",
         "librarian",
         "11231"
        ],
        [
         "228",
         "228",
         "21.0",
         "F",
         "student",
         "22003"
        ],
        [
         "229",
         "229",
         "29.0",
         "F",
         "librarian",
         "22903"
        ],
        [
         "230",
         "230",
         "28.0",
         "F",
         "student",
         "14476"
        ],
        [
         "240",
         "240",
         "23.0",
         "F",
         "educator",
         "20784"
        ],
        [
         "241",
         "241",
         "26.0",
         "F",
         "student",
         "20001"
        ],
        [
         "253",
         "253",
         "26.0",
         "F",
         "librarian",
         "22903"
        ],
        [
         "274",
         "274",
         "20.0",
         "F",
         "student",
         "55414"
        ],
        [
         "297",
         "297",
         "29.0",
         "F",
         "educator",
         "98103"
        ],
        [
         "300",
         "300",
         "26.0",
         "F",
         "programmer",
         "55106"
        ],
        [
         "304",
         "304",
         "22.0",
         "F",
         "student",
         "71701"
        ],
        [
         "314",
         "314",
         "20.0",
         "F",
         "student",
         "08043"
        ],
        [
         "324",
         "324",
         "21.0",
         "F",
         "student",
         "02176"
        ],
        [
         "342",
         "342",
         "25.0",
         "F",
         "other",
         "98006"
        ],
        [
         "345",
         "345",
         "28.0",
         "F",
         "librarian",
         "94143"
        ],
        [
         "348",
         "348",
         "24.0",
         "F",
         "student",
         "45660"
        ],
        [
         "354",
         "354",
         "29.0",
         "F",
         "librarian",
         "48197"
        ],
        [
         "366",
         "366",
         "20.0",
         "F",
         "student",
         "50670"
        ],
        [
         "372",
         "372",
         "25.0",
         "F",
         "student",
         "66046"
        ],
        [
         "373",
         "373",
         "24.0",
         "F",
         "other",
         "55116"
        ],
        [
         "376",
         "376",
         "28.0",
         "F",
         "other",
         "10010"
        ],
        [
         "404",
         "404",
         "29.0",
         "F",
         "programmer",
         "55108"
        ],
        [
         "405",
         "405",
         "22.0",
         "F",
         "healthcare",
         "10019"
        ],
        [
         "416",
         "416",
         "20.0",
         "F",
         "student",
         "92626"
        ],
        [
         "417",
         "417",
         "27.0",
         "F",
         "other",
         "48103"
        ],
        [
         "437",
         "437",
         "27.0",
         "F",
         "other",
         "20009"
        ],
        [
         "439",
         "439",
         "23.0",
         "F",
         "administrator",
         "20817"
        ],
        [
         "477",
         "477",
         "23.0",
         "F",
         "student",
         "02125"
        ],
        [
         "490",
         "490",
         "29.0",
         "F",
         "artist",
         "V5A2B"
        ],
        [
         "496",
         "496",
         "21.0",
         "F",
         "student",
         "55414"
        ],
        [
         "505",
         "505",
         "27.0",
         "F",
         "other",
         "20657"
        ]
       ],
       "shape": {
        "columns": 5,
        "rows": 85
       }
      },
      "text/html": [
       "<div>\n",
       "<style scoped>\n",
       "    .dataframe tbody tr th:only-of-type {\n",
       "        vertical-align: middle;\n",
       "    }\n",
       "\n",
       "    .dataframe tbody tr th {\n",
       "        vertical-align: top;\n",
       "    }\n",
       "\n",
       "    .dataframe thead th {\n",
       "        text-align: right;\n",
       "    }\n",
       "</style>\n",
       "<table border=\"1\" class=\"dataframe\">\n",
       "  <thead>\n",
       "    <tr style=\"text-align: right;\">\n",
       "      <th></th>\n",
       "      <th>user_id</th>\n",
       "      <th>age</th>\n",
       "      <th>gender</th>\n",
       "      <th>occupation</th>\n",
       "      <th>zip_code</th>\n",
       "    </tr>\n",
       "  </thead>\n",
       "  <tbody>\n",
       "    <tr>\n",
       "      <th>12</th>\n",
       "      <td>12</td>\n",
       "      <td>28.0</td>\n",
       "      <td>F</td>\n",
       "      <td>other</td>\n",
       "      <td>06405</td>\n",
       "    </tr>\n",
       "    <tr>\n",
       "      <th>24</th>\n",
       "      <td>24</td>\n",
       "      <td>21.0</td>\n",
       "      <td>F</td>\n",
       "      <td>artist</td>\n",
       "      <td>94533</td>\n",
       "    </tr>\n",
       "    <tr>\n",
       "      <th>32</th>\n",
       "      <td>32</td>\n",
       "      <td>28.0</td>\n",
       "      <td>F</td>\n",
       "      <td>student</td>\n",
       "      <td>78741</td>\n",
       "    </tr>\n",
       "    <tr>\n",
       "      <th>35</th>\n",
       "      <td>35</td>\n",
       "      <td>20.0</td>\n",
       "      <td>F</td>\n",
       "      <td>homemaker</td>\n",
       "      <td>42459</td>\n",
       "    </tr>\n",
       "    <tr>\n",
       "      <th>38</th>\n",
       "      <td>38</td>\n",
       "      <td>28.0</td>\n",
       "      <td>F</td>\n",
       "      <td>other</td>\n",
       "      <td>54467</td>\n",
       "    </tr>\n",
       "    <tr>\n",
       "      <th>...</th>\n",
       "      <td>...</td>\n",
       "      <td>...</td>\n",
       "      <td>...</td>\n",
       "      <td>...</td>\n",
       "      <td>...</td>\n",
       "    </tr>\n",
       "    <tr>\n",
       "      <th>917</th>\n",
       "      <td>917</td>\n",
       "      <td>22.0</td>\n",
       "      <td>F</td>\n",
       "      <td>student</td>\n",
       "      <td>20006</td>\n",
       "    </tr>\n",
       "    <tr>\n",
       "      <th>921</th>\n",
       "      <td>921</td>\n",
       "      <td>20.0</td>\n",
       "      <td>F</td>\n",
       "      <td>student</td>\n",
       "      <td>98801</td>\n",
       "    </tr>\n",
       "    <tr>\n",
       "      <th>922</th>\n",
       "      <td>922</td>\n",
       "      <td>29.0</td>\n",
       "      <td>F</td>\n",
       "      <td>administrator</td>\n",
       "      <td>21114</td>\n",
       "    </tr>\n",
       "    <tr>\n",
       "      <th>930</th>\n",
       "      <td>930</td>\n",
       "      <td>28.0</td>\n",
       "      <td>F</td>\n",
       "      <td>scientist</td>\n",
       "      <td>07310</td>\n",
       "    </tr>\n",
       "    <tr>\n",
       "      <th>939</th>\n",
       "      <td>939</td>\n",
       "      <td>26.0</td>\n",
       "      <td>F</td>\n",
       "      <td>student</td>\n",
       "      <td>33319</td>\n",
       "    </tr>\n",
       "  </tbody>\n",
       "</table>\n",
       "<p>85 rows × 5 columns</p>\n",
       "</div>"
      ],
      "text/plain": [
       "    user_id   age gender     occupation zip_code\n",
       "12       12  28.0      F          other    06405\n",
       "24       24  21.0      F         artist    94533\n",
       "32       32  28.0      F        student    78741\n",
       "35       35  20.0      F      homemaker    42459\n",
       "38       38  28.0      F          other    54467\n",
       "..      ...   ...    ...            ...      ...\n",
       "917     917  22.0      F        student    20006\n",
       "921     921  20.0      F        student    98801\n",
       "922     922  29.0      F  administrator    21114\n",
       "930     930  28.0      F      scientist    07310\n",
       "939     939  26.0      F        student    33319\n",
       "\n",
       "[85 rows x 5 columns]"
      ]
     },
     "execution_count": 25,
     "metadata": {},
     "output_type": "execute_result"
    }
   ],
   "source": [
    "users_df[ (users_df[\"gender\"] == \"F\") \n",
    "        & ( (20 <= users_df[\"age\"]) & (users_df[\"age\"] < 30) )]"
   ]
  },
  {
   "cell_type": "markdown",
   "metadata": {},
   "source": [
    "### Filter the dataset to find users from California (zip codes starting with '9')\n"
   ]
  },
  {
   "cell_type": "code",
   "execution_count": 26,
   "metadata": {},
   "outputs": [
    {
     "data": {
      "application/vnd.microsoft.datawrangler.viewer.v0+json": {
       "columns": [
        {
         "name": "index",
         "rawType": "int64",
         "type": "integer"
        },
        {
         "name": "user_id",
         "rawType": "object",
         "type": "string"
        },
        {
         "name": "age",
         "rawType": "float64",
         "type": "float"
        },
        {
         "name": "gender",
         "rawType": "object",
         "type": "string"
        },
        {
         "name": "occupation",
         "rawType": "object",
         "type": "string"
        },
        {
         "name": "zip_code",
         "rawType": "object",
         "type": "string"
        }
       ],
       "ref": "8b8b589d-3d5c-4a8b-ac05-fa8501682655",
       "rows": [
        [
         "2",
         "2",
         "53.0",
         "F",
         "other",
         "94043"
        ],
        [
         "6",
         "6",
         "42.0",
         "M",
         "executive",
         "98101"
        ],
        [
         "7",
         "7",
         "57.0",
         "M",
         "administrator",
         "91344"
        ],
        [
         "10",
         "10",
         "53.0",
         "M",
         "lawyer",
         "90703"
        ],
        [
         "15",
         "15",
         "49.0",
         "F",
         "educator",
         "97301"
        ],
        [
         "20",
         "20",
         "42.0",
         "F",
         "homemaker",
         "95660"
        ],
        [
         "24",
         "24",
         "21.0",
         "F",
         "artist",
         "94533"
        ],
        [
         "29",
         "29",
         "41.0",
         "M",
         "programmer",
         "94043"
        ],
        [
         "36",
         "36",
         "19.0",
         "F",
         "student",
         "93117"
        ],
        [
         "62",
         "62",
         "27.0",
         "F",
         "administrator",
         "97214"
        ],
        [
         "71",
         "71",
         "39.0",
         "M",
         "scientist",
         "98034"
        ],
        [
         "97",
         "97",
         "43.0",
         "M",
         "artist",
         "98006"
        ],
        [
         "98",
         "98",
         "49.0",
         "F",
         "executive",
         "90291"
        ],
        [
         "100",
         "100",
         "36.0",
         "M",
         "executive",
         "90254"
        ],
        [
         "105",
         "105",
         "24.0",
         "M",
         "engineer",
         "94043"
        ],
        [
         "111",
         "111",
         "57.0",
         "M",
         "engineer",
         "90630"
        ],
        [
         "113",
         "113",
         "47.0",
         "M",
         "executive",
         "95032"
        ],
        [
         "116",
         "116",
         "40.0",
         "M",
         "healthcare",
         "97232"
        ],
        [
         "118",
         "118",
         "21.0",
         "M",
         "administrator",
         "90210"
        ],
        [
         "121",
         "121",
         "54.0",
         "M",
         "librarian",
         "99603"
        ],
        [
         "132",
         "132",
         "24.0",
         "M",
         "other",
         "94612"
        ],
        [
         "136",
         "136",
         "51.0",
         "M",
         "other",
         "97365"
        ],
        [
         "148",
         "148",
         "33.0",
         "M",
         "engineer",
         "97006"
        ],
        [
         "163",
         "163",
         "49.0",
         "M",
         "administrator",
         "97212"
        ],
        [
         "185",
         "185",
         "53.0",
         "F",
         "librarian",
         "97403"
        ],
        [
         "189",
         "189",
         "32.0",
         "M",
         "artist",
         "95014"
        ],
        [
         "190",
         "190",
         "30.0",
         "M",
         "administrator",
         "95938"
        ],
        [
         "191",
         "191",
         "33.0",
         "M",
         "administrator",
         "95161"
        ],
        [
         "192",
         "192",
         "42.0",
         "M",
         "educator",
         "90840"
        ],
        [
         "195",
         "195",
         "42.0",
         "M",
         "scientist",
         "93555"
        ],
        [
         "200",
         "200",
         "40.0",
         "M",
         "programmer",
         "93402"
        ],
        [
         "207",
         "207",
         "39.0",
         "M",
         "marketing",
         "92037"
        ],
        [
         "226",
         "226",
         "28.0",
         "M",
         "student",
         "92103"
        ],
        [
         "232",
         "232",
         "45.0",
         "M",
         "scientist",
         "99709"
        ],
        [
         "233",
         "233",
         "38.0",
         "M",
         "engineer",
         "98682"
        ],
        [
         "234",
         "234",
         "60.0",
         "M",
         "retired",
         "94702"
        ],
        [
         "239",
         "239",
         "39.0",
         "M",
         "artist",
         "95628"
        ],
        [
         "250",
         "250",
         "29.0",
         "M",
         "executive",
         "95110"
        ],
        [
         "264",
         "264",
         "36.0",
         "F",
         "writer",
         "90064"
        ],
        [
         "275",
         "275",
         "38.0",
         "M",
         "engineer",
         "92064"
        ],
        [
         "276",
         "276",
         "21.0",
         "M",
         "student",
         "95064"
        ],
        [
         "284",
         "284",
         "40.0",
         "M",
         "executive",
         "92629"
        ],
        [
         "289",
         "289",
         "11.0",
         "M",
         "none",
         "94619"
        ],
        [
         "290",
         "290",
         "40.0",
         "M",
         "engineer",
         "93550"
        ],
        [
         "292",
         "292",
         "35.0",
         "F",
         "programmer",
         "94703"
        ],
        [
         "294",
         "294",
         "34.0",
         "M",
         "technician",
         "92110"
        ],
        [
         "297",
         "297",
         "29.0",
         "F",
         "educator",
         "98103"
        ],
        [
         "305",
         "305",
         "23.0",
         "M",
         "programmer",
         "94086"
        ],
        [
         "308",
         "308",
         "60.0",
         "M",
         "retired",
         "95076"
        ],
        [
         "310",
         "310",
         "37.0",
         "M",
         "educator",
         "91711"
        ]
       ],
       "shape": {
        "columns": 5,
        "rows": 170
       }
      },
      "text/html": [
       "<div>\n",
       "<style scoped>\n",
       "    .dataframe tbody tr th:only-of-type {\n",
       "        vertical-align: middle;\n",
       "    }\n",
       "\n",
       "    .dataframe tbody tr th {\n",
       "        vertical-align: top;\n",
       "    }\n",
       "\n",
       "    .dataframe thead th {\n",
       "        text-align: right;\n",
       "    }\n",
       "</style>\n",
       "<table border=\"1\" class=\"dataframe\">\n",
       "  <thead>\n",
       "    <tr style=\"text-align: right;\">\n",
       "      <th></th>\n",
       "      <th>user_id</th>\n",
       "      <th>age</th>\n",
       "      <th>gender</th>\n",
       "      <th>occupation</th>\n",
       "      <th>zip_code</th>\n",
       "    </tr>\n",
       "  </thead>\n",
       "  <tbody>\n",
       "    <tr>\n",
       "      <th>2</th>\n",
       "      <td>2</td>\n",
       "      <td>53.0</td>\n",
       "      <td>F</td>\n",
       "      <td>other</td>\n",
       "      <td>94043</td>\n",
       "    </tr>\n",
       "    <tr>\n",
       "      <th>6</th>\n",
       "      <td>6</td>\n",
       "      <td>42.0</td>\n",
       "      <td>M</td>\n",
       "      <td>executive</td>\n",
       "      <td>98101</td>\n",
       "    </tr>\n",
       "    <tr>\n",
       "      <th>7</th>\n",
       "      <td>7</td>\n",
       "      <td>57.0</td>\n",
       "      <td>M</td>\n",
       "      <td>administrator</td>\n",
       "      <td>91344</td>\n",
       "    </tr>\n",
       "    <tr>\n",
       "      <th>10</th>\n",
       "      <td>10</td>\n",
       "      <td>53.0</td>\n",
       "      <td>M</td>\n",
       "      <td>lawyer</td>\n",
       "      <td>90703</td>\n",
       "    </tr>\n",
       "    <tr>\n",
       "      <th>15</th>\n",
       "      <td>15</td>\n",
       "      <td>49.0</td>\n",
       "      <td>F</td>\n",
       "      <td>educator</td>\n",
       "      <td>97301</td>\n",
       "    </tr>\n",
       "    <tr>\n",
       "      <th>...</th>\n",
       "      <td>...</td>\n",
       "      <td>...</td>\n",
       "      <td>...</td>\n",
       "      <td>...</td>\n",
       "      <td>...</td>\n",
       "    </tr>\n",
       "    <tr>\n",
       "      <th>902</th>\n",
       "      <td>902</td>\n",
       "      <td>45.0</td>\n",
       "      <td>F</td>\n",
       "      <td>artist</td>\n",
       "      <td>97203</td>\n",
       "    </tr>\n",
       "    <tr>\n",
       "      <th>920</th>\n",
       "      <td>920</td>\n",
       "      <td>30.0</td>\n",
       "      <td>F</td>\n",
       "      <td>artist</td>\n",
       "      <td>90008</td>\n",
       "    </tr>\n",
       "    <tr>\n",
       "      <th>921</th>\n",
       "      <td>921</td>\n",
       "      <td>20.0</td>\n",
       "      <td>F</td>\n",
       "      <td>student</td>\n",
       "      <td>98801</td>\n",
       "    </tr>\n",
       "    <tr>\n",
       "      <th>937</th>\n",
       "      <td>937</td>\n",
       "      <td>48.0</td>\n",
       "      <td>M</td>\n",
       "      <td>educator</td>\n",
       "      <td>98072</td>\n",
       "    </tr>\n",
       "    <tr>\n",
       "      <th>941</th>\n",
       "      <td>941</td>\n",
       "      <td>20.0</td>\n",
       "      <td>M</td>\n",
       "      <td>student</td>\n",
       "      <td>97229</td>\n",
       "    </tr>\n",
       "  </tbody>\n",
       "</table>\n",
       "<p>170 rows × 5 columns</p>\n",
       "</div>"
      ],
      "text/plain": [
       "    user_id   age gender     occupation zip_code\n",
       "2         2  53.0      F          other    94043\n",
       "6         6  42.0      M      executive    98101\n",
       "7         7  57.0      M  administrator    91344\n",
       "10       10  53.0      M         lawyer    90703\n",
       "15       15  49.0      F       educator    97301\n",
       "..      ...   ...    ...            ...      ...\n",
       "902     902  45.0      F         artist    97203\n",
       "920     920  30.0      F         artist    90008\n",
       "921     921  20.0      F        student    98801\n",
       "937     937  48.0      M       educator    98072\n",
       "941     941  20.0      M        student    97229\n",
       "\n",
       "[170 rows x 5 columns]"
      ]
     },
     "execution_count": 26,
     "metadata": {},
     "output_type": "execute_result"
    }
   ],
   "source": [
    "users_df[ users_df[\"zip_code\"].str.startswith('9')]"
   ]
  },
  {
   "cell_type": "markdown",
   "metadata": {},
   "source": [
    "### Create a pivot table showing the count of users by occupation and age decade.\n",
    "\n",
    "#### age decade: 27 years old --> 20s decade\n"
   ]
  },
  {
   "cell_type": "code",
   "execution_count": null,
   "metadata": {},
   "outputs": [
    {
     "data": {
      "text/plain": [
       "19"
      ]
     },
     "execution_count": 29,
     "metadata": {},
     "output_type": "execute_result"
    }
   ],
   "source": [
    "users_df[ (users_df[\"occupation\"] == \"administrator\") \n",
    "        & ( (20 <= users_df[\"age\"]) & (users_df[\"age\"] < 30) )]\n",
    "\n",
    "len ( users_df[ (users_df[\"occupation\"] == \"administrator\") \n",
    "        & ( (20 <= users_df[\"age\"]) & (users_df[\"age\"] < 30) )] )"
   ]
  },
  {
   "cell_type": "code",
   "execution_count": null,
   "metadata": {},
   "outputs": [],
   "source": []
  }
 ],
 "metadata": {
  "anaconda-cloud": {},
  "kernelspec": {
   "display_name": ".venv",
   "language": "python",
   "name": "python3"
  },
  "language_info": {
   "codemirror_mode": {
    "name": "ipython",
    "version": 3
   },
   "file_extension": ".py",
   "mimetype": "text/x-python",
   "name": "python",
   "nbconvert_exporter": "python",
   "pygments_lexer": "ipython3",
   "version": "3.10.5"
  }
 },
 "nbformat": 4,
 "nbformat_minor": 4
}
