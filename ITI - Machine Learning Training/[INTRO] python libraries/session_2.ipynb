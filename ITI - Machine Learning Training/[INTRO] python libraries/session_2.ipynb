{
 "cells": [
  {
   "cell_type": "code",
   "execution_count": 2,
   "id": "d6452ba6",
   "metadata": {},
   "outputs": [],
   "source": [
    "import pandas as pd"
   ]
  },
  {
   "cell_type": "code",
   "execution_count": 3,
   "id": "63b1284f",
   "metadata": {},
   "outputs": [
    {
     "data": {
      "application/vnd.microsoft.datawrangler.viewer.v0+json": {
       "columns": [
        {
         "name": "index",
         "rawType": "int64",
         "type": "integer"
        },
        {
         "name": "0",
         "rawType": "int64",
         "type": "integer"
        }
       ],
       "ref": "d6f116cc-b2f3-432a-849b-ef69df01afc1",
       "rows": [
        [
         "0",
         "10"
        ],
        [
         "1",
         "20"
        ],
        [
         "2",
         "30"
        ],
        [
         "3",
         "40"
        ],
        [
         "4",
         "50"
        ]
       ],
       "shape": {
        "columns": 1,
        "rows": 5
       }
      },
      "text/plain": [
       "0    10\n",
       "1    20\n",
       "2    30\n",
       "3    40\n",
       "4    50\n",
       "dtype: int64"
      ]
     },
     "execution_count": 3,
     "metadata": {},
     "output_type": "execute_result"
    }
   ],
   "source": [
    "ser_1 = pd.Series([10, 20, 30, 40, 50])\n",
    "ser_1"
   ]
  },
  {
   "cell_type": "code",
   "execution_count": null,
   "id": "f23b1363",
   "metadata": {},
   "outputs": [
    {
     "data": {
      "application/vnd.microsoft.datawrangler.viewer.v0+json": {
       "columns": [
        {
         "name": "index",
         "rawType": "object",
         "type": "string"
        },
        {
         "name": "0",
         "rawType": "int64",
         "type": "integer"
        }
       ],
       "ref": "2f185422-9d36-4dd8-affe-a3e19524232a",
       "rows": [
        [
         "a",
         "5"
        ],
        [
         "b",
         "10"
        ],
        [
         "c",
         "15"
        ]
       ],
       "shape": {
        "columns": 1,
        "rows": 3
       }
      },
      "text/plain": [
       "a     5\n",
       "b    10\n",
       "c    15\n",
       "dtype: int64"
      ]
     },
     "execution_count": 4,
     "metadata": {},
     "output_type": "execute_result"
    }
   ],
   "source": [
    "ser_2 = pd.Series([5, 10, 15], index=['a', 'b', 'c'])\n",
    "ser_2"
   ]
  },
  {
   "cell_type": "code",
   "execution_count": 8,
   "id": "eb35bed6",
   "metadata": {},
   "outputs": [
    {
     "name": "stdout",
     "output_type": "stream",
     "text": [
      "Using posiotion: 10\n",
      "Using label: 10\n"
     ]
    }
   ],
   "source": [
    "print(f\"Using posiotion: {ser_2.iloc[1]}\")\n",
    "print(f\"Using label: {ser_2['b']}\")"
   ]
  },
  {
   "cell_type": "code",
   "execution_count": 10,
   "id": "864ea479",
   "metadata": {},
   "outputs": [
    {
     "data": {
      "application/vnd.microsoft.datawrangler.viewer.v0+json": {
       "columns": [
        {
         "name": "index",
         "rawType": "int64",
         "type": "integer"
        },
        {
         "name": "0",
         "rawType": "int64",
         "type": "integer"
        }
       ],
       "ref": "53d76b5c-95ef-43eb-9401-586d18ce244a",
       "rows": [
        [
         "1",
         "25"
        ],
        [
         "2",
         "30"
        ],
        [
         "4",
         "50"
        ]
       ],
       "shape": {
        "columns": 1,
        "rows": 3
       }
      },
      "text/plain": [
       "1    25\n",
       "2    30\n",
       "4    50\n",
       "dtype: int64"
      ]
     },
     "execution_count": 10,
     "metadata": {},
     "output_type": "execute_result"
    }
   ],
   "source": [
    "ser_3 = pd.Series([10, 25, 30, 5, 50])\n",
    "ser_3[ser_3 > 20]"
   ]
  },
  {
   "cell_type": "code",
   "execution_count": null,
   "id": "8fba4dd9",
   "metadata": {},
   "outputs": [],
   "source": []
  }
 ],
 "metadata": {
  "kernelspec": {
   "display_name": "Python 3",
   "language": "python",
   "name": "python3"
  },
  "language_info": {
   "codemirror_mode": {
    "name": "ipython",
    "version": 3
   },
   "file_extension": ".py",
   "mimetype": "text/x-python",
   "name": "python",
   "nbconvert_exporter": "python",
   "pygments_lexer": "ipython3",
   "version": "3.10.5"
  }
 },
 "nbformat": 4,
 "nbformat_minor": 5
}
